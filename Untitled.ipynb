{
 "cells": [
  {
   "cell_type": "code",
   "execution_count": 1,
   "metadata": {},
   "outputs": [],
   "source": [
    "import numpy as np\n",
    "import matplotlib.pyplot as plt\n",
    "import seaborn as sns\n",
    "import pandas as pd\n",
    "import math\n",
    "from collections import defaultdict\n",
    "from queue import PriorityQueue\n",
    "import random\n",
    "import os\n",
    "for dirname, _, filenames in os.walk('/kaggle/input'):\n",
    "    for filename in filenames:\n",
    "        print(os.path.join(dirname, filename))\n",
    "import re\n",
    "import time\n",
    "from typing import List, Any, Union\n",
    "import multiprocessing as mp\n",
    "import copy as cp"
   ]
  },
  {
   "cell_type": "code",
   "execution_count": 2,
   "metadata": {},
   "outputs": [],
   "source": [
    "test_data = []\n",
    "test_columns =[]\n",
    "for line in open(\"data/test-public.txt\"):\n",
    "    row = line.split( )\n",
    "    if row[0]=='Id':\n",
    "        test_columns = row\n",
    "    test_data.append(row)"
   ]
  },
  {
   "cell_type": "code",
   "execution_count": 3,
   "metadata": {},
   "outputs": [
    {
     "data": {
      "text/plain": "   Id   Source     Sink\n0  Id   Source     Sink\n1   1  3563811  3600160\n2   2  2052043  1401960\n3   3  4517994  1690636\n4   4  1660006  4349447",
      "text/html": "<div>\n<style scoped>\n    .dataframe tbody tr th:only-of-type {\n        vertical-align: middle;\n    }\n\n    .dataframe tbody tr th {\n        vertical-align: top;\n    }\n\n    .dataframe thead th {\n        text-align: right;\n    }\n</style>\n<table border=\"1\" class=\"dataframe\">\n  <thead>\n    <tr style=\"text-align: right;\">\n      <th></th>\n      <th>Id</th>\n      <th>Source</th>\n      <th>Sink</th>\n    </tr>\n  </thead>\n  <tbody>\n    <tr>\n      <th>0</th>\n      <td>Id</td>\n      <td>Source</td>\n      <td>Sink</td>\n    </tr>\n    <tr>\n      <th>1</th>\n      <td>1</td>\n      <td>3563811</td>\n      <td>3600160</td>\n    </tr>\n    <tr>\n      <th>2</th>\n      <td>2</td>\n      <td>2052043</td>\n      <td>1401960</td>\n    </tr>\n    <tr>\n      <th>3</th>\n      <td>3</td>\n      <td>4517994</td>\n      <td>1690636</td>\n    </tr>\n    <tr>\n      <th>4</th>\n      <td>4</td>\n      <td>1660006</td>\n      <td>4349447</td>\n    </tr>\n  </tbody>\n</table>\n</div>"
     },
     "execution_count": 3,
     "metadata": {},
     "output_type": "execute_result"
    }
   ],
   "source": [
    "test = pd.DataFrame(test_data, columns =test_columns)\n",
    "test.set_index('Id')\n",
    "test.head()"
   ]
  },
  {
   "cell_type": "code",
   "execution_count": 4,
   "metadata": {},
   "outputs": [],
   "source": [
    "test_sink = list(test['Sink'])[1:]\n",
    "test_source = list(test['Source'])[1:]"
   ]
  },
  {
   "cell_type": "code",
   "execution_count": 5,
   "metadata": {},
   "outputs": [
    {
     "name": "stdout",
     "output_type": "stream",
     "text": [
      "20000\n"
     ]
    }
   ],
   "source": [
    "train_data ={}\n",
    "search_table = []\n",
    "for line in open(\"data/train.txt\"):\n",
    "    r = line.split( )\n",
    "    search_table.append(r)\n",
    "    sink_ls = r[1:]\n",
    "    train_data[r[0]] = sink_ls\n",
    "print(len(train_data))"
   ]
  },
  {
   "cell_type": "code",
   "execution_count": null,
   "metadata": {
    "pycharm": {
     "is_executing": true
    }
   },
   "outputs": [],
   "source": [
    "train_test ={}    #all rows contains test-existing-users in train set\n",
    "for u in test_sink:\n",
    "    for s in search_table:\n",
    "        if u in s:\n",
    "            train_test[s[0]] = s[1:]\n",
    "for u in test_source:\n",
    "    for s in search_table:\n",
    "        if u == s[0]:\n",
    "            train_test[s[0]] = s[1:]\n",
    "            \n",
    "            "
   ]
  },
  {
   "cell_type": "code",
   "execution_count": null,
   "metadata": {
    "pycharm": {
     "is_executing": true
    }
   },
   "outputs": [],
   "source": [
    "source_column = train_test.keys()\n",
    "print(train_test)"
   ]
  },
  {
   "cell_type": "code",
   "execution_count": null,
   "metadata": {
    "pycharm": {
     "is_executing": true
    }
   },
   "outputs": [],
   "source": [
    "a = random.randrange(2000)\n",
    "root = test_data[a][1]\n",
    "train_column =[]\n",
    "\n",
    "for i in range(100):\n",
    "    if train_test.get(root):\n",
    "        next_ls = random.choices(train_test.get(root),k=20)\n",
    "        for n in next_ls:\n",
    "            train_column.append((root,n))\n",
    "        next_node = random.choice(next_ls)\n",
    "        root = next_node\n",
    "    root = random.choice(test_data)[1]\n",
    "print(train_column)"
   ]
  },
  {
   "cell_type": "code",
   "execution_count": null,
   "metadata": {
    "pycharm": {
     "is_executing": true
    }
   },
   "outputs": [],
   "source": [
    "print(len(train_column))"
   ]
  },
  {
   "cell_type": "code",
   "execution_count": null,
   "metadata": {
    "pycharm": {
     "name": "#%%\n",
     "is_executing": true
    }
   },
   "outputs": [],
   "source": [
    "\n"
   ]
  }
 ],
 "metadata": {
  "kernelspec": {
   "display_name": "Python 3",
   "language": "python",
   "name": "python3"
  },
  "language_info": {
   "codemirror_mode": {
    "name": "ipython",
    "version": 3
   },
   "file_extension": ".py",
   "mimetype": "text/x-python",
   "name": "python",
   "nbconvert_exporter": "python",
   "pygments_lexer": "ipython3",
   "version": "3.8.3"
  }
 },
 "nbformat": 4,
 "nbformat_minor": 4
}