{
 "cells": [
  {
   "cell_type": "code",
   "execution_count": 17,
   "metadata": {},
   "outputs": [],
   "source": [
    "\n",
    "import numpy as np\n",
    "import pandas as pd\n",
    "import matplotlib.pyplot as plt\n",
    "import seaborn as sns\n",
    "from sklearn.preprocessing import StandardScaler\n",
    "from keras.losses import mean_squared_error\n",
    "from sklearn.linear_model import LinearRegression\n",
    "sns.set_style('darkgrid')\n",
    "plt.rcParams['figure.dpi'] = 108\n",
    "\n"
   ]
  },
  {
   "cell_type": "code",
   "execution_count": 24,
   "metadata": {},
   "outputs": [
    {
     "name": "stdout",
     "output_type": "stream",
     "text": [
      "[[-0.08926491 -0.23460424 -0.26868387 -0.14485252 -0.10806023]\n",
      " [-0.17678939 -0.46434103 -0.25942033 -0.13760738 -0.10806023]\n",
      " [-0.17934752 -0.4761224  -0.29647447 -0.14485252 -0.10806023]\n",
      " ...\n",
      " [-0.11557707 -0.32885523 -0.28412309 -0.13760738 -0.10806023]\n",
      " [-0.14499553 -0.41132484  5.98420158 -0.14485252  0.23843922]\n",
      " [-0.18117475  0.03636736 -0.25633249 -0.14485252 -0.10806023]]\n",
      "3950    1\n",
      "3951    1\n",
      "3952   -1\n",
      "3953    1\n",
      "3954    1\n",
      "Name: Real, dtype: int64\n"
     ]
    }
   ],
   "source": [
    "dt = pd.read_csv(\"model_data/data.csv\",sep =\"\\t\")\n",
    "\n",
    "# standard\n",
    "scaler = StandardScaler()\n",
    "scaler.fit(dt.drop('Real',axis =1))\n",
    "\n",
    "ds = scaler.transform(dt.drop('Real',axis=1))\n",
    "print(ds)\n",
    "y = dt.Real\n",
    "print(y.tail())"
   ]
  },
  {
   "cell_type": "code",
   "execution_count": 65,
   "metadata": {},
   "outputs": [],
   "source": [
    "poly =PolynomialFeatures(2)\n",
    "ds=poly.fit_transform(ds)"
   ]
  },
  {
   "cell_type": "code",
   "execution_count": 66,
   "metadata": {
    "pycharm": {
     "name": "#%%\n"
    }
   },
   "outputs": [
    {
     "name": "stdout",
     "output_type": "stream",
     "text": [
      "Training set has 3164 instances. Test set has 791 instances.\n"
     ]
    }
   ],
   "source": [
    "from sklearn.model_selection import train_test_split\n",
    "X_train, X_test, y_train, y_test = train_test_split(ds, y, test_size=0.2, random_state=1)\n",
    "print(\"Training set has {} instances. Test set has {} instances.\".format(X_train.shape[0], X_test.shape[0]))\n",
    "\n"
   ]
  },
  {
   "cell_type": "code",
   "execution_count": 69,
   "metadata": {},
   "outputs": [
    {
     "data": {
      "text/plain": [
       "100000.0"
      ]
     },
     "execution_count": 69,
     "metadata": {},
     "output_type": "execute_result"
    }
   ],
   "source": [
    "from sklearn.linear_model import RidgeCV\n",
    "ridgecv = RidgeCV(alphas=[0.01, 0.1, 0.5, 1, 3, 5, 7, 10, 20, 100])\n",
    "ridgecv.fit(X_train, y_train)\n",
    "ridgecv.alpha_ "
   ]
  },
  {
   "cell_type": "code",
   "execution_count": 68,
   "metadata": {},
   "outputs": [
    {
     "name": "stderr",
     "output_type": "stream",
     "text": [
      "/Library/Frameworks/Python.framework/Versions/3.7/lib/python3.7/site-packages/sklearn/linear_model/_ridge.py:190: UserWarning: Singular matrix in solving dual problem. Using least-squares solution instead.\n",
      "  warnings.warn(\"Singular matrix in solving dual problem. Using \"\n"
     ]
    },
    {
     "data": {
      "text/plain": [
       "Ridge(alpha=100000.0, copy_X=True, fit_intercept=True, max_iter=None,\n",
       "      normalize=False, random_state=None, solver='auto', tol=0.001)"
      ]
     },
     "execution_count": 68,
     "metadata": {},
     "output_type": "execute_result"
    }
   ],
   "source": [
    "from sklearn.linear_model import Ridge\n",
    "ridge = Ridge(alpha=20)\n",
    "ridge.fit(X_train, y_train)"
   ]
  },
  {
   "cell_type": "code",
   "execution_count": 64,
   "metadata": {},
   "outputs": [
    {
     "name": "stdout",
     "output_type": "stream",
     "text": [
      "[ 0.00000000e+00  1.41346564e-04  2.04828947e-04  4.82581922e-03\n",
      " -1.18796681e-04  1.66811777e-03  7.32649451e-05 -1.61814139e-04\n",
      " -3.61755194e-04 -9.85620018e-06 -2.31236025e-04 -2.09442524e-06\n",
      " -2.07788133e-04 -1.54842011e-05  2.64444443e-05  3.37551184e-03\n",
      " -6.64707229e-04  2.52930318e-04  3.33846309e-05 -2.28822574e-04\n",
      "  1.48754190e-03  9.74872689e-05 -5.59261012e-04  4.58212353e-04\n",
      " -2.43766487e-05  2.49009014e-05 -6.58178072e-04  4.66233819e-04\n",
      "  1.10997836e-05  1.89900741e-05 -2.70906602e-04  4.93441392e-05\n",
      " -6.60877210e-05 -3.45211899e-09  3.23520983e-05 -1.77487201e-04\n",
      "  2.85062547e-04  1.80978395e-03 -5.20419114e-05  4.55495785e-04\n",
      " -3.18447178e-04  2.59884526e-05  7.89467023e-05  3.53508126e-07\n",
      " -5.36074800e-06  1.82710452e-04  5.82895420e-03 -4.99001209e-04\n",
      "  6.10141919e-04  9.16111515e-05 -4.03486295e-05  7.19830833e-04\n",
      " -7.06164385e-06  3.14014857e-05 -2.16860339e-04  2.32978243e-03\n",
      "  4.33979132e-04 -1.47076522e-03  5.25833414e-04 -5.06590166e-05\n",
      " -1.57674438e-05 -1.58166344e-03  6.08063171e-04  5.92632574e-05\n",
      "  5.66875037e-05  2.90169877e-04 -6.23648463e-05 -3.67999194e-05\n",
      "  5.42625716e-06 -2.12032598e-06  2.00998860e-05 -1.72423123e-03\n",
      "  5.36962047e-04  7.94388246e-05  1.22518660e-06  1.67932123e-04\n",
      " -6.39454373e-05 -5.86285305e-05  8.53674098e-08 -1.41779934e-06\n",
      " -4.44272189e-05 -4.58112311e-04  4.01379694e-05 -1.07129810e-04\n",
      " -6.73577581e-06  9.90378491e-06 -1.14935334e-04  1.81940573e-07\n",
      " -4.53224485e-06  2.58333605e-05 -3.41345057e-04  1.07882417e-03\n",
      "  2.38975528e-03 -1.50001445e-04  5.06918872e-04  7.15851476e-04\n",
      " -2.47008706e-04  2.40309635e-05  1.47967514e-05 -6.03272408e-05\n",
      "  2.45677315e-04 -9.85945508e-05  4.73276559e-05  1.48042181e-04\n",
      " -3.18938388e-06 -1.09923737e-05  1.04611554e-04  2.07316318e-07\n",
      "  9.80297008e-07 -2.62997247e-05  1.93734576e-04  4.83200054e-03\n",
      " -8.41405989e-04  4.60670780e-04  7.36197710e-05 -8.72960285e-05\n",
      "  5.33934571e-04 -1.26315826e-05  6.34986583e-06 -1.03868595e-04\n",
      "  6.85077649e-04  1.17041524e-06 -4.30862448e-06  3.16015203e-05\n",
      " -3.37325832e-04  3.19121635e-03  4.41409290e-04 -3.32062091e-04\n",
      "  4.66568421e-04 -2.19961975e-04 -4.60613716e-05  5.98232991e-04\n",
      "  1.15693319e-03  1.29459565e-04  1.58987792e-04  2.92465620e-04\n",
      " -6.54634572e-05 -5.90416449e-05  1.23928162e-05  6.23235155e-06\n",
      " -2.06877579e-06  7.01026950e-04  1.31077112e-03  1.68791469e-04\n",
      "  1.76418204e-04  4.47487573e-05 -8.17314301e-05 -6.66090731e-05\n",
      " -5.57092904e-06 -5.86126613e-06 -1.08476932e-05  5.43413949e-04\n",
      " -4.32059032e-05 -2.14955524e-05  8.48187481e-06  4.89731785e-06\n",
      "  1.31194295e-05 -1.04201321e-06  1.02434167e-07 -3.07219979e-06\n",
      "  2.58115166e-05  2.76242206e-04  1.27201577e-03  1.94224189e-04\n",
      "  8.67930455e-05 -6.94141896e-05 -7.32067435e-05 -9.13029902e-05\n",
      " -9.31080801e-06  1.54134673e-06 -9.22448880e-05  2.77448710e-04\n",
      " -2.53747439e-05 -5.28893261e-05  8.76502757e-06  8.10473534e-06\n",
      " -4.58229514e-05 -2.35816488e-07  2.24677858e-08  6.29125542e-06\n",
      " -1.62164089e-04 -2.81277521e-04  6.60980278e-05 -8.04921361e-05\n",
      " -5.92928827e-06  1.54213792e-05 -1.46554671e-04  9.23287860e-07\n",
      " -1.47915751e-06  1.66129704e-05 -2.84206380e-04 -1.30784768e-07\n",
      "  6.36986055e-07 -3.75872674e-06  4.94313697e-05 -7.79860406e-04\n",
      "  3.17225078e-05  4.81105298e-03 -5.83281104e-04  1.07475480e-03\n",
      "  2.26885610e-04 -3.14938550e-04  3.28572182e-05  3.79540395e-05\n",
      " -6.16805087e-05  1.19056020e-04  1.30298484e-03 -1.08112433e-04\n",
      "  2.41930847e-04  3.36592430e-05 -5.11782056e-06  2.66823051e-04\n",
      " -2.49657282e-06  7.95476949e-06 -3.61981418e-05  7.27486790e-05\n",
      "  1.96522678e-03  1.39292730e-05  3.77148892e-04 -7.01031619e-06\n",
      " -2.15741902e-05  1.41038502e-04  5.80606536e-07  1.53024789e-06\n",
      " -1.52010510e-05 -2.44186346e-05 -1.65856489e-08 -1.69878078e-07\n",
      "  3.78741736e-06 -2.80803125e-05 -2.63260852e-04 -1.14807549e-03\n",
      " -7.00789395e-04  5.30605309e-04  1.21483882e-04 -6.70464614e-05\n",
      "  3.79174749e-05 -1.10594067e-05  1.25006406e-05 -7.74589623e-05\n",
      " -2.94409728e-04  1.75704486e-06 -9.88828997e-07  1.49910723e-05\n",
      " -9.92787649e-05 -1.67238939e-04 -1.29532850e-06  6.08252608e-07\n",
      " -4.60353114e-06  4.88421924e-05 -4.62261185e-04 -2.01488637e-04\n",
      " -3.69288874e-05 -3.34046559e-05  7.67905890e-04 -8.63782314e-04\n",
      " -4.76890489e-05  3.58309006e-04  4.83247562e-04 -3.52974983e-04\n",
      "  3.58958321e-05  8.92753598e-04 -2.15235796e-05 -5.01089691e-05\n",
      "  5.36451251e-05  2.36482449e-05  7.09696246e-06 -5.72332836e-04\n",
      "  7.32081050e-04 -3.29940077e-04 -6.67658377e-05  1.21340507e-04\n",
      " -1.43178540e-04 -1.25044876e-04 -7.13834569e-06 -1.39976443e-05\n",
      " -1.66221470e-05  5.98384817e-04 -4.55046830e-05 -3.39416637e-05\n",
      "  8.00169327e-06  7.39558341e-06  5.05564685e-06 -2.49592044e-06\n",
      " -1.44900362e-06 -1.26891728e-07  1.34964276e-05  3.11034199e-04\n",
      "  1.28124811e-03 -2.93475074e-04 -7.29555432e-05 -6.63729469e-05\n",
      " -1.72471434e-04 -1.39445186e-04 -1.60519079e-05 -1.90369368e-05\n",
      " -2.50163990e-05  3.02801187e-04 -8.33990859e-06 -3.98835539e-06\n",
      "  1.09603544e-05  8.96248265e-06  7.56801299e-06  3.85821003e-07\n",
      "  5.23368147e-07  1.31746915e-06  6.23090492e-06  5.28656650e-04\n",
      " -7.83709578e-05 -9.18217278e-05  6.41907427e-06  3.24051698e-06\n",
      "  3.82348999e-06 -1.15384533e-06 -6.49744255e-07 -1.85360568e-06\n",
      "  1.24094855e-05  2.21005130e-07  1.28123575e-08  4.67146801e-07\n",
      " -3.72145479e-06  2.53134196e-04 -6.96650304e-05 -3.33717948e-05\n",
      " -2.24691907e-04 -2.78053601e-04 -1.07635177e-04 -1.68894330e-04\n",
      " -1.81977979e-04 -2.06161570e-05 -6.57130539e-06 -1.68228602e-04\n",
      "  1.58244630e-04  8.72516614e-06 -4.73758978e-05  9.97650770e-06\n",
      "  1.27313361e-05 -6.40433891e-05  9.17496758e-07 -4.60676116e-07\n",
      "  1.31770463e-05 -2.53537215e-04 -2.19263469e-04 -3.98816645e-05\n",
      " -1.80855502e-04  3.81862876e-06  7.77459828e-06 -1.47260917e-04\n",
      " -1.24025122e-06 -1.12023817e-06  6.67939789e-06 -2.15632743e-04\n",
      "  1.27149088e-07  2.08824549e-08 -8.91498606e-07  2.35052669e-05\n",
      " -4.20433105e-04  1.74639589e-04  4.08205218e-05  2.73288050e-04\n",
      " -9.53997395e-06  1.16877079e-05 -1.79166932e-04  9.12963960e-07\n",
      " -2.22140840e-06  2.12392503e-05 -4.78608433e-04 -1.05177835e-07\n",
      "  2.19931716e-07 -2.40162106e-06  4.11717343e-05 -9.46879589e-04\n",
      " -5.34681436e-07 -8.09962181e-08  5.46578179e-07 -7.15850164e-06\n",
      "  1.12980852e-04  6.27017700e-04 -3.76582962e-06 -4.68628520e-04\n",
      " -1.53825818e-03  2.82554868e-03 -1.21633351e-03 -5.76622068e-04\n",
      " -2.26752322e-06  1.44665947e-04 -1.09538880e-04 -6.94016686e-05\n",
      "  8.44876873e-04 -4.19361236e-05  5.73750665e-04  4.09647556e-05\n",
      " -8.13362991e-06  4.93653764e-04  1.08422069e-06  7.18108374e-06\n",
      " -1.85134642e-05 -4.47535375e-04 -1.00601079e-04 -1.87450429e-04\n",
      "  1.94214885e-04  1.62732609e-05 -3.45668903e-05  6.23417044e-04\n",
      " -4.92153139e-06  9.70551955e-07 -3.84731630e-05  7.26556774e-04\n",
      "  4.95857064e-06 -1.11417663e-06  5.32817524e-06 -1.04675448e-05\n",
      " -3.72384049e-04 -2.27866370e-04 -2.84565148e-04 -4.03002710e-04\n",
      " -1.96939917e-06 -5.45930286e-05  3.33066939e-04  1.07172301e-06\n",
      "  3.14183755e-06 -2.04157468e-05 -1.61875776e-04  1.28562235e-06\n",
      " -2.34494464e-07  2.20859834e-06  3.54255128e-06 -6.45986167e-04\n",
      "  3.40491955e-07  2.31463018e-08 -5.45584115e-07  4.06976831e-06\n",
      "  3.81415249e-05  5.31525830e-05  6.38643542e-05  1.66553834e-04\n",
      " -1.12322406e-04  1.01626165e-04 -7.67665169e-05  2.47252354e-04\n",
      " -1.75197763e-05  9.75466087e-06 -5.45818013e-06 -8.65911161e-04\n",
      "  1.43122671e-07 -1.76804960e-06  1.12357297e-05  4.26589194e-05\n",
      "  4.46365097e-04 -1.42990975e-07  1.51092256e-07 -2.16404059e-06\n",
      "  1.43866417e-05  2.42256457e-05  6.77673408e-05 -7.50555066e-06\n",
      "  3.35362279e-08  6.68553063e-07 -7.07212208e-06  6.69623047e-05\n",
      "  2.92575214e-05 -3.79290857e-05]\n",
      "-0.020910128513105343\n"
     ]
    }
   ],
   "source": [
    "print (ridge.coef_)\n",
    "print (ridge.intercept_)\n"
   ]
  },
  {
   "cell_type": "code",
   "execution_count": null,
   "outputs": [],
   "source": [
    "ridge.predict(X_test)"
   ],
   "metadata": {
    "collapsed": false,
    "pycharm": {
     "name": "#%%\n"
    }
   }
  },
  {
   "cell_type": "code",
   "execution_count": null,
   "outputs": [],
   "source": [
    "ridge.score(X_test, y_test)"
   ],
   "metadata": {
    "collapsed": false,
    "pycharm": {
     "name": "#%%\n"
    }
   }
  },
  {
   "cell_type": "code",
   "execution_count": null,
   "outputs": [],
   "source": [
    "start =200\n",
    "end =300\n",
    "y_pre =ridge.predict(X_test) #是调用predict函数的拟合值\n",
    "time =np.arange(start,end)\n",
    "plt.plot(time,y[start:end],'b',label=\"real\")\n",
    "plt.plot(time,y_pre[start:end],'r',label='predict')\n",
    "plt.legend(loc='upper left')\n",
    "plt.show()"
   ],
   "metadata": {
    "collapsed": false,
    "pycharm": {
     "name": "#%%\n"
    }
   }
  },
  {
   "cell_type": "code",
   "execution_count": 55,
   "metadata": {},
   "outputs": [
    {
     "data": {
      "text/plain": [
       "array([-7.54480903e-02, -1.63399108e-02, -6.39981619e-02, -7.59782209e-02,\n",
       "       -5.49505853e-02, -7.24522053e-02, -9.10593763e-02,  8.22515623e-02,\n",
       "       -5.38328769e-02,  2.06890717e-01, -7.12007137e-02, -7.62109628e-02,\n",
       "        1.20070473e-01, -6.07198939e-02, -5.80830849e-02, -6.79083258e-02,\n",
       "       -6.56898128e-02, -1.57611226e-02,  1.20867511e-01, -8.56317147e-02,\n",
       "       -8.79124064e-03,  8.87979246e-02,  3.81170414e-01, -7.00268852e-02,\n",
       "       -7.81696641e-02, -7.20550535e-02, -4.91137240e-02, -1.06520058e-01,\n",
       "       -7.31231232e-02, -7.27653185e-02,  1.21303603e-01, -7.32730656e-02,\n",
       "       -3.15722741e-02, -7.23566823e-02, -4.87152981e-03, -7.15878808e-02,\n",
       "       -2.22758145e-02, -7.58977273e-02, -6.96336228e-02,  1.31433093e-03,\n",
       "       -3.38796074e-02, -8.18598277e-02, -6.20134857e-02, -7.24498796e-02,\n",
       "        2.34688612e-01, -7.12350238e-02,  6.42440347e-01, -1.07233294e-02,\n",
       "       -1.02196947e+00, -7.33987445e-02, -6.40472685e-02, -8.01524704e-02,\n",
       "       -6.17141398e-02, -7.35660556e-02, -7.63195992e-02, -6.62472613e-02,\n",
       "       -7.80715955e-02,  1.58105001e-01, -6.93195622e-02, -8.50310348e-02,\n",
       "       -7.41930124e-02, -7.45538323e-02, -3.72315477e-02, -7.17893838e-02,\n",
       "       -1.19400918e-01, -6.92147031e-02, -7.57616242e-02, -7.73337515e-02,\n",
       "       -7.63552816e-02, -7.31907388e-02, -6.69102029e-02, -7.08923951e-02,\n",
       "       -7.20110799e-02, -4.07740034e-02, -5.20029111e-02, -7.54925135e-02,\n",
       "       -7.36823887e-02, -7.35132581e-02, -7.51536147e-02, -7.10290807e-02,\n",
       "       -7.02924751e-02,  9.86808264e-02, -7.38354586e-02,  2.66052121e-01,\n",
       "       -5.88873993e-02,  2.69270058e-01, -1.52187147e-02, -7.41126047e-02,\n",
       "       -1.38881825e-01, -7.12436891e-02,  6.34028465e-02, -7.83457839e-02,\n",
       "       -3.49225414e-02, -7.28975434e-02, -3.61589773e-02, -7.09227209e-02,\n",
       "       -7.51178646e-02, -6.89751897e-02, -8.33407147e-02, -2.69061282e-02,\n",
       "       -7.01476928e-02, -9.71362623e-02, -3.81792571e-02, -7.26095522e-02,\n",
       "       -2.61240819e-02, -7.66356962e-02, -7.54547031e-02, -7.52440058e-02,\n",
       "       -7.17043996e-02, -7.50598013e-02, -7.05666024e-02,  4.80842417e-02,\n",
       "       -8.78006357e-02,  3.07377452e-03, -7.51791863e-02, -7.24225906e-02,\n",
       "        1.19458326e-02, -7.25660350e-02, -7.70907024e-02, -6.93657091e-02,\n",
       "        2.43959508e-01, -1.71075783e-02, -7.89579695e-02, -7.25047398e-02,\n",
       "       -7.61411722e-02, -7.12594574e-02,  1.79718048e-01, -7.18038128e-02,\n",
       "       -9.66663231e-02, -7.62151449e-02, -6.12535076e-02, -7.42305670e-02,\n",
       "       -6.55761850e-02, -7.53997673e-02,  3.93123338e-02, -8.04414103e-02,\n",
       "       -7.82315604e-02, -4.59061993e-02, -7.08785132e-02, -7.50104627e-02,\n",
       "       -8.46700992e-02, -7.92259398e-02, -2.00760290e-01, -7.81729050e-02,\n",
       "       -5.84950870e-02, -7.03202720e-02, -7.53034172e-02, -5.16463441e-02,\n",
       "       -7.48182619e-02, -5.07379289e-02,  1.13291728e+00, -7.29929723e-02,\n",
       "       -7.16989536e-02, -6.57759361e-02, -7.70726661e-02, -6.25775041e-02,\n",
       "       -6.72444545e-02, -5.94539970e-02, -1.36591329e-01, -7.56479196e-02,\n",
       "       -1.06213964e+00, -7.34217266e-02, -7.29587493e-02, -1.36235263e-01,\n",
       "       -2.62859002e-02, -8.65329404e-02,  1.04888469e+00, -8.83782047e-02,\n",
       "       -8.48733482e-02,  9.94408169e-01, -7.35583516e-02,  1.05168308e-02,\n",
       "        1.39235960e-01, -6.82143239e-02, -3.36068896e-02, -5.87812016e-02,\n",
       "       -7.33841330e-02,  1.38748774e-02, -6.85723383e-02, -9.56043672e-02,\n",
       "       -6.45778982e-02,  3.48854498e-01, -7.09887565e-02, -6.11095266e-02,\n",
       "       -7.34856869e-02, -7.46186380e-02, -4.40153130e-02, -6.54766791e-02,\n",
       "       -7.99920902e-02, -1.40876844e-03, -7.60642937e-02, -1.30916382e-01,\n",
       "       -7.40593082e-02, -8.45148885e-02, -6.14157694e-02, -2.47776030e-02,\n",
       "       -4.24760750e-02, -7.39316712e-02, -5.51164473e-02, -4.29207147e-02,\n",
       "       -7.24275275e-02, -3.98413085e-02, -3.71470362e-02, -7.35037346e-02,\n",
       "       -6.13988127e-02, -8.28569856e-02,  1.34820641e-01, -8.36656848e-02,\n",
       "       -7.41606100e-02, -8.01037996e-02, -2.31576049e-02, -7.89108523e-02,\n",
       "       -4.10543163e-02, -7.61991598e-02, -7.19888161e-02, -7.26807287e-02,\n",
       "        2.35859327e+00,  9.46045091e-02, -8.32278669e-02, -6.07534330e-02,\n",
       "       -7.64973400e-02, -5.06346881e-02, -7.70580281e-02, -7.49770750e-02,\n",
       "       -7.43621039e-02, -7.62848598e-02, -1.02922033e+00, -9.57251580e-02,\n",
       "       -6.11352491e-02, -8.30604412e-02, -3.14505717e-02,  1.93772267e-02,\n",
       "       -7.38078118e-02, -5.96879736e-02, -7.39415525e-02, -8.99404759e-02,\n",
       "        1.85545380e+00, -7.15975155e-02, -1.02742371e+00, -3.53374804e-02,\n",
       "       -6.85012764e-02, -3.62081999e-02, -6.71532849e-02, -7.81684583e-02,\n",
       "       -6.97919874e-02, -3.66408239e-02, -9.48421739e-02, -7.71027902e-02,\n",
       "       -7.03522421e-02, -7.71887194e-02, -7.68483175e-02, -7.78023437e-02,\n",
       "        1.69877467e-01,  8.21407442e-01, -7.14235515e-02,  3.57197758e-02,\n",
       "        8.24446115e-02, -7.93640731e-02, -7.49537074e-02, -7.46054238e-02,\n",
       "       -7.16752280e-02, -6.97806570e-02, -7.30763639e-02, -7.30707665e-02,\n",
       "       -7.47911531e-02, -8.20176633e-02, -7.99910828e-02, -8.04830275e-02,\n",
       "       -7.38385105e-02, -6.21823250e-02, -2.64559413e-02,  3.17975113e-01,\n",
       "       -7.62345497e-02, -5.93872511e-02,  1.40114359e+00,  5.91321208e-02,\n",
       "       -7.38358921e-02, -1.10188288e-01, -8.87622410e-02, -8.18921645e-02,\n",
       "       -7.34180347e-02,  1.28247052e-01, -8.64925927e-02, -7.16122255e-02,\n",
       "       -8.06768097e-02, -7.49414226e-02,  8.15547617e-01,  1.63762103e-01,\n",
       "       -7.25674084e-02,  2.86516780e-01, -1.09027352e-01,  8.90457527e-01,\n",
       "       -6.46152739e-02, -7.45007526e-02, -7.43980029e-02, -1.27169091e-01,\n",
       "        6.92854956e-02, -7.20742704e-02,  6.47459759e-01, -7.34597449e-02,\n",
       "       -8.05678807e-02, -7.69598183e-02, -6.14938020e-02, -6.74656000e-02,\n",
       "        2.09270118e-01,  1.00162687e-01,  2.37410532e-01, -7.41798157e-02,\n",
       "       -7.45329393e-02, -1.34493107e-01, -7.24677106e-02, -6.87651969e-02,\n",
       "       -7.37238822e-02, -7.11963653e-02, -7.18954777e-02, -7.08465859e-02,\n",
       "        9.56306037e-03, -1.02197431e+00, -9.61817038e-02, -8.74799990e-02,\n",
       "       -7.70742298e-02, -4.08247685e-02, -7.20984319e-02,  6.95279656e-01,\n",
       "       -7.74486428e-02, -1.61727225e-01, -5.31104720e-02, -7.88533372e-02,\n",
       "       -8.90832218e-02, -8.32854198e-02, -7.02820281e-02, -5.14215228e-02,\n",
       "       -1.12459228e-01, -2.36533677e-03, -7.02786273e-02, -7.81556031e-02,\n",
       "       -6.88101985e-02, -2.07066706e-03, -6.62718953e-02, -5.84441871e-02,\n",
       "        9.40929551e-03,  1.21106938e-01, -7.47039915e-02,  4.64789654e-02,\n",
       "       -1.25532580e-01,  4.61165003e-02, -7.46395679e-02,  3.52482177e-02,\n",
       "       -7.45251207e-02, -1.41308487e-01, -7.43177387e-02,  7.48151409e-01,\n",
       "       -7.57322725e-02, -7.69421940e-02,  7.60386567e-02, -7.80780672e-02,\n",
       "       -6.43877557e-02, -7.56929740e-02, -7.65147476e-02, -7.30426789e-02,\n",
       "       -1.52277869e-01, -7.53724656e-02, -6.85818618e-02, -7.41973305e-02,\n",
       "       -7.09751729e-02, -7.28009227e-02, -1.19976849e-02, -7.41267849e-02,\n",
       "        1.31498595e-01, -8.93492944e-02, -8.15718592e-02, -1.11095542e-01,\n",
       "       -6.66744255e-02, -7.72768929e-02, -7.47648898e-02, -6.52492783e-02,\n",
       "        3.91389641e-03, -8.13069570e-02, -2.27396136e-03,  1.91052585e-01,\n",
       "       -7.21122394e-02, -7.23275083e-02, -1.56211286e-01, -1.01630502e+00,\n",
       "        4.64875616e-01, -7.07921959e-02, -1.16702706e-01, -1.02225628e+00,\n",
       "       -9.93603257e-02,  1.02669792e-02, -1.00677393e-01,  3.64338755e-02,\n",
       "       -6.52451390e-02, -7.60783523e-02, -7.53240142e-02, -8.20435296e-02,\n",
       "       -7.37360214e-02, -7.44090799e-02,  3.56087201e-01, -7.53981979e-02,\n",
       "       -5.40838768e-02, -7.60851603e-02, -5.74917977e-02, -7.67455678e-02,\n",
       "       -4.66919063e-02, -7.65183740e-02, -7.32178293e-02,  1.21020530e-02,\n",
       "       -7.66003820e-02, -6.93668174e-02, -7.40867383e-02, -8.04764412e-02,\n",
       "       -8.35982265e-02, -7.59414841e-02, -7.38088613e-02, -1.50563875e-01,\n",
       "        1.13161226e+00, -2.32934611e-01, -7.40221379e-02, -7.27139046e-02,\n",
       "       -7.48261460e-02, -7.56843199e-02, -4.28517911e-02, -7.50613651e-02,\n",
       "        5.93222949e-02, -2.03043110e-02, -1.56731359e-01, -6.94046509e-02,\n",
       "       -7.82768832e-02, -2.08067440e-02, -5.41000018e-02, -9.14642147e-02,\n",
       "       -2.98264024e-02, -7.84571345e-02, -8.12111023e-02,  3.45126802e-01,\n",
       "       -7.13301061e-02, -7.44360765e-02, -7.34439401e-02, -7.68290639e-02,\n",
       "       -6.56831635e-02,  9.40605323e-01, -1.56855981e-01, -7.06036340e-02,\n",
       "       -3.55004787e-02, -7.98744572e-02, -7.52306090e-02, -7.65297435e-02,\n",
       "       -6.42716172e-02, -7.86950381e-02,  1.62536817e-01, -1.02455560e+00,\n",
       "       -7.67416477e-02, -7.49231499e-02, -7.92793118e-02, -6.94387670e-02,\n",
       "       -3.85437563e-02, -1.33297880e-01, -7.34823427e-02, -7.59782209e-02,\n",
       "       -8.00548264e-02, -1.31268577e-01, -7.98908860e-02, -8.91646425e-02,\n",
       "       -7.32149369e-02, -7.55627186e-02, -1.09521645e-01, -6.98694088e-02,\n",
       "       -7.53951518e-02, -1.10553684e-01, -7.15347676e-02,  2.79650944e-02,\n",
       "       -7.23658768e-02,  2.24115226e-01, -7.39880951e-02,  1.17109949e-01,\n",
       "       -7.29713969e-02, -7.31128928e-02, -1.92006378e-01, -3.62652879e-02,\n",
       "       -7.47101708e-02, -7.58837547e-02,  2.38397680e-01, -6.93825232e-02,\n",
       "       -7.74431896e-02, -9.26335975e-02, -7.60995538e-02, -4.67383525e-02,\n",
       "       -6.13653616e-02, -7.37469135e-02, -6.87621817e-02,  9.15313902e-01,\n",
       "       -7.06003264e-02, -6.46202083e-02,  4.26315008e-02, -7.58404682e-02,\n",
       "       -7.10746505e-02, -5.03954389e-02, -7.39964883e-02, -7.34243208e-02,\n",
       "       -8.05708179e-02, -8.20190859e-02, -7.51226213e-02, -6.42596856e-02,\n",
       "       -3.49856472e-02, -7.05465460e-02, -5.30717274e-02, -7.33196082e-02,\n",
       "       -6.47198982e-02,  6.17066795e-01, -1.48111113e-01, -6.62433364e-02,\n",
       "       -9.79655344e-02, -7.64225482e-02, -7.39940766e-02,  1.18856718e+00,\n",
       "        5.49832292e-01,  2.90457633e-02, -7.34653055e-02,  6.15915573e-01,\n",
       "       -7.65617236e-02, -1.03721302e+00,  1.56910557e-01, -8.02509118e-02,\n",
       "       -7.66243268e-02,  1.56495817e-02, -6.05020210e-03, -6.64119931e-02,\n",
       "       -7.88146812e-02, -3.34947354e-03,  1.37690594e-01, -7.50857319e-02,\n",
       "       -1.03178848e-01, -7.69370794e-02,  2.66493050e-02, -7.95492806e-02,\n",
       "        1.18467837e+00,  1.00184596e+00, -8.98738363e-02, -6.64535988e-02,\n",
       "       -7.72295792e-02, -1.02224179e+00, -7.39285675e-02, -4.88051609e-02,\n",
       "        5.33102729e-03,  1.30305190e-02, -4.45654249e-02, -1.27694544e-01,\n",
       "        4.76581059e-01, -8.35076437e-02,  9.56163862e-01, -8.26703063e-02,\n",
       "       -9.43618154e-02, -7.08600913e-02, -7.20567583e-02,  8.38187559e-01,\n",
       "       -7.61927638e-02, -7.40937138e-02, -7.20226422e-02, -1.67923643e-02,\n",
       "       -7.43432838e-02, -8.34097896e-02, -8.44041034e-02, -7.11398579e-02,\n",
       "       -7.52889066e-02, -8.27279762e-02, -1.16487983e-01, -7.40059362e-02,\n",
       "       -9.16746850e-02, -6.85429110e-02, -6.75221410e-02, -7.45555371e-02,\n",
       "       -7.38833482e-02, -5.97321905e-02, -7.66551011e-02, -1.07504169e-01,\n",
       "       -4.32450721e-02, -7.47987159e-02, -7.26129839e-02, -7.43445942e-02,\n",
       "       -6.89573977e-02, -3.72540824e-02,  1.91686103e-02,  6.40468594e-01,\n",
       "       -7.00757487e-02, -7.55308913e-02, -1.22148057e-01, -7.29815739e-02,\n",
       "       -6.90267548e-02,  9.51229599e-01,  1.47283273e-01, -6.37784185e-02,\n",
       "       -7.07211339e-02, -1.34426336e-03,  1.65887507e+00, -9.72399721e-02,\n",
       "       -7.30056232e-02, -7.28800956e-02,  1.50192637e-01,  3.65760950e-01,\n",
       "       -8.76525782e-02, -7.21619575e-02, -1.06089328e-01, -7.50244871e-02,\n",
       "        1.45917398e-01, -7.12595456e-02, -7.81105864e-02, -7.56519694e-02,\n",
       "       -7.41653265e-02, -7.94284076e-02, -1.02692616e-01,  9.59881428e-01,\n",
       "       -2.11986917e-02, -7.34053939e-02, -6.89989254e-02, -8.28630224e-02,\n",
       "       -6.60459601e-02, -7.41477778e-02, -5.25500476e-02, -5.04361404e-02,\n",
       "       -4.02263994e-02, -7.80848967e-02, -7.34262767e-02, -7.36103815e-02,\n",
       "       -7.18663540e-02, -1.02260766e+00, -1.19091539e-02,  1.19513651e+00,\n",
       "       -9.14541268e-02, -7.20453888e-02, -3.39459985e-02, -7.92381018e-02,\n",
       "       -7.36192109e-02, -8.08238025e-02, -7.28556051e-02, -8.84440500e-02,\n",
       "       -7.56257187e-02, -8.83636322e-02, -5.16006093e-02, -7.82763326e-02,\n",
       "       -6.63927029e-02, -7.42699802e-02, -7.96625619e-02, -7.23806535e-02,\n",
       "       -7.31053211e-02, -7.37241746e-02,  1.65994215e-01, -7.19729043e-02,\n",
       "       -8.24755916e-02, -8.60213897e-02, -7.22102275e-02, -5.48996512e-02,\n",
       "       -4.59500816e-02, -7.45507048e-02, -7.55666928e-02, -6.65254834e-02,\n",
       "       -7.06651724e-02, -8.65386237e-02, -8.47777568e-02, -4.69025484e-02,\n",
       "       -7.35826152e-02, -8.53706293e-02, -6.05104343e-02,  3.32462571e-01,\n",
       "       -8.70822908e-02, -5.54691663e-02, -6.55061122e-02, -1.05555466e-01,\n",
       "       -6.57597884e-02, -7.99620259e-02, -7.36789034e-02, -6.65542858e-02,\n",
       "       -9.22730564e-02, -1.10204412e-01, -7.46607763e-02, -3.66472823e-02,\n",
       "       -7.10597163e-02, -8.17651122e-02,  6.64129803e-02, -4.02622821e-02,\n",
       "       -7.03297565e-02, -7.04690148e-02,  1.19007830e-01, -7.38499946e-02,\n",
       "       -7.13205436e-02, -7.13494353e-02, -3.25132266e-02, -7.22501549e-02,\n",
       "       -8.61666518e-02,  8.69620889e-02,  1.60713646e-01, -3.39696773e-02,\n",
       "       -7.24113623e-02, -7.45776447e-02, -7.32685156e-02, -7.33905402e-02,\n",
       "       -8.91044243e-02, -6.39822665e-02, -7.81730738e-02,  3.38566287e-01,\n",
       "       -2.19967271e-02, -7.95633542e-02, -7.72465269e-02,  4.40853994e-02,\n",
       "       -7.79426871e-02, -1.26989416e-01, -6.90150540e-02,  6.87970591e-02,\n",
       "       -8.20843401e-02,  1.14365099e-01, -8.21073800e-02, -7.87330436e-02,\n",
       "       -7.16282130e-02, -7.95342834e-02, -6.25648431e-02, -9.27978429e-02,\n",
       "       -7.37001542e-02, -1.51153899e-01, -7.42158269e-02, -3.64043419e-02,\n",
       "       -7.90433872e-02, -7.10964796e-02, -5.19619927e-02, -7.42317074e-02,\n",
       "       -7.56886407e-02, -7.67473382e-02, -5.26032029e-02, -8.89193079e-02,\n",
       "       -7.67211667e-02,  2.35260904e-02,  6.55948487e-02, -7.14767800e-02,\n",
       "       -4.96060275e-02, -7.19058064e-02, -8.10692392e-02, -7.80765034e-02,\n",
       "       -7.24050216e-02, -7.53890481e-02, -7.78125487e-02, -8.94240224e-02,\n",
       "       -6.30026036e-02, -7.24477298e-02, -7.45004600e-02,  7.97256398e-01,\n",
       "       -7.12560578e-02,  2.26302051e-02, -7.19230566e-02, -8.50795440e-02,\n",
       "       -7.43024114e-02,  4.12599821e-01, -3.24884022e-02,  1.00057308e+00,\n",
       "       -7.04575144e-02, -5.97670343e-02, -7.54443870e-02,  4.76909876e-02,\n",
       "       -7.70723839e-02, -7.56544957e-02, -8.49614209e-02, -5.76944357e-02,\n",
       "       -7.69682506e-02, -1.02693370e-01,  2.80644016e-01,  2.19843043e-02,\n",
       "       -2.62397795e-02,  1.27508345e-01, -8.30345749e-02,  5.58745797e-03,\n",
       "       -6.28238314e-02, -7.17844836e-02, -1.02210805e+00, -7.40451427e-02,\n",
       "        4.63326495e-01, -8.26961726e-02, -6.01722902e-02,  1.33141207e+00,\n",
       "       -7.35115533e-02, -9.08846322e-02, -7.69105351e-02, -8.22996416e-02,\n",
       "       -6.94482828e-02, -7.16726536e-02,  1.26757924e-02, -7.55320199e-02,\n",
       "       -7.86177212e-02, -7.40448113e-02,  1.49859000e-02, -8.00477889e-02,\n",
       "       -7.25995297e-02, -7.29717581e-02,  1.85039335e-01])"
      ]
     },
     "execution_count": 55,
     "metadata": {},
     "output_type": "execute_result"
    }
   ],
   "source": [
    "from sklearn.preprocessing import PolynomialFeatures\n",
    "degree = 2\n",
    "poly = PolynomialFeatures(degree=degree)\n",
    "Phi_train = poly.fit_transform(X_train)\n",
    "Phi_test = poly.fit_transform(X_test)\n",
    "print(\"Original design matrix (first 5 rows):\\n\", X_train[0:5], \"\\n\")\n",
    "print(\"Transformed design matrix (first 5 rows):\\n\", Phi_train[0:5])\n",
    "lr_poly = LinearRegression(fit_intercept=False).fit(Phi_train, y_train)"
   ]
  },
  {
   "cell_type": "code",
   "execution_count": 56,
   "metadata": {},
   "outputs": [
    {
     "data": {
      "text/plain": [
       "0.10285195485976684"
      ]
     },
     "execution_count": 56,
     "metadata": {},
     "output_type": "execute_result"
    }
   ],
   "source": [
    "ridge.score(X_test, y_test)"
   ]
  },
  {
   "cell_type": "code",
   "execution_count": 59,
   "metadata": {},
   "outputs": [
    {
     "data": {
      "image/png": "[encoded data removed]",
      "text/plain": [
       "<Figure size 432x288 with 1 Axes>"
      ]
     },
     "metadata": {
      "needs_background": "light"
     },
     "output_type": "display_data"
    }
   ],
   "source": [
    "start =200\n",
    "end =300\n",
    "y_pre =ridge.predict(X_test) #是调用predict函数的拟合值\n",
    "time =np.arange(start,end)\n",
    "plt.plot(time,y[start:end],'b',label=\"real\")\n",
    "plt.plot(time,y_pre[start:end],'r',label='predict')\n",
    "plt.legend(loc='upper left')\n",
    "plt.show()"
   ]
  },
  {
   "cell_type": "code",
   "execution_count": 33,
   "metadata": {
    "pycharm": {
     "name": "#%%\n"
    }
   },
   "outputs": [
    {
     "name": "stdout",
     "output_type": "stream",
     "text": [
      "Original design matrix (first 5 rows):\n",
      " [[-0.17532761 -0.45255965 -0.29338662 -0.13760738 -0.10806023]\n",
      " [ 0.06020279 -0.11089981  2.05955101 -0.14485252  0.03631454]\n",
      " [-0.1815402  -0.42310622 -0.29647447 -0.13398481 -0.10806023]\n",
      " [-0.17039408 -0.47023171 -0.29647447 -0.13398481 -0.10806023]\n",
      " [-0.16893229 -0.39954347 -0.28721093 -0.13760738 -0.10806023]] \n",
      "\n",
      "Transformed design matrix (first 5 rows):\n",
      " [[ 1.00000000e+00 -1.75327606e-01 -4.52559651e-01 -2.93386622e-01\n",
      "  -1.37607380e-01 -1.08060225e-01  3.07397695e-02  7.93462004e-02\n",
      "   5.14387742e-02  2.41263725e-02  1.89459407e-02  2.04810238e-01\n",
      "   1.32774948e-01  6.22755477e-02  4.89036980e-02  8.60757102e-02\n",
      "   4.03721643e-02  3.17034246e-02  1.89357909e-02  1.48698845e-02\n",
      "   1.16770123e-02]\n",
      " [ 1.00000000e+00  6.02027935e-02 -1.10899813e-01  2.05955101e+00\n",
      "  -1.44852525e-01  3.63145437e-02  3.62437634e-03 -6.67647857e-03\n",
      "   1.23990724e-01 -8.72052663e-03  2.18623698e-03  1.22987686e-02\n",
      "  -2.28403823e-01  1.60641180e-02 -4.02727612e-03  4.24175037e+00\n",
      "  -2.98331164e-01  7.47916552e-02  2.09822539e-02 -5.26025334e-03\n",
      "   1.31874609e-03]\n",
      " [ 1.00000000e+00 -1.81540200e-01 -4.23106217e-01 -2.96474467e-01\n",
      "  -1.33984807e-01 -1.08060225e-01  3.29568443e-02  7.68107874e-02\n",
      "   5.38220341e-02  2.43236287e-02  1.96172750e-02  1.79018871e-01\n",
      "   1.25440190e-01  5.66898049e-02  4.57209532e-02  8.78971096e-02\n",
      "   3.97230743e-02  3.20370978e-02  1.79519285e-02  1.44784285e-02\n",
      "   1.16770123e-02]\n",
      " [ 1.00000000e+00 -1.70394076e-01 -4.70231712e-01 -2.96474467e-01\n",
      "  -1.33984807e-01 -1.08060225e-01  2.90341411e-02  8.01246980e-02\n",
      "   5.05174928e-02  2.28302174e-02  1.84128223e-02  2.21117863e-01\n",
      "   1.39411696e-01  6.30039052e-02  5.08133448e-02  8.78971096e-02\n",
      "   3.97230743e-02  3.20370978e-02  1.79519285e-02  1.44784285e-02\n",
      "   1.16770123e-02]\n",
      " [ 1.00000000e+00 -1.68932289e-01 -3.99543470e-01 -2.87210933e-01\n",
      "  -1.37607380e-01 -1.08060225e-01  2.85381183e-02  6.74957929e-02\n",
      "   4.85192004e-02  2.32463296e-02  1.82548612e-02  1.59634984e-01\n",
      "   1.14753253e-01  5.49801299e-02  4.31747574e-02  8.24901201e-02\n",
      "   3.95223439e-02  3.10360782e-02  1.89357909e-02  1.48698845e-02\n",
      "   1.16770123e-02]]\n"
     ]
    }
   ],
   "source": [
    "from sklearn.preprocessing import PolynomialFeatures\n",
    "degree = 2\n",
    "poly = PolynomialFeatures(degree=degree)\n",
    "Phi_train = poly.fit_transform(X_train)\n",
    "Phi_test = poly.fit_transform(X_test)\n",
    "print(\"Original design matrix (first 5 rows):\\n\", X_train[0:5], \"\\n\")\n",
    "print(\"Transformed design matrix (first 5 rows):\\n\", Phi_train[0:5])\n",
    "lr_poly = LinearRegression(fit_intercept=False).fit(Phi_train, y_train)"
   ]
  },
  {
   "cell_type": "code",
   "execution_count": 34,
   "metadata": {
    "pycharm": {
     "name": "#%%\n"
    }
   },
   "outputs": [],
   "source": [
    "# X_grid = np.linspace(X_train.min(), X_train.max(), num=1001)\n",
    "# Phi_grid = poly.fit_transform(X_grid[:,np.newaxis])\n",
    "# y = lr_poly.predict(Phi_grid)\n",
    "# plt.plot(X_grid, y, 'k-', label='Prediction')\n",
    "# plt.scatter(X_train, y_train, color='b', marker='.', label='Train')\n",
    "# #plt.scatter(X_test_s, y_test, color='r', marker='.', label='Test')\n",
    "# plt.legend()\n",
    "# plt.ylabel(\"$y$ (Median House Value)\")\n",
    "# plt.xlabel(\"$x$ (LSTAT)\")\n",
    "# plt.show()"
   ]
  },
  {
   "cell_type": "code",
   "execution_count": 10,
   "metadata": {
    "pycharm": {
     "name": "#%%\n"
    }
   },
   "outputs": [],
   "source": [
    "from sklearn.linear_model import Ridge\n",
    "X_train = X_train/ 100.0\n",
    "X_test = X_test / 100.0"
   ]
  },
  {
   "cell_type": "code",
   "execution_count": 11,
   "metadata": {
    "pycharm": {
     "name": "#%%\n"
    }
   },
   "outputs": [
    {
     "ename": "ValueError",
     "evalue": "The truth value of a Series is ambiguous. Use a.empty, a.bool(), a.item(), a.any() or a.all().",
     "output_type": "error",
     "traceback": [
      "\u001B[0;31m---------------------------------------------------------------------------\u001B[0m",
      "\u001B[0;31mValueError\u001B[0m                                Traceback (most recent call last)",
      "\u001B[0;32m<ipython-input-11-c3a55fa4d482>\u001B[0m in \u001B[0;36m<module>\u001B[0;34m\u001B[0m\n\u001B[1;32m      4\u001B[0m \u001B[0mtest_mses\u001B[0m \u001B[0;34m=\u001B[0m \u001B[0mlist\u001B[0m\u001B[0;34m(\u001B[0m\u001B[0;34m)\u001B[0m\u001B[0;34m\u001B[0m\u001B[0;34m\u001B[0m\u001B[0m\n\u001B[1;32m      5\u001B[0m \u001B[0;34m\u001B[0m\u001B[0m\n\u001B[0;32m----> 6\u001B[0;31m X_grid = np.linspace(min(X_train.min(), X_test.min()),\n\u001B[0m\u001B[1;32m      7\u001B[0m                      max(X_train.max(), X_test.max()), num=1001)\n\u001B[1;32m      8\u001B[0m \u001B[0;34m\u001B[0m\u001B[0m\n",
      "\u001B[0;32m/Library/Frameworks/Python.framework/Versions/3.7/lib/python3.7/site-packages/pandas/core/generic.py\u001B[0m in \u001B[0;36m__nonzero__\u001B[0;34m(self)\u001B[0m\n\u001B[1;32m   1477\u001B[0m     \u001B[0;32mdef\u001B[0m \u001B[0m__nonzero__\u001B[0m\u001B[0;34m(\u001B[0m\u001B[0mself\u001B[0m\u001B[0;34m)\u001B[0m\u001B[0;34m:\u001B[0m\u001B[0;34m\u001B[0m\u001B[0;34m\u001B[0m\u001B[0m\n\u001B[1;32m   1478\u001B[0m         raise ValueError(\n\u001B[0;32m-> 1479\u001B[0;31m             \u001B[0;34mf\"The truth value of a {type(self).__name__} is ambiguous. \"\u001B[0m\u001B[0;34m\u001B[0m\u001B[0;34m\u001B[0m\u001B[0m\n\u001B[0m\u001B[1;32m   1480\u001B[0m             \u001B[0;34m\"Use a.empty, a.bool(), a.item(), a.any() or a.all().\"\u001B[0m\u001B[0;34m\u001B[0m\u001B[0;34m\u001B[0m\u001B[0m\n\u001B[1;32m   1481\u001B[0m         )\n",
      "\u001B[0;31mValueError\u001B[0m: The truth value of a Series is ambiguous. Use a.empty, a.bool(), a.item(), a.any() or a.all()."
     ]
    }
   ],
   "source": [
    "degrees = list(range(12))\n",
    "models = list()\n",
    "train_mses = list()\n",
    "test_mses = list()\n",
    "\n",
    "X_grid = np.linspace(min(X_train.min(), X_test.min()),\n",
    "                     max(X_train.max(), X_test.max()), num=1001)\n",
    "\n",
    "plt.figure(figsize=(20,16))\n",
    "for i, degree in enumerate(degrees):\n",
    "    plt.subplot(len(degrees)//2, 2, i+1)\n",
    "\n",
    "    # Transform features\n",
    "    poly = PolynomialFeatures(degree=degree)\n",
    "    Phi_train, Phi_test = poly.fit_transform(X_train), poly.fit_transform(X_test)\n",
    "    Phi_grid = poly.fit_transform(X_grid[:,np.newaxis])\n",
    "\n",
    "    # Fit model\n",
    "    lr_poly = Ridge(alpha = 0.002).fit(Phi_train, y_train)\n",
    "    models.append(lr_poly)\n",
    "    \n",
    "    # Evaluate\n",
    "    train_mse = mean_squared_error(lr_poly.predict(Phi_train), y_train)\n",
    "    train_mses.append(train_mse)\n",
    "    test_mse = mean_squared_error(lr_poly.predict(Phi_test), y_test)\n",
    "    test_mses.append(test_mse)\n",
    "\n",
    "    plt.plot(X_grid, lr_poly.predict(Phi_grid), 'k', label='Prediction')\n",
    "    plt.scatter(X_train, y_train, color='b', marker='.', label='Train')\n",
    "    #plt.scatter(X_test_s, y_test, color='r', marker='.', label='Test')\n",
    "    plt.title('Degree {} | Train MSE {:.3f}'.format(degree, train_mse))\n",
    "    plt.legend()\n",
    "\n",
    "plt.suptitle('Polynomial ridge regression for different polynomial degrees', y=1.05, fontsize=32)\n",
    "plt.tight_layout()"
   ]
  }
 ],
 "metadata": {
  "kernelspec": {
   "display_name": "Python 3",
   "language": "python",
   "name": "python3"
  },
  "language_info": {
   "codemirror_mode": {
    "name": "ipython",
    "version": 3
   },
   "file_extension": ".py",
   "mimetype": "text/x-python",
   "name": "python",
   "nbconvert_exporter": "python",
   "pygments_lexer": "ipython3",
   "version": "3.7.6"
  }
 },
 "nbformat": 4,
 "nbformat_minor": 1
}