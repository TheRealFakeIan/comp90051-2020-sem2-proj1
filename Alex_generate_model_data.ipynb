{
 "cells": [
  {
   "cell_type": "code",
   "execution_count": 1,
   "metadata": {},
   "outputs": [],
   "source": [
    "# General libraries\n",
    "import pandas as pd\n",
    "import numpy as np\n",
    "from collections import defaultdict\n",
    "import random\n",
    "from random import randrange"
   ]
  },
  {
   "cell_type": "code",
   "execution_count": 2,
   "metadata": {},
   "outputs": [],
   "source": [
    "# dictionaries with the structure source -> array of followings\n",
    "dictionary = defaultdict(list)\n",
    "# simple datafram to store the sources and the count of source followings\n",
    "data = pd.DataFrame([])\n",
    "\n",
    "file = open('data/train.txt', 'r') \n",
    "lines = file.readlines() \n",
    "count = 0\n",
    "for line in lines: \n",
    "    count = count + 1\n",
    "    split_string = list(map(int,line.strip().split(\"\\t\")))\n",
    "    dictionary[split_string[0]] = []\n",
    "    if (len(split_string) > 1):\n",
    "        dictionary[split_string[0]] = sorted(split_string[1:len(split_string)])\n",
    "        \n",
    "    data = data.append(pd.DataFrame({'Source': split_string[0], 'Source_Followings': len(dictionary[split_string[0]]) }, index=[0]), ignore_index=True)"
   ]
  },
  {
   "cell_type": "code",
   "execution_count": 3,
   "metadata": {},
   "outputs": [
    {
     "data": {
      "text/plain": [
       "35"
      ]
     },
     "execution_count": 3,
     "metadata": {},
     "output_type": "execute_result"
    }
   ],
   "source": [
    "def followingInCommon(node1,node2):  \n",
    "    list1 = dictionary[node1]\n",
    "    list2 = dictionary[node2]  \n",
    "    common_elements = set(list1).intersection(list2) \n",
    "    return len(common_elements)\n",
    "    \n",
    "# Test    \n",
    "followingInCommon(750901,3714465) "
   ]
  },
  {
   "cell_type": "code",
   "execution_count": 4,
   "metadata": {},
   "outputs": [
    {
     "data": {
      "text/plain": [
       "18"
      ]
     },
     "execution_count": 4,
     "metadata": {},
     "output_type": "execute_result"
    }
   ],
   "source": [
    "def indirectFollowings(node_source,node_sink):\n",
    "    count = 0\n",
    "    list1 = dictionary[node_source]\n",
    "    for node in list1:\n",
    "        if node_sink in dictionary[node]:\n",
    "            count += 1\n",
    "    return count\n",
    "    \n",
    "# Test    \n",
    "indirectFollowings(750901,3714465) "
   ]
  },
  {
   "cell_type": "code",
   "execution_count": 5,
   "metadata": {},
   "outputs": [
    {
     "data": {
      "text/plain": [
       "146"
      ]
     },
     "execution_count": 5,
     "metadata": {},
     "output_type": "execute_result"
    }
   ],
   "source": [
    "# function to calculate followers\n",
    "def calculateFollowers(node):\n",
    "    followers = 0\n",
    "    for j in range(0,19999):\n",
    "        if node in dictionary[data.at[j,'Source']]:\n",
    "            followers = followers + 1\n",
    "    \n",
    "    return followers\n",
    "\n",
    "# Test    \n",
    "calculateFollowers(161276) "
   ]
  },
  {
   "cell_type": "code",
   "execution_count": 6,
   "metadata": {},
   "outputs": [
    {
     "data": {
      "text/plain": [
       "10"
      ]
     },
     "execution_count": 6,
     "metadata": {},
     "output_type": "execute_result"
    }
   ],
   "source": [
    "# function to calculate followers of the source that are followers of the sink\n",
    "def SourceFollowersToSink(source,sink):\n",
    "    count = 0\n",
    "    for j in range(0,19999):\n",
    "        node = data.at[j,'Source']\n",
    "        #if it is a follower of the source\n",
    "        if source in dictionary[node]:\n",
    "            #check it is a follower of the sink\n",
    "            if sink in dictionary[node]:\n",
    "                count +=  1\n",
    "    \n",
    "    return count\n",
    "\n",
    "# Test    \n",
    "SourceFollowersToSink(750901,3714465) "
   ]
  },
  {
   "cell_type": "code",
   "execution_count": 7,
   "metadata": {},
   "outputs": [],
   "source": [
    "fake_edges4 = pd.read_csv(\"data_generated/fake_edges4.csv\", sep='\\t')"
   ]
  },
  {
   "cell_type": "code",
   "execution_count": 11,
   "metadata": {},
   "outputs": [],
   "source": [
    "real_edges3 = pd.read_csv(\"data_generated/real_edges3.csv\", sep='\\t')\n",
    "test_data = pd.read_csv(\"data_generated/test_data.csv\", sep='\\t')"
   ]
  },
  {
   "cell_type": "code",
   "execution_count": null,
   "metadata": {},
   "outputs": [],
   "source": [
    "real_edges3['Real'] = 1"
   ]
  },
  {
   "cell_type": "code",
   "execution_count": 8,
   "metadata": {},
   "outputs": [],
   "source": [
    "fake_edges4['Real'] = 0"
   ]
  },
  {
   "cell_type": "code",
   "execution_count": null,
   "metadata": {},
   "outputs": [],
   "source": [
    "real_edges3['Common_Followings'] = real_edges3.apply(lambda x: followingInCommon(x['Source'], x['Sink']), axis=1)\n",
    "print('a')\n",
    "real_edges3['Com_Followings_Ratio'] = real_edges3['Common_Followings']/real_edges3['Source_Followings']\n",
    "print('b')\n",
    "real_edges3['Followers_Ratio'] = real_edges3['Sink_Followers']/real_edges3['Source_Followers']\n",
    "print('c')\n",
    "real_edges3['Indirect_Followings'] = real_edges3.apply(lambda x: indirectFollowings(x['Source'], x['Sink']), axis=1)\n",
    "print('d')\n",
    "real_edges3['Inv_Indirect_Followings'] = real_edges3.apply(lambda x: indirectFollowings(x['Sink'], x['Source']), axis=1)"
   ]
  },
  {
   "cell_type": "code",
   "execution_count": 9,
   "metadata": {},
   "outputs": [
    {
     "name": "stdout",
     "output_type": "stream",
     "text": [
      "a\n",
      "b\n",
      "c\n",
      "d\n"
     ]
    }
   ],
   "source": [
    "fake_edges4['Common_Followings'] = fake_edges4.apply(lambda x: followingInCommon(x['Source'], x['Sink']), axis=1)\n",
    "print('a')\n",
    "fake_edges4['Com_Followings_Ratio'] = fake_edges4['Common_Followings']/fake_edges4['Source_Followings']\n",
    "print('b')\n",
    "fake_edges4['Followers_Ratio'] = fake_edges4['Sink_Followers']/fake_edges4['Source_Followers']\n",
    "print('c')\n",
    "fake_edges4['Indirect_Followings'] = fake_edges4.apply(lambda x: indirectFollowings(x['Source'], x['Sink']), axis=1)\n",
    "print('d')\n",
    "fake_edges4['Inv_Indirect_Followings'] = fake_edges4.apply(lambda x: indirectFollowings(x['Sink'], x['Source']), axis=1)"
   ]
  },
  {
   "cell_type": "code",
   "execution_count": 10,
   "metadata": {},
   "outputs": [],
   "source": [
    "fake_edges4.to_csv(\"data_generated/fake_edges4.csv\", sep='\\t', index=False)\n"
   ]
  },
  {
   "cell_type": "code",
   "execution_count": null,
   "metadata": {},
   "outputs": [],
   "source": [
    "test_data['Common_Followings'] = test_data.apply(lambda x: followingInCommon(x['Source'], x['Sink']), axis=1)\n",
    "print('a')\n",
    "test_data['Com_Followings_Ratio'] = test_data['Common_Followings']/test_data['Source_Followings']\n",
    "print('b')\n",
    "test_data['Followers_Ratio'] = test_data['Sink_Followers']/test_data['Source_Followers']\n",
    "print('c')\n",
    "test_data['Indirect_Followings'] = test_data.apply(lambda x: indirectFollowings(x['Source'], x['Sink']), axis=1)\n",
    "print('d')\n",
    "test_data['Inv_Indirect_Followings'] = test_data.apply(lambda x: indirectFollowings(x['Sink'], x['Source']), axis=1)"
   ]
  },
  {
   "cell_type": "code",
   "execution_count": null,
   "metadata": {},
   "outputs": [],
   "source": [
    "test_data.tail(10)"
   ]
  },
  {
   "cell_type": "code",
   "execution_count": null,
   "metadata": {},
   "outputs": [],
   "source": [
    "#real_edges1.to_csv(\"data_generated/real_edges1.csv\", sep='\\t', index=False)\n",
    "#real_edges2.to_csv(\"data_generated/real_edges2.csv\", sep='\\t', index=False)\n",
    "real_edges3.to_csv(\"data_generated/real_edges3.csv\", sep='\\t', index=False)\n",
    "fake_edges3.to_csv(\"data_generated/fake_edges3.csv\", sep='\\t', index=False)\n",
    "test_data.to_csv(\"data_generated/test_data.csv\", sep='\\t', index=False)"
   ]
  },
  {
   "cell_type": "code",
   "execution_count": 12,
   "metadata": {},
   "outputs": [],
   "source": [
    "#fake_edges2['Real'] = 0\n",
    "frames = [real_edges3,fake_edges4]\n",
    "dataset = pd.concat(frames, ignore_index=True)\n",
    "\n",
    "# Saving real edges\n",
    "dataset.to_csv(\"data_models/dataset6.csv\", sep='\\t', index=False)"
   ]
  },
  {
   "cell_type": "code",
   "execution_count": null,
   "metadata": {},
   "outputs": [],
   "source": [
    "def checkSink(node):\n",
    "    check = 0\n",
    "    if ( (data['Source'] == node).any() ):\n",
    "        check = 1         \n",
    "    return check"
   ]
  },
  {
   "cell_type": "code",
   "execution_count": null,
   "metadata": {},
   "outputs": [],
   "source": [
    "test_data2 = test_data"
   ]
  },
  {
   "cell_type": "code",
   "execution_count": null,
   "metadata": {},
   "outputs": [],
   "source": [
    "test_data2['SINK_SOURCE'] = test_data2.apply(lambda x: checkSink(x['Sink']), axis=1)"
   ]
  },
  {
   "cell_type": "code",
   "execution_count": null,
   "metadata": {},
   "outputs": [],
   "source": [
    "test_data.to_csv(\"data_generated/test_data2.csv\", sep=',', index=False)"
   ]
  },
  {
   "cell_type": "code",
   "execution_count": null,
   "metadata": {},
   "outputs": [],
   "source": [
    "fake_edges2_test = pd.read_csv(\"data_generated/fake_edges2.csv\", sep='\\t')"
   ]
  },
  {
   "cell_type": "code",
   "execution_count": null,
   "metadata": {},
   "outputs": [],
   "source": [
    "count = 0\n",
    "for index, row in fake_edges2_test.iterrows():\n",
    "    if ( (data['Source'] == row['Sink']).any() ):\n",
    "        count += 1\n",
    "\n",
    "print(count)\n",
    "    "
   ]
  },
  {
   "cell_type": "code",
   "execution_count": null,
   "metadata": {},
   "outputs": [],
   "source": [
    "580/2000 real_edges2"
   ]
  },
  {
   "cell_type": "code",
   "execution_count": null,
   "metadata": {},
   "outputs": [],
   "source": [
    "1078/4000 fake_edges3"
   ]
  },
  {
   "cell_type": "code",
   "execution_count": null,
   "metadata": {},
   "outputs": [],
   "source": [
    "fake_edges3_test.shape"
   ]
  },
  {
   "cell_type": "code",
   "execution_count": null,
   "metadata": {},
   "outputs": [],
   "source": [
    "1303/4000 real_edges3"
   ]
  },
  {
   "cell_type": "code",
   "execution_count": null,
   "metadata": {},
   "outputs": [],
   "source": [
    "376/2000 test_data"
   ]
  },
  {
   "cell_type": "code",
   "execution_count": null,
   "metadata": {},
   "outputs": [],
   "source": [
    "fake_edges3 = pd.read_csv(\"data_generated/fake_edges3.csv\", sep='\\t')\n",
    "real_edges3 = pd.read_csv(\"data_generated/real_edges3.csv\", sep='\\t')\n",
    "test_data = pd.read_csv(\"data_generated/test_data.csv\", sep='\\t')"
   ]
  },
  {
   "cell_type": "code",
   "execution_count": null,
   "metadata": {},
   "outputs": [],
   "source": [
    "fake_edges3['SourceFollowersToSink'] = fake_edges3.apply(lambda x: SourceFollowersToSink(x['Source'], x['Sink']), axis=1)\n",
    "print('a')\n",
    "real_edges3['SourceFollowersToSink'] = real_edges3.apply(lambda x: SourceFollowersToSink(x['Source'], x['Sink']), axis=1)\n",
    "print('b')\n",
    "test_data['SourceFollowersToSink'] = test_data.apply(lambda x: SourceFollowersToSink(x['Source'], x['Sink']), axis=1)\n",
    "print('c')"
   ]
  },
  {
   "cell_type": "code",
   "execution_count": null,
   "metadata": {},
   "outputs": [],
   "source": [
    "fake_edges3.head()"
   ]
  },
  {
   "cell_type": "code",
   "execution_count": null,
   "metadata": {},
   "outputs": [],
   "source": []
  }
 ],
 "metadata": {
  "kernelspec": {
   "display_name": "Python 3",
   "language": "python",
   "name": "python3"
  },
  "language_info": {
   "codemirror_mode": {
    "name": "ipython",
    "version": 3
   },
   "file_extension": ".py",
   "mimetype": "text/x-python",
   "name": "python",
   "nbconvert_exporter": "python",
   "pygments_lexer": "ipython3",
   "version": "3.8.5"
  }
 },
 "nbformat": 4,
 "nbformat_minor": 4
}
