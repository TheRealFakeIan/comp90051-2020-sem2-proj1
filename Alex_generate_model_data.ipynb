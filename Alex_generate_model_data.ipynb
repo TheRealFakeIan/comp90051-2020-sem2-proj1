{
 "cells": [
  {
   "cell_type": "code",
   "execution_count": 11,
   "metadata": {},
   "outputs": [],
   "source": [
    "# General libraries\n",
    "import pandas as pd\n",
    "import numpy as np\n",
    "from collections import defaultdict\n",
    "import random\n",
    "from random import randrange"
   ]
  },
  {
   "cell_type": "code",
   "execution_count": 12,
   "metadata": {},
   "outputs": [],
   "source": [
    "# dictionaries with the structure source -> array of followings\n",
    "dictionary = defaultdict(list)\n",
    "# simple datafram to store the sources and the count of source followings\n",
    "data = pd.DataFrame([])\n",
    "\n",
    "file = open('data/train.txt', 'r') \n",
    "lines = file.readlines() \n",
    "count = 0\n",
    "for line in lines: \n",
    "    count = count + 1\n",
    "    split_string = list(map(int,line.strip().split(\"\\t\")))\n",
    "    dictionary[split_string[0]] = []\n",
    "    if (len(split_string) > 1):\n",
    "        dictionary[split_string[0]] = sorted(split_string[1:len(split_string)])\n",
    "        \n",
    "    data = data.append(pd.DataFrame({'Source': split_string[0], 'Source_Followings': len(dictionary[split_string[0]]) }, index=[0]), ignore_index=True)"
   ]
  },
  {
   "cell_type": "code",
   "execution_count": 13,
   "metadata": {},
   "outputs": [
    {
     "data": {
      "text/plain": [
       "1137"
      ]
     },
     "execution_count": 13,
     "metadata": {},
     "output_type": "execute_result"
    }
   ],
   "source": [
    "def followingInCommon(node1,node2):  \n",
    "    list1 = dictionary[node1]\n",
    "    list2 = dictionary[node2]  \n",
    "    common_elements = set(list1).intersection(list2) \n",
    "    return len(common_elements)\n",
    "    \n",
    "# Test    \n",
    "followingInCommon(3849054,161276) "
   ]
  },
  {
   "cell_type": "code",
   "execution_count": null,
   "metadata": {},
   "outputs": [],
   "source": [
    "def indirectFollowings(node1,node2):  \n",
    "    list1 = dictionary[node1]\n",
    "    list2 = dictionary[node2]  \n",
    "    common_elements = set(list1).intersection(list2) \n",
    "    return len(common_elements)\n",
    "    \n",
    "# Test    \n",
    "followingInCommon(3849054,161276) "
   ]
  },
  {
   "cell_type": "code",
   "execution_count": 17,
   "metadata": {},
   "outputs": [],
   "source": [
    "real_edges = pd.read_csv(\"data_generated/real_edges.csv\", sep='\\t')\n",
    "real_edges2 = pd.read_csv(\"data_generated/real_edges2.csv\", sep='\\t')\n",
    "fake_edges = pd.read_csv(\"data_generated/fake_edges3.csv\", sep='\\t')\n",
    "#fake_edges2 = pd.read_csv(\"data_generated/fake_edges2.csv\", sep='\\t')"
   ]
  },
  {
   "cell_type": "code",
   "execution_count": 18,
   "metadata": {},
   "outputs": [],
   "source": [
    "real_edges['Real'] = 1\n",
    "real_edges2['Real'] = 1\n",
    "fake_edges['Real'] = 0\n",
    "#fake_edges2['Real'] = 0\n",
    "frames = [real_edges, real_edges2,fake_edges]\n",
    "dataset = pd.concat(frames, ignore_index=True)"
   ]
  },
  {
   "cell_type": "code",
   "execution_count": 19,
   "metadata": {},
   "outputs": [
    {
     "data": {
      "text/plain": [
       "(7955, 6)"
      ]
     },
     "execution_count": 19,
     "metadata": {},
     "output_type": "execute_result"
    }
   ],
   "source": [
    "dataset.shape"
   ]
  },
  {
   "cell_type": "code",
   "execution_count": 20,
   "metadata": {},
   "outputs": [],
   "source": [
    "dataset['Common_Followings'] = dataset.apply(lambda x: followingInCommon(x['Source'], x['Sink']), axis=1)\n",
    "dataset['Com_Followings_Ratio'] = dataset['Common_Followings']/dataset['Source_Followings']\n",
    "dataset['Followers_Ratio'] = dataset['Sink_Followers']/dataset['Source_Followers']\n",
    "# Saving real edges\n",
    "dataset.to_csv(\"data_models/dataset2.csv\", sep='\\t', index=False)"
   ]
  },
  {
   "cell_type": "code",
   "execution_count": 4,
   "metadata": {},
   "outputs": [],
   "source": [
    "test_data = pd.read_csv(\"data_generated/test_data.csv\", sep='\\t')"
   ]
  },
  {
   "cell_type": "code",
   "execution_count": 5,
   "metadata": {},
   "outputs": [
    {
     "data": {
      "text/html": [
       "<div>\n",
       "<style scoped>\n",
       "    .dataframe tbody tr th:only-of-type {\n",
       "        vertical-align: middle;\n",
       "    }\n",
       "\n",
       "    .dataframe tbody tr th {\n",
       "        vertical-align: top;\n",
       "    }\n",
       "\n",
       "    .dataframe thead th {\n",
       "        text-align: right;\n",
       "    }\n",
       "</style>\n",
       "<table border=\"1\" class=\"dataframe\">\n",
       "  <thead>\n",
       "    <tr style=\"text-align: right;\">\n",
       "      <th></th>\n",
       "      <th>Source</th>\n",
       "      <th>Sink</th>\n",
       "      <th>Source_Followings</th>\n",
       "      <th>Source_Followers</th>\n",
       "      <th>Sink_Followers</th>\n",
       "    </tr>\n",
       "  </thead>\n",
       "  <tbody>\n",
       "    <tr>\n",
       "      <th>0</th>\n",
       "      <td>3563811</td>\n",
       "      <td>3600160</td>\n",
       "      <td>21</td>\n",
       "      <td>3</td>\n",
       "      <td>29</td>\n",
       "    </tr>\n",
       "    <tr>\n",
       "      <th>1</th>\n",
       "      <td>2052043</td>\n",
       "      <td>1401960</td>\n",
       "      <td>71</td>\n",
       "      <td>13</td>\n",
       "      <td>9</td>\n",
       "    </tr>\n",
       "    <tr>\n",
       "      <th>2</th>\n",
       "      <td>4517994</td>\n",
       "      <td>1690636</td>\n",
       "      <td>205</td>\n",
       "      <td>80</td>\n",
       "      <td>17</td>\n",
       "    </tr>\n",
       "    <tr>\n",
       "      <th>3</th>\n",
       "      <td>1660006</td>\n",
       "      <td>4349447</td>\n",
       "      <td>506</td>\n",
       "      <td>32</td>\n",
       "      <td>36</td>\n",
       "    </tr>\n",
       "    <tr>\n",
       "      <th>4</th>\n",
       "      <td>581111</td>\n",
       "      <td>1882617</td>\n",
       "      <td>18</td>\n",
       "      <td>5</td>\n",
       "      <td>46</td>\n",
       "    </tr>\n",
       "  </tbody>\n",
       "</table>\n",
       "</div>"
      ],
      "text/plain": [
       "    Source     Sink  Source_Followings  Source_Followers  Sink_Followers\n",
       "0  3563811  3600160                 21                 3              29\n",
       "1  2052043  1401960                 71                13               9\n",
       "2  4517994  1690636                205                80              17\n",
       "3  1660006  4349447                506                32              36\n",
       "4   581111  1882617                 18                 5              46"
      ]
     },
     "execution_count": 5,
     "metadata": {},
     "output_type": "execute_result"
    }
   ],
   "source": [
    "test_data.head()"
   ]
  },
  {
   "cell_type": "code",
   "execution_count": 10,
   "metadata": {},
   "outputs": [
    {
     "name": "stdout",
     "output_type": "stream",
     "text": [
      "376\n"
     ]
    }
   ],
   "source": [
    "count = 0\n",
    "for index, row in test_data.iterrows():\n",
    "    \n",
    "    if row['Sink'] in data.Source.values:\n",
    "        count += 1\n",
    "        \n",
    "print(count)"
   ]
  },
  {
   "cell_type": "code",
   "execution_count": 23,
   "metadata": {},
   "outputs": [],
   "source": [
    "test_data['Common_Followings'] = test_data.apply(lambda x: followingInCommon(x['Source'], x['Sink']), axis=1)\n",
    "test_data['Com_Followings_Ratio'] = test_data['Common_Followings']/test_data['Source_Followings']\n",
    "test_data['Followers_Ratio'] = test_data['Sink_Followers']/test_data['Source_Followers']\n",
    "test_data.to_csv(\"data_models/test_data.csv\", sep='\\t', index=False)\n"
   ]
  },
  {
   "cell_type": "code",
   "execution_count": null,
   "metadata": {},
   "outputs": [],
   "source": []
  }
 ],
 "metadata": {
  "kernelspec": {
   "display_name": "Python 3",
   "language": "python",
   "name": "python3"
  },
  "language_info": {
   "codemirror_mode": {
    "name": "ipython",
    "version": 3
   },
   "file_extension": ".py",
   "mimetype": "text/x-python",
   "name": "python",
   "nbconvert_exporter": "python",
   "pygments_lexer": "ipython3",
   "version": "3.8.5"
  }
 },
 "nbformat": 4,
 "nbformat_minor": 4
}
