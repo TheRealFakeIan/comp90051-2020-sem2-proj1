{
 "cells": [
  {
   "cell_type": "code",
   "execution_count": 124,
   "metadata": {},
   "outputs": [],
   "source": [
    "# General libraries\n",
    "import pandas as pd\n",
    "import numpy as np\n",
    "from collections import defaultdict\n",
    "import random\n",
    "from random import randrange"
   ]
  },
  {
   "cell_type": "code",
   "execution_count": 125,
   "metadata": {},
   "outputs": [],
   "source": [
    "# dictionaries with the structure source -> array of followings\n",
    "dictionary = defaultdict(list)\n",
    "# simple datafram to store the sources and the count of source followings\n",
    "data = pd.DataFrame([])\n",
    "\n",
    "file = open('data/train.txt', 'r') \n",
    "lines = file.readlines() \n",
    "count = 0\n",
    "for line in lines: \n",
    "    count = count + 1\n",
    "    split_string = list(map(int,line.strip().split(\"\\t\")))\n",
    "    dictionary[split_string[0]] = []\n",
    "    if (len(split_string) > 1):\n",
    "        dictionary[split_string[0]] = sorted(split_string[1:len(split_string)])\n",
    "        \n",
    "    data = data.append(pd.DataFrame({'Source': split_string[0], 'Source_Followings': len(dictionary[split_string[0]]) }, index=[0]), ignore_index=True)"
   ]
  },
  {
   "cell_type": "code",
   "execution_count": 126,
   "metadata": {},
   "outputs": [
    {
     "data": {
      "text/plain": [
       "1137"
      ]
     },
     "execution_count": 126,
     "metadata": {},
     "output_type": "execute_result"
    }
   ],
   "source": [
    "def followingInCommon(node1,node2):  \n",
    "    list1 = dictionary[node1]\n",
    "    list2 = dictionary[node2]  \n",
    "    common_elements = set(list1).intersection(list2) \n",
    "    return len(common_elements)\n",
    "    \n",
    "# Test    \n",
    "followingInCommon(3849054,161276) "
   ]
  },
  {
   "cell_type": "code",
   "execution_count": 127,
   "metadata": {},
   "outputs": [
    {
     "data": {
      "text/plain": [
       "67"
      ]
     },
     "execution_count": 127,
     "metadata": {},
     "output_type": "execute_result"
    }
   ],
   "source": [
    "def indirectFollowings(node_source,node_sink):\n",
    "    count = 0\n",
    "    list1 = dictionary[node_source]\n",
    "    for node in list1:\n",
    "        if node_sink in dictionary[node]:\n",
    "            count += 1\n",
    "    return count\n",
    "    \n",
    "# Test    \n",
    "indirectFollowings(3849054,161276) "
   ]
  },
  {
   "cell_type": "code",
   "execution_count": 43,
   "metadata": {},
   "outputs": [
    {
     "data": {
      "text/plain": [
       "66"
      ]
     },
     "execution_count": 43,
     "metadata": {},
     "output_type": "execute_result"
    }
   ],
   "source": [
    "indirectFollowings(161276,3849054) "
   ]
  },
  {
   "cell_type": "code",
   "execution_count": 145,
   "metadata": {},
   "outputs": [],
   "source": [
    "#real_edges1 = pd.read_csv(\"data_generated/real_edges1.csv\", sep='\\t')\n",
    "#real_edges2 = pd.read_csv(\"data_generated/real_edges2.csv\", sep='\\t')\n",
    "fake_edges3 = pd.read_csv(\"data_generated/fake_edges3.csv\", sep='\\t')\n",
    "real_edges3 = pd.read_csv(\"data_generated/real_edges3.csv\", sep='\\t')\n",
    "\n",
    "#fake_edges2 = pd.read_csv(\"data_generated/fake_edges2.csv\", sep='\\t')\n",
    "test_data = pd.read_csv(\"data_generated/test_data.csv\", sep='\\t')"
   ]
  },
  {
   "cell_type": "code",
   "execution_count": 146,
   "metadata": {},
   "outputs": [],
   "source": [
    "#real_edges1['Real'] = 1\n",
    "#real_edges2['Real'] = 1\n",
    "real_edges3['Real'] = 1\n",
    "fake_edges3['Real'] = 0"
   ]
  },
  {
   "cell_type": "code",
   "execution_count": 147,
   "metadata": {},
   "outputs": [
    {
     "name": "stdout",
     "output_type": "stream",
     "text": [
      "a\n",
      "b\n",
      "c\n",
      "d\n"
     ]
    }
   ],
   "source": [
    "real_edges3['Common_Followings'] = real_edges3.apply(lambda x: followingInCommon(x['Source'], x['Sink']), axis=1)\n",
    "print('a')\n",
    "real_edges3['Com_Followings_Ratio'] = real_edges3['Common_Followings']/real_edges3['Source_Followings']\n",
    "print('b')\n",
    "real_edges3['Followers_Ratio'] = real_edges3['Sink_Followers']/real_edges3['Source_Followers']\n",
    "print('c')\n",
    "real_edges3['Indirect_Followings'] = real_edges3.apply(lambda x: indirectFollowings(x['Source'], x['Sink']), axis=1)\n",
    "print('d')\n",
    "real_edges3['Inv_Indirect_Followings'] = real_edges3.apply(lambda x: indirectFollowings(x['Sink'], x['Source']), axis=1)"
   ]
  },
  {
   "cell_type": "code",
   "execution_count": 149,
   "metadata": {},
   "outputs": [
    {
     "name": "stdout",
     "output_type": "stream",
     "text": [
      "a\n",
      "b\n",
      "c\n",
      "d\n"
     ]
    }
   ],
   "source": [
    "fake_edges3['Common_Followings'] = fake_edges3.apply(lambda x: followingInCommon(x['Source'], x['Sink']), axis=1)\n",
    "print('a')\n",
    "fake_edges3['Com_Followings_Ratio'] = fake_edges3['Common_Followings']/fake_edges3['Source_Followings']\n",
    "print('b')\n",
    "fake_edges3['Followers_Ratio'] = fake_edges3['Sink_Followers']/fake_edges3['Source_Followers']\n",
    "print('c')\n",
    "fake_edges3['Indirect_Followings'] = fake_edges3.apply(lambda x: indirectFollowings(x['Source'], x['Sink']), axis=1)\n",
    "print('d')\n",
    "fake_edges3['Inv_Indirect_Followings'] = fake_edges3.apply(lambda x: indirectFollowings(x['Sink'], x['Source']), axis=1)"
   ]
  },
  {
   "cell_type": "code",
   "execution_count": 150,
   "metadata": {},
   "outputs": [
    {
     "name": "stdout",
     "output_type": "stream",
     "text": [
      "a\n",
      "b\n",
      "c\n",
      "d\n"
     ]
    }
   ],
   "source": [
    "test_data['Common_Followings'] = test_data.apply(lambda x: followingInCommon(x['Source'], x['Sink']), axis=1)\n",
    "print('a')\n",
    "test_data['Com_Followings_Ratio'] = test_data['Common_Followings']/test_data['Source_Followings']\n",
    "print('b')\n",
    "test_data['Followers_Ratio'] = test_data['Sink_Followers']/test_data['Source_Followers']\n",
    "print('c')\n",
    "test_data['Indirect_Followings'] = test_data.apply(lambda x: indirectFollowings(x['Source'], x['Sink']), axis=1)\n",
    "print('d')\n",
    "test_data['Inv_Indirect_Followings'] = test_data.apply(lambda x: indirectFollowings(x['Sink'], x['Source']), axis=1)"
   ]
  },
  {
   "cell_type": "code",
   "execution_count": 151,
   "metadata": {},
   "outputs": [
    {
     "data": {
      "text/html": [
       "<div>\n",
       "<style scoped>\n",
       "    .dataframe tbody tr th:only-of-type {\n",
       "        vertical-align: middle;\n",
       "    }\n",
       "\n",
       "    .dataframe tbody tr th {\n",
       "        vertical-align: top;\n",
       "    }\n",
       "\n",
       "    .dataframe thead th {\n",
       "        text-align: right;\n",
       "    }\n",
       "</style>\n",
       "<table border=\"1\" class=\"dataframe\">\n",
       "  <thead>\n",
       "    <tr style=\"text-align: right;\">\n",
       "      <th></th>\n",
       "      <th>Source</th>\n",
       "      <th>Sink</th>\n",
       "      <th>Source_Followings</th>\n",
       "      <th>Source_Followers</th>\n",
       "      <th>Sink_Followers</th>\n",
       "      <th>Distance</th>\n",
       "      <th>Common_Followings</th>\n",
       "      <th>Com_Followings_Ratio</th>\n",
       "      <th>Followers_Ratio</th>\n",
       "      <th>Indirect_Followings</th>\n",
       "      <th>Inv_Indirect_Followings</th>\n",
       "    </tr>\n",
       "  </thead>\n",
       "  <tbody>\n",
       "    <tr>\n",
       "      <th>1990</th>\n",
       "      <td>1809767</td>\n",
       "      <td>335012</td>\n",
       "      <td>86</td>\n",
       "      <td>8</td>\n",
       "      <td>34</td>\n",
       "      <td>3.0</td>\n",
       "      <td>0</td>\n",
       "      <td>0.000000</td>\n",
       "      <td>4.250000</td>\n",
       "      <td>0</td>\n",
       "      <td>0</td>\n",
       "    </tr>\n",
       "    <tr>\n",
       "      <th>1991</th>\n",
       "      <td>4345222</td>\n",
       "      <td>1766631</td>\n",
       "      <td>887</td>\n",
       "      <td>204</td>\n",
       "      <td>87</td>\n",
       "      <td>2.0</td>\n",
       "      <td>0</td>\n",
       "      <td>0.000000</td>\n",
       "      <td>0.426471</td>\n",
       "      <td>1</td>\n",
       "      <td>0</td>\n",
       "    </tr>\n",
       "    <tr>\n",
       "      <th>1992</th>\n",
       "      <td>4518291</td>\n",
       "      <td>2534067</td>\n",
       "      <td>223</td>\n",
       "      <td>2</td>\n",
       "      <td>24</td>\n",
       "      <td>3.0</td>\n",
       "      <td>0</td>\n",
       "      <td>0.000000</td>\n",
       "      <td>12.000000</td>\n",
       "      <td>0</td>\n",
       "      <td>0</td>\n",
       "    </tr>\n",
       "    <tr>\n",
       "      <th>1993</th>\n",
       "      <td>4055860</td>\n",
       "      <td>1140987</td>\n",
       "      <td>1999</td>\n",
       "      <td>24</td>\n",
       "      <td>821</td>\n",
       "      <td>2.0</td>\n",
       "      <td>0</td>\n",
       "      <td>0.000000</td>\n",
       "      <td>34.208333</td>\n",
       "      <td>15</td>\n",
       "      <td>0</td>\n",
       "    </tr>\n",
       "    <tr>\n",
       "      <th>1994</th>\n",
       "      <td>465530</td>\n",
       "      <td>3426792</td>\n",
       "      <td>335</td>\n",
       "      <td>16</td>\n",
       "      <td>161</td>\n",
       "      <td>2.0</td>\n",
       "      <td>9</td>\n",
       "      <td>0.026866</td>\n",
       "      <td>10.062500</td>\n",
       "      <td>4</td>\n",
       "      <td>1</td>\n",
       "    </tr>\n",
       "    <tr>\n",
       "      <th>1995</th>\n",
       "      <td>1461386</td>\n",
       "      <td>2341683</td>\n",
       "      <td>53</td>\n",
       "      <td>16</td>\n",
       "      <td>2</td>\n",
       "      <td>3.0</td>\n",
       "      <td>0</td>\n",
       "      <td>0.000000</td>\n",
       "      <td>0.125000</td>\n",
       "      <td>0</td>\n",
       "      <td>0</td>\n",
       "    </tr>\n",
       "    <tr>\n",
       "      <th>1996</th>\n",
       "      <td>4057755</td>\n",
       "      <td>1871227</td>\n",
       "      <td>95</td>\n",
       "      <td>53</td>\n",
       "      <td>41</td>\n",
       "      <td>3.0</td>\n",
       "      <td>0</td>\n",
       "      <td>0.000000</td>\n",
       "      <td>0.773585</td>\n",
       "      <td>0</td>\n",
       "      <td>0</td>\n",
       "    </tr>\n",
       "    <tr>\n",
       "      <th>1997</th>\n",
       "      <td>4242514</td>\n",
       "      <td>1413468</td>\n",
       "      <td>27</td>\n",
       "      <td>6</td>\n",
       "      <td>2</td>\n",
       "      <td>3.0</td>\n",
       "      <td>0</td>\n",
       "      <td>0.000000</td>\n",
       "      <td>0.333333</td>\n",
       "      <td>0</td>\n",
       "      <td>0</td>\n",
       "    </tr>\n",
       "    <tr>\n",
       "      <th>1998</th>\n",
       "      <td>555531</td>\n",
       "      <td>1290080</td>\n",
       "      <td>56</td>\n",
       "      <td>7</td>\n",
       "      <td>3</td>\n",
       "      <td>3.0</td>\n",
       "      <td>0</td>\n",
       "      <td>0.000000</td>\n",
       "      <td>0.428571</td>\n",
       "      <td>0</td>\n",
       "      <td>0</td>\n",
       "    </tr>\n",
       "    <tr>\n",
       "      <th>1999</th>\n",
       "      <td>1707829</td>\n",
       "      <td>2373045</td>\n",
       "      <td>244</td>\n",
       "      <td>10</td>\n",
       "      <td>2</td>\n",
       "      <td>3.0</td>\n",
       "      <td>0</td>\n",
       "      <td>0.000000</td>\n",
       "      <td>0.200000</td>\n",
       "      <td>0</td>\n",
       "      <td>0</td>\n",
       "    </tr>\n",
       "  </tbody>\n",
       "</table>\n",
       "</div>"
      ],
      "text/plain": [
       "       Source     Sink  Source_Followings  Source_Followers  Sink_Followers  \\\n",
       "1990  1809767   335012                 86                 8              34   \n",
       "1991  4345222  1766631                887               204              87   \n",
       "1992  4518291  2534067                223                 2              24   \n",
       "1993  4055860  1140987               1999                24             821   \n",
       "1994   465530  3426792                335                16             161   \n",
       "1995  1461386  2341683                 53                16               2   \n",
       "1996  4057755  1871227                 95                53              41   \n",
       "1997  4242514  1413468                 27                 6               2   \n",
       "1998   555531  1290080                 56                 7               3   \n",
       "1999  1707829  2373045                244                10               2   \n",
       "\n",
       "      Distance  Common_Followings  Com_Followings_Ratio  Followers_Ratio  \\\n",
       "1990       3.0                  0              0.000000         4.250000   \n",
       "1991       2.0                  0              0.000000         0.426471   \n",
       "1992       3.0                  0              0.000000        12.000000   \n",
       "1993       2.0                  0              0.000000        34.208333   \n",
       "1994       2.0                  9              0.026866        10.062500   \n",
       "1995       3.0                  0              0.000000         0.125000   \n",
       "1996       3.0                  0              0.000000         0.773585   \n",
       "1997       3.0                  0              0.000000         0.333333   \n",
       "1998       3.0                  0              0.000000         0.428571   \n",
       "1999       3.0                  0              0.000000         0.200000   \n",
       "\n",
       "      Indirect_Followings  Inv_Indirect_Followings  \n",
       "1990                    0                        0  \n",
       "1991                    1                        0  \n",
       "1992                    0                        0  \n",
       "1993                   15                        0  \n",
       "1994                    4                        1  \n",
       "1995                    0                        0  \n",
       "1996                    0                        0  \n",
       "1997                    0                        0  \n",
       "1998                    0                        0  \n",
       "1999                    0                        0  "
      ]
     },
     "execution_count": 151,
     "metadata": {},
     "output_type": "execute_result"
    }
   ],
   "source": [
    "test_data.tail(10)"
   ]
  },
  {
   "cell_type": "code",
   "execution_count": 152,
   "metadata": {},
   "outputs": [],
   "source": [
    "#real_edges1.to_csv(\"data_generated/real_edges1.csv\", sep='\\t', index=False)\n",
    "#real_edges2.to_csv(\"data_generated/real_edges2.csv\", sep='\\t', index=False)\n",
    "real_edges3.to_csv(\"data_generated/real_edges3.csv\", sep='\\t', index=False)\n",
    "fake_edges3.to_csv(\"data_generated/fake_edges3.csv\", sep='\\t', index=False)\n",
    "test_data.to_csv(\"data_generated/test_data.csv\", sep='\\t', index=False)"
   ]
  },
  {
   "cell_type": "code",
   "execution_count": 154,
   "metadata": {},
   "outputs": [],
   "source": [
    "#fake_edges2['Real'] = 0\n",
    "frames = [real_edges3,fake_edges3]\n",
    "dataset = pd.concat(frames, ignore_index=True)\n",
    "\n",
    "# Saving real edges\n",
    "dataset.to_csv(\"data_models/dataset5.csv\", sep='\\t', index=False)"
   ]
  },
  {
   "cell_type": "code",
   "execution_count": 69,
   "metadata": {},
   "outputs": [],
   "source": [
    "def checkSink(node):\n",
    "    check = 0\n",
    "    if ( (data['Source'] == node).any() ):\n",
    "        check = 1         \n",
    "    return check"
   ]
  },
  {
   "cell_type": "code",
   "execution_count": 70,
   "metadata": {},
   "outputs": [],
   "source": [
    "test_data2 = test_data"
   ]
  },
  {
   "cell_type": "code",
   "execution_count": 71,
   "metadata": {},
   "outputs": [],
   "source": [
    "test_data2['SINK_SOURCE'] = test_data2.apply(lambda x: checkSink(x['Sink']), axis=1)"
   ]
  },
  {
   "cell_type": "code",
   "execution_count": 73,
   "metadata": {},
   "outputs": [],
   "source": [
    "test_data.to_csv(\"data_generated/test_data2.csv\", sep=',', index=False)"
   ]
  },
  {
   "cell_type": "code",
   "execution_count": 98,
   "metadata": {},
   "outputs": [
    {
     "data": {
      "text/html": [
       "<div>\n",
       "<style scoped>\n",
       "    .dataframe tbody tr th:only-of-type {\n",
       "        vertical-align: middle;\n",
       "    }\n",
       "\n",
       "    .dataframe tbody tr th {\n",
       "        vertical-align: top;\n",
       "    }\n",
       "\n",
       "    .dataframe thead th {\n",
       "        text-align: right;\n",
       "    }\n",
       "</style>\n",
       "<table border=\"1\" class=\"dataframe\">\n",
       "  <thead>\n",
       "    <tr style=\"text-align: right;\">\n",
       "      <th></th>\n",
       "      <th>Source</th>\n",
       "      <th>Source_Followings</th>\n",
       "    </tr>\n",
       "  </thead>\n",
       "  <tbody>\n",
       "    <tr>\n",
       "      <th>0</th>\n",
       "      <td>540762</td>\n",
       "      <td>143</td>\n",
       "    </tr>\n",
       "    <tr>\n",
       "      <th>1</th>\n",
       "      <td>2129843</td>\n",
       "      <td>21</td>\n",
       "    </tr>\n",
       "    <tr>\n",
       "      <th>2</th>\n",
       "      <td>3361377</td>\n",
       "      <td>764195</td>\n",
       "    </tr>\n",
       "    <tr>\n",
       "      <th>3</th>\n",
       "      <td>1199298</td>\n",
       "      <td>297</td>\n",
       "    </tr>\n",
       "    <tr>\n",
       "      <th>4</th>\n",
       "      <td>1392121</td>\n",
       "      <td>3808</td>\n",
       "    </tr>\n",
       "    <tr>\n",
       "      <th>5</th>\n",
       "      <td>4762204</td>\n",
       "      <td>4519</td>\n",
       "    </tr>\n",
       "    <tr>\n",
       "      <th>6</th>\n",
       "      <td>1840280</td>\n",
       "      <td>333</td>\n",
       "    </tr>\n",
       "    <tr>\n",
       "      <th>7</th>\n",
       "      <td>2673351</td>\n",
       "      <td>227</td>\n",
       "    </tr>\n",
       "    <tr>\n",
       "      <th>8</th>\n",
       "      <td>2672578</td>\n",
       "      <td>258</td>\n",
       "    </tr>\n",
       "    <tr>\n",
       "      <th>9</th>\n",
       "      <td>400117</td>\n",
       "      <td>1225</td>\n",
       "    </tr>\n",
       "  </tbody>\n",
       "</table>\n",
       "</div>"
      ],
      "text/plain": [
       "    Source  Source_Followings\n",
       "0   540762                143\n",
       "1  2129843                 21\n",
       "2  3361377             764195\n",
       "3  1199298                297\n",
       "4  1392121               3808\n",
       "5  4762204               4519\n",
       "6  1840280                333\n",
       "7  2673351                227\n",
       "8  2672578                258\n",
       "9   400117               1225"
      ]
     },
     "execution_count": 98,
     "metadata": {},
     "output_type": "execute_result"
    }
   ],
   "source": [
    "data.head(10)\n"
   ]
  },
  {
   "cell_type": "code",
   "execution_count": null,
   "metadata": {},
   "outputs": [],
   "source": []
  }
 ],
 "metadata": {
  "kernelspec": {
   "display_name": "Python 3",
   "language": "python",
   "name": "python3"
  },
  "language_info": {
   "codemirror_mode": {
    "name": "ipython",
    "version": 3
   },
   "file_extension": ".py",
   "mimetype": "text/x-python",
   "name": "python",
   "nbconvert_exporter": "python",
   "pygments_lexer": "ipython3",
   "version": "3.8.5"
  }
 },
 "nbformat": 4,
 "nbformat_minor": 4
}
