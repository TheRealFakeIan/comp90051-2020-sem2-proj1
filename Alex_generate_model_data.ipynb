{
 "cells": [
  {
   "cell_type": "code",
   "execution_count": 39,
   "metadata": {},
   "outputs": [],
   "source": [
    "# General libraries\n",
    "import pandas as pd\n",
    "import numpy as np\n",
    "from collections import defaultdict\n",
    "import random\n",
    "from random import randrange"
   ]
  },
  {
   "cell_type": "code",
   "execution_count": 40,
   "metadata": {},
   "outputs": [],
   "source": [
    "# dictionaries with the structure source -> array of followings\n",
    "dictionary = defaultdict(list)\n",
    "# simple datafram to store the sources and the count of source followings\n",
    "data = pd.DataFrame([])\n",
    "\n",
    "file = open('data/train.txt', 'r') \n",
    "lines = file.readlines() \n",
    "count = 0\n",
    "for line in lines: \n",
    "    count = count + 1\n",
    "    split_string = list(map(int,line.strip().split(\"\\t\")))\n",
    "    dictionary[split_string[0]] = []\n",
    "    if (len(split_string) > 1):\n",
    "        dictionary[split_string[0]] = sorted(split_string[1:len(split_string)])\n",
    "        \n",
    "    data = data.append(pd.DataFrame({'Source': split_string[0], 'Source_Followings': len(dictionary[split_string[0]]) }, index=[0]), ignore_index=True)"
   ]
  },
  {
   "cell_type": "code",
   "execution_count": 41,
   "metadata": {},
   "outputs": [
    {
     "data": {
      "text/plain": [
       "1137"
      ]
     },
     "execution_count": 41,
     "metadata": {},
     "output_type": "execute_result"
    }
   ],
   "source": [
    "def followingInCommon(node1,node2):  \n",
    "    list1 = dictionary[node1]\n",
    "    list2 = dictionary[node2]  \n",
    "    common_elements = set(list1).intersection(list2) \n",
    "    return len(common_elements)\n",
    "    \n",
    "# Test    \n",
    "followingInCommon(3849054,161276) "
   ]
  },
  {
   "cell_type": "code",
   "execution_count": 42,
   "metadata": {},
   "outputs": [
    {
     "data": {
      "text/plain": [
       "67"
      ]
     },
     "execution_count": 42,
     "metadata": {},
     "output_type": "execute_result"
    }
   ],
   "source": [
    "def indirectFollowings(node_source,node_sink):\n",
    "    count = 0\n",
    "    list1 = dictionary[node_source]\n",
    "    for node in list1:\n",
    "        if node_sink in dictionary[node]:\n",
    "            count += 1\n",
    "    return count\n",
    "    \n",
    "# Test    \n",
    "indirectFollowings(3849054,161276) "
   ]
  },
  {
   "cell_type": "code",
   "execution_count": 43,
   "metadata": {},
   "outputs": [
    {
     "data": {
      "text/plain": [
       "66"
      ]
     },
     "execution_count": 43,
     "metadata": {},
     "output_type": "execute_result"
    }
   ],
   "source": [
    "indirectFollowings(161276,3849054) "
   ]
  },
  {
   "cell_type": "code",
   "execution_count": 46,
   "metadata": {},
   "outputs": [],
   "source": [
    "real_edges1 = pd.read_csv(\"data_generated/real_edges1.csv\", sep='\\t')\n",
    "real_edges2 = pd.read_csv(\"data_generated/real_edges2.csv\", sep='\\t')\n",
    "fake_edges3 = pd.read_csv(\"data_generated/fake_edges3.csv\", sep='\\t')\n",
    "#fake_edges2 = pd.read_csv(\"data_generated/fake_edges2.csv\", sep='\\t')\n",
    "test_data = pd.read_csv(\"data_generated/test_data.csv\", sep='\\t')"
   ]
  },
  {
   "cell_type": "code",
   "execution_count": 57,
   "metadata": {},
   "outputs": [],
   "source": [
    "real_edges1['Real'] = 1\n",
    "real_edges2['Real'] = 1\n",
    "fake_edges3['Real'] = 0"
   ]
  },
  {
   "cell_type": "code",
   "execution_count": 48,
   "metadata": {},
   "outputs": [],
   "source": [
    "real_edges1['Common_Followings'] = real_edges1.apply(lambda x: followingInCommon(x['Source'], x['Sink']), axis=1)\n",
    "real_edges1['Com_Followings_Ratio'] = real_edges1['Common_Followings']/real_edges1['Source_Followings']\n",
    "real_edges1['Followers_Ratio'] = real_edges1['Sink_Followers']/real_edges1['Source_Followers']\n",
    "real_edges1['Indirect_Followings'] = real_edges1.apply(lambda x: indirectFollowings(x['Source'], x['Sink']), axis=1)\n",
    "real_edges1['Inv_Indirect_Followings'] = real_edges1.apply(lambda x: indirectFollowings(x['Sink'], x['Source']), axis=1)\n",
    "\n",
    "real_edges2['Common_Followings'] = real_edges2.apply(lambda x: followingInCommon(x['Source'], x['Sink']), axis=1)\n",
    "real_edges2['Com_Followings_Ratio'] = real_edges2['Common_Followings']/real_edges2['Source_Followings']\n",
    "real_edges2['Followers_Ratio'] = real_edges2['Sink_Followers']/real_edges2['Source_Followers']\n",
    "real_edges2['Indirect_Followings'] = real_edges2.apply(lambda x: indirectFollowings(x['Source'], x['Sink']), axis=1)\n",
    "real_edges2['Inv_Indirect_Followings'] = real_edges2.apply(lambda x: indirectFollowings(x['Sink'], x['Source']), axis=1)\n",
    "\n",
    "fake_edges3['Common_Followings'] = fake_edges3.apply(lambda x: followingInCommon(x['Source'], x['Sink']), axis=1)\n",
    "fake_edges3['Com_Followings_Ratio'] = fake_edges3['Common_Followings']/fake_edges3['Source_Followings']\n",
    "fake_edges3['Followers_Ratio'] = fake_edges3['Sink_Followers']/fake_edges3['Source_Followers']\n",
    "fake_edges3['Indirect_Followings'] = fake_edges3.apply(lambda x: indirectFollowings(x['Source'], x['Sink']), axis=1)\n",
    "fake_edges3['Inv_Indirect_Followings'] = fake_edges3.apply(lambda x: indirectFollowings(x['Sink'], x['Source']), axis=1)\n",
    "\n",
    "test_data['Common_Followings'] = test_data.apply(lambda x: followingInCommon(x['Source'], x['Sink']), axis=1)\n",
    "test_data['Com_Followings_Ratio'] = test_data['Common_Followings']/test_data['Source_Followings']\n",
    "test_data['Followers_Ratio'] = test_data['Sink_Followers']/test_data['Source_Followers']\n",
    "test_data['Indirect_Followings'] = test_data.apply(lambda x: indirectFollowings(x['Source'], x['Sink']), axis=1)\n",
    "test_data['Inv_Indirect_Followings'] = test_data.apply(lambda x: indirectFollowings(x['Sink'], x['Source']), axis=1)"
   ]
  },
  {
   "cell_type": "code",
   "execution_count": 54,
   "metadata": {},
   "outputs": [
    {
     "data": {
      "text/html": [
       "<div>\n",
       "<style scoped>\n",
       "    .dataframe tbody tr th:only-of-type {\n",
       "        vertical-align: middle;\n",
       "    }\n",
       "\n",
       "    .dataframe tbody tr th {\n",
       "        vertical-align: top;\n",
       "    }\n",
       "\n",
       "    .dataframe thead th {\n",
       "        text-align: right;\n",
       "    }\n",
       "</style>\n",
       "<table border=\"1\" class=\"dataframe\">\n",
       "  <thead>\n",
       "    <tr style=\"text-align: right;\">\n",
       "      <th></th>\n",
       "      <th>Source</th>\n",
       "      <th>Sink</th>\n",
       "      <th>Source_Followings</th>\n",
       "      <th>Source_Followers</th>\n",
       "      <th>Sink_Followers</th>\n",
       "      <th>Distance</th>\n",
       "      <th>Real</th>\n",
       "      <th>Common_Followings</th>\n",
       "      <th>Com_Followings_Ratio</th>\n",
       "      <th>Followers_Ratio</th>\n",
       "      <th>Indirect_Followings</th>\n",
       "      <th>Inv_Indirect_Followings</th>\n",
       "    </tr>\n",
       "  </thead>\n",
       "  <tbody>\n",
       "    <tr>\n",
       "      <th>0</th>\n",
       "      <td>4156257</td>\n",
       "      <td>4504242</td>\n",
       "      <td>113</td>\n",
       "      <td>63</td>\n",
       "      <td>274</td>\n",
       "      <td>1</td>\n",
       "      <td>1</td>\n",
       "      <td>39</td>\n",
       "      <td>0.345133</td>\n",
       "      <td>4.349206</td>\n",
       "      <td>28</td>\n",
       "      <td>31</td>\n",
       "    </tr>\n",
       "    <tr>\n",
       "      <th>1</th>\n",
       "      <td>2960143</td>\n",
       "      <td>1466981</td>\n",
       "      <td>192</td>\n",
       "      <td>8</td>\n",
       "      <td>5</td>\n",
       "      <td>1</td>\n",
       "      <td>1</td>\n",
       "      <td>0</td>\n",
       "      <td>0.000000</td>\n",
       "      <td>0.625000</td>\n",
       "      <td>1</td>\n",
       "      <td>0</td>\n",
       "    </tr>\n",
       "    <tr>\n",
       "      <th>2</th>\n",
       "      <td>1719606</td>\n",
       "      <td>527267</td>\n",
       "      <td>278</td>\n",
       "      <td>101</td>\n",
       "      <td>327</td>\n",
       "      <td>1</td>\n",
       "      <td>1</td>\n",
       "      <td>20</td>\n",
       "      <td>0.071942</td>\n",
       "      <td>3.237624</td>\n",
       "      <td>16</td>\n",
       "      <td>8</td>\n",
       "    </tr>\n",
       "    <tr>\n",
       "      <th>3</th>\n",
       "      <td>531474</td>\n",
       "      <td>439041</td>\n",
       "      <td>89</td>\n",
       "      <td>57</td>\n",
       "      <td>79</td>\n",
       "      <td>1</td>\n",
       "      <td>1</td>\n",
       "      <td>23</td>\n",
       "      <td>0.258427</td>\n",
       "      <td>1.385965</td>\n",
       "      <td>18</td>\n",
       "      <td>24</td>\n",
       "    </tr>\n",
       "    <tr>\n",
       "      <th>4</th>\n",
       "      <td>786311</td>\n",
       "      <td>1663869</td>\n",
       "      <td>18</td>\n",
       "      <td>32</td>\n",
       "      <td>117</td>\n",
       "      <td>1</td>\n",
       "      <td>1</td>\n",
       "      <td>5</td>\n",
       "      <td>0.277778</td>\n",
       "      <td>3.656250</td>\n",
       "      <td>2</td>\n",
       "      <td>11</td>\n",
       "    </tr>\n",
       "    <tr>\n",
       "      <th>5</th>\n",
       "      <td>1158858</td>\n",
       "      <td>2136428</td>\n",
       "      <td>146</td>\n",
       "      <td>34</td>\n",
       "      <td>5</td>\n",
       "      <td>1</td>\n",
       "      <td>1</td>\n",
       "      <td>0</td>\n",
       "      <td>0.000000</td>\n",
       "      <td>0.147059</td>\n",
       "      <td>2</td>\n",
       "      <td>0</td>\n",
       "    </tr>\n",
       "    <tr>\n",
       "      <th>6</th>\n",
       "      <td>2670101</td>\n",
       "      <td>4037770</td>\n",
       "      <td>209</td>\n",
       "      <td>37</td>\n",
       "      <td>3</td>\n",
       "      <td>1</td>\n",
       "      <td>1</td>\n",
       "      <td>0</td>\n",
       "      <td>0.000000</td>\n",
       "      <td>0.081081</td>\n",
       "      <td>1</td>\n",
       "      <td>0</td>\n",
       "    </tr>\n",
       "    <tr>\n",
       "      <th>7</th>\n",
       "      <td>1222505</td>\n",
       "      <td>3020366</td>\n",
       "      <td>186</td>\n",
       "      <td>17</td>\n",
       "      <td>1</td>\n",
       "      <td>1</td>\n",
       "      <td>1</td>\n",
       "      <td>0</td>\n",
       "      <td>0.000000</td>\n",
       "      <td>0.058824</td>\n",
       "      <td>0</td>\n",
       "      <td>0</td>\n",
       "    </tr>\n",
       "    <tr>\n",
       "      <th>8</th>\n",
       "      <td>401947</td>\n",
       "      <td>4571446</td>\n",
       "      <td>7890</td>\n",
       "      <td>367</td>\n",
       "      <td>26</td>\n",
       "      <td>1</td>\n",
       "      <td>1</td>\n",
       "      <td>0</td>\n",
       "      <td>0.000000</td>\n",
       "      <td>0.070845</td>\n",
       "      <td>13</td>\n",
       "      <td>0</td>\n",
       "    </tr>\n",
       "    <tr>\n",
       "      <th>9</th>\n",
       "      <td>842427</td>\n",
       "      <td>1337853</td>\n",
       "      <td>44</td>\n",
       "      <td>6</td>\n",
       "      <td>1795</td>\n",
       "      <td>1</td>\n",
       "      <td>1</td>\n",
       "      <td>4</td>\n",
       "      <td>0.090909</td>\n",
       "      <td>299.166667</td>\n",
       "      <td>3</td>\n",
       "      <td>0</td>\n",
       "    </tr>\n",
       "  </tbody>\n",
       "</table>\n",
       "</div>"
      ],
      "text/plain": [
       "    Source     Sink  Source_Followings  Source_Followers  Sink_Followers  \\\n",
       "0  4156257  4504242                113                63             274   \n",
       "1  2960143  1466981                192                 8               5   \n",
       "2  1719606   527267                278               101             327   \n",
       "3   531474   439041                 89                57              79   \n",
       "4   786311  1663869                 18                32             117   \n",
       "5  1158858  2136428                146                34               5   \n",
       "6  2670101  4037770                209                37               3   \n",
       "7  1222505  3020366                186                17               1   \n",
       "8   401947  4571446               7890               367              26   \n",
       "9   842427  1337853                 44                 6            1795   \n",
       "\n",
       "   Distance  Real  Common_Followings  Com_Followings_Ratio  Followers_Ratio  \\\n",
       "0         1     1                 39              0.345133         4.349206   \n",
       "1         1     1                  0              0.000000         0.625000   \n",
       "2         1     1                 20              0.071942         3.237624   \n",
       "3         1     1                 23              0.258427         1.385965   \n",
       "4         1     1                  5              0.277778         3.656250   \n",
       "5         1     1                  0              0.000000         0.147059   \n",
       "6         1     1                  0              0.000000         0.081081   \n",
       "7         1     1                  0              0.000000         0.058824   \n",
       "8         1     1                  0              0.000000         0.070845   \n",
       "9         1     1                  4              0.090909       299.166667   \n",
       "\n",
       "   Indirect_Followings  Inv_Indirect_Followings  \n",
       "0                   28                       31  \n",
       "1                    1                        0  \n",
       "2                   16                        8  \n",
       "3                   18                       24  \n",
       "4                    2                       11  \n",
       "5                    2                        0  \n",
       "6                    1                        0  \n",
       "7                    0                        0  \n",
       "8                   13                        0  \n",
       "9                    3                        0  "
      ]
     },
     "execution_count": 54,
     "metadata": {},
     "output_type": "execute_result"
    }
   ],
   "source": [
    "real_edges1.head(10)"
   ]
  },
  {
   "cell_type": "code",
   "execution_count": 58,
   "metadata": {},
   "outputs": [],
   "source": [
    "real_edges1.to_csv(\"data_generated/real_edges1.csv\", sep='\\t', index=False)\n",
    "real_edges2.to_csv(\"data_generated/real_edges2.csv\", sep='\\t', index=False)\n",
    "fake_edges3.to_csv(\"data_generated/fake_edges3.csv\", sep='\\t', index=False)\n",
    "test_data.to_csv(\"data_generated/test_data.csv\", sep='\\t', index=False)"
   ]
  },
  {
   "cell_type": "code",
   "execution_count": null,
   "metadata": {},
   "outputs": [],
   "source": []
  },
  {
   "cell_type": "code",
   "execution_count": null,
   "metadata": {},
   "outputs": [],
   "source": []
  },
  {
   "cell_type": "code",
   "execution_count": 59,
   "metadata": {},
   "outputs": [],
   "source": [
    "#fake_edges2['Real'] = 0\n",
    "frames = [real_edges1, real_edges2,fake_edges3]\n",
    "dataset = pd.concat(frames, ignore_index=True)\n",
    "\n",
    "# Saving real edges\n",
    "dataset.to_csv(\"data_models/dataset4.csv\", sep='\\t', index=False)"
   ]
  },
  {
   "cell_type": "code",
   "execution_count": null,
   "metadata": {},
   "outputs": [],
   "source": []
  }
 ],
 "metadata": {
  "kernelspec": {
   "display_name": "Python 3",
   "language": "python",
   "name": "python3"
  },
  "language_info": {
   "codemirror_mode": {
    "name": "ipython",
    "version": 3
   },
   "file_extension": ".py",
   "mimetype": "text/x-python",
   "name": "python",
   "nbconvert_exporter": "python",
   "pygments_lexer": "ipython3",
   "version": "3.8.5"
  }
 },
 "nbformat": 4,
 "nbformat_minor": 4
}
