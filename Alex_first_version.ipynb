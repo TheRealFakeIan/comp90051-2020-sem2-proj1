{
 "cells": [
  {
   "cell_type": "code",
   "execution_count": 11,
   "metadata": {},
   "outputs": [],
   "source": [
    "# General libraries\n",
    "import pandas as pd\n",
    "import numpy as np\n",
    "from collections import defaultdict\n",
    "import random\n",
    "from random import randrange\n",
    "import math\n",
    "from queue import PriorityQueue"
   ]
  },
  {
   "cell_type": "code",
   "execution_count": 12,
   "metadata": {},
   "outputs": [],
   "source": [
    "# dictionaries with the structure source -> array of followings\n",
    "dictionary = defaultdict(list)\n",
    "# simple datafram to store the sources and the count of source followings\n",
    "data = pd.DataFrame([])\n",
    "\n",
    "file = open('data/train.txt', 'r') \n",
    "lines = file.readlines() \n",
    "count = 0\n",
    "for line in lines: \n",
    "    count = count + 1\n",
    "    split_string = list(map(int,line.strip().split(\"\\t\")))\n",
    "    dictionary[split_string[0]] = []\n",
    "    if (len(split_string) >1):\n",
    "        dictionary[split_string[0]] = sorted(split_string[1:len(split_string)])\n",
    "        \n",
    "    data = data.append(pd.DataFrame({'Source': split_string[0], 'Source_Followings': len(dictionary[split_string[0]]) }, index=[0]), ignore_index=True)\n"
   ]
  },
  {
   "cell_type": "code",
   "execution_count": 13,
   "metadata": {},
   "outputs": [
    {
     "data": {
      "text/plain": "        Source  Source_Followings\n19990   930244               1328\n19991  4230790                135\n19992   837929                  0\n19993  4592066                 75\n19994  4778890                664\n19995   585576                 64\n19996   505961                539\n19997   125824                 45\n19998   896087                219\n19999  3547024                 63",
      "text/html": "<div>\n<style scoped>\n    .dataframe tbody tr th:only-of-type {\n        vertical-align: middle;\n    }\n\n    .dataframe tbody tr th {\n        vertical-align: top;\n    }\n\n    .dataframe thead th {\n        text-align: right;\n    }\n</style>\n<table border=\"1\" class=\"dataframe\">\n  <thead>\n    <tr style=\"text-align: right;\">\n      <th></th>\n      <th>Source</th>\n      <th>Source_Followings</th>\n    </tr>\n  </thead>\n  <tbody>\n    <tr>\n      <th>19990</th>\n      <td>930244</td>\n      <td>1328</td>\n    </tr>\n    <tr>\n      <th>19991</th>\n      <td>4230790</td>\n      <td>135</td>\n    </tr>\n    <tr>\n      <th>19992</th>\n      <td>837929</td>\n      <td>0</td>\n    </tr>\n    <tr>\n      <th>19993</th>\n      <td>4592066</td>\n      <td>75</td>\n    </tr>\n    <tr>\n      <th>19994</th>\n      <td>4778890</td>\n      <td>664</td>\n    </tr>\n    <tr>\n      <th>19995</th>\n      <td>585576</td>\n      <td>64</td>\n    </tr>\n    <tr>\n      <th>19996</th>\n      <td>505961</td>\n      <td>539</td>\n    </tr>\n    <tr>\n      <th>19997</th>\n      <td>125824</td>\n      <td>45</td>\n    </tr>\n    <tr>\n      <th>19998</th>\n      <td>896087</td>\n      <td>219</td>\n    </tr>\n    <tr>\n      <th>19999</th>\n      <td>3547024</td>\n      <td>63</td>\n    </tr>\n  </tbody>\n</table>\n</div>"
     },
     "execution_count": 13,
     "metadata": {},
     "output_type": "execute_result"
    }
   ],
   "source": [
    "data.tail(10)"
   ]
  },
  {
   "cell_type": "code",
   "execution_count": 14,
   "metadata": {},
   "outputs": [],
   "source": [
    "# function to calculate followers\n",
    "def calculateFollowers(data,node):\n",
    "    followers = 0\n",
    "    for j in range(0,19999):\n",
    "        if node in dictionary[data.at[j,'Source']]:\n",
    "            followers = followers + 1\n",
    "    \n",
    "    return followers\n",
    "\n",
    "# function to calculate followers\n",
    "def calculateFollowers2(data,node):\n",
    "    followers = 0\n",
    "    for j in range(0,19999):\n",
    "        common_elements = set(dictionary[data.at[j,'Source']]).intersection([node]) \n",
    "        followers = followers + len(common_elements)\n",
    "    \n",
    "    return followers"
   ]
  },
  {
   "cell_type": "code",
   "execution_count": 15,
   "metadata": {},
   "outputs": [
    {
     "data": {
      "text/plain": "46"
     },
     "execution_count": 15,
     "metadata": {},
     "output_type": "execute_result"
    }
   ],
   "source": [
    "calculateFollowers2(data,4778890)"
   ]
  },
  {
   "cell_type": "code",
   "execution_count": 16,
   "metadata": {},
   "outputs": [
    {
     "data": {
      "text/plain": "46"
     },
     "execution_count": 16,
     "metadata": {},
     "output_type": "execute_result"
    }
   ],
   "source": [
    "calculateFollowers(data,4778890)"
   ]
  },
  {
   "cell_type": "code",
   "execution_count": 17,
   "outputs": [],
   "source": [
    "train_data ={}\n",
    "search_table = []\n",
    "for line in open(\"data/train.txt\"):\n",
    "    r = line.split( )\n",
    "    search_table.append(r)\n",
    "    sink_ls = r[1:]\n",
    "    train_data[r[0]] = sink_ls"
   ],
   "metadata": {
    "collapsed": false,
    "pycharm": {
     "name": "#%%\n"
    }
   }
  },
  {
   "cell_type": "code",
   "execution_count": 18,
   "outputs": [],
   "source": [
    "def dijkstra(data,source,sink):\n",
    "    visit ={}\n",
    "    dis_dict = defaultdict(lambda: math.inf)\n",
    "    dis_dict[source] =0\n",
    "    expand_queue = PriorityQueue()\n",
    "    expand_queue.put((0,source))\n",
    "    while not expand_queue.empty():\n",
    "        i,source = expand_queue.get()\n",
    "        visit[source] = i\n",
    "        if source == sink:\n",
    "                return i\n",
    "        if source in data:\n",
    "            for s in data.get(source):\n",
    "                if s not in visit or visit[s] > i+1:\n",
    "                    expand_queue.put((i+1,s))\n",
    "\n",
    "    return math.inf"
   ],
   "metadata": {
    "collapsed": false,
    "pycharm": {
     "name": "#%%\n"
    }
   }
  },
  {
   "cell_type": "code",
   "execution_count": 20,
   "metadata": {},
   "outputs": [
    {
     "name": "stdout",
     "output_type": "stream",
     "text": [
      "0\n"
     ]
    },
    {
     "ename": "KeyboardInterrupt",
     "evalue": "",
     "output_type": "error",
     "traceback": [
      "\u001B[0;31m---------------------------------------------------------------------------\u001B[0m",
      "\u001B[0;31mKeyboardInterrupt\u001B[0m                         Traceback (most recent call last)",
      "\u001B[0;32m<ipython-input-20-7cc52ff096e1>\u001B[0m in \u001B[0;36m<module>\u001B[0;34m\u001B[0m\n\u001B[1;32m     12\u001B[0m         \u001B[0my\u001B[0m \u001B[0;34m=\u001B[0m \u001B[0mrandom\u001B[0m\u001B[0;34m.\u001B[0m\u001B[0mrandint\u001B[0m\u001B[0;34m(\u001B[0m\u001B[0;36m0\u001B[0m\u001B[0;34m,\u001B[0m \u001B[0msource_followings\u001B[0m\u001B[0;34m-\u001B[0m\u001B[0;36m1\u001B[0m\u001B[0;34m)\u001B[0m\u001B[0;34m\u001B[0m\u001B[0;34m\u001B[0m\u001B[0m\n\u001B[1;32m     13\u001B[0m         \u001B[0msink\u001B[0m \u001B[0;34m=\u001B[0m \u001B[0mdictionary\u001B[0m\u001B[0;34m[\u001B[0m\u001B[0msource\u001B[0m\u001B[0;34m]\u001B[0m\u001B[0;34m[\u001B[0m\u001B[0my\u001B[0m\u001B[0;34m]\u001B[0m\u001B[0;34m\u001B[0m\u001B[0;34m\u001B[0m\u001B[0m\n\u001B[0;32m---> 14\u001B[0;31m         \u001B[0msource_followers\u001B[0m \u001B[0;34m=\u001B[0m \u001B[0mcalculateFollowers\u001B[0m\u001B[0;34m(\u001B[0m\u001B[0mdata\u001B[0m\u001B[0;34m,\u001B[0m\u001B[0msource\u001B[0m\u001B[0;34m)\u001B[0m\u001B[0;34m\u001B[0m\u001B[0;34m\u001B[0m\u001B[0m\n\u001B[0m\u001B[1;32m     15\u001B[0m         \u001B[0msink_followers\u001B[0m \u001B[0;34m=\u001B[0m \u001B[0mcalculateFollowers\u001B[0m\u001B[0;34m(\u001B[0m\u001B[0mdata\u001B[0m\u001B[0;34m,\u001B[0m\u001B[0msink\u001B[0m\u001B[0;34m)\u001B[0m\u001B[0;34m\u001B[0m\u001B[0;34m\u001B[0m\u001B[0m\n\u001B[1;32m     16\u001B[0m         \u001B[0mdistances\u001B[0m \u001B[0;34m=\u001B[0m \u001B[0;36m1\u001B[0m\u001B[0;34m\u001B[0m\u001B[0;34m\u001B[0m\u001B[0m\n",
      "\u001B[0;32m<ipython-input-14-ef2ff5c050d7>\u001B[0m in \u001B[0;36mcalculateFollowers\u001B[0;34m(data, node)\u001B[0m\n\u001B[1;32m      3\u001B[0m     \u001B[0mfollowers\u001B[0m \u001B[0;34m=\u001B[0m \u001B[0;36m0\u001B[0m\u001B[0;34m\u001B[0m\u001B[0;34m\u001B[0m\u001B[0m\n\u001B[1;32m      4\u001B[0m     \u001B[0;32mfor\u001B[0m \u001B[0mj\u001B[0m \u001B[0;32min\u001B[0m \u001B[0mrange\u001B[0m\u001B[0;34m(\u001B[0m\u001B[0;36m0\u001B[0m\u001B[0;34m,\u001B[0m\u001B[0;36m19999\u001B[0m\u001B[0;34m)\u001B[0m\u001B[0;34m:\u001B[0m\u001B[0;34m\u001B[0m\u001B[0;34m\u001B[0m\u001B[0m\n\u001B[0;32m----> 5\u001B[0;31m         \u001B[0;32mif\u001B[0m \u001B[0mnode\u001B[0m \u001B[0;32min\u001B[0m \u001B[0mdictionary\u001B[0m\u001B[0;34m[\u001B[0m\u001B[0mdata\u001B[0m\u001B[0;34m.\u001B[0m\u001B[0mat\u001B[0m\u001B[0;34m[\u001B[0m\u001B[0mj\u001B[0m\u001B[0;34m,\u001B[0m\u001B[0;34m'Source'\u001B[0m\u001B[0;34m]\u001B[0m\u001B[0;34m]\u001B[0m\u001B[0;34m:\u001B[0m\u001B[0;34m\u001B[0m\u001B[0;34m\u001B[0m\u001B[0m\n\u001B[0m\u001B[1;32m      6\u001B[0m             \u001B[0mfollowers\u001B[0m \u001B[0;34m=\u001B[0m \u001B[0mfollowers\u001B[0m \u001B[0;34m+\u001B[0m \u001B[0;36m1\u001B[0m\u001B[0;34m\u001B[0m\u001B[0;34m\u001B[0m\u001B[0m\n\u001B[1;32m      7\u001B[0m \u001B[0;34m\u001B[0m\u001B[0m\n",
      "\u001B[0;32m/Library/Frameworks/Python.framework/Versions/3.7/lib/python3.7/site-packages/pandas/core/indexing.py\u001B[0m in \u001B[0;36m__getitem__\u001B[0;34m(self, key)\u001B[0m\n\u001B[1;32m   2175\u001B[0m                 \u001B[0;32mraise\u001B[0m \u001B[0mValueError\u001B[0m\u001B[0;34m(\u001B[0m\u001B[0;34m\"Invalid call for scalar access (getting)!\"\u001B[0m\u001B[0;34m)\u001B[0m\u001B[0;34m\u001B[0m\u001B[0;34m\u001B[0m\u001B[0m\n\u001B[1;32m   2176\u001B[0m \u001B[0;34m\u001B[0m\u001B[0m\n\u001B[0;32m-> 2177\u001B[0;31m         \u001B[0mkey\u001B[0m \u001B[0;34m=\u001B[0m \u001B[0mself\u001B[0m\u001B[0;34m.\u001B[0m\u001B[0m_convert_key\u001B[0m\u001B[0;34m(\u001B[0m\u001B[0mkey\u001B[0m\u001B[0;34m)\u001B[0m\u001B[0;34m\u001B[0m\u001B[0;34m\u001B[0m\u001B[0m\n\u001B[0m\u001B[1;32m   2178\u001B[0m         \u001B[0;32mreturn\u001B[0m \u001B[0mself\u001B[0m\u001B[0;34m.\u001B[0m\u001B[0mobj\u001B[0m\u001B[0;34m.\u001B[0m\u001B[0m_get_value\u001B[0m\u001B[0;34m(\u001B[0m\u001B[0;34m*\u001B[0m\u001B[0mkey\u001B[0m\u001B[0;34m,\u001B[0m \u001B[0mtakeable\u001B[0m\u001B[0;34m=\u001B[0m\u001B[0mself\u001B[0m\u001B[0;34m.\u001B[0m\u001B[0m_takeable\u001B[0m\u001B[0;34m)\u001B[0m\u001B[0;34m\u001B[0m\u001B[0;34m\u001B[0m\u001B[0m\n\u001B[1;32m   2179\u001B[0m \u001B[0;34m\u001B[0m\u001B[0m\n",
      "\u001B[0;32m/Library/Frameworks/Python.framework/Versions/3.7/lib/python3.7/site-packages/pandas/core/indexing.py\u001B[0m in \u001B[0;36m_convert_key\u001B[0;34m(self, key, is_setter)\u001B[0m\n\u001B[1;32m   2207\u001B[0m             \u001B[0;32mreturn\u001B[0m \u001B[0mlist\u001B[0m\u001B[0;34m(\u001B[0m\u001B[0mkey\u001B[0m\u001B[0;34m)\u001B[0m\u001B[0;34m\u001B[0m\u001B[0;34m\u001B[0m\u001B[0m\n\u001B[1;32m   2208\u001B[0m \u001B[0;34m\u001B[0m\u001B[0m\n\u001B[0;32m-> 2209\u001B[0;31m         \u001B[0;32mfor\u001B[0m \u001B[0max\u001B[0m\u001B[0;34m,\u001B[0m \u001B[0mi\u001B[0m \u001B[0;32min\u001B[0m \u001B[0mzip\u001B[0m\u001B[0;34m(\u001B[0m\u001B[0mself\u001B[0m\u001B[0;34m.\u001B[0m\u001B[0mobj\u001B[0m\u001B[0;34m.\u001B[0m\u001B[0maxes\u001B[0m\u001B[0;34m,\u001B[0m \u001B[0mkey\u001B[0m\u001B[0;34m)\u001B[0m\u001B[0;34m:\u001B[0m\u001B[0;34m\u001B[0m\u001B[0;34m\u001B[0m\u001B[0m\n\u001B[0m\u001B[1;32m   2210\u001B[0m             \u001B[0;32mif\u001B[0m \u001B[0max\u001B[0m\u001B[0;34m.\u001B[0m\u001B[0mis_integer\u001B[0m\u001B[0;34m(\u001B[0m\u001B[0;34m)\u001B[0m\u001B[0;34m:\u001B[0m\u001B[0;34m\u001B[0m\u001B[0;34m\u001B[0m\u001B[0m\n\u001B[1;32m   2211\u001B[0m                 \u001B[0;32mif\u001B[0m \u001B[0;32mnot\u001B[0m \u001B[0mis_integer\u001B[0m\u001B[0;34m(\u001B[0m\u001B[0mi\u001B[0m\u001B[0;34m)\u001B[0m\u001B[0;34m:\u001B[0m\u001B[0;34m\u001B[0m\u001B[0;34m\u001B[0m\u001B[0m\n",
      "\u001B[0;31mKeyboardInterrupt\u001B[0m: "
     ]
    }
   ],
   "source": [
    "# random selection of 2000 real edges\n",
    "real_edges = pd.DataFrame([])\n",
    "i = 0\n",
    "while i < 2000:\n",
    "    if i % 100 == 0:\n",
    "        print(i)\n",
    "    x = randrange(0, 19999)\n",
    "    source = data.at[x,'Source']\n",
    "    source_followings = data.at[x,'Source_Followings']\n",
    "    if (source_followings > 0):\n",
    "        i += 1\n",
    "        y = random.randint(0, source_followings-1)\n",
    "        sink = dictionary[source][y]\n",
    "        source_followers = calculateFollowers(data,source)\n",
    "        sink_followers = calculateFollowers(data,sink)\n",
    "        real_edges = real_edges.append(pd.DataFrame({'Source': source,'Sink': sink,\n",
    "                                                     'Source_Followings': source_followings,\n",
    "                                                     'Source_Followers': source_followers,\n",
    "                                                     'Sink_Followers': sink_followers},\n",
    "                                                    index=[0]), ignore_index=True)"
   ]
  },
  {
   "cell_type": "code",
   "execution_count": null,
   "metadata": {},
   "outputs": [],
   "source": [
    "real_edges.head(10)"
   ]
  },
  {
   "cell_type": "code",
   "execution_count": null,
   "metadata": {},
   "outputs": [],
   "source": [
    "# Saving real edges\n",
    "real_edges.to_csv(\"model_data/real_edges.csv\", sep='\\t', index=False)"
   ]
  },
  {
   "cell_type": "code",
   "execution_count": null,
   "metadata": {},
   "outputs": [],
   "source": [
    "# Reading real edges if they exist\n",
    "real_edges = pd.read_csv(\"model_data/real_edges.csv\", sep='\\t')"
   ]
  },
  {
   "cell_type": "code",
   "execution_count": null,
   "metadata": {},
   "outputs": [],
   "source": [
    "# random creation of 2000 fake edges\n",
    "\n",
    "minimum = data['Source'].min()\n",
    "maximum = data['Source'].max()\n",
    "\n",
    "fake_edges = pd.DataFrame([])\n",
    "i = 0\n",
    "while i < 2000:\n",
    "    if i % 100 == 0:\n",
    "        print(i)\n",
    "    \n",
    "    x = randrange(0, 19999)\n",
    "    source = data.at[x,'Source']\n",
    "    source_followings = data.at[x,'Source_Followings']\n",
    "    \n",
    "    sink = random.randint(minimum, maximum)\n",
    "    if sink not in dictionary[source]:\n",
    "        i += 1\n",
    "        source_followers = calculateFollowers(data,source)\n",
    "        sink_followers = calculateFollowers(data,sink)\n",
    "        fake_edges = fake_edges.append(pd.DataFrame({'Source': source,'Sink': sink,\n",
    "                                                     'Source_Followings': source_followings,\n",
    "                                                     'Source_Followers': source_followers,\n",
    "                                                     'Sink_Followers': sink_followers},\n",
    "                                                    index=[0]), ignore_index=True)"
   ]
  },
  {
   "cell_type": "code",
   "execution_count": null,
   "metadata": {},
   "outputs": [],
   "source": [
    "fake_edges.head()"
   ]
  },
  {
   "cell_type": "code",
   "execution_count": null,
   "metadata": {},
   "outputs": [],
   "source": [
    "fake_edges.to_csv(\"model_data/fake_edges.csv\", sep='\\t', index=False)"
   ]
  },
  {
   "cell_type": "code",
   "execution_count": null,
   "metadata": {},
   "outputs": [],
   "source": [
    "# Reading test-public data\n",
    "test_public = pd.read_csv('data/test-public.txt', sep='\\t')\n",
    "\n",
    "# Just for exploration: number of sinks that are source in train file.\n",
    "count = 0\n",
    "for index, row in test_public.iterrows():\n",
    "    if ( (data['Source'] == row['Sink']).any() ):\n",
    "        count = count + 1\n",
    "\n",
    "print(count)   "
   ]
  },
  {
   "cell_type": "code",
   "execution_count": null,
   "metadata": {},
   "outputs": [],
   "source": [
    "# calculation of features for test data\n",
    "test_data = pd.DataFrame([])\n",
    "for index, row in test_public.iterrows():\n",
    "    if index % 100 == 0:\n",
    "        print(index)\n",
    "    source = row['Source']\n",
    "    source_followings = data.loc[data['Source'] == source, 'Source_Followings'].iloc[0]\n",
    "    sink = row['Sink']\n",
    "\n",
    "    source_followers = calculateFollowers(data,source)\n",
    "    sink_followers = calculateFollowers(data,sink)\n",
    "\n",
    "\n",
    "\n",
    "\n",
    "    test_data = test_data.append(pd.DataFrame({'Id': row['Id'], 'Source': source,'Sink': sink,\n",
    "                                                 'Source_Followings': source_followings,\n",
    "                                                 'Source_Followers': source_followers,\n",
    "                                                 'Sink_Followers': sink_followers},\n",
    "                                                index=[0]), ignore_index=True) "
   ]
  },
  {
   "cell_type": "code",
   "execution_count": null,
   "metadata": {},
   "outputs": [],
   "source": [
    "test_data.head(10)"
   ]
  },
  {
   "cell_type": "code",
   "execution_count": null,
   "metadata": {},
   "outputs": [],
   "source": [
    "# This was part of the first exploration, maybe it is useful for the report\n",
    "data.nlargest(50,'followers')\n",
    "data.hist(column='Source_Followings',bins=100, range=(1,500))"
   ]
  },
  {
   "cell_type": "markdown",
   "metadata": {},
   "source": [
    "# "
   ]
  }
 ],
 "metadata": {
  "kernelspec": {
   "display_name": "Python 3",
   "language": "python",
   "name": "python3"
  },
  "language_info": {
   "codemirror_mode": {
    "name": "ipython",
    "version": 3
   },
   "file_extension": ".py",
   "mimetype": "text/x-python",
   "name": "python",
   "nbconvert_exporter": "python",
   "pygments_lexer": "ipython3",
   "version": "3.8.3"
  }
 },
 "nbformat": 4,
 "nbformat_minor": 4
}