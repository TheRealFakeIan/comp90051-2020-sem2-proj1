{
 "cells": [
  {
   "cell_type": "code",
   "execution_count": 1,
   "metadata": {},
   "outputs": [],
   "source": [
    "# General libraries\n",
    "import pandas as pd\n",
    "import numpy as np\n",
    "from collections import defaultdict\n",
    "import random\n",
    "from random import randrange"
   ]
  },
  {
   "cell_type": "code",
   "execution_count": null,
   "metadata": {},
   "outputs": [],
   "source": [
    "#data = pd.read_csv('train.txt', sep='\\t', header=None)"
   ]
  },
  {
   "cell_type": "code",
   "execution_count": 2,
   "metadata": {},
   "outputs": [],
   "source": [
    "dictionary = defaultdict(list)\n",
    "data = pd.DataFrame([])\n",
    "\n",
    "file = open('data/train.txt', 'r') \n",
    "lines = file.readlines() \n",
    "count = 0\n",
    "for line in lines: \n",
    "    count = count + 1\n",
    "    split_string = list(map(int,line.strip().split(\"\\t\")))\n",
    "    dictionary[split_string[0]] = []\n",
    "    if (len(split_string) >1):\n",
    "        dictionary[split_string[0]] = sorted(split_string[1:len(split_string)-2])\n",
    "        \n",
    "    data = data.append(pd.DataFrame({'Source': split_string[0], 'Source_Followings': len(dictionary[split_string[0]]) }, index=[0]), ignore_index=True)\n",
    "\n",
    "    \n",
    "    #print(\"Line {}: {}\".format(count, line.strip()))\n",
    "    #print(\"Line {}: {}\".format(count, split_string))\n",
    "    \n",
    "    #if (len(split_string) < 100):\n",
    "        #for i in range(1,len(split_string)):\n",
    "            #data = data.append(pd.DataFrame({'Source': split_string[0], 'Sink': split_string[i]}, index=[0]), ignore_index=True)\n"
   ]
  },
  {
   "cell_type": "code",
   "execution_count": 97,
   "metadata": {},
   "outputs": [
    {
     "data": {
      "text/plain": [
       "20000"
      ]
     },
     "execution_count": 97,
     "metadata": {},
     "output_type": "execute_result"
    }
   ],
   "source": [
    "len(dictionary)"
   ]
  },
  {
   "cell_type": "code",
   "execution_count": 165,
   "metadata": {},
   "outputs": [
    {
     "data": {
      "text/html": [
       "<div>\n",
       "<style scoped>\n",
       "    .dataframe tbody tr th:only-of-type {\n",
       "        vertical-align: middle;\n",
       "    }\n",
       "\n",
       "    .dataframe tbody tr th {\n",
       "        vertical-align: top;\n",
       "    }\n",
       "\n",
       "    .dataframe thead th {\n",
       "        text-align: right;\n",
       "    }\n",
       "</style>\n",
       "<table border=\"1\" class=\"dataframe\">\n",
       "  <thead>\n",
       "    <tr style=\"text-align: right;\">\n",
       "      <th></th>\n",
       "      <th>Source</th>\n",
       "      <th>Source_Followings</th>\n",
       "    </tr>\n",
       "  </thead>\n",
       "  <tbody>\n",
       "    <tr>\n",
       "      <th>19990</th>\n",
       "      <td>930244</td>\n",
       "      <td>1326</td>\n",
       "    </tr>\n",
       "    <tr>\n",
       "      <th>19991</th>\n",
       "      <td>4230790</td>\n",
       "      <td>133</td>\n",
       "    </tr>\n",
       "    <tr>\n",
       "      <th>19992</th>\n",
       "      <td>837929</td>\n",
       "      <td>0</td>\n",
       "    </tr>\n",
       "    <tr>\n",
       "      <th>19993</th>\n",
       "      <td>4592066</td>\n",
       "      <td>73</td>\n",
       "    </tr>\n",
       "    <tr>\n",
       "      <th>19994</th>\n",
       "      <td>4778890</td>\n",
       "      <td>662</td>\n",
       "    </tr>\n",
       "    <tr>\n",
       "      <th>19995</th>\n",
       "      <td>585576</td>\n",
       "      <td>62</td>\n",
       "    </tr>\n",
       "    <tr>\n",
       "      <th>19996</th>\n",
       "      <td>505961</td>\n",
       "      <td>537</td>\n",
       "    </tr>\n",
       "    <tr>\n",
       "      <th>19997</th>\n",
       "      <td>125824</td>\n",
       "      <td>43</td>\n",
       "    </tr>\n",
       "    <tr>\n",
       "      <th>19998</th>\n",
       "      <td>896087</td>\n",
       "      <td>217</td>\n",
       "    </tr>\n",
       "    <tr>\n",
       "      <th>19999</th>\n",
       "      <td>3547024</td>\n",
       "      <td>61</td>\n",
       "    </tr>\n",
       "  </tbody>\n",
       "</table>\n",
       "</div>"
      ],
      "text/plain": [
       "        Source  Source_Followings\n",
       "19990   930244               1326\n",
       "19991  4230790                133\n",
       "19992   837929                  0\n",
       "19993  4592066                 73\n",
       "19994  4778890                662\n",
       "19995   585576                 62\n",
       "19996   505961                537\n",
       "19997   125824                 43\n",
       "19998   896087                217\n",
       "19999  3547024                 61"
      ]
     },
     "execution_count": 165,
     "metadata": {},
     "output_type": "execute_result"
    }
   ],
   "source": [
    "data.tail(10)"
   ]
  },
  {
   "cell_type": "code",
   "execution_count": 27,
   "metadata": {},
   "outputs": [],
   "source": [
    "def calculateFollowers(data,index):\n",
    "    source = data.at[index,'Source']\n",
    "    followers = 0\n",
    "    for j in range(0,19999):\n",
    "        node = data.at[j,'Source']\n",
    "        if source in dictionary[node]:\n",
    "            followers = followers + 1\n",
    "    data.at[index, 'Source_Followers'] = followers \n",
    "    \n",
    "    return data"
   ]
  },
  {
   "cell_type": "code",
   "execution_count": 29,
   "metadata": {},
   "outputs": [
    {
     "data": {
      "text/html": [
       "<div>\n",
       "<style scoped>\n",
       "    .dataframe tbody tr th:only-of-type {\n",
       "        vertical-align: middle;\n",
       "    }\n",
       "\n",
       "    .dataframe tbody tr th {\n",
       "        vertical-align: top;\n",
       "    }\n",
       "\n",
       "    .dataframe thead th {\n",
       "        text-align: right;\n",
       "    }\n",
       "</style>\n",
       "<table border=\"1\" class=\"dataframe\">\n",
       "  <thead>\n",
       "    <tr style=\"text-align: right;\">\n",
       "      <th></th>\n",
       "      <th>Source</th>\n",
       "      <th>Source_Followings</th>\n",
       "      <th>Source_Followers</th>\n",
       "    </tr>\n",
       "  </thead>\n",
       "  <tbody>\n",
       "    <tr>\n",
       "      <th>19990</th>\n",
       "      <td>930244</td>\n",
       "      <td>1326</td>\n",
       "      <td></td>\n",
       "    </tr>\n",
       "    <tr>\n",
       "      <th>19991</th>\n",
       "      <td>4230790</td>\n",
       "      <td>133</td>\n",
       "      <td></td>\n",
       "    </tr>\n",
       "    <tr>\n",
       "      <th>19992</th>\n",
       "      <td>837929</td>\n",
       "      <td>0</td>\n",
       "      <td></td>\n",
       "    </tr>\n",
       "    <tr>\n",
       "      <th>19993</th>\n",
       "      <td>4592066</td>\n",
       "      <td>73</td>\n",
       "      <td></td>\n",
       "    </tr>\n",
       "    <tr>\n",
       "      <th>19994</th>\n",
       "      <td>4778890</td>\n",
       "      <td>662</td>\n",
       "      <td></td>\n",
       "    </tr>\n",
       "    <tr>\n",
       "      <th>19995</th>\n",
       "      <td>585576</td>\n",
       "      <td>62</td>\n",
       "      <td></td>\n",
       "    </tr>\n",
       "    <tr>\n",
       "      <th>19996</th>\n",
       "      <td>505961</td>\n",
       "      <td>537</td>\n",
       "      <td></td>\n",
       "    </tr>\n",
       "    <tr>\n",
       "      <th>19997</th>\n",
       "      <td>125824</td>\n",
       "      <td>43</td>\n",
       "      <td></td>\n",
       "    </tr>\n",
       "    <tr>\n",
       "      <th>19998</th>\n",
       "      <td>896087</td>\n",
       "      <td>217</td>\n",
       "      <td></td>\n",
       "    </tr>\n",
       "    <tr>\n",
       "      <th>19999</th>\n",
       "      <td>3547024</td>\n",
       "      <td>61</td>\n",
       "      <td>4</td>\n",
       "    </tr>\n",
       "  </tbody>\n",
       "</table>\n",
       "</div>"
      ],
      "text/plain": [
       "        Source  Source_Followings Source_Followers\n",
       "19990   930244               1326                 \n",
       "19991  4230790                133                 \n",
       "19992   837929                  0                 \n",
       "19993  4592066                 73                 \n",
       "19994  4778890                662                 \n",
       "19995   585576                 62                 \n",
       "19996   505961                537                 \n",
       "19997   125824                 43                 \n",
       "19998   896087                217                 \n",
       "19999  3547024                 61                4"
      ]
     },
     "execution_count": 29,
     "metadata": {},
     "output_type": "execute_result"
    }
   ],
   "source": [
    "data = calculateFollowers(data,19999)\n",
    "data.tail(10)"
   ]
  },
  {
   "cell_type": "code",
   "execution_count": null,
   "metadata": {},
   "outputs": [],
   "source": [
    "train_data = pd.DataFrame([])\n",
    "for i in range(1,100):\n",
    "    x = randrange(0, 19999)\n",
    "    source = data.at[x,'Source']\n",
    "    source_followings = data.at[x,'Source_Followings']\n",
    "    if (source_followings > 0):\n",
    "        y = random.randint(0, source_followings-1)\n",
    "        sink = dictionary[source][y]\n",
    "        \n",
    "        data = calculateFollowers(data,x)\n",
    "        source_followers = data.at[x,'Source_Followers']\n",
    "        train_data = train_data.append(pd.DataFrame({'Source': source,'Sink': sink,\n",
    "                                                     'Source_Followings': source_followings,\n",
    "                                                     'Source_Followers': source_followers,}, index=[0]), ignore_index=True)"
   ]
  },
  {
   "cell_type": "code",
   "execution_count": 31,
   "metadata": {},
   "outputs": [
    {
     "data": {
      "text/html": [
       "<div>\n",
       "<style scoped>\n",
       "    .dataframe tbody tr th:only-of-type {\n",
       "        vertical-align: middle;\n",
       "    }\n",
       "\n",
       "    .dataframe tbody tr th {\n",
       "        vertical-align: top;\n",
       "    }\n",
       "\n",
       "    .dataframe thead th {\n",
       "        text-align: right;\n",
       "    }\n",
       "</style>\n",
       "<table border=\"1\" class=\"dataframe\">\n",
       "  <thead>\n",
       "    <tr style=\"text-align: right;\">\n",
       "      <th></th>\n",
       "      <th>Source</th>\n",
       "      <th>Sink</th>\n",
       "      <th>Source_Followings</th>\n",
       "      <th>Source_Followers</th>\n",
       "    </tr>\n",
       "  </thead>\n",
       "  <tbody>\n",
       "    <tr>\n",
       "      <th>0</th>\n",
       "      <td>1030920</td>\n",
       "      <td>1179673</td>\n",
       "      <td>68</td>\n",
       "      <td>46</td>\n",
       "    </tr>\n",
       "    <tr>\n",
       "      <th>1</th>\n",
       "      <td>2788949</td>\n",
       "      <td>2118539</td>\n",
       "      <td>1948</td>\n",
       "      <td>134</td>\n",
       "    </tr>\n",
       "    <tr>\n",
       "      <th>2</th>\n",
       "      <td>3141618</td>\n",
       "      <td>1302377</td>\n",
       "      <td>588</td>\n",
       "      <td>176</td>\n",
       "    </tr>\n",
       "    <tr>\n",
       "      <th>3</th>\n",
       "      <td>2183328</td>\n",
       "      <td>639712</td>\n",
       "      <td>65</td>\n",
       "      <td>43</td>\n",
       "    </tr>\n",
       "    <tr>\n",
       "      <th>4</th>\n",
       "      <td>892466</td>\n",
       "      <td>3258271</td>\n",
       "      <td>57</td>\n",
       "      <td>16</td>\n",
       "    </tr>\n",
       "    <tr>\n",
       "      <th>5</th>\n",
       "      <td>1806155</td>\n",
       "      <td>3833331</td>\n",
       "      <td>14</td>\n",
       "      <td>1</td>\n",
       "    </tr>\n",
       "    <tr>\n",
       "      <th>6</th>\n",
       "      <td>3552708</td>\n",
       "      <td>3440369</td>\n",
       "      <td>521</td>\n",
       "      <td>45</td>\n",
       "    </tr>\n",
       "    <tr>\n",
       "      <th>7</th>\n",
       "      <td>3302638</td>\n",
       "      <td>4145463</td>\n",
       "      <td>510</td>\n",
       "      <td>148</td>\n",
       "    </tr>\n",
       "    <tr>\n",
       "      <th>8</th>\n",
       "      <td>3622518</td>\n",
       "      <td>4262689</td>\n",
       "      <td>777</td>\n",
       "      <td>135</td>\n",
       "    </tr>\n",
       "    <tr>\n",
       "      <th>9</th>\n",
       "      <td>364260</td>\n",
       "      <td>2588650</td>\n",
       "      <td>68</td>\n",
       "      <td>14</td>\n",
       "    </tr>\n",
       "  </tbody>\n",
       "</table>\n",
       "</div>"
      ],
      "text/plain": [
       "    Source     Sink  Source_Followings  Source_Followers\n",
       "0  1030920  1179673                 68                46\n",
       "1  2788949  2118539               1948               134\n",
       "2  3141618  1302377                588               176\n",
       "3  2183328   639712                 65                43\n",
       "4   892466  3258271                 57                16\n",
       "5  1806155  3833331                 14                 1\n",
       "6  3552708  3440369                521                45\n",
       "7  3302638  4145463                510               148\n",
       "8  3622518  4262689                777               135\n",
       "9   364260  2588650                 68                14"
      ]
     },
     "execution_count": 31,
     "metadata": {},
     "output_type": "execute_result"
    }
   ],
   "source": [
    "train_data.head(10)"
   ]
  },
  {
   "cell_type": "code",
   "execution_count": 65,
   "metadata": {},
   "outputs": [
    {
     "data": {
      "text/plain": [
       "array([[<AxesSubplot:title={'center':'followers'}>]], dtype=object)"
      ]
     },
     "execution_count": 65,
     "metadata": {},
     "output_type": "execute_result"
    },
    {
     "data": {
      "image/png": "[encoded data removed]",
      "text/plain": [
       "<Figure size 432x288 with 1 Axes>"
      ]
     },
     "metadata": {
      "needs_background": "light"
     },
     "output_type": "display_data"
    }
   ],
   "source": [
    "#data.nlargest(50,'followers')\n",
    "data.hist(column='Source_Followings',bins=100, range=(1,500))"
   ]
  },
  {
   "cell_type": "markdown",
   "metadata": {},
   "source": [
    "# "
   ]
  }
 ],
 "metadata": {
  "kernelspec": {
   "display_name": "Python 3",
   "language": "python",
   "name": "python3"
  },
  "language_info": {
   "codemirror_mode": {
    "name": "ipython",
    "version": 3
   },
   "file_extension": ".py",
   "mimetype": "text/x-python",
   "name": "python",
   "nbconvert_exporter": "python",
   "pygments_lexer": "ipython3",
   "version": "3.8.5"
  }
 },
 "nbformat": 4,
 "nbformat_minor": 4
}
