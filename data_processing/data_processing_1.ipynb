{
 "cells": [
  {
   "cell_type": "code",
   "execution_count": null,
   "metadata": {},
   "outputs": [],
   "source": [
    "# General libraries\n",
    "import pandas as pd\n",
    "import numpy as np\n",
    "from collections import defaultdict\n",
    "import random\n",
    "from random import randrange\n",
    "import math"
   ]
  },
  {
   "cell_type": "code",
   "execution_count": null,
   "metadata": {},
   "outputs": [],
   "source": [
    "# dictionaries with the structure source -> array of followings\n",
    "dictionary = defaultdict(list)\n",
    "# simple datafram to store the sources and the count of source followings\n",
    "data = pd.DataFrame([])\n",
    "\n",
    "file = open('data/train.txt', 'r') \n",
    "lines = file.readlines() \n",
    "count = 0\n",
    "for line in lines: \n",
    "    count = count + 1\n",
    "    split_string = list(map(int,line.strip().split(\"\\t\")))\n",
    "    dictionary[split_string[0]] = []\n",
    "    if (len(split_string) >1):\n",
    "        dictionary[split_string[0]] = sorted(split_string[1:len(split_string)])\n",
    "        \n",
    "    data = data.append(pd.DataFrame({'Source': split_string[0], 'Source_Followings': len(dictionary[split_string[0]]) }, index=[0]), ignore_index=True)\n"
   ]
  },
  {
   "cell_type": "code",
   "execution_count": null,
   "metadata": {},
   "outputs": [],
   "source": [
    "data.tail(10)"
   ]
  },
  {
   "cell_type": "code",
   "execution_count": null,
   "metadata": {},
   "outputs": [],
   "source": [
    "# function to calculate followers\n",
    "def calculateFollowers(data,node):\n",
    "    followers = 0\n",
    "    for j in range(0,19999):\n",
    "        if node in dictionary[data.at[j,'Source']]:\n",
    "            followers = followers + 1\n",
    "    \n",
    "    return followers\n",
    "\n",
    "# Second version: similar performance\n",
    "# function to calculate followers\n",
    "def calculateFollowers2(data,node):\n",
    "    followers = 0\n",
    "    for j in range(0,19999):\n",
    "        common_elements = set(dictionary[data.at[j,'Source']]).intersection([node]) \n",
    "        followers = followers + len(common_elements)\n",
    "    \n",
    "    return followers\n",
    "\n",
    "# Test\n",
    "calculateFollowers(data,4778890)"
   ]
  },
  {
   "cell_type": "code",
   "execution_count": null,
   "metadata": {},
   "outputs": [],
   "source": [
    "# REAL EDGES\n",
    "# First version\n",
    "# Random selection of 2000 real edges\n",
    "real_edges = pd.DataFrame([])\n",
    "i = 0\n",
    "while i < 2000:\n",
    "    if i % 100 == 0:\n",
    "        print(i)\n",
    "    x = randrange(0, 19999)\n",
    "    source = data.at[x,'Source']\n",
    "    source_followings = data.at[x,'Source_Followings']\n",
    "    if (source_followings > 0):\n",
    "        i += 1\n",
    "        y = random.randint(0, source_followings-1)\n",
    "        sink = dictionary[source][y]\n",
    "        source_followers = calculateFollowers(data,source)\n",
    "        sink_followers = calculateFollowers(data,sink)\n",
    "        real_edges = real_edges.append(pd.DataFrame({'Source': source,'Sink': sink,\n",
    "                                                     'Source_Followings': source_followings,\n",
    "                                                     'Source_Followers': source_followers,\n",
    "                                                     'Sink_Followers': sink_followers},\n",
    "                                                    index=[0]), ignore_index=True)"
   ]
  },
  {
   "cell_type": "code",
   "execution_count": null,
   "metadata": {},
   "outputs": [],
   "source": [
    "# REAL EDGES\n",
    "# Second version\n",
    "# Random walk with jump (probability 0.1) for creating 4000 real edges\n",
    "jump_probability = 0.1\n",
    "real_edges = pd.DataFrame(columns=['Source','Sink','Source_Followings','Source_Followers','Sink_Followers'])\n",
    "#seed\n",
    "source = 540762\n",
    "changeSource = False\n",
    "\n",
    "i = 0\n",
    "while i < 4000:\n",
    "    if i % 100 == 0:\n",
    "        print(i)\n",
    "        \n",
    "    if (data.loc[(data['Source'] == source)].any().values[0]):\n",
    "        source_followings = data.loc[data['Source'] == source, 'Source_Followings'].values[0]\n",
    "        if (source_followings > 0):\n",
    "            changeSource = False\n",
    "            y = random.randint(0, source_followings-1)\n",
    "            sink = dictionary[source][y]\n",
    "            # it is checked if the pair is not already added\n",
    "            if not(real_edges.loc[(real_edges['Source'] == source) & (real_edges['Sink'] == sink)].any().values[0]):\n",
    "                i += 1\n",
    "                source_followers = calculateFollowers(data,source)\n",
    "                sink_followers = calculateFollowers(data,sink)\n",
    "                real_edges = real_edges.append(pd.DataFrame({'Source': source,'Sink': sink,\n",
    "                                                             'Source_Followings': source_followings,\n",
    "                                                             'Source_Followers': source_followers,\n",
    "                                                             'Sink_Followers': sink_followers},\n",
    "                                                           index=[0]), ignore_index=True)\n",
    "                source = sink\n",
    "    else:\n",
    "        changeSource = True\n",
    "      \n",
    "    jump = np.random.rand() < jump_probability\n",
    "    if jump or changeSource:\n",
    "        x = randrange(0, 19999)\n",
    "        source = data.at[x,'Source'] "
   ]
  },
  {
   "cell_type": "code",
   "execution_count": null,
   "metadata": {},
   "outputs": [],
   "source": [
    "real_edges.head(10)"
   ]
  },
  {
   "cell_type": "code",
   "execution_count": null,
   "metadata": {},
   "outputs": [],
   "source": [
    "real_edges.to_csv(\"data_generated/real_edges.csv\", sep='\\t', index=False)"
   ]
  },
  {
   "cell_type": "code",
   "execution_count": null,
   "metadata": {},
   "outputs": [],
   "source": [
    "## FAKE EDGES\n",
    "# First version\n",
    "# Random creation of 4000 fake edges\n",
    "\n",
    "fake_edges = pd.DataFrame([])\n",
    "i = 0\n",
    "while i < 4000:\n",
    "    if i % 100 == 0:\n",
    "        print(i)\n",
    "    \n",
    "    x = randrange(0, 19999)\n",
    "    source = data.at[x,'Source']\n",
    "    source_followings = data.at[x,'Source_Followings']\n",
    "    \n",
    "    y = randrange(0, 19999)\n",
    "    source_gen = data.at[y,'Source']\n",
    "    source_gen_followings = data.at[y,'Source_Followings']\n",
    "    \n",
    "    if (source_gen_followings > 0):\n",
    "        z = random.randint(0, source_gen_followings-1)\n",
    "        sink = dictionary[source_gen][z]\n",
    "\n",
    "        # It is not real, is added\n",
    "        if sink not in dictionary[source]:\n",
    "            i += 1\n",
    "            source_followers = calculateFollowers(data,source)\n",
    "            sink_followers = calculateFollowers(data,sink)\n",
    "            fake_edges = fake_edges.append(pd.DataFrame({'Source': source,'Sink': sink,\n",
    "                                                         'Source_Followings': source_followings,\n",
    "                                                         'Source_Followers': source_followers,\n",
    "                                                         'Sink_Followers': sink_followers},\n",
    "                                                        index=[0]), ignore_index=True)"
   ]
  },
  {
   "cell_type": "code",
   "execution_count": null,
   "metadata": {},
   "outputs": [],
   "source": [
    "## FAKE EDGES\n",
    "# Second version \n",
    "# random creation of 4000 fake edges\n",
    "jump_probability = 0.5\n",
    "nextNode = True\n",
    "jump = True\n",
    "\n",
    "fake_edges = pd.DataFrame([])\n",
    "i = 0\n",
    "while i < 4000:\n",
    "    \n",
    "    if i % 100 == 0:\n",
    "        print(i)\n",
    "        \n",
    "    changeSource = False\n",
    "    jump = True\n",
    "    x = randrange(0, 19999)\n",
    "    source = data.at[x,'Source']\n",
    "    source_followings = data.loc[data['Source'] == source, 'Source_Followings'].values[0]\n",
    "\n",
    "    if (source_followings > 0): \n",
    "        y = random.randint(0, source_followings-1)\n",
    "        next_source = dictionary[source][y]\n",
    " \n",
    "        while jump and not changeSource:\n",
    "            \n",
    "            if (data.loc[(data['Source'] == next_source)].any().values[0]):\n",
    "                next_source_followings = data.loc[data['Source'] == next_source, 'Source_Followings'].values[0]\n",
    "            else:\n",
    "                next_source_followings = 0\n",
    "                changeSource = True\n",
    "                \n",
    "            if (next_source_followings > 0):\n",
    "  \n",
    "                z = random.randint(0, next_source_followings-1)\n",
    "                sink = dictionary[next_source][z]\n",
    "                jump = np.random.rand() < jump_probability\n",
    "\n",
    "                if jump:\n",
    "                    next_source = sink \n",
    "                else:\n",
    "                    changeSource = True\n",
    "                    # It is not real, it is added\n",
    "                    if sink not in dictionary[source]:\n",
    "                        i += 1\n",
    "                        source_followers = calculateFollowers(data,source)\n",
    "                        sink_followers = calculateFollowers(data,sink)\n",
    "                        fake_edges = fake_edges.append(pd.DataFrame({'Source': source,'Sink': sink,\n",
    "                                                                     'Source_Followings': source_followings,\n",
    "                                                                     'Source_Followers': source_followers,\n",
    "                                                                     'Sink_Followers': sink_followers},\n",
    "                                                                    index=[0]), ignore_index=True) \n",
    "            else:\n",
    "                changeSource = True"
   ]
  },
  {
   "cell_type": "code",
   "execution_count": null,
   "metadata": {},
   "outputs": [],
   "source": [
    "fake_edges.head()"
   ]
  },
  {
   "cell_type": "code",
   "execution_count": null,
   "metadata": {},
   "outputs": [],
   "source": [
    "fake_edges.to_csv(\"data_generated/fake_edges4.csv\", sep='\\t', index=False)"
   ]
  },
  {
   "cell_type": "code",
   "execution_count": null,
   "metadata": {},
   "outputs": [],
   "source": [
    "# Calculation of features for test data\n",
    "test_data = pd.DataFrame([])\n",
    "for index, row in test_public.iterrows():\n",
    "    if index % 100 == 0:\n",
    "        print(index)\n",
    "    source = row['Source']\n",
    "    source_followings = data.loc[data['Source'] == source, 'Source_Followings'].iloc[0]\n",
    "    sink = row['Sink']\n",
    "\n",
    "    source_followers = calculateFollowers(data,source)\n",
    "    sink_followers = calculateFollowers(data,sink)\n",
    "\n",
    "\n",
    "\n",
    "\n",
    "    test_data = test_data.append(pd.DataFrame({'Id': row['Id'], 'Source': source,'Sink': sink,\n",
    "                                                 'Source_Followings': source_followings,\n",
    "                                                 'Source_Followers': source_followers,\n",
    "                                                 'Sink_Followers': sink_followers},\n",
    "                                                index=[0]), ignore_index=True) "
   ]
  },
  {
   "cell_type": "code",
   "execution_count": null,
   "metadata": {},
   "outputs": [],
   "source": [
    "test_data.to_csv(\"data_generated/test_data.csv\", sep='\\t', index=False)"
   ]
  },
  {
   "cell_type": "markdown",
   "metadata": {},
   "source": [
    "End"
   ]
  },
  {
   "cell_type": "markdown",
   "metadata": {},
   "source": [
    "# "
   ]
  }
 ],
 "metadata": {
  "kernelspec": {
   "display_name": "Python 3",
   "language": "python",
   "name": "python3"
  },
  "language_info": {
   "codemirror_mode": {
    "name": "ipython",
    "version": 3
   },
   "file_extension": ".py",
   "mimetype": "text/x-python",
   "name": "python",
   "nbconvert_exporter": "python",
   "pygments_lexer": "ipython3",
   "version": "3.8.5"
  }
 },
 "nbformat": 4,
 "nbformat_minor": 4
}
