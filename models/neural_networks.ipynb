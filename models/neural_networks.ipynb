{
 "cells": [
  {
   "cell_type": "code",
   "execution_count": 1,
   "metadata": {},
   "outputs": [],
   "source": [
    "# General libraries\n",
    "import pandas as pd\n",
    "import numpy as np\n",
    "from collections import defaultdict\n",
    "import random\n",
    "from random import randrange\n",
    "from sklearn.metrics import classification_report, confusion_matrix, accuracy_score\n",
    "\n",
    "# Libraries for developing a Neural Network\n",
    "import tensorflow as tf \n",
    "from tensorflow import keras\n",
    "from tensorflow.keras import layers\n",
    "from tensorflow.keras import regularizers\n",
    "from tensorflow.keras.models import Model\n",
    "from tensorflow.keras.layers import Input, Dense, Dropout\n",
    "from tensorflow.keras.utils import to_categorical "
   ]
  },
  {
   "cell_type": "code",
   "execution_count": 2,
   "metadata": {},
   "outputs": [],
   "source": [
    "dataset = pd.read_csv(\"../data_models/dataset.csv\", sep='\\t')"
   ]
  },
  {
   "cell_type": "code",
   "execution_count": 3,
   "metadata": {},
   "outputs": [],
   "source": [
    "# Shuffle the data set\n",
    "dataset = dataset.sample(frac=1).reset_index(drop=True)\n",
    "# Filling NaN values with zeros. Not sure if it is correct.\n",
    "dataset['Com_Followings_Ratio'] = dataset['Com_Followings_Ratio'].fillna(0)"
   ]
  },
  {
   "cell_type": "code",
   "execution_count": 37,
   "metadata": {},
   "outputs": [],
   "source": [
    "msk = np.random.rand(len(dataset)) < 0.8\n",
    "\n",
    "Y = dataset['Real']\n",
    "X = dataset.drop(columns=['Real','Sink','Source'])\n",
    "\n",
    "# Normalization\n",
    "X = (X-X.min())/(X.max()-X.min())\n",
    "\n",
    "X_train = X[msk]\n",
    "X_test = X[~msk]\n",
    "Y_train = Y[msk]\n",
    "Y_test = Y[~msk]"
   ]
  },
  {
   "cell_type": "code",
   "execution_count": 57,
   "metadata": {},
   "outputs": [
    {
     "name": "stdout",
     "output_type": "stream",
     "text": [
      "Model: \"functional_39\"\n",
      "_________________________________________________________________\n",
      "Layer (type)                 Output Shape              Param #   \n",
      "=================================================================\n",
      "input_20 (InputLayer)        [(None, 6)]               0         \n",
      "_________________________________________________________________\n",
      "dense_57 (Dense)             (None, 16)                112       \n",
      "_________________________________________________________________\n",
      "dense_58 (Dense)             (None, 8)                 136       \n",
      "_________________________________________________________________\n",
      "dense_59 (Dense)             (None, 2)                 18        \n",
      "=================================================================\n",
      "Total params: 266\n",
      "Trainable params: 266\n",
      "Non-trainable params: 0\n",
      "_________________________________________________________________\n"
     ]
    }
   ],
   "source": [
    "# Model arguments\n",
    "args = dict(x = X_train,\n",
    "            y = Y_train,\n",
    "            epochs=100,\n",
    "            validation_split=0.2,\n",
    "            verbose=2,\n",
    "            shuffle=True)\n",
    "\n",
    "# Layer definition\n",
    "input_layer = Input(shape=(6,))\n",
    "hidden_layer_1 = Dense(16, activation='relu')(input_layer)\n",
    "#hidden_layer_1 = Dropout(0.3)(hidden_layer_1)\n",
    "#hidden_layer_2 = Dense(8, activation='sigmoid')(hidden_layer_1)\n",
    "hidden_layer_2 = Dense(8, activation='relu')(hidden_layer_1)\n",
    "#hidden_layer_2 = Dropout(0.3)(hidden_layer_2)\n",
    "output_layer = Dense(2, activation='softmax')(hidden_layer_2)\n",
    "model = Model(inputs=input_layer, outputs=output_layer)\n",
    "\n",
    "# Model set up\n",
    "model.compile(tf.keras.optimizers.Adam(learning_rate=0.001),\n",
    "              loss='sparse_categorical_crossentropy',\n",
    "              metrics =['accuracy'])\n",
    "\n",
    "model.summary()"
   ]
  },
  {
   "cell_type": "code",
   "execution_count": 58,
   "metadata": {},
   "outputs": [
    {
     "name": "stdout",
     "output_type": "stream",
     "text": [
      "Epoch 1/100\n",
      "159/159 - 0s - loss: 0.6618 - accuracy: 0.6576 - val_loss: 0.6409 - val_accuracy: 0.6675\n",
      "Epoch 2/100\n",
      "159/159 - 0s - loss: 0.6082 - accuracy: 0.6865 - val_loss: 0.5983 - val_accuracy: 0.6926\n",
      "Epoch 3/100\n",
      "159/159 - 0s - loss: 0.5717 - accuracy: 0.6994 - val_loss: 0.5717 - val_accuracy: 0.7060\n",
      "Epoch 4/100\n",
      "159/159 - 0s - loss: 0.5483 - accuracy: 0.7181 - val_loss: 0.5541 - val_accuracy: 0.7280\n",
      "Epoch 5/100\n",
      "159/159 - 0s - loss: 0.5294 - accuracy: 0.7305 - val_loss: 0.5376 - val_accuracy: 0.7264\n",
      "Epoch 6/100\n",
      "159/159 - 0s - loss: 0.5153 - accuracy: 0.7404 - val_loss: 0.5267 - val_accuracy: 0.7390\n",
      "Epoch 7/100\n",
      "159/159 - 0s - loss: 0.5037 - accuracy: 0.7490 - val_loss: 0.5212 - val_accuracy: 0.7555\n",
      "Epoch 8/100\n",
      "159/159 - 0s - loss: 0.4977 - accuracy: 0.7577 - val_loss: 0.5145 - val_accuracy: 0.7626\n",
      "Epoch 9/100\n",
      "159/159 - 0s - loss: 0.4904 - accuracy: 0.7602 - val_loss: 0.5092 - val_accuracy: 0.7618\n",
      "Epoch 10/100\n",
      "159/159 - 0s - loss: 0.4857 - accuracy: 0.7659 - val_loss: 0.5068 - val_accuracy: 0.7681\n",
      "Epoch 11/100\n",
      "159/159 - 0s - loss: 0.4833 - accuracy: 0.7679 - val_loss: 0.5072 - val_accuracy: 0.7437\n",
      "Epoch 12/100\n",
      "159/159 - 0s - loss: 0.4822 - accuracy: 0.7714 - val_loss: 0.5040 - val_accuracy: 0.7539\n",
      "Epoch 13/100\n",
      "159/159 - 0s - loss: 0.4787 - accuracy: 0.7732 - val_loss: 0.5063 - val_accuracy: 0.7783\n",
      "Epoch 14/100\n",
      "159/159 - 0s - loss: 0.4787 - accuracy: 0.7773 - val_loss: 0.5103 - val_accuracy: 0.7893\n",
      "Epoch 15/100\n",
      "159/159 - 0s - loss: 0.4764 - accuracy: 0.7768 - val_loss: 0.5003 - val_accuracy: 0.7704\n",
      "Epoch 16/100\n",
      "159/159 - 0s - loss: 0.4772 - accuracy: 0.7779 - val_loss: 0.5004 - val_accuracy: 0.7689\n",
      "Epoch 17/100\n",
      "159/159 - 0s - loss: 0.4763 - accuracy: 0.7769 - val_loss: 0.4995 - val_accuracy: 0.7752\n",
      "Epoch 18/100\n",
      "159/159 - 0s - loss: 0.4757 - accuracy: 0.7797 - val_loss: 0.4997 - val_accuracy: 0.7783\n",
      "Epoch 19/100\n",
      "159/159 - 0s - loss: 0.4734 - accuracy: 0.7789 - val_loss: 0.5000 - val_accuracy: 0.7665\n",
      "Epoch 20/100\n",
      "159/159 - 0s - loss: 0.4756 - accuracy: 0.7817 - val_loss: 0.5164 - val_accuracy: 0.7500\n",
      "Epoch 21/100\n",
      "159/159 - 0s - loss: 0.4733 - accuracy: 0.7846 - val_loss: 0.4974 - val_accuracy: 0.7759\n",
      "Epoch 22/100\n",
      "159/159 - 0s - loss: 0.4739 - accuracy: 0.7787 - val_loss: 0.5024 - val_accuracy: 0.7869\n",
      "Epoch 23/100\n",
      "159/159 - 0s - loss: 0.4725 - accuracy: 0.7834 - val_loss: 0.5002 - val_accuracy: 0.7846\n",
      "Epoch 24/100\n",
      "159/159 - 0s - loss: 0.4707 - accuracy: 0.7821 - val_loss: 0.4963 - val_accuracy: 0.7783\n",
      "Epoch 25/100\n",
      "159/159 - 0s - loss: 0.4706 - accuracy: 0.7836 - val_loss: 0.4974 - val_accuracy: 0.7697\n",
      "Epoch 26/100\n",
      "159/159 - 0s - loss: 0.4715 - accuracy: 0.7840 - val_loss: 0.4949 - val_accuracy: 0.7767\n",
      "Epoch 27/100\n",
      "159/159 - 0s - loss: 0.4676 - accuracy: 0.7878 - val_loss: 0.4995 - val_accuracy: 0.7657\n",
      "Epoch 28/100\n",
      "159/159 - 0s - loss: 0.4701 - accuracy: 0.7827 - val_loss: 0.4972 - val_accuracy: 0.7901\n",
      "Epoch 29/100\n",
      "159/159 - 0s - loss: 0.4686 - accuracy: 0.7832 - val_loss: 0.4917 - val_accuracy: 0.7783\n",
      "Epoch 30/100\n",
      "159/159 - 0s - loss: 0.4670 - accuracy: 0.7882 - val_loss: 0.4953 - val_accuracy: 0.7689\n",
      "Epoch 31/100\n",
      "159/159 - 0s - loss: 0.4677 - accuracy: 0.7838 - val_loss: 0.4926 - val_accuracy: 0.7869\n",
      "Epoch 32/100\n",
      "159/159 - 0s - loss: 0.4682 - accuracy: 0.7872 - val_loss: 0.4893 - val_accuracy: 0.7759\n",
      "Epoch 33/100\n",
      "159/159 - 0s - loss: 0.4670 - accuracy: 0.7872 - val_loss: 0.5021 - val_accuracy: 0.7626\n",
      "Epoch 34/100\n",
      "159/159 - 0s - loss: 0.4647 - accuracy: 0.7856 - val_loss: 0.4867 - val_accuracy: 0.7799\n",
      "Epoch 35/100\n",
      "159/159 - 0s - loss: 0.4633 - accuracy: 0.7880 - val_loss: 0.4872 - val_accuracy: 0.7854\n",
      "Epoch 36/100\n",
      "159/159 - 0s - loss: 0.4636 - accuracy: 0.7889 - val_loss: 0.4933 - val_accuracy: 0.7964\n",
      "Epoch 37/100\n",
      "159/159 - 0s - loss: 0.4633 - accuracy: 0.7909 - val_loss: 0.4850 - val_accuracy: 0.7791\n",
      "Epoch 38/100\n",
      "159/159 - 0s - loss: 0.4613 - accuracy: 0.7895 - val_loss: 0.4831 - val_accuracy: 0.7807\n",
      "Epoch 39/100\n",
      "159/159 - 0s - loss: 0.4609 - accuracy: 0.7895 - val_loss: 0.4825 - val_accuracy: 0.7799\n",
      "Epoch 40/100\n",
      "159/159 - 0s - loss: 0.4601 - accuracy: 0.7905 - val_loss: 0.4854 - val_accuracy: 0.7956\n",
      "Epoch 41/100\n",
      "159/159 - 0s - loss: 0.4597 - accuracy: 0.7905 - val_loss: 0.4824 - val_accuracy: 0.7775\n",
      "Epoch 42/100\n",
      "159/159 - 0s - loss: 0.4583 - accuracy: 0.7899 - val_loss: 0.4927 - val_accuracy: 0.8074\n",
      "Epoch 43/100\n",
      "159/159 - 0s - loss: 0.4584 - accuracy: 0.7925 - val_loss: 0.4786 - val_accuracy: 0.7838\n",
      "Epoch 44/100\n",
      "159/159 - 0s - loss: 0.4586 - accuracy: 0.7915 - val_loss: 0.4807 - val_accuracy: 0.7767\n",
      "Epoch 45/100\n",
      "159/159 - 0s - loss: 0.4585 - accuracy: 0.7915 - val_loss: 0.4801 - val_accuracy: 0.7759\n",
      "Epoch 46/100\n",
      "159/159 - 0s - loss: 0.4549 - accuracy: 0.7958 - val_loss: 0.4778 - val_accuracy: 0.7940\n",
      "Epoch 47/100\n",
      "159/159 - 0s - loss: 0.4549 - accuracy: 0.7958 - val_loss: 0.4768 - val_accuracy: 0.7791\n",
      "Epoch 48/100\n",
      "159/159 - 0s - loss: 0.4551 - accuracy: 0.7962 - val_loss: 0.4734 - val_accuracy: 0.7862\n",
      "Epoch 49/100\n",
      "159/159 - 0s - loss: 0.4529 - accuracy: 0.7913 - val_loss: 0.4763 - val_accuracy: 0.7980\n",
      "Epoch 50/100\n",
      "159/159 - 0s - loss: 0.4527 - accuracy: 0.7982 - val_loss: 0.4709 - val_accuracy: 0.7877\n",
      "Epoch 51/100\n",
      "159/159 - 0s - loss: 0.4524 - accuracy: 0.7954 - val_loss: 0.4699 - val_accuracy: 0.7869\n",
      "Epoch 52/100\n",
      "159/159 - 0s - loss: 0.4530 - accuracy: 0.7966 - val_loss: 0.4692 - val_accuracy: 0.7940\n",
      "Epoch 53/100\n",
      "159/159 - 0s - loss: 0.4491 - accuracy: 0.7986 - val_loss: 0.4687 - val_accuracy: 0.7948\n",
      "Epoch 54/100\n",
      "159/159 - 0s - loss: 0.4491 - accuracy: 0.7966 - val_loss: 0.4677 - val_accuracy: 0.7964\n",
      "Epoch 55/100\n",
      "159/159 - 0s - loss: 0.4472 - accuracy: 0.7984 - val_loss: 0.4662 - val_accuracy: 0.7964\n",
      "Epoch 56/100\n",
      "159/159 - 0s - loss: 0.4461 - accuracy: 0.7996 - val_loss: 0.4763 - val_accuracy: 0.7775\n",
      "Epoch 57/100\n",
      "159/159 - 0s - loss: 0.4462 - accuracy: 0.7980 - val_loss: 0.4690 - val_accuracy: 0.7830\n",
      "Epoch 58/100\n",
      "159/159 - 0s - loss: 0.4441 - accuracy: 0.7998 - val_loss: 0.4615 - val_accuracy: 0.7948\n",
      "Epoch 59/100\n",
      "159/159 - 0s - loss: 0.4476 - accuracy: 0.8009 - val_loss: 0.4608 - val_accuracy: 0.7948\n",
      "Epoch 60/100\n",
      "159/159 - 0s - loss: 0.4430 - accuracy: 0.8027 - val_loss: 0.4595 - val_accuracy: 0.7948\n",
      "Epoch 61/100\n",
      "159/159 - 0s - loss: 0.4423 - accuracy: 0.8025 - val_loss: 0.4595 - val_accuracy: 0.7940\n",
      "Epoch 62/100\n",
      "159/159 - 0s - loss: 0.4403 - accuracy: 0.8013 - val_loss: 0.4617 - val_accuracy: 0.8074\n",
      "Epoch 63/100\n",
      "159/159 - 0s - loss: 0.4387 - accuracy: 0.8029 - val_loss: 0.4641 - val_accuracy: 0.7846\n",
      "Epoch 64/100\n",
      "159/159 - 0s - loss: 0.4399 - accuracy: 0.8037 - val_loss: 0.4559 - val_accuracy: 0.7972\n",
      "Epoch 65/100\n",
      "159/159 - 0s - loss: 0.4376 - accuracy: 0.8037 - val_loss: 0.4545 - val_accuracy: 0.7964\n",
      "Epoch 66/100\n",
      "159/159 - 0s - loss: 0.4353 - accuracy: 0.8047 - val_loss: 0.4628 - val_accuracy: 0.7869\n",
      "Epoch 67/100\n",
      "159/159 - 0s - loss: 0.4381 - accuracy: 0.8059 - val_loss: 0.4525 - val_accuracy: 0.7964\n",
      "Epoch 68/100\n",
      "159/159 - 0s - loss: 0.4357 - accuracy: 0.8086 - val_loss: 0.4520 - val_accuracy: 0.7964\n",
      "Epoch 69/100\n",
      "159/159 - 0s - loss: 0.4373 - accuracy: 0.8096 - val_loss: 0.4543 - val_accuracy: 0.8137\n",
      "Epoch 70/100\n",
      "159/159 - 0s - loss: 0.4325 - accuracy: 0.8070 - val_loss: 0.4542 - val_accuracy: 0.8184\n",
      "Epoch 71/100\n",
      "159/159 - 0s - loss: 0.4343 - accuracy: 0.8098 - val_loss: 0.4592 - val_accuracy: 0.7909\n",
      "Epoch 72/100\n",
      "159/159 - 0s - loss: 0.4340 - accuracy: 0.8086 - val_loss: 0.4510 - val_accuracy: 0.8160\n",
      "Epoch 73/100\n",
      "159/159 - 0s - loss: 0.4318 - accuracy: 0.8094 - val_loss: 0.4478 - val_accuracy: 0.8090\n",
      "Epoch 74/100\n",
      "159/159 - 0s - loss: 0.4306 - accuracy: 0.8114 - val_loss: 0.4470 - val_accuracy: 0.7972\n",
      "Epoch 75/100\n",
      "159/159 - 0s - loss: 0.4281 - accuracy: 0.8106 - val_loss: 0.4457 - val_accuracy: 0.7980\n",
      "Epoch 76/100\n",
      "159/159 - 0s - loss: 0.4295 - accuracy: 0.8124 - val_loss: 0.4443 - val_accuracy: 0.8027\n",
      "Epoch 77/100\n",
      "159/159 - 0s - loss: 0.4299 - accuracy: 0.8131 - val_loss: 0.4479 - val_accuracy: 0.8215\n",
      "Epoch 78/100\n",
      "159/159 - 0s - loss: 0.4280 - accuracy: 0.8106 - val_loss: 0.4429 - val_accuracy: 0.8082\n",
      "Epoch 79/100\n",
      "159/159 - 0s - loss: 0.4262 - accuracy: 0.8120 - val_loss: 0.4529 - val_accuracy: 0.7948\n",
      "Epoch 80/100\n",
      "159/159 - 0s - loss: 0.4274 - accuracy: 0.8116 - val_loss: 0.4460 - val_accuracy: 0.8200\n",
      "Epoch 81/100\n",
      "159/159 - 0s - loss: 0.4239 - accuracy: 0.8159 - val_loss: 0.4407 - val_accuracy: 0.8160\n"
     ]
    },
    {
     "name": "stdout",
     "output_type": "stream",
     "text": [
      "Epoch 82/100\n",
      "159/159 - 0s - loss: 0.4244 - accuracy: 0.8145 - val_loss: 0.4403 - val_accuracy: 0.8082\n",
      "Epoch 83/100\n",
      "159/159 - 0s - loss: 0.4258 - accuracy: 0.8137 - val_loss: 0.4391 - val_accuracy: 0.8137\n",
      "Epoch 84/100\n",
      "159/159 - 0s - loss: 0.4237 - accuracy: 0.8159 - val_loss: 0.4464 - val_accuracy: 0.8192\n",
      "Epoch 85/100\n",
      "159/159 - 0s - loss: 0.4241 - accuracy: 0.8198 - val_loss: 0.4374 - val_accuracy: 0.8129\n",
      "Epoch 86/100\n",
      "159/159 - 0s - loss: 0.4228 - accuracy: 0.8151 - val_loss: 0.4493 - val_accuracy: 0.7956\n",
      "Epoch 87/100\n",
      "159/159 - 0s - loss: 0.4219 - accuracy: 0.8147 - val_loss: 0.4366 - val_accuracy: 0.8168\n",
      "Epoch 88/100\n",
      "159/159 - 0s - loss: 0.4224 - accuracy: 0.8171 - val_loss: 0.4387 - val_accuracy: 0.8215\n",
      "Epoch 89/100\n",
      "159/159 - 0s - loss: 0.4211 - accuracy: 0.8173 - val_loss: 0.4350 - val_accuracy: 0.8184\n",
      "Epoch 90/100\n",
      "159/159 - 0s - loss: 0.4199 - accuracy: 0.8177 - val_loss: 0.4347 - val_accuracy: 0.8168\n",
      "Epoch 91/100\n",
      "159/159 - 0s - loss: 0.4195 - accuracy: 0.8177 - val_loss: 0.4356 - val_accuracy: 0.8176\n",
      "Epoch 92/100\n",
      "159/159 - 0s - loss: 0.4178 - accuracy: 0.8179 - val_loss: 0.4341 - val_accuracy: 0.8160\n",
      "Epoch 93/100\n",
      "159/159 - 0s - loss: 0.4184 - accuracy: 0.8171 - val_loss: 0.4339 - val_accuracy: 0.8160\n",
      "Epoch 94/100\n",
      "159/159 - 0s - loss: 0.4192 - accuracy: 0.8185 - val_loss: 0.4359 - val_accuracy: 0.8105\n",
      "Epoch 95/100\n",
      "159/159 - 0s - loss: 0.4182 - accuracy: 0.8169 - val_loss: 0.4378 - val_accuracy: 0.8184\n",
      "Epoch 96/100\n",
      "159/159 - 0s - loss: 0.4170 - accuracy: 0.8179 - val_loss: 0.4375 - val_accuracy: 0.8082\n",
      "Epoch 97/100\n",
      "159/159 - 0s - loss: 0.4192 - accuracy: 0.8169 - val_loss: 0.4336 - val_accuracy: 0.8145\n",
      "Epoch 98/100\n",
      "159/159 - 0s - loss: 0.4177 - accuracy: 0.8198 - val_loss: 0.4405 - val_accuracy: 0.8082\n",
      "Epoch 99/100\n",
      "159/159 - 0s - loss: 0.4150 - accuracy: 0.8202 - val_loss: 0.4311 - val_accuracy: 0.8208\n",
      "Epoch 100/100\n",
      "159/159 - 0s - loss: 0.4164 - accuracy: 0.8173 - val_loss: 0.4351 - val_accuracy: 0.8176\n"
     ]
    },
    {
     "data": {
      "text/plain": [
       "<tensorflow.python.keras.callbacks.History at 0x141e54430>"
      ]
     },
     "execution_count": 58,
     "metadata": {},
     "output_type": "execute_result"
    }
   ],
   "source": [
    "# Execute training\n",
    "model.fit(**args)"
   ]
  },
  {
   "cell_type": "code",
   "execution_count": 59,
   "metadata": {},
   "outputs": [],
   "source": [
    "# Prediction for test\n",
    "predict = model.predict(X_test)\n",
    "classes = predict.argmax(axis=-1)"
   ]
  },
  {
   "cell_type": "code",
   "execution_count": 60,
   "metadata": {},
   "outputs": [
    {
     "name": "stdout",
     "output_type": "stream",
     "text": [
      "[0 0 0 ... 0 1 1]\n",
      "Accuracy: 0.8218\n"
     ]
    }
   ],
   "source": [
    "print(classes)\n",
    "print('Accuracy: ' + \"{:.4f}\".format(accuracy_score(Y_test, classes)))"
   ]
  },
  {
   "cell_type": "code",
   "execution_count": 61,
   "metadata": {},
   "outputs": [
    {
     "name": "stdout",
     "output_type": "stream",
     "text": [
      "[[0.7659865  0.23401344]\n",
      " [0.62242365 0.37757638]\n",
      " [0.8159179  0.18408205]\n",
      " ...\n",
      " [0.74911624 0.25088376]\n",
      " [0.07113406 0.92886597]\n",
      " [0.14539103 0.85460895]]\n"
     ]
    }
   ],
   "source": [
    "print(predict)"
   ]
  },
  {
   "cell_type": "code",
   "execution_count": 62,
   "metadata": {},
   "outputs": [],
   "source": [
    "# accuracy \n",
    "#print (classification_report(Y_test, predict,digits = 6))\n",
    "#print (confusion_matrix(Y_test, predict))\n",
    "#print (accuracy_score(Y_test, predict))"
   ]
  },
  {
   "cell_type": "code",
   "execution_count": 65,
   "metadata": {},
   "outputs": [],
   "source": [
    "# Reading test data\n",
    "test_data = pd.read_csv(\"../data_models/test_data.csv\", sep='\\t')\n",
    "test_data['Com_Followings_Ratio'] = test_data['Com_Followings_Ratio'].fillna(0)\n",
    "# Normalization\n",
    "test_data = (test_data-test_data.min())/(test_data.max()-test_data.min())\n",
    "test_data = test_data.drop(columns=['Sink','Source'])"
   ]
  },
  {
   "cell_type": "code",
   "execution_count": 66,
   "metadata": {},
   "outputs": [
    {
     "data": {
      "text/plain": [
       "array([[0.16000684, 0.8399931 ],\n",
       "       [0.33275717, 0.6672429 ],\n",
       "       [0.2162076 , 0.78379244],\n",
       "       ...,\n",
       "       [0.6963033 , 0.30369675],\n",
       "       [0.6458285 , 0.3541715 ],\n",
       "       [0.70154905, 0.29845092]], dtype=float32)"
      ]
     },
     "execution_count": 66,
     "metadata": {},
     "output_type": "execute_result"
    }
   ],
   "source": [
    "predict_test = model.predict(test_data)\n",
    "predict_test "
   ]
  },
  {
   "cell_type": "code",
   "execution_count": 67,
   "metadata": {},
   "outputs": [
    {
     "data": {
      "text/plain": [
       "array([1, 1, 1, ..., 0, 0, 0])"
      ]
     },
     "execution_count": 67,
     "metadata": {},
     "output_type": "execute_result"
    }
   ],
   "source": [
    "classes = predict_test.argmax(axis=-1)\n",
    "classes"
   ]
  },
  {
   "cell_type": "code",
   "execution_count": 68,
   "metadata": {},
   "outputs": [],
   "source": [
    "prediction = pd.DataFrame([])\n",
    "i = 0\n",
    "for row in predict_test:\n",
    "    i += 1\n",
    "    prediction = prediction.append(pd.DataFrame({'Id': i, 'Predicted': row[1]},\n",
    "                                                index=[0]), ignore_index=True) \n",
    "prediction.to_csv(\"../predictions/prediction_2020-09-12.csv\", sep=',', index=False)"
   ]
  },
  {
   "cell_type": "code",
   "execution_count": null,
   "metadata": {},
   "outputs": [],
   "source": []
  }
 ],
 "metadata": {
  "kernelspec": {
   "display_name": "Python 3",
   "language": "python",
   "name": "python3"
  },
  "language_info": {
   "codemirror_mode": {
    "name": "ipython",
    "version": 3
   },
   "file_extension": ".py",
   "mimetype": "text/x-python",
   "name": "python",
   "nbconvert_exporter": "python",
   "pygments_lexer": "ipython3",
   "version": "3.8.5"
  }
 },
 "nbformat": 4,
 "nbformat_minor": 4
}
