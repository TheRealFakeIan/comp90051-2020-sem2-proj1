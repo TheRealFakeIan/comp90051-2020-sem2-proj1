{
 "cells": [
  {
   "cell_type": "code",
   "execution_count": 181,
   "metadata": {},
   "outputs": [],
   "source": [
    "# General libraries\n",
    "import pandas as pd\n",
    "import numpy as np\n",
    "from collections import defaultdict\n",
    "import random\n",
    "from random import randrange\n",
    "from sklearn.metrics import classification_report, confusion_matrix, accuracy_score\n",
    "\n",
    "# Libraries for developing a Neural Network\n",
    "import tensorflow as tf \n",
    "from tensorflow import keras\n",
    "from tensorflow.keras import layers\n",
    "from tensorflow.keras import regularizers\n",
    "from tensorflow.keras.models import Model\n",
    "from tensorflow.keras.layers import Input, Dense, Dropout\n",
    "from tensorflow.keras.utils import to_categorical \n",
    "\n",
    "from sklearn.metrics import roc_auc_score\n"
   ]
  },
  {
   "cell_type": "code",
   "execution_count": 182,
   "metadata": {},
   "outputs": [],
   "source": [
    "dataset = pd.read_csv(\"../data_models/dataset3.csv\", sep='\\t')"
   ]
  },
  {
   "cell_type": "code",
   "execution_count": 183,
   "metadata": {},
   "outputs": [],
   "source": [
    "# Shuffle the data set\n",
    "dataset = dataset.sample(frac=1).reset_index(drop=True)\n",
    "# Filling NaN values with zeros. Not sure if it is correct.\n",
    "dataset['Com_Followings_Ratio'] = dataset['Com_Followings_Ratio'].fillna(0)"
   ]
  },
  {
   "cell_type": "code",
   "execution_count": 202,
   "metadata": {},
   "outputs": [
    {
     "data": {
      "text/plain": [
       "Source                     False\n",
       "Sink                       False\n",
       "Source_Followings          False\n",
       "Source_Followers           False\n",
       "Sink_Followers             False\n",
       "Distance                    True\n",
       "Real                       False\n",
       "Common_Followings          False\n",
       "Com_Followings_Ratio       False\n",
       "Followers_Ratio            False\n",
       "Indirect_Followings        False\n",
       "Inv_Indirect_Followings    False\n",
       "dtype: bool"
      ]
     },
     "execution_count": 202,
     "metadata": {},
     "output_type": "execute_result"
    }
   ],
   "source": [
    "dataset.isna().any()"
   ]
  },
  {
   "cell_type": "code",
   "execution_count": 203,
   "metadata": {},
   "outputs": [],
   "source": [
    "msk = np.random.rand(len(dataset)) < 0.8\n",
    "\n",
    "Y = dataset['Real']\n",
    "X = dataset.drop(columns=['Real','Sink','Source','Distance'])\n",
    "\n",
    "# Normalization\n",
    "X = (X-X.min())/(X.max()-X.min())\n",
    "\n",
    "X_train = X[msk]\n",
    "X_test = X[~msk]\n",
    "Y_train = Y[msk]\n",
    "Y_test = Y[~msk]"
   ]
  },
  {
   "cell_type": "code",
   "execution_count": 110,
   "metadata": {},
   "outputs": [],
   "source": [
    "def auroc(y_true, y_pred):\n",
    "    return tf.py_function(roc_auc_score, (y_true, y_pred), tf.double)"
   ]
  },
  {
   "cell_type": "code",
   "execution_count": 241,
   "metadata": {},
   "outputs": [
    {
     "name": "stdout",
     "output_type": "stream",
     "text": [
      "Model: \"functional_125\"\n",
      "_________________________________________________________________\n",
      "Layer (type)                 Output Shape              Param #   \n",
      "=================================================================\n",
      "input_64 (InputLayer)        [(None, 8)]               0         \n",
      "_________________________________________________________________\n",
      "dense_189 (Dense)            (None, 100)               900       \n",
      "_________________________________________________________________\n",
      "dense_190 (Dense)            (None, 20)                2020      \n",
      "_________________________________________________________________\n",
      "dense_191 (Dense)            (None, 1)                 21        \n",
      "=================================================================\n",
      "Total params: 2,941\n",
      "Trainable params: 2,941\n",
      "Non-trainable params: 0\n",
      "_________________________________________________________________\n"
     ]
    }
   ],
   "source": [
    "# Model arguments\n",
    "args = dict(x = X_train,\n",
    "            y = Y_train,\n",
    "            epochs=40,\n",
    "            validation_split=0.2,\n",
    "            verbose=2,\n",
    "            shuffle=True)\n",
    "\n",
    "# Layer definition\n",
    "input_layer = Input(shape=(8,))\n",
    "hidden_layer_1 = Dense(100, activation='relu',activity_regularizer=regularizers.l1(10e-5))(input_layer)\n",
    "\n",
    "#hidden_layer_1 = Dropout(0.3)(hidden_layer_1)\n",
    "#hidden_layer_2 = Dense(8, activation='sigmoid')(hidden_layer_1)\n",
    "hidden_layer_2 = Dense(20, activation='relu')(hidden_layer_1)\n",
    "#hidden_layer_2 = Dropout(0.3)(hidden_layer_2)\n",
    "output_layer = Dense(1, activation='sigmoid')(hidden_layer_2)\n",
    "model = Model(inputs=input_layer, outputs=output_layer)\n",
    "\n",
    "# Model set up\n",
    "model.compile(tf.keras.optimizers.RMSprop(learning_rate=0.01),\n",
    "              loss='binary_crossentropy',\n",
    "              metrics=['accuracy'])\n",
    "\n",
    "model.summary()\n",
    "#model.compile(loss='categorical_crossentropy', optimizer='adam',metrics=['accuracy', auroc])"
   ]
  },
  {
   "cell_type": "code",
   "execution_count": 242,
   "metadata": {},
   "outputs": [
    {
     "name": "stdout",
     "output_type": "stream",
     "text": [
      "Epoch 1/40\n",
      "161/161 - 0s - loss: 0.6317 - accuracy: 0.6243 - val_loss: 0.7800 - val_accuracy: 0.5086\n",
      "Epoch 2/40\n",
      "161/161 - 0s - loss: 0.5981 - accuracy: 0.6647 - val_loss: 0.6373 - val_accuracy: 0.7301\n",
      "Epoch 3/40\n",
      "161/161 - 0s - loss: 0.5812 - accuracy: 0.6858 - val_loss: 0.6526 - val_accuracy: 0.6482\n",
      "Epoch 4/40\n",
      "161/161 - 0s - loss: 0.5724 - accuracy: 0.6924 - val_loss: 0.6195 - val_accuracy: 0.6778\n",
      "Epoch 5/40\n",
      "161/161 - 0s - loss: 0.5639 - accuracy: 0.6946 - val_loss: 0.6889 - val_accuracy: 0.5866\n",
      "Epoch 6/40\n",
      "161/161 - 0s - loss: 0.5565 - accuracy: 0.6987 - val_loss: 0.6232 - val_accuracy: 0.6615\n",
      "Epoch 7/40\n",
      "161/161 - 0s - loss: 0.5488 - accuracy: 0.7063 - val_loss: 0.8092 - val_accuracy: 0.6544\n",
      "Epoch 8/40\n",
      "161/161 - 0s - loss: 0.5519 - accuracy: 0.7147 - val_loss: 0.6127 - val_accuracy: 0.6880\n",
      "Epoch 9/40\n",
      "161/161 - 0s - loss: 0.5453 - accuracy: 0.7151 - val_loss: 0.6241 - val_accuracy: 0.7192\n",
      "Epoch 10/40\n",
      "161/161 - 0s - loss: 0.5399 - accuracy: 0.7178 - val_loss: 0.6106 - val_accuracy: 0.6903\n",
      "Epoch 11/40\n",
      "161/161 - 0s - loss: 0.5372 - accuracy: 0.7211 - val_loss: 0.6152 - val_accuracy: 0.6880\n",
      "Epoch 12/40\n",
      "161/161 - 0s - loss: 0.5354 - accuracy: 0.7219 - val_loss: 0.6352 - val_accuracy: 0.6802\n",
      "Epoch 13/40\n",
      "161/161 - 0s - loss: 0.5333 - accuracy: 0.7223 - val_loss: 0.9719 - val_accuracy: 0.5429\n",
      "Epoch 14/40\n",
      "161/161 - 0s - loss: 0.5329 - accuracy: 0.7238 - val_loss: 0.6833 - val_accuracy: 0.6739\n",
      "Epoch 15/40\n",
      "161/161 - 0s - loss: 0.5340 - accuracy: 0.7172 - val_loss: 0.6323 - val_accuracy: 0.6669\n",
      "Epoch 16/40\n",
      "161/161 - 0s - loss: 0.5323 - accuracy: 0.7242 - val_loss: 0.6207 - val_accuracy: 0.7301\n",
      "Epoch 17/40\n",
      "161/161 - 0s - loss: 0.5317 - accuracy: 0.7266 - val_loss: 0.6507 - val_accuracy: 0.6552\n",
      "Epoch 18/40\n",
      "161/161 - 0s - loss: 0.5246 - accuracy: 0.7309 - val_loss: 0.6081 - val_accuracy: 0.7129\n",
      "Epoch 19/40\n",
      "161/161 - 0s - loss: 0.5262 - accuracy: 0.7322 - val_loss: 0.6180 - val_accuracy: 0.7200\n",
      "Epoch 20/40\n",
      "161/161 - 0s - loss: 0.5232 - accuracy: 0.7309 - val_loss: 0.6162 - val_accuracy: 0.6849\n",
      "Epoch 21/40\n",
      "161/161 - 0s - loss: 0.5242 - accuracy: 0.7340 - val_loss: 0.6055 - val_accuracy: 0.7192\n",
      "Epoch 22/40\n",
      "161/161 - 0s - loss: 0.5223 - accuracy: 0.7281 - val_loss: 0.6357 - val_accuracy: 0.6950\n",
      "Epoch 23/40\n",
      "161/161 - 0s - loss: 0.5223 - accuracy: 0.7332 - val_loss: 0.6299 - val_accuracy: 0.7059\n",
      "Epoch 24/40\n",
      "161/161 - 0s - loss: 0.5232 - accuracy: 0.7338 - val_loss: 0.6676 - val_accuracy: 0.6911\n",
      "Epoch 25/40\n",
      "161/161 - 0s - loss: 0.5220 - accuracy: 0.7299 - val_loss: 0.6274 - val_accuracy: 0.7168\n",
      "Epoch 26/40\n",
      "161/161 - 0s - loss: 0.5227 - accuracy: 0.7307 - val_loss: 0.6204 - val_accuracy: 0.7246\n",
      "Epoch 27/40\n",
      "161/161 - 0s - loss: 0.5204 - accuracy: 0.7291 - val_loss: 0.7854 - val_accuracy: 0.6154\n",
      "Epoch 28/40\n",
      "161/161 - 0s - loss: 0.5195 - accuracy: 0.7322 - val_loss: 0.7142 - val_accuracy: 0.6420\n",
      "Epoch 29/40\n",
      "161/161 - 0s - loss: 0.5186 - accuracy: 0.7307 - val_loss: 0.6617 - val_accuracy: 0.7145\n",
      "Epoch 30/40\n",
      "161/161 - 0s - loss: 0.5191 - accuracy: 0.7295 - val_loss: 0.7773 - val_accuracy: 0.6076\n",
      "Epoch 31/40\n",
      "161/161 - 0s - loss: 0.5196 - accuracy: 0.7272 - val_loss: 0.6755 - val_accuracy: 0.7153\n",
      "Epoch 32/40\n",
      "161/161 - 0s - loss: 0.5182 - accuracy: 0.7326 - val_loss: 0.6852 - val_accuracy: 0.6607\n",
      "Epoch 33/40\n",
      "161/161 - 0s - loss: 0.5181 - accuracy: 0.7354 - val_loss: 0.6467 - val_accuracy: 0.7371\n",
      "Epoch 34/40\n",
      "161/161 - 0s - loss: 0.5145 - accuracy: 0.7332 - val_loss: 0.8730 - val_accuracy: 0.6139\n",
      "Epoch 35/40\n",
      "161/161 - 0s - loss: 0.5130 - accuracy: 0.7358 - val_loss: 0.7405 - val_accuracy: 0.6966\n",
      "Epoch 36/40\n",
      "161/161 - 0s - loss: 0.5158 - accuracy: 0.7354 - val_loss: 0.6627 - val_accuracy: 0.7192\n",
      "Epoch 37/40\n",
      "161/161 - 0s - loss: 0.5160 - accuracy: 0.7365 - val_loss: 0.7040 - val_accuracy: 0.7090\n",
      "Epoch 38/40\n",
      "161/161 - 0s - loss: 0.5157 - accuracy: 0.7365 - val_loss: 0.6761 - val_accuracy: 0.7270\n",
      "Epoch 39/40\n",
      "161/161 - 0s - loss: 0.5142 - accuracy: 0.7367 - val_loss: 0.8423 - val_accuracy: 0.6513\n",
      "Epoch 40/40\n",
      "161/161 - 0s - loss: 0.5156 - accuracy: 0.7350 - val_loss: 0.6925 - val_accuracy: 0.7200\n"
     ]
    },
    {
     "data": {
      "text/plain": [
       "<tensorflow.python.keras.callbacks.History at 0x144194250>"
      ]
     },
     "execution_count": 242,
     "metadata": {},
     "output_type": "execute_result"
    }
   ],
   "source": [
    "# Execute training\n",
    "model.fit(**args)"
   ]
  },
  {
   "cell_type": "code",
   "execution_count": 243,
   "metadata": {},
   "outputs": [
    {
     "data": {
      "text/plain": [
       "(1549, 8)"
      ]
     },
     "execution_count": 243,
     "metadata": {},
     "output_type": "execute_result"
    }
   ],
   "source": [
    "X_test.shape"
   ]
  },
  {
   "cell_type": "code",
   "execution_count": 244,
   "metadata": {},
   "outputs": [],
   "source": [
    "# Prediction for test\n",
    "predict = model.predict(X_test)\n",
    "classes = []\n",
    "classes = predict.argmax(axis=-1)"
   ]
  },
  {
   "cell_type": "code",
   "execution_count": 245,
   "metadata": {},
   "outputs": [
    {
     "name": "stdout",
     "output_type": "stream",
     "text": [
      "Accuracy: 0.5087\n",
      "[0 0 0 ... 0 0 0]\n"
     ]
    }
   ],
   "source": [
    "print('Accuracy: ' + \"{:.4f}\".format(accuracy_score(Y_test, classes)))\n",
    "print(classes)"
   ]
  },
  {
   "cell_type": "code",
   "execution_count": 246,
   "metadata": {},
   "outputs": [
    {
     "name": "stdout",
     "output_type": "stream",
     "text": [
      "[[0.4469065 ]\n",
      " [0.15855709]\n",
      " [0.45662808]\n",
      " ...\n",
      " [0.8802182 ]\n",
      " [0.9999995 ]\n",
      " [0.42072427]]\n"
     ]
    }
   ],
   "source": [
    "print(predict)"
   ]
  },
  {
   "cell_type": "code",
   "execution_count": 247,
   "metadata": {},
   "outputs": [
    {
     "data": {
      "text/plain": [
       "(1549,)"
      ]
     },
     "execution_count": 247,
     "metadata": {},
     "output_type": "execute_result"
    }
   ],
   "source": [
    "Y_test.shape"
   ]
  },
  {
   "cell_type": "code",
   "execution_count": 248,
   "metadata": {},
   "outputs": [
    {
     "data": {
      "text/plain": [
       "(1549,)"
      ]
     },
     "execution_count": 248,
     "metadata": {},
     "output_type": "execute_result"
    }
   ],
   "source": [
    "classes.shape"
   ]
  },
  {
   "cell_type": "code",
   "execution_count": 249,
   "metadata": {},
   "outputs": [
    {
     "name": "stdout",
     "output_type": "stream",
     "text": [
      "0.5\n"
     ]
    }
   ],
   "source": [
    "auc = roc_auc_score(Y_test, classes)\n",
    "print(auc)"
   ]
  },
  {
   "cell_type": "code",
   "execution_count": 151,
   "metadata": {},
   "outputs": [],
   "source": [
    "# accuracy \n",
    "#print (classification_report(Y_test, predict,digits = 6))\n",
    "#print (confusion_matrix(Y_test, predict))\n",
    "#print (accuracy_score(Y_test, predict))"
   ]
  },
  {
   "cell_type": "code",
   "execution_count": 250,
   "metadata": {},
   "outputs": [],
   "source": [
    "# Reading test data\n",
    "test_data = pd.read_csv(\"../data_models/test_data.csv\", sep='\\t')\n",
    "test_data['Com_Followings_Ratio'] = test_data['Com_Followings_Ratio'].fillna(0)\n",
    "# Normalization\n",
    "test_data = (test_data-test_data.min())/(test_data.max()-test_data.min())\n",
    "test_data = test_data.drop(columns=['Sink','Source','Distance'])"
   ]
  },
  {
   "cell_type": "code",
   "execution_count": 251,
   "metadata": {},
   "outputs": [
    {
     "data": {
      "text/plain": [
       "array([[0.2525749 ],\n",
       "       [0.39057952],\n",
       "       [0.9201307 ],\n",
       "       ...,\n",
       "       [0.4676679 ],\n",
       "       [0.45499492],\n",
       "       [0.44608235]], dtype=float32)"
      ]
     },
     "execution_count": 251,
     "metadata": {},
     "output_type": "execute_result"
    }
   ],
   "source": [
    "predict_test = model.predict(test_data)\n",
    "predict_test "
   ]
  },
  {
   "cell_type": "code",
   "execution_count": 252,
   "metadata": {},
   "outputs": [],
   "source": [
    "classes = []\n",
    "classes = predict_test.argmax(axis=-1)\n"
   ]
  },
  {
   "cell_type": "code",
   "execution_count": 254,
   "metadata": {},
   "outputs": [],
   "source": [
    "prediction = pd.DataFrame([])\n",
    "i = 0\n",
    "for row in predict_test:\n",
    "    i += 1\n",
    "    prediction = prediction.append(pd.DataFrame({'Id': i, 'Predicted': row[0]},\n",
    "                                                index=[0]), ignore_index=True) \n",
    "prediction.to_csv(\"../predictions/prediction_2020-09-13-4.csv\", sep=',', index=False)"
   ]
  },
  {
   "cell_type": "code",
   "execution_count": null,
   "metadata": {},
   "outputs": [],
   "source": []
  }
 ],
 "metadata": {
  "kernelspec": {
   "display_name": "Python 3",
   "language": "python",
   "name": "python3"
  },
  "language_info": {
   "codemirror_mode": {
    "name": "ipython",
    "version": 3
   },
   "file_extension": ".py",
   "mimetype": "text/x-python",
   "name": "python",
   "nbconvert_exporter": "python",
   "pygments_lexer": "ipython3",
   "version": "3.8.5"
  }
 },
 "nbformat": 4,
 "nbformat_minor": 4
}
