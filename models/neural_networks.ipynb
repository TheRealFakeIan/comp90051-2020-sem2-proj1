{
 "cells": [
  {
   "cell_type": "code",
   "execution_count": 1,
   "metadata": {},
   "outputs": [],
   "source": [
    "# General libraries\n",
    "import pandas as pd\n",
    "import numpy as np\n",
    "from collections import defaultdict\n",
    "import random\n",
    "from random import randrange\n",
    "from sklearn.metrics import classification_report, confusion_matrix, accuracy_score\n",
    "\n",
    "# Libraries for developing a Neural Network\n",
    "import tensorflow as tf \n",
    "from tensorflow import keras\n",
    "from tensorflow.keras import layers\n",
    "from tensorflow.keras import regularizers\n",
    "from tensorflow.keras.models import Model\n",
    "from tensorflow.keras.layers import Input, Dense, Dropout\n",
    "from tensorflow.keras.utils import to_categorical \n",
    "\n",
    "from sklearn.metrics import roc_auc_score\n"
   ]
  },
  {
   "cell_type": "code",
   "execution_count": 2,
   "metadata": {},
   "outputs": [],
   "source": [
    "dataset = pd.read_csv(\"../data_models/dataset6.csv\", sep='\\t')"
   ]
  },
  {
   "cell_type": "code",
   "execution_count": 3,
   "metadata": {},
   "outputs": [],
   "source": [
    "# Shuffle the data set\n",
    "dataset = dataset.sample(frac=1).reset_index(drop=True)\n",
    "# Filling NaN values with zeros. Not sure if it is correct.\n",
    "dataset['Com_Followings_Ratio'] = dataset['Com_Followings_Ratio'].fillna(0)\n",
    "dataset = dataset.replace([np.inf],1000)"
   ]
  },
  {
   "cell_type": "code",
   "execution_count": 8,
   "metadata": {},
   "outputs": [
    {
     "data": {
      "text/plain": [
       "Source                     False\n",
       "Sink                       False\n",
       "Source_Followings          False\n",
       "Source_Followers           False\n",
       "Sink_Followers             False\n",
       "Distance                    True\n",
       "Real                       False\n",
       "Common_Followings          False\n",
       "Com_Followings_Ratio       False\n",
       "Followers_Ratio            False\n",
       "Indirect_Followings        False\n",
       "Inv_Indirect_Followings    False\n",
       "dtype: bool"
      ]
     },
     "execution_count": 8,
     "metadata": {},
     "output_type": "execute_result"
    }
   ],
   "source": [
    "dataset.isna().any()"
   ]
  },
  {
   "cell_type": "code",
   "execution_count": 9,
   "metadata": {},
   "outputs": [
    {
     "data": {
      "text/plain": [
       "Source                     False\n",
       "Sink                       False\n",
       "Source_Followings          False\n",
       "Source_Followers           False\n",
       "Sink_Followers             False\n",
       "Distance                   False\n",
       "Real                       False\n",
       "Common_Followings          False\n",
       "Com_Followings_Ratio       False\n",
       "Followers_Ratio            False\n",
       "Indirect_Followings        False\n",
       "Inv_Indirect_Followings    False\n",
       "dtype: bool"
      ]
     },
     "execution_count": 9,
     "metadata": {},
     "output_type": "execute_result"
    }
   ],
   "source": [
    "dataset.isin([np.inf]).any()"
   ]
  },
  {
   "cell_type": "code",
   "execution_count": 10,
   "metadata": {},
   "outputs": [],
   "source": [
    "msk = np.random.rand(len(dataset)) < 0.8\n",
    "\n",
    "Y = dataset['Real']\n",
    "X = dataset.drop(columns=['Real','Sink','Source','Distance'])\n",
    "\n",
    "# Normalization\n",
    "X = (X-X.min())/(X.max()-X.min())\n",
    "\n",
    "X_train = X[msk]\n",
    "X_test = X[~msk]\n",
    "Y_train = Y[msk]\n",
    "Y_test = Y[~msk]"
   ]
  },
  {
   "cell_type": "code",
   "execution_count": 6,
   "metadata": {},
   "outputs": [],
   "source": [
    "def auroc(y_true, y_pred):\n",
    "    return tf.py_function(roc_auc_score, (y_true, y_pred), tf.double)"
   ]
  },
  {
   "cell_type": "code",
   "execution_count": 13,
   "metadata": {},
   "outputs": [
    {
     "name": "stdout",
     "output_type": "stream",
     "text": [
      "Model: \"functional_5\"\n",
      "_________________________________________________________________\n",
      "Layer (type)                 Output Shape              Param #   \n",
      "=================================================================\n",
      "input_3 (InputLayer)         [(None, 8)]               0         \n",
      "_________________________________________________________________\n",
      "dense_6 (Dense)              (None, 50)                450       \n",
      "_________________________________________________________________\n",
      "dense_7 (Dense)              (None, 20)                1020      \n",
      "_________________________________________________________________\n",
      "dense_8 (Dense)              (None, 1)                 21        \n",
      "=================================================================\n",
      "Total params: 1,491\n",
      "Trainable params: 1,491\n",
      "Non-trainable params: 0\n",
      "_________________________________________________________________\n"
     ]
    }
   ],
   "source": [
    "# Model arguments\n",
    "args = dict(x = X_train,\n",
    "            y = Y_train,\n",
    "            epochs=50,\n",
    "            validation_split=0.2,\n",
    "            verbose=2,\n",
    "            shuffle=True)\n",
    "\n",
    "# Layer definition\n",
    "input_layer = Input(shape=(8,))\n",
    "hidden_layer_1 = Dense(50, activation='relu',activity_regularizer=regularizers.l1(10e-5))(input_layer)\n",
    "\n",
    "#hidden_layer_1 = Dropout(0.3)(hidden_layer_1)\n",
    "#hidden_layer_2 = Dense(8, activation='sigmoid')(hidden_layer_1)\n",
    "hidden_layer_2 = Dense(20, activation='relu')(hidden_layer_1)\n",
    "#hidden_layer_2 = Dropout(0.3)(hidden_layer_2)\n",
    "output_layer = Dense(1, activation='sigmoid')(hidden_layer_2)\n",
    "model = Model(inputs=input_layer, outputs=output_layer)\n",
    "\n",
    "# Model set up\n",
    "model.compile(tf.keras.optimizers.RMSprop(learning_rate=0.001),\n",
    "              loss='binary_crossentropy',\n",
    "              metrics=['accuracy'])\n",
    "\n",
    "model.summary()\n",
    "#model.compile(loss='categorical_crossentropy', optimizer='adam',metrics=['accuracy', auroc])"
   ]
  },
  {
   "cell_type": "code",
   "execution_count": 14,
   "metadata": {},
   "outputs": [
    {
     "name": "stdout",
     "output_type": "stream",
     "text": [
      "Epoch 1/50\n",
      "161/161 - 1s - loss: 0.6837 - accuracy: 0.5591 - val_loss: 0.6741 - val_accuracy: 0.5779\n",
      "Epoch 2/50\n",
      "161/161 - 0s - loss: 0.6664 - accuracy: 0.5913 - val_loss: 0.6642 - val_accuracy: 0.5740\n",
      "Epoch 3/50\n",
      "161/161 - 0s - loss: 0.6580 - accuracy: 0.5948 - val_loss: 0.6618 - val_accuracy: 0.5872\n",
      "Epoch 4/50\n",
      "161/161 - 0s - loss: 0.6549 - accuracy: 0.6039 - val_loss: 0.6641 - val_accuracy: 0.5857\n",
      "Epoch 5/50\n",
      "161/161 - 0s - loss: 0.6532 - accuracy: 0.6032 - val_loss: 0.6698 - val_accuracy: 0.5810\n",
      "Epoch 6/50\n",
      "161/161 - 0s - loss: 0.6527 - accuracy: 0.6006 - val_loss: 0.6620 - val_accuracy: 0.5896\n",
      "Epoch 7/50\n",
      "161/161 - 0s - loss: 0.6514 - accuracy: 0.6051 - val_loss: 0.6621 - val_accuracy: 0.5927\n",
      "Epoch 8/50\n",
      "161/161 - 0s - loss: 0.6503 - accuracy: 0.6034 - val_loss: 0.6666 - val_accuracy: 0.5872\n",
      "Epoch 9/50\n",
      "161/161 - 0s - loss: 0.6506 - accuracy: 0.6049 - val_loss: 0.6608 - val_accuracy: 0.5935\n",
      "Epoch 10/50\n",
      "161/161 - 0s - loss: 0.6498 - accuracy: 0.6067 - val_loss: 0.6603 - val_accuracy: 0.5974\n",
      "Epoch 11/50\n",
      "161/161 - 0s - loss: 0.6485 - accuracy: 0.6055 - val_loss: 0.6638 - val_accuracy: 0.5919\n",
      "Epoch 12/50\n",
      "161/161 - 0s - loss: 0.6487 - accuracy: 0.6094 - val_loss: 0.6596 - val_accuracy: 0.5966\n",
      "Epoch 13/50\n",
      "161/161 - 0s - loss: 0.6480 - accuracy: 0.6123 - val_loss: 0.6593 - val_accuracy: 0.5989\n",
      "Epoch 14/50\n",
      "161/161 - 0s - loss: 0.6476 - accuracy: 0.6123 - val_loss: 0.6585 - val_accuracy: 0.5989\n",
      "Epoch 15/50\n",
      "161/161 - 0s - loss: 0.6475 - accuracy: 0.6086 - val_loss: 0.6608 - val_accuracy: 0.5981\n",
      "Epoch 16/50\n",
      "161/161 - 0s - loss: 0.6471 - accuracy: 0.6090 - val_loss: 0.6617 - val_accuracy: 0.5958\n",
      "Epoch 17/50\n",
      "161/161 - 0s - loss: 0.6466 - accuracy: 0.6084 - val_loss: 0.6583 - val_accuracy: 0.6012\n",
      "Epoch 18/50\n",
      "161/161 - 0s - loss: 0.6456 - accuracy: 0.6150 - val_loss: 0.6640 - val_accuracy: 0.5927\n",
      "Epoch 19/50\n",
      "161/161 - 0s - loss: 0.6459 - accuracy: 0.6115 - val_loss: 0.6578 - val_accuracy: 0.6051\n",
      "Epoch 20/50\n",
      "161/161 - 0s - loss: 0.6451 - accuracy: 0.6143 - val_loss: 0.6580 - val_accuracy: 0.6036\n",
      "Epoch 21/50\n",
      "161/161 - 0s - loss: 0.6451 - accuracy: 0.6150 - val_loss: 0.6581 - val_accuracy: 0.6028\n",
      "Epoch 22/50\n",
      "161/161 - 0s - loss: 0.6452 - accuracy: 0.6115 - val_loss: 0.6564 - val_accuracy: 0.6098\n",
      "Epoch 23/50\n",
      "161/161 - 0s - loss: 0.6449 - accuracy: 0.6117 - val_loss: 0.6564 - val_accuracy: 0.6121\n",
      "Epoch 24/50\n",
      "161/161 - 0s - loss: 0.6446 - accuracy: 0.6174 - val_loss: 0.6565 - val_accuracy: 0.6067\n",
      "Epoch 25/50\n",
      "161/161 - 0s - loss: 0.6440 - accuracy: 0.6141 - val_loss: 0.6541 - val_accuracy: 0.5966\n",
      "Epoch 26/50\n",
      "161/161 - 0s - loss: 0.6434 - accuracy: 0.6156 - val_loss: 0.6571 - val_accuracy: 0.5950\n",
      "Epoch 27/50\n",
      "161/161 - 0s - loss: 0.6440 - accuracy: 0.6162 - val_loss: 0.6539 - val_accuracy: 0.6114\n",
      "Epoch 28/50\n",
      "161/161 - 0s - loss: 0.6438 - accuracy: 0.6131 - val_loss: 0.6535 - val_accuracy: 0.5701\n",
      "Epoch 29/50\n",
      "161/161 - 0s - loss: 0.6433 - accuracy: 0.6123 - val_loss: 0.6560 - val_accuracy: 0.6153\n",
      "Epoch 30/50\n",
      "161/161 - 0s - loss: 0.6424 - accuracy: 0.6131 - val_loss: 0.6554 - val_accuracy: 0.6145\n",
      "Epoch 31/50\n",
      "161/161 - 0s - loss: 0.6418 - accuracy: 0.6162 - val_loss: 0.6535 - val_accuracy: 0.5896\n",
      "Epoch 32/50\n",
      "161/161 - 0s - loss: 0.6432 - accuracy: 0.6137 - val_loss: 0.6513 - val_accuracy: 0.6090\n",
      "Epoch 33/50\n",
      "161/161 - 0s - loss: 0.6426 - accuracy: 0.6135 - val_loss: 0.6524 - val_accuracy: 0.6207\n",
      "Epoch 34/50\n",
      "161/161 - 0s - loss: 0.6420 - accuracy: 0.6111 - val_loss: 0.6573 - val_accuracy: 0.6106\n",
      "Epoch 35/50\n",
      "161/161 - 0s - loss: 0.6418 - accuracy: 0.6150 - val_loss: 0.6504 - val_accuracy: 0.6067\n",
      "Epoch 36/50\n",
      "161/161 - 0s - loss: 0.6414 - accuracy: 0.6133 - val_loss: 0.6546 - val_accuracy: 0.6168\n",
      "Epoch 37/50\n",
      "161/161 - 0s - loss: 0.6420 - accuracy: 0.6178 - val_loss: 0.6562 - val_accuracy: 0.6098\n",
      "Epoch 38/50\n",
      "161/161 - 0s - loss: 0.6421 - accuracy: 0.6111 - val_loss: 0.6520 - val_accuracy: 0.6168\n",
      "Epoch 39/50\n",
      "161/161 - 0s - loss: 0.6411 - accuracy: 0.6131 - val_loss: 0.6538 - val_accuracy: 0.6168\n",
      "Epoch 40/50\n",
      "161/161 - 0s - loss: 0.6415 - accuracy: 0.6156 - val_loss: 0.6560 - val_accuracy: 0.6051\n",
      "Epoch 41/50\n",
      "161/161 - 0s - loss: 0.6406 - accuracy: 0.6234 - val_loss: 0.6503 - val_accuracy: 0.6114\n",
      "Epoch 42/50\n",
      "161/161 - 0s - loss: 0.6409 - accuracy: 0.6168 - val_loss: 0.6534 - val_accuracy: 0.6215\n",
      "Epoch 43/50\n",
      "161/161 - 0s - loss: 0.6411 - accuracy: 0.6123 - val_loss: 0.6524 - val_accuracy: 0.6184\n",
      "Epoch 44/50\n",
      "161/161 - 0s - loss: 0.6409 - accuracy: 0.6141 - val_loss: 0.6486 - val_accuracy: 0.6106\n",
      "Epoch 45/50\n",
      "161/161 - 0s - loss: 0.6403 - accuracy: 0.6176 - val_loss: 0.6592 - val_accuracy: 0.6012\n",
      "Epoch 46/50\n",
      "161/161 - 0s - loss: 0.6406 - accuracy: 0.6170 - val_loss: 0.6513 - val_accuracy: 0.6176\n",
      "Epoch 47/50\n",
      "161/161 - 0s - loss: 0.6406 - accuracy: 0.6174 - val_loss: 0.6473 - val_accuracy: 0.6153\n",
      "Epoch 48/50\n",
      "161/161 - 0s - loss: 0.6389 - accuracy: 0.6224 - val_loss: 0.6481 - val_accuracy: 0.6332\n",
      "Epoch 49/50\n",
      "161/161 - 0s - loss: 0.6397 - accuracy: 0.6174 - val_loss: 0.6489 - val_accuracy: 0.6262\n",
      "Epoch 50/50\n",
      "161/161 - 0s - loss: 0.6400 - accuracy: 0.6195 - val_loss: 0.6492 - val_accuracy: 0.5888\n"
     ]
    },
    {
     "data": {
      "text/plain": [
       "<tensorflow.python.keras.callbacks.History at 0x1374187f0>"
      ]
     },
     "execution_count": 14,
     "metadata": {},
     "output_type": "execute_result"
    }
   ],
   "source": [
    "# Execute training\n",
    "model.fit(**args)"
   ]
  },
  {
   "cell_type": "code",
   "execution_count": 15,
   "metadata": {},
   "outputs": [
    {
     "name": "stdout",
     "output_type": "stream",
     "text": [
      "[[0.84328866]\n",
      " [0.48744127]\n",
      " [0.3625833 ]\n",
      " ...\n",
      " [0.50259155]\n",
      " [0.36241066]\n",
      " [0.525343  ]]\n"
     ]
    }
   ],
   "source": [
    "# Prediction for test\n",
    "predict = model.predict(X_test)\n",
    "print(predict)"
   ]
  },
  {
   "cell_type": "code",
   "execution_count": 16,
   "metadata": {},
   "outputs": [
    {
     "name": "stdout",
     "output_type": "stream",
     "text": [
      "[[1.]\n",
      " [0.]\n",
      " [0.]\n",
      " ...\n",
      " [1.]\n",
      " [0.]\n",
      " [1.]]\n"
     ]
    }
   ],
   "source": [
    "classes = predict\n",
    "#classes = predict.argmax(-1)\n",
    "classes[classes <= 0.5] = 0\n",
    "classes[classes > 0.5] = 1\n",
    "print(classes)"
   ]
  },
  {
   "cell_type": "code",
   "execution_count": 17,
   "metadata": {},
   "outputs": [
    {
     "name": "stdout",
     "output_type": "stream",
     "text": [
      "Accuracy: 0.6109\n",
      "AUC: 0.6097\n"
     ]
    }
   ],
   "source": [
    "print('Accuracy: ' + \"{:.4f}\".format(accuracy_score(Y_test, classes)))\n",
    "print('AUC: ' + \"{:.4f}\".format(roc_auc_score(Y_test, classes)))"
   ]
  },
  {
   "cell_type": "code",
   "execution_count": 18,
   "metadata": {},
   "outputs": [
    {
     "name": "stdout",
     "output_type": "stream",
     "text": [
      "              precision    recall  f1-score   support\n",
      "\n",
      "           0   0.637349  0.626777  0.632019       844\n",
      "           1   0.581673  0.592693  0.587131       739\n",
      "\n",
      "    accuracy                       0.610865      1583\n",
      "   macro avg   0.609511  0.609735  0.609575      1583\n",
      "weighted avg   0.611358  0.610865  0.611064      1583\n",
      "\n",
      "[[529 315]\n",
      " [301 438]]\n",
      "0.6108654453569172\n"
     ]
    }
   ],
   "source": [
    "# accuracy \n",
    "print (classification_report(Y_test, predict,digits = 6))\n",
    "print (confusion_matrix(Y_test, predict))\n",
    "print (accuracy_score(Y_test, predict))"
   ]
  },
  {
   "cell_type": "code",
   "execution_count": 24,
   "metadata": {},
   "outputs": [],
   "source": [
    "# Reading test data\n",
    "test_data = pd.read_csv(\"../data_generated/test_data.csv\", sep='\\t')\n",
    "test_data['Com_Followings_Ratio'] = test_data['Com_Followings_Ratio'].fillna(0)\n",
    "test_data = test_data.replace([np.inf],1000)\n",
    "# Normalization\n",
    "test_data = (test_data-test_data.min())/(test_data.max()-test_data.min())\n",
    "test_data = test_data.drop(columns=['Sink','Source','Distance'])"
   ]
  },
  {
   "cell_type": "code",
   "execution_count": 25,
   "metadata": {},
   "outputs": [
    {
     "data": {
      "text/plain": [
       "array([[0.38563478],\n",
       "       [0.47393203],\n",
       "       [0.59878665],\n",
       "       ...,\n",
       "       [0.49051303],\n",
       "       [0.48971367],\n",
       "       [0.50681055]], dtype=float32)"
      ]
     },
     "execution_count": 25,
     "metadata": {},
     "output_type": "execute_result"
    }
   ],
   "source": [
    "predict_test = model.predict(test_data)\n",
    "predict_test "
   ]
  },
  {
   "cell_type": "code",
   "execution_count": 26,
   "metadata": {},
   "outputs": [],
   "source": [
    "prediction = pd.DataFrame([])\n",
    "i = 0\n",
    "for row in predict_test:\n",
    "    i += 1\n",
    "    prediction = prediction.append(pd.DataFrame({'Id': i, 'Predicted': row[0]},\n",
    "                                                index=[0]), ignore_index=True) \n",
    "prediction.to_csv(\"../predictions/prediction_2020-09-17-1.csv\", sep=',', index=False,float_format='%.8f')"
   ]
  },
  {
   "cell_type": "code",
   "execution_count": null,
   "metadata": {},
   "outputs": [],
   "source": []
  }
 ],
 "metadata": {
  "kernelspec": {
   "display_name": "Python 3",
   "language": "python",
   "name": "python3"
  },
  "language_info": {
   "codemirror_mode": {
    "name": "ipython",
    "version": 3
   },
   "file_extension": ".py",
   "mimetype": "text/x-python",
   "name": "python",
   "nbconvert_exporter": "python",
   "pygments_lexer": "ipython3",
   "version": "3.8.5"
  }
 },
 "nbformat": 4,
 "nbformat_minor": 4
}
