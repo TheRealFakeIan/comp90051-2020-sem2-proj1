{
 "cells": [
  {
   "cell_type": "code",
   "execution_count": 30,
   "metadata": {},
   "outputs": [],
   "source": [
    "# General libraries\n",
    "import pandas as pd\n",
    "import numpy as np\n",
    "from collections import defaultdict\n",
    "import random\n",
    "from random import randrange\n",
    "from sklearn.metrics import classification_report, confusion_matrix, accuracy_score\n",
    "import matplotlib.pyplot as plt\n",
    "\n",
    "# Libraries for developing a Neural Network\n",
    "import tensorflow as tf \n",
    "from tensorflow import keras\n",
    "from tensorflow.keras import layers\n",
    "from tensorflow.keras import regularizers\n",
    "from tensorflow.keras.models import Model\n",
    "from tensorflow.keras.layers import Input, Dense, Dropout\n",
    "from tensorflow.keras.utils import to_categorical \n",
    "\n",
    "from sklearn.metrics import roc_auc_score\n"
   ]
  },
  {
   "cell_type": "code",
   "execution_count": 2,
   "metadata": {},
   "outputs": [],
   "source": [
    "dataset = pd.read_csv(\"../data_models/dataset7.csv\", sep='\\t')"
   ]
  },
  {
   "cell_type": "code",
   "execution_count": 3,
   "metadata": {},
   "outputs": [],
   "source": [
    "# Shuffle the data set\n",
    "dataset = dataset.sample(frac=1).reset_index(drop=True)\n",
    "# Filling NaN values with zeros. Not sure if it is correct.\n",
    "dataset['Com_Followings_Ratio'] = dataset['Com_Followings_Ratio'].fillna(0)\n",
    "dataset = dataset.replace([np.inf],1000)"
   ]
  },
  {
   "cell_type": "code",
   "execution_count": 4,
   "metadata": {},
   "outputs": [
    {
     "data": {
      "text/plain": [
       "Source                     False\n",
       "Sink                       False\n",
       "Source_Followings          False\n",
       "Source_Followers           False\n",
       "Sink_Followers             False\n",
       "Distance                   False\n",
       "Real                       False\n",
       "Common_Followings          False\n",
       "Com_Followings_Ratio       False\n",
       "Followers_Ratio            False\n",
       "Indirect_Followings        False\n",
       "Inv_Indirect_Followings    False\n",
       "Source_friends_num         False\n",
       "friends_cycle_num          False\n",
       "SourceFollowersToSink      False\n",
       "dtype: bool"
      ]
     },
     "execution_count": 4,
     "metadata": {},
     "output_type": "execute_result"
    }
   ],
   "source": [
    "dataset.isna().any()"
   ]
  },
  {
   "cell_type": "code",
   "execution_count": 5,
   "metadata": {},
   "outputs": [
    {
     "data": {
      "text/plain": [
       "Source                     False\n",
       "Sink                       False\n",
       "Source_Followings          False\n",
       "Source_Followers           False\n",
       "Sink_Followers             False\n",
       "Distance                   False\n",
       "Real                       False\n",
       "Common_Followings          False\n",
       "Com_Followings_Ratio       False\n",
       "Followers_Ratio            False\n",
       "Indirect_Followings        False\n",
       "Inv_Indirect_Followings    False\n",
       "Source_friends_num         False\n",
       "friends_cycle_num          False\n",
       "SourceFollowersToSink      False\n",
       "dtype: bool"
      ]
     },
     "execution_count": 5,
     "metadata": {},
     "output_type": "execute_result"
    }
   ],
   "source": [
    "dataset.isin([np.inf]).any()"
   ]
  },
  {
   "cell_type": "code",
   "execution_count": 23,
   "metadata": {},
   "outputs": [],
   "source": [
    "msk = np.random.rand(len(dataset)) < 0.8\n",
    "\n",
    "Y = dataset['Real']\n",
    "X = dataset.drop(columns=['Real','Sink','Source'])\n",
    "\n",
    "# Normalization\n",
    "X = (X-X.min())/(X.max()-X.min())\n",
    "\n",
    "X_train = X[msk]\n",
    "X_test = X[~msk]\n",
    "Y_train = Y[msk]\n",
    "Y_test = Y[~msk]"
   ]
  },
  {
   "cell_type": "code",
   "execution_count": 7,
   "metadata": {},
   "outputs": [],
   "source": [
    "def auroc(y_true, y_pred):\n",
    "    return tf.py_function(roc_auc_score, (y_true, y_pred), tf.double)"
   ]
  },
  {
   "cell_type": "code",
   "execution_count": 34,
   "metadata": {},
   "outputs": [
    {
     "name": "stdout",
     "output_type": "stream",
     "text": [
      "Model: \"functional_17\"\n",
      "_________________________________________________________________\n",
      "Layer (type)                 Output Shape              Param #   \n",
      "=================================================================\n",
      "input_9 (InputLayer)         [(None, 12)]              0         \n",
      "_________________________________________________________________\n",
      "dense_24 (Dense)             (None, 50)                650       \n",
      "_________________________________________________________________\n",
      "dense_25 (Dense)             (None, 20)                1020      \n",
      "_________________________________________________________________\n",
      "dense_26 (Dense)             (None, 1)                 21        \n",
      "=================================================================\n",
      "Total params: 1,691\n",
      "Trainable params: 1,691\n",
      "Non-trainable params: 0\n",
      "_________________________________________________________________\n"
     ]
    }
   ],
   "source": [
    "# Model arguments\n",
    "args = dict(x = X_train,\n",
    "            y = Y_train,\n",
    "            epochs=20,\n",
    "            validation_split=0.2,\n",
    "            verbose=2,\n",
    "            shuffle=True)\n",
    "\n",
    "# Layer definition\n",
    "input_layer = Input(shape=(12,))\n",
    "hidden_layer_1 = Dense(50, activation='relu',activity_regularizer=regularizers.l1(10e-5))(input_layer)\n",
    "\n",
    "#hidden_layer_1 = Dropout(0.3)(hidden_layer_1)\n",
    "#hidden_layer_2 = Dense(8, activation='sigmoid')(hidden_layer_1)\n",
    "hidden_layer_2 = Dense(20, activation='relu')(hidden_layer_1)\n",
    "#hidden_layer_2 = Dropout(0.3)(hidden_layer_2)\n",
    "output_layer = Dense(1, activation='sigmoid')(hidden_layer_2)\n",
    "model = Model(inputs=input_layer, outputs=output_layer)\n",
    "\n",
    "# Model set up\n",
    "model.compile(tf.keras.optimizers.RMSprop(learning_rate=0.001),\n",
    "              loss='binary_crossentropy',\n",
    "              metrics=['accuracy'])\n",
    "\n",
    "model.summary()\n",
    "#model.compile(loss='categorical_crossentropy', optimizer='adam',metrics=['accuracy', auroc])"
   ]
  },
  {
   "cell_type": "code",
   "execution_count": 35,
   "metadata": {},
   "outputs": [
    {
     "name": "stdout",
     "output_type": "stream",
     "text": [
      "Epoch 1/20\n",
      "159/159 - 0s - loss: 0.5469 - accuracy: 0.9072 - val_loss: 0.3499 - val_accuracy: 0.9921\n",
      "Epoch 2/20\n",
      "159/159 - 0s - loss: 0.1799 - accuracy: 0.9949 - val_loss: 0.0695 - val_accuracy: 0.9953\n",
      "Epoch 3/20\n",
      "159/159 - 0s - loss: 0.0367 - accuracy: 0.9968 - val_loss: 0.0344 - val_accuracy: 0.9953\n",
      "Epoch 4/20\n",
      "159/159 - 0s - loss: 0.0215 - accuracy: 0.9968 - val_loss: 0.0269 - val_accuracy: 0.9953\n",
      "Epoch 5/20\n",
      "159/159 - 0s - loss: 0.0163 - accuracy: 0.9968 - val_loss: 0.0205 - val_accuracy: 0.9953\n",
      "Epoch 6/20\n",
      "159/159 - 0s - loss: 0.0116 - accuracy: 0.9968 - val_loss: 0.0122 - val_accuracy: 0.9953\n",
      "Epoch 7/20\n",
      "159/159 - 0s - loss: 0.0076 - accuracy: 0.9968 - val_loss: 0.0072 - val_accuracy: 0.9953\n",
      "Epoch 8/20\n",
      "159/159 - 0s - loss: 0.0052 - accuracy: 0.9968 - val_loss: 0.0050 - val_accuracy: 0.9961\n",
      "Epoch 9/20\n",
      "159/159 - 0s - loss: 0.0040 - accuracy: 0.9986 - val_loss: 0.0042 - val_accuracy: 0.9992\n",
      "Epoch 10/20\n",
      "159/159 - 0s - loss: 0.0033 - accuracy: 0.9994 - val_loss: 0.0038 - val_accuracy: 0.9992\n",
      "Epoch 11/20\n",
      "159/159 - 0s - loss: 0.0027 - accuracy: 0.9998 - val_loss: 0.0032 - val_accuracy: 0.9992\n",
      "Epoch 12/20\n",
      "159/159 - 0s - loss: 0.0024 - accuracy: 0.9996 - val_loss: 0.0030 - val_accuracy: 1.0000\n",
      "Epoch 13/20\n",
      "159/159 - 0s - loss: 0.0020 - accuracy: 0.9998 - val_loss: 0.0024 - val_accuracy: 1.0000\n",
      "Epoch 14/20\n",
      "159/159 - 0s - loss: 0.0018 - accuracy: 0.9998 - val_loss: 0.0020 - val_accuracy: 1.0000\n",
      "Epoch 15/20\n",
      "159/159 - 0s - loss: 0.0014 - accuracy: 1.0000 - val_loss: 0.0020 - val_accuracy: 1.0000\n",
      "Epoch 16/20\n",
      "159/159 - 0s - loss: 0.0013 - accuracy: 1.0000 - val_loss: 0.0014 - val_accuracy: 1.0000\n",
      "Epoch 17/20\n",
      "159/159 - 0s - loss: 0.0010 - accuracy: 1.0000 - val_loss: 0.0012 - val_accuracy: 1.0000\n",
      "Epoch 18/20\n",
      "159/159 - 0s - loss: 8.2900e-04 - accuracy: 1.0000 - val_loss: 9.2491e-04 - val_accuracy: 1.0000\n",
      "Epoch 19/20\n",
      "159/159 - 0s - loss: 7.3563e-04 - accuracy: 1.0000 - val_loss: 7.3201e-04 - val_accuracy: 1.0000\n",
      "Epoch 20/20\n",
      "159/159 - 0s - loss: 5.7728e-04 - accuracy: 1.0000 - val_loss: 6.0415e-04 - val_accuracy: 1.0000\n"
     ]
    }
   ],
   "source": [
    "# Execute training\n",
    "history = model.fit(**args)"
   ]
  },
  {
   "cell_type": "code",
   "execution_count": 36,
   "metadata": {},
   "outputs": [
    {
     "data": {
      "image/png": "[encoded data removed]",
      "text/plain": [
       "<Figure size 432x288 with 1 Axes>"
      ]
     },
     "metadata": {
      "needs_background": "light"
     },
     "output_type": "display_data"
    }
   ],
   "source": [
    "# summarize history for accuracy\n",
    "plt.plot(history.history['loss'])\n",
    "plt.plot(history.history['val_loss'])\n",
    "plt.title('Model Loss for Neural Network model')\n",
    "plt.ylabel('loss')\n",
    "plt.xlabel('epoch')\n",
    "plt.legend(['train', 'test'], loc='upper right')\n",
    "plt.show()"
   ]
  },
  {
   "cell_type": "code",
   "execution_count": 37,
   "metadata": {},
   "outputs": [
    {
     "name": "stdout",
     "output_type": "stream",
     "text": [
      "[[3.45645253e-06]\n",
      " [9.99931931e-01]\n",
      " [3.63877029e-06]\n",
      " ...\n",
      " [9.99993563e-01]\n",
      " [1.24573954e-17]\n",
      " [1.49024992e-17]]\n"
     ]
    }
   ],
   "source": [
    "# Prediction for test\n",
    "predict = model.predict(X_test)\n",
    "print(predict)"
   ]
  },
  {
   "cell_type": "code",
   "execution_count": 38,
   "metadata": {},
   "outputs": [
    {
     "name": "stdout",
     "output_type": "stream",
     "text": [
      "[[0.]\n",
      " [1.]\n",
      " [0.]\n",
      " ...\n",
      " [1.]\n",
      " [0.]\n",
      " [0.]]\n"
     ]
    }
   ],
   "source": [
    "classes = predict\n",
    "#classes = predict.argmax(-1)\n",
    "classes[classes <= 0.5] = 0\n",
    "classes[classes > 0.5] = 1\n",
    "print(classes)"
   ]
  },
  {
   "cell_type": "code",
   "execution_count": 39,
   "metadata": {},
   "outputs": [
    {
     "name": "stdout",
     "output_type": "stream",
     "text": [
      "Accuracy: 1.0000\n",
      "AUC: 1.0000\n"
     ]
    }
   ],
   "source": [
    "print('Accuracy: ' + \"{:.4f}\".format(accuracy_score(Y_test, classes)))\n",
    "print('AUC: ' + \"{:.4f}\".format(roc_auc_score(Y_test, classes)))"
   ]
  },
  {
   "cell_type": "code",
   "execution_count": 22,
   "metadata": {},
   "outputs": [
    {
     "name": "stdout",
     "output_type": "stream",
     "text": [
      "              precision    recall  f1-score   support\n",
      "\n",
      "           0   0.694675  0.762338  0.726935       770\n",
      "           1   0.750681  0.681088  0.714193       809\n",
      "\n",
      "    accuracy                       0.720709      1579\n",
      "   macro avg   0.722678  0.721713  0.720564      1579\n",
      "weighted avg   0.723370  0.720709  0.720407      1579\n",
      "\n",
      "[[587 183]\n",
      " [258 551]]\n",
      "0.7207093096896771\n"
     ]
    }
   ],
   "source": [
    "# accuracy \n",
    "print (classification_report(Y_test, predict,digits = 6))\n",
    "print (confusion_matrix(Y_test, predict))\n",
    "print (accuracy_score(Y_test, predict))"
   ]
  },
  {
   "cell_type": "code",
   "execution_count": 24,
   "metadata": {},
   "outputs": [],
   "source": [
    "# Reading test data\n",
    "test_data = pd.read_csv(\"../data_generated/test_data.csv\", sep='\\t')\n",
    "test_data['Com_Followings_Ratio'] = test_data['Com_Followings_Ratio'].fillna(0)\n",
    "test_data = test_data.replace([np.inf],1000)\n",
    "# Normalization\n",
    "test_data = (test_data-test_data.min())/(test_data.max()-test_data.min())\n",
    "test_data = test_data.drop(columns=['Sink','Source','Distance'])"
   ]
  },
  {
   "cell_type": "code",
   "execution_count": 25,
   "metadata": {},
   "outputs": [
    {
     "data": {
      "text/plain": [
       "array([[0.38563478],\n",
       "       [0.47393203],\n",
       "       [0.59878665],\n",
       "       ...,\n",
       "       [0.49051303],\n",
       "       [0.48971367],\n",
       "       [0.50681055]], dtype=float32)"
      ]
     },
     "execution_count": 25,
     "metadata": {},
     "output_type": "execute_result"
    }
   ],
   "source": [
    "predict_test = model.predict(test_data)\n",
    "predict_test "
   ]
  },
  {
   "cell_type": "code",
   "execution_count": 26,
   "metadata": {},
   "outputs": [],
   "source": [
    "prediction = pd.DataFrame([])\n",
    "i = 0\n",
    "for row in predict_test:\n",
    "    i += 1\n",
    "    prediction = prediction.append(pd.DataFrame({'Id': i, 'Predicted': row[0]},\n",
    "                                                index=[0]), ignore_index=True) \n",
    "prediction.to_csv(\"../predictions/prediction_2020-09-17-1.csv\", sep=',', index=False,float_format='%.8f')"
   ]
  },
  {
   "cell_type": "code",
   "execution_count": null,
   "metadata": {},
   "outputs": [],
   "source": []
  }
 ],
 "metadata": {
  "kernelspec": {
   "display_name": "Python 3",
   "language": "python",
   "name": "python3"
  },
  "language_info": {
   "codemirror_mode": {
    "name": "ipython",
    "version": 3
   },
   "file_extension": ".py",
   "mimetype": "text/x-python",
   "name": "python",
   "nbconvert_exporter": "python",
   "pygments_lexer": "ipython3",
   "version": "3.8.5"
  }
 },
 "nbformat": 4,
 "nbformat_minor": 4
}
