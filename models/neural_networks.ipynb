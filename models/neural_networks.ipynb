{
 "cells": [
  {
   "cell_type": "code",
   "execution_count": 255,
   "metadata": {},
   "outputs": [],
   "source": [
    "# General libraries\n",
    "import pandas as pd\n",
    "import numpy as np\n",
    "from collections import defaultdict\n",
    "import random\n",
    "from random import randrange\n",
    "from sklearn.metrics import classification_report, confusion_matrix, accuracy_score\n",
    "\n",
    "# Libraries for developing a Neural Network\n",
    "import tensorflow as tf \n",
    "from tensorflow import keras\n",
    "from tensorflow.keras import layers\n",
    "from tensorflow.keras import regularizers\n",
    "from tensorflow.keras.models import Model\n",
    "from tensorflow.keras.layers import Input, Dense, Dropout\n",
    "from tensorflow.keras.utils import to_categorical \n",
    "\n",
    "from sklearn.metrics import roc_auc_score\n"
   ]
  },
  {
   "cell_type": "code",
   "execution_count": 299,
   "metadata": {},
   "outputs": [],
   "source": [
    "dataset = pd.read_csv(\"../data_models/dataset4.csv\", sep='\\t')"
   ]
  },
  {
   "cell_type": "code",
   "execution_count": 300,
   "metadata": {},
   "outputs": [],
   "source": [
    "# Shuffle the data set\n",
    "dataset = dataset.sample(frac=1).reset_index(drop=True)\n",
    "# Filling NaN values with zeros. Not sure if it is correct.\n",
    "dataset['Com_Followings_Ratio'] = dataset['Com_Followings_Ratio'].fillna(0)\n",
    "dataset = dataset.replace([np.inf],1000)"
   ]
  },
  {
   "cell_type": "code",
   "execution_count": 301,
   "metadata": {},
   "outputs": [
    {
     "data": {
      "text/plain": [
       "Source                     False\n",
       "Sink                       False\n",
       "Source_Followings          False\n",
       "Source_Followers           False\n",
       "Sink_Followers             False\n",
       "Distance                   False\n",
       "Real                       False\n",
       "Common_Followings          False\n",
       "Com_Followings_Ratio       False\n",
       "Followers_Ratio            False\n",
       "Indirect_Followings        False\n",
       "Inv_Indirect_Followings    False\n",
       "dtype: bool"
      ]
     },
     "execution_count": 301,
     "metadata": {},
     "output_type": "execute_result"
    }
   ],
   "source": [
    "dataset.isna().any()"
   ]
  },
  {
   "cell_type": "code",
   "execution_count": 303,
   "metadata": {},
   "outputs": [
    {
     "data": {
      "text/plain": [
       "Source                     False\n",
       "Sink                       False\n",
       "Source_Followings          False\n",
       "Source_Followers           False\n",
       "Sink_Followers             False\n",
       "Distance                   False\n",
       "Real                       False\n",
       "Common_Followings          False\n",
       "Com_Followings_Ratio       False\n",
       "Followers_Ratio            False\n",
       "Indirect_Followings        False\n",
       "Inv_Indirect_Followings    False\n",
       "dtype: bool"
      ]
     },
     "execution_count": 303,
     "metadata": {},
     "output_type": "execute_result"
    }
   ],
   "source": [
    "dataset.isin([np.inf]).any()"
   ]
  },
  {
   "cell_type": "code",
   "execution_count": 358,
   "metadata": {},
   "outputs": [],
   "source": [
    "msk = np.random.rand(len(dataset)) < 0.7\n",
    "\n",
    "Y = dataset['Real']\n",
    "X = dataset.drop(columns=['Real','Sink','Source'])\n",
    "\n",
    "# Normalization\n",
    "X = (X-X.min())/(X.max()-X.min())\n",
    "\n",
    "X_train = X[msk]\n",
    "X_test = X[~msk]\n",
    "Y_train = Y[msk]\n",
    "Y_test = Y[~msk]"
   ]
  },
  {
   "cell_type": "code",
   "execution_count": 110,
   "metadata": {},
   "outputs": [],
   "source": [
    "def auroc(y_true, y_pred):\n",
    "    return tf.py_function(roc_auc_score, (y_true, y_pred), tf.double)"
   ]
  },
  {
   "cell_type": "code",
   "execution_count": 359,
   "metadata": {},
   "outputs": [
    {
     "name": "stdout",
     "output_type": "stream",
     "text": [
      "Model: \"functional_135\"\n",
      "_________________________________________________________________\n",
      "Layer (type)                 Output Shape              Param #   \n",
      "=================================================================\n",
      "input_69 (InputLayer)        [(None, 9)]               0         \n",
      "_________________________________________________________________\n",
      "dense_204 (Dense)            (None, 100)               1000      \n",
      "_________________________________________________________________\n",
      "dense_205 (Dense)            (None, 20)                2020      \n",
      "_________________________________________________________________\n",
      "dense_206 (Dense)            (None, 1)                 21        \n",
      "=================================================================\n",
      "Total params: 3,041\n",
      "Trainable params: 3,041\n",
      "Non-trainable params: 0\n",
      "_________________________________________________________________\n"
     ]
    }
   ],
   "source": [
    "# Model arguments\n",
    "args = dict(x = X_train,\n",
    "            y = Y_train,\n",
    "            epochs=15,\n",
    "            validation_split=0.3,\n",
    "            verbose=2,\n",
    "            shuffle=True)\n",
    "\n",
    "# Layer definition\n",
    "input_layer = Input(shape=(9,))\n",
    "hidden_layer_1 = Dense(100, activation='relu',activity_regularizer=regularizers.l1(10e-5))(input_layer)\n",
    "\n",
    "#hidden_layer_1 = Dropout(0.3)(hidden_layer_1)\n",
    "#hidden_layer_2 = Dense(8, activation='sigmoid')(hidden_layer_1)\n",
    "hidden_layer_2 = Dense(20, activation='relu')(hidden_layer_1)\n",
    "#hidden_layer_2 = Dropout(0.3)(hidden_layer_2)\n",
    "output_layer = Dense(1, activation='sigmoid')(hidden_layer_2)\n",
    "model = Model(inputs=input_layer, outputs=output_layer)\n",
    "\n",
    "# Model set up\n",
    "model.compile(tf.keras.optimizers.RMSprop(learning_rate=0.01),\n",
    "              loss='binary_crossentropy',\n",
    "              metrics=['accuracy'])\n",
    "\n",
    "model.summary()\n",
    "#model.compile(loss='categorical_crossentropy', optimizer='adam',metrics=['accuracy', auroc])"
   ]
  },
  {
   "cell_type": "code",
   "execution_count": 360,
   "metadata": {},
   "outputs": [
    {
     "name": "stdout",
     "output_type": "stream",
     "text": [
      "Epoch 1/15\n",
      "122/122 - 0s - loss: 0.6290 - accuracy: 0.6132 - val_loss: 0.5773 - val_accuracy: 0.6621\n",
      "Epoch 2/15\n",
      "122/122 - 0s - loss: 0.5637 - accuracy: 0.6971 - val_loss: 0.4966 - val_accuracy: 0.8643\n",
      "Epoch 3/15\n",
      "122/122 - 0s - loss: 0.4945 - accuracy: 0.7584 - val_loss: 0.6273 - val_accuracy: 0.6801\n",
      "Epoch 4/15\n",
      "122/122 - 0s - loss: 0.4394 - accuracy: 0.7936 - val_loss: 0.5931 - val_accuracy: 0.6939\n",
      "Epoch 5/15\n",
      "122/122 - 0s - loss: 0.3749 - accuracy: 0.8425 - val_loss: 0.6750 - val_accuracy: 0.6933\n",
      "Epoch 6/15\n",
      "122/122 - 0s - loss: 0.3304 - accuracy: 0.8484 - val_loss: 0.2509 - val_accuracy: 0.9022\n",
      "Epoch 7/15\n",
      "122/122 - 0s - loss: 0.3073 - accuracy: 0.8654 - val_loss: 0.3210 - val_accuracy: 0.8962\n",
      "Epoch 8/15\n",
      "122/122 - 0s - loss: 0.2688 - accuracy: 0.8827 - val_loss: 0.1844 - val_accuracy: 0.9262\n",
      "Epoch 9/15\n",
      "122/122 - 0s - loss: 0.2509 - accuracy: 0.8904 - val_loss: 0.1702 - val_accuracy: 0.9448\n",
      "Epoch 10/15\n",
      "122/122 - 0s - loss: 0.2355 - accuracy: 0.9048 - val_loss: 0.1528 - val_accuracy: 0.9484\n",
      "Epoch 11/15\n",
      "122/122 - 0s - loss: 0.2159 - accuracy: 0.9156 - val_loss: 0.1917 - val_accuracy: 0.9292\n",
      "Epoch 12/15\n",
      "122/122 - 0s - loss: 0.1781 - accuracy: 0.9341 - val_loss: 0.1262 - val_accuracy: 0.9646\n",
      "Epoch 13/15\n",
      "122/122 - 0s - loss: 0.1761 - accuracy: 0.9406 - val_loss: 0.4212 - val_accuracy: 0.7713\n",
      "Epoch 14/15\n",
      "122/122 - 0s - loss: 0.1642 - accuracy: 0.9442 - val_loss: 0.0793 - val_accuracy: 0.9874\n",
      "Epoch 15/15\n",
      "122/122 - 0s - loss: 0.1356 - accuracy: 0.9490 - val_loss: 0.1119 - val_accuracy: 0.9682\n"
     ]
    },
    {
     "data": {
      "text/plain": [
       "<tensorflow.python.keras.callbacks.History at 0x14475ad90>"
      ]
     },
     "execution_count": 360,
     "metadata": {},
     "output_type": "execute_result"
    }
   ],
   "source": [
    "# Execute training\n",
    "model.fit(**args)"
   ]
  },
  {
   "cell_type": "code",
   "execution_count": 361,
   "metadata": {},
   "outputs": [
    {
     "name": "stdout",
     "output_type": "stream",
     "text": [
      "[[9.9723387e-01]\n",
      " [9.9762261e-01]\n",
      " [9.9810576e-01]\n",
      " ...\n",
      " [9.9933612e-01]\n",
      " [9.9783373e-01]\n",
      " [3.1158328e-04]]\n"
     ]
    }
   ],
   "source": [
    "# Prediction for test\n",
    "predict = model.predict(X_test)\n",
    "print(predict)"
   ]
  },
  {
   "cell_type": "code",
   "execution_count": 362,
   "metadata": {},
   "outputs": [
    {
     "name": "stdout",
     "output_type": "stream",
     "text": [
      "[[1.]\n",
      " [1.]\n",
      " [1.]\n",
      " ...\n",
      " [1.]\n",
      " [1.]\n",
      " [0.]]\n"
     ]
    }
   ],
   "source": [
    "classes = predict\n",
    "#classes = predict.argmax(-1)\n",
    "classes[classes <= 0.5] = 0\n",
    "classes[classes > 0.5] = 1\n",
    "print(classes)"
   ]
  },
  {
   "cell_type": "code",
   "execution_count": 363,
   "metadata": {},
   "outputs": [
    {
     "name": "stdout",
     "output_type": "stream",
     "text": [
      "Accuracy: 0.9759\n",
      "AUC: 0.9756\n"
     ]
    }
   ],
   "source": [
    "print('Accuracy: ' + \"{:.4f}\".format(accuracy_score(Y_test, classes)))\n",
    "print('AUC: ' + \"{:.4f}\".format(roc_auc_score(Y_test, classes)))"
   ]
  },
  {
   "cell_type": "code",
   "execution_count": 364,
   "metadata": {},
   "outputs": [
    {
     "name": "stdout",
     "output_type": "stream",
     "text": [
      "              precision    recall  f1-score   support\n",
      "\n",
      "           0   0.999117  0.952020  0.975000      1188\n",
      "           1   0.955153  0.999177  0.976669      1215\n",
      "\n",
      "    accuracy                       0.975864      2403\n",
      "   macro avg   0.977135  0.975599  0.975835      2403\n",
      "weighted avg   0.976888  0.975864  0.975844      2403\n",
      "\n",
      "[[1131   57]\n",
      " [   1 1214]]\n",
      "0.9758635039533916\n"
     ]
    }
   ],
   "source": [
    "# accuracy \n",
    "print (classification_report(Y_test, predict,digits = 6))\n",
    "print (confusion_matrix(Y_test, predict))\n",
    "print (accuracy_score(Y_test, predict))"
   ]
  },
  {
   "cell_type": "code",
   "execution_count": 365,
   "metadata": {},
   "outputs": [],
   "source": [
    "# Reading test data\n",
    "test_data = pd.read_csv(\"../data_generated/test_data.csv\", sep='\\t')\n",
    "test_data['Com_Followings_Ratio'] = test_data['Com_Followings_Ratio'].fillna(0)\n",
    "test_data = test_data.replace([np.inf],1000)\n",
    "# Normalization\n",
    "test_data = (test_data-test_data.min())/(test_data.max()-test_data.min())\n",
    "test_data = test_data.drop(columns=['Sink','Source'])"
   ]
  },
  {
   "cell_type": "code",
   "execution_count": 366,
   "metadata": {},
   "outputs": [
    {
     "data": {
      "text/plain": [
       "array([[4.8768520e-04],\n",
       "       [4.2834640e-01],\n",
       "       [9.9612075e-01],\n",
       "       ...,\n",
       "       [6.3708025e-01],\n",
       "       [6.0647166e-01],\n",
       "       [5.7148761e-01]], dtype=float32)"
      ]
     },
     "execution_count": 366,
     "metadata": {},
     "output_type": "execute_result"
    }
   ],
   "source": [
    "predict_test = model.predict(test_data)\n",
    "predict_test "
   ]
  },
  {
   "cell_type": "code",
   "execution_count": 367,
   "metadata": {},
   "outputs": [],
   "source": [
    "prediction = pd.DataFrame([])\n",
    "i = 0\n",
    "for row in predict_test:\n",
    "    i += 1\n",
    "    prediction = prediction.append(pd.DataFrame({'Id': i, 'Predicted': row[0]},\n",
    "                                                index=[0]), ignore_index=True) \n",
    "prediction.to_csv(\"../predictions/prediction_2020-09-14-2.csv\", sep=',', index=False,float_format='%.8f')"
   ]
  },
  {
   "cell_type": "code",
   "execution_count": null,
   "metadata": {},
   "outputs": [],
   "source": []
  }
 ],
 "metadata": {
  "kernelspec": {
   "display_name": "Python 3",
   "language": "python",
   "name": "python3"
  },
  "language_info": {
   "codemirror_mode": {
    "name": "ipython",
    "version": 3
   },
   "file_extension": ".py",
   "mimetype": "text/x-python",
   "name": "python",
   "nbconvert_exporter": "python",
   "pygments_lexer": "ipython3",
   "version": "3.8.5"
  }
 },
 "nbformat": 4,
 "nbformat_minor": 4
}
