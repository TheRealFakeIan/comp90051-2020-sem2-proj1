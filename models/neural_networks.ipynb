{
 "cells": [
  {
   "cell_type": "code",
   "execution_count": 425,
   "metadata": {},
   "outputs": [],
   "source": [
    "# General libraries\n",
    "import pandas as pd\n",
    "import numpy as np\n",
    "from collections import defaultdict\n",
    "import random\n",
    "from random import randrange\n",
    "from sklearn.metrics import classification_report, confusion_matrix, accuracy_score\n",
    "\n",
    "# Libraries for developing a Neural Network\n",
    "import tensorflow as tf \n",
    "from tensorflow import keras\n",
    "from tensorflow.keras import layers\n",
    "from tensorflow.keras import regularizers\n",
    "from tensorflow.keras.models import Model\n",
    "from tensorflow.keras.layers import Input, Dense, Dropout\n",
    "from tensorflow.keras.utils import to_categorical \n",
    "\n",
    "from sklearn.metrics import roc_auc_score\n"
   ]
  },
  {
   "cell_type": "code",
   "execution_count": 455,
   "metadata": {},
   "outputs": [],
   "source": [
    "dataset = pd.read_csv(\"../data_models/dataset5.csv\", sep='\\t')"
   ]
  },
  {
   "cell_type": "code",
   "execution_count": 456,
   "metadata": {},
   "outputs": [],
   "source": [
    "# Shuffle the data set\n",
    "dataset = dataset.sample(frac=1).reset_index(drop=True)\n",
    "# Filling NaN values with zeros. Not sure if it is correct.\n",
    "dataset['Com_Followings_Ratio'] = dataset['Com_Followings_Ratio'].fillna(0)\n",
    "dataset = dataset.replace([np.inf],1000)"
   ]
  },
  {
   "cell_type": "code",
   "execution_count": 457,
   "metadata": {},
   "outputs": [
    {
     "data": {
      "text/plain": [
       "Source                     False\n",
       "Sink                       False\n",
       "Source_Followings          False\n",
       "Source_Followers           False\n",
       "Sink_Followers             False\n",
       "Distance                   False\n",
       "Real                       False\n",
       "Common_Followings          False\n",
       "Com_Followings_Ratio       False\n",
       "Followers_Ratio            False\n",
       "Indirect_Followings        False\n",
       "Inv_Indirect_Followings    False\n",
       "dtype: bool"
      ]
     },
     "execution_count": 457,
     "metadata": {},
     "output_type": "execute_result"
    }
   ],
   "source": [
    "dataset.isna().any()"
   ]
  },
  {
   "cell_type": "code",
   "execution_count": 458,
   "metadata": {},
   "outputs": [
    {
     "data": {
      "text/plain": [
       "Source                     False\n",
       "Sink                       False\n",
       "Source_Followings          False\n",
       "Source_Followers           False\n",
       "Sink_Followers             False\n",
       "Distance                   False\n",
       "Real                       False\n",
       "Common_Followings          False\n",
       "Com_Followings_Ratio       False\n",
       "Followers_Ratio            False\n",
       "Indirect_Followings        False\n",
       "Inv_Indirect_Followings    False\n",
       "dtype: bool"
      ]
     },
     "execution_count": 458,
     "metadata": {},
     "output_type": "execute_result"
    }
   ],
   "source": [
    "dataset.isin([np.inf]).any()"
   ]
  },
  {
   "cell_type": "code",
   "execution_count": 459,
   "metadata": {},
   "outputs": [],
   "source": [
    "msk = np.random.rand(len(dataset)) < 0.8\n",
    "\n",
    "Y = dataset['Real']\n",
    "X = dataset.drop(columns=['Real','Sink','Source'])\n",
    "\n",
    "# Normalization\n",
    "X = (X-X.min())/(X.max()-X.min())\n",
    "\n",
    "X_train = X[msk]\n",
    "X_test = X[~msk]\n",
    "Y_train = Y[msk]\n",
    "Y_test = Y[~msk]"
   ]
  },
  {
   "cell_type": "code",
   "execution_count": 374,
   "metadata": {},
   "outputs": [],
   "source": [
    "def auroc(y_true, y_pred):\n",
    "    return tf.py_function(roc_auc_score, (y_true, y_pred), tf.double)"
   ]
  },
  {
   "cell_type": "code",
   "execution_count": 460,
   "metadata": {},
   "outputs": [
    {
     "name": "stdout",
     "output_type": "stream",
     "text": [
      "Model: \"functional_159\"\n",
      "_________________________________________________________________\n",
      "Layer (type)                 Output Shape              Param #   \n",
      "=================================================================\n",
      "input_81 (InputLayer)        [(None, 9)]               0         \n",
      "_________________________________________________________________\n",
      "dense_240 (Dense)            (None, 50)                500       \n",
      "_________________________________________________________________\n",
      "dense_241 (Dense)            (None, 20)                1020      \n",
      "_________________________________________________________________\n",
      "dense_242 (Dense)            (None, 1)                 21        \n",
      "=================================================================\n",
      "Total params: 1,541\n",
      "Trainable params: 1,541\n",
      "Non-trainable params: 0\n",
      "_________________________________________________________________\n"
     ]
    }
   ],
   "source": [
    "# Model arguments\n",
    "args = dict(x = X_train,\n",
    "            y = Y_train,\n",
    "            epochs=50,\n",
    "            validation_split=0.2,\n",
    "            verbose=2,\n",
    "            shuffle=True)\n",
    "\n",
    "# Layer definition\n",
    "input_layer = Input(shape=(9,))\n",
    "hidden_layer_1 = Dense(50, activation='relu',activity_regularizer=regularizers.l1(10e-5))(input_layer)\n",
    "\n",
    "#hidden_layer_1 = Dropout(0.3)(hidden_layer_1)\n",
    "#hidden_layer_2 = Dense(8, activation='sigmoid')(hidden_layer_1)\n",
    "hidden_layer_2 = Dense(20, activation='relu')(hidden_layer_1)\n",
    "#hidden_layer_2 = Dropout(0.3)(hidden_layer_2)\n",
    "output_layer = Dense(1, activation='sigmoid')(hidden_layer_2)\n",
    "model = Model(inputs=input_layer, outputs=output_layer)\n",
    "\n",
    "# Model set up\n",
    "model.compile(tf.keras.optimizers.RMSprop(learning_rate=0.001),\n",
    "              loss='binary_crossentropy',\n",
    "              metrics=['accuracy'])\n",
    "\n",
    "model.summary()\n",
    "#model.compile(loss='categorical_crossentropy', optimizer='adam',metrics=['accuracy', auroc])"
   ]
  },
  {
   "cell_type": "code",
   "execution_count": 461,
   "metadata": {},
   "outputs": [
    {
     "name": "stdout",
     "output_type": "stream",
     "text": [
      "Epoch 1/50\n",
      "159/159 - 0s - loss: 0.6682 - accuracy: 0.6359 - val_loss: 0.6390 - val_accuracy: 0.6454\n",
      "Epoch 2/50\n",
      "159/159 - 0s - loss: 0.6120 - accuracy: 0.6622 - val_loss: 0.5959 - val_accuracy: 0.6745\n",
      "Epoch 3/50\n",
      "159/159 - 0s - loss: 0.5853 - accuracy: 0.6760 - val_loss: 0.5803 - val_accuracy: 0.6596\n",
      "Epoch 4/50\n",
      "159/159 - 0s - loss: 0.5715 - accuracy: 0.6864 - val_loss: 0.5654 - val_accuracy: 0.6832\n",
      "Epoch 5/50\n",
      "159/159 - 0s - loss: 0.5591 - accuracy: 0.7011 - val_loss: 0.5540 - val_accuracy: 0.6887\n",
      "Epoch 6/50\n",
      "159/159 - 0s - loss: 0.5446 - accuracy: 0.7149 - val_loss: 0.5399 - val_accuracy: 0.6942\n",
      "Epoch 7/50\n",
      "159/159 - 0s - loss: 0.5306 - accuracy: 0.7279 - val_loss: 0.5174 - val_accuracy: 0.7657\n",
      "Epoch 8/50\n",
      "159/159 - 0s - loss: 0.5142 - accuracy: 0.7475 - val_loss: 0.4982 - val_accuracy: 0.8608\n",
      "Epoch 9/50\n",
      "159/159 - 0s - loss: 0.4957 - accuracy: 0.7759 - val_loss: 0.4759 - val_accuracy: 0.7822\n",
      "Epoch 10/50\n",
      "159/159 - 0s - loss: 0.4755 - accuracy: 0.8052 - val_loss: 0.4667 - val_accuracy: 0.7366\n",
      "Epoch 11/50\n",
      "159/159 - 0s - loss: 0.4527 - accuracy: 0.8309 - val_loss: 0.4401 - val_accuracy: 0.7579\n",
      "Epoch 12/50\n",
      "159/159 - 0s - loss: 0.4268 - accuracy: 0.8519 - val_loss: 0.4153 - val_accuracy: 0.7689\n",
      "Epoch 13/50\n",
      "159/159 - 0s - loss: 0.4001 - accuracy: 0.8755 - val_loss: 0.3698 - val_accuracy: 0.8954\n",
      "Epoch 14/50\n",
      "159/159 - 0s - loss: 0.3729 - accuracy: 0.8881 - val_loss: 0.3483 - val_accuracy: 0.8852\n",
      "Epoch 15/50\n",
      "159/159 - 0s - loss: 0.3444 - accuracy: 0.8928 - val_loss: 0.3151 - val_accuracy: 0.9057\n",
      "Epoch 16/50\n",
      "159/159 - 0s - loss: 0.3162 - accuracy: 0.9027 - val_loss: 0.2896 - val_accuracy: 0.9064\n",
      "Epoch 17/50\n",
      "159/159 - 0s - loss: 0.2886 - accuracy: 0.9031 - val_loss: 0.2658 - val_accuracy: 0.9088\n",
      "Epoch 18/50\n",
      "159/159 - 0s - loss: 0.2634 - accuracy: 0.9107 - val_loss: 0.2376 - val_accuracy: 0.9167\n",
      "Epoch 19/50\n",
      "159/159 - 0s - loss: 0.2409 - accuracy: 0.9160 - val_loss: 0.2153 - val_accuracy: 0.9206\n",
      "Epoch 20/50\n",
      "159/159 - 0s - loss: 0.2160 - accuracy: 0.9247 - val_loss: 0.2120 - val_accuracy: 0.9269\n",
      "Epoch 21/50\n",
      "159/159 - 0s - loss: 0.1976 - accuracy: 0.9310 - val_loss: 0.1822 - val_accuracy: 0.9395\n",
      "Epoch 22/50\n",
      "159/159 - 0s - loss: 0.1799 - accuracy: 0.9347 - val_loss: 0.1671 - val_accuracy: 0.9395\n",
      "Epoch 23/50\n",
      "159/159 - 0s - loss: 0.1616 - accuracy: 0.9448 - val_loss: 0.1526 - val_accuracy: 0.9568\n",
      "Epoch 24/50\n",
      "159/159 - 0s - loss: 0.1456 - accuracy: 0.9512 - val_loss: 0.1488 - val_accuracy: 0.9568\n",
      "Epoch 25/50\n",
      "159/159 - 0s - loss: 0.1300 - accuracy: 0.9599 - val_loss: 0.1499 - val_accuracy: 0.9599\n",
      "Epoch 26/50\n",
      "159/159 - 0s - loss: 0.1166 - accuracy: 0.9662 - val_loss: 0.1207 - val_accuracy: 0.9701\n",
      "Epoch 27/50\n",
      "159/159 - 0s - loss: 0.1049 - accuracy: 0.9721 - val_loss: 0.1133 - val_accuracy: 0.9780\n",
      "Epoch 28/50\n",
      "159/159 - 0s - loss: 0.0931 - accuracy: 0.9772 - val_loss: 0.1038 - val_accuracy: 0.9858\n",
      "Epoch 29/50\n",
      "159/159 - 0s - loss: 0.0819 - accuracy: 0.9819 - val_loss: 0.1948 - val_accuracy: 0.9269\n",
      "Epoch 30/50\n",
      "159/159 - 0s - loss: 0.0753 - accuracy: 0.9829 - val_loss: 0.1111 - val_accuracy: 0.9827\n",
      "Epoch 31/50\n",
      "159/159 - 0s - loss: 0.0686 - accuracy: 0.9872 - val_loss: 0.0924 - val_accuracy: 0.9858\n",
      "Epoch 32/50\n",
      "159/159 - 0s - loss: 0.0589 - accuracy: 0.9892 - val_loss: 0.0803 - val_accuracy: 0.9937\n",
      "Epoch 33/50\n",
      "159/159 - 0s - loss: 0.0526 - accuracy: 0.9915 - val_loss: 0.0843 - val_accuracy: 0.9937\n",
      "Epoch 34/50\n",
      "159/159 - 0s - loss: 0.0458 - accuracy: 0.9935 - val_loss: 0.0715 - val_accuracy: 0.9937\n",
      "Epoch 35/50\n",
      "159/159 - 0s - loss: 0.0422 - accuracy: 0.9935 - val_loss: 0.0732 - val_accuracy: 0.9969\n",
      "Epoch 36/50\n",
      "159/159 - 0s - loss: 0.0368 - accuracy: 0.9947 - val_loss: 0.0809 - val_accuracy: 0.9945\n",
      "Epoch 37/50\n",
      "159/159 - 0s - loss: 0.0326 - accuracy: 0.9965 - val_loss: 0.0565 - val_accuracy: 0.9976\n",
      "Epoch 38/50\n",
      "159/159 - 0s - loss: 0.0286 - accuracy: 0.9953 - val_loss: 0.0576 - val_accuracy: 0.9984\n",
      "Epoch 39/50\n",
      "159/159 - 0s - loss: 0.0247 - accuracy: 0.9967 - val_loss: 0.0556 - val_accuracy: 0.9976\n",
      "Epoch 40/50\n",
      "159/159 - 0s - loss: 0.0228 - accuracy: 0.9972 - val_loss: 0.0562 - val_accuracy: 0.9976\n",
      "Epoch 41/50\n",
      "159/159 - 0s - loss: 0.0200 - accuracy: 0.9976 - val_loss: 0.0525 - val_accuracy: 0.9984\n",
      "Epoch 42/50\n",
      "159/159 - 0s - loss: 0.0179 - accuracy: 0.9980 - val_loss: 0.0508 - val_accuracy: 0.9976\n",
      "Epoch 43/50\n",
      "159/159 - 0s - loss: 0.0152 - accuracy: 0.9980 - val_loss: 0.0497 - val_accuracy: 0.9984\n",
      "Epoch 44/50\n",
      "159/159 - 0s - loss: 0.0149 - accuracy: 0.9984 - val_loss: 0.0503 - val_accuracy: 0.9976\n",
      "Epoch 45/50\n",
      "159/159 - 0s - loss: 0.0136 - accuracy: 0.9980 - val_loss: 0.0449 - val_accuracy: 0.9984\n",
      "Epoch 46/50\n",
      "159/159 - 0s - loss: 0.0112 - accuracy: 0.9984 - val_loss: 0.0430 - val_accuracy: 0.9984\n",
      "Epoch 47/50\n",
      "159/159 - 0s - loss: 0.0099 - accuracy: 0.9982 - val_loss: 0.0376 - val_accuracy: 0.9984\n",
      "Epoch 48/50\n",
      "159/159 - 0s - loss: 0.0092 - accuracy: 0.9980 - val_loss: 0.0379 - val_accuracy: 0.9984\n",
      "Epoch 49/50\n",
      "159/159 - 0s - loss: 0.0089 - accuracy: 0.9982 - val_loss: 0.0353 - val_accuracy: 0.9984\n",
      "Epoch 50/50\n",
      "159/159 - 0s - loss: 0.0071 - accuracy: 0.9988 - val_loss: 0.0411 - val_accuracy: 0.9984\n"
     ]
    },
    {
     "data": {
      "text/plain": [
       "<tensorflow.python.keras.callbacks.History at 0x144c8d0a0>"
      ]
     },
     "execution_count": 461,
     "metadata": {},
     "output_type": "execute_result"
    }
   ],
   "source": [
    "# Execute training\n",
    "model.fit(**args)"
   ]
  },
  {
   "cell_type": "code",
   "execution_count": 462,
   "metadata": {},
   "outputs": [
    {
     "name": "stdout",
     "output_type": "stream",
     "text": [
      "[[9.9866152e-01]\n",
      " [9.9843132e-01]\n",
      " [9.9814856e-01]\n",
      " ...\n",
      " [3.1789068e-07]\n",
      " [9.9984193e-01]\n",
      " [2.5170743e-03]]\n"
     ]
    }
   ],
   "source": [
    "# Prediction for test\n",
    "predict = model.predict(X_test)\n",
    "print(predict)"
   ]
  },
  {
   "cell_type": "code",
   "execution_count": 463,
   "metadata": {},
   "outputs": [
    {
     "name": "stdout",
     "output_type": "stream",
     "text": [
      "[[1.]\n",
      " [1.]\n",
      " [1.]\n",
      " ...\n",
      " [0.]\n",
      " [1.]\n",
      " [0.]]\n"
     ]
    }
   ],
   "source": [
    "classes = predict\n",
    "#classes = predict.argmax(-1)\n",
    "classes[classes <= 0.5] = 0\n",
    "classes[classes > 0.5] = 1\n",
    "print(classes)"
   ]
  },
  {
   "cell_type": "code",
   "execution_count": 464,
   "metadata": {},
   "outputs": [
    {
     "name": "stdout",
     "output_type": "stream",
     "text": [
      "Accuracy: 0.9988\n",
      "AUC: 0.9988\n"
     ]
    }
   ],
   "source": [
    "print('Accuracy: ' + \"{:.4f}\".format(accuracy_score(Y_test, classes)))\n",
    "print('AUC: ' + \"{:.4f}\".format(roc_auc_score(Y_test, classes)))"
   ]
  },
  {
   "cell_type": "code",
   "execution_count": 465,
   "metadata": {},
   "outputs": [
    {
     "name": "stdout",
     "output_type": "stream",
     "text": [
      "              precision    recall  f1-score   support\n",
      "\n",
      "           0   0.998753  0.998753  0.998753       802\n",
      "           1   0.998810  0.998810  0.998810       840\n",
      "\n",
      "    accuracy                       0.998782      1642\n",
      "   macro avg   0.998781  0.998781  0.998781      1642\n",
      "weighted avg   0.998782  0.998782  0.998782      1642\n",
      "\n",
      "[[801   1]\n",
      " [  1 839]]\n",
      "0.9987819732034104\n"
     ]
    }
   ],
   "source": [
    "# accuracy \n",
    "print (classification_report(Y_test, predict,digits = 6))\n",
    "print (confusion_matrix(Y_test, predict))\n",
    "print (accuracy_score(Y_test, predict))"
   ]
  },
  {
   "cell_type": "code",
   "execution_count": 466,
   "metadata": {},
   "outputs": [],
   "source": [
    "# Reading test data\n",
    "test_data = pd.read_csv(\"../data_generated/test_data.csv\", sep='\\t')\n",
    "test_data['Com_Followings_Ratio'] = test_data['Com_Followings_Ratio'].fillna(0)\n",
    "test_data = test_data.replace([np.inf],1000)\n",
    "# Normalization\n",
    "test_data = (test_data-test_data.min())/(test_data.max()-test_data.min())\n",
    "test_data = test_data.drop(columns=['Sink','Source'])"
   ]
  },
  {
   "cell_type": "code",
   "execution_count": 467,
   "metadata": {},
   "outputs": [
    {
     "data": {
      "text/plain": [
       "array([[4.3252138e-07],\n",
       "       [1.4806986e-03],\n",
       "       [9.9955702e-01],\n",
       "       ...,\n",
       "       [2.1935701e-03],\n",
       "       [2.0491481e-03],\n",
       "       [1.7515421e-03]], dtype=float32)"
      ]
     },
     "execution_count": 467,
     "metadata": {},
     "output_type": "execute_result"
    }
   ],
   "source": [
    "predict_test = model.predict(test_data)\n",
    "predict_test "
   ]
  },
  {
   "cell_type": "code",
   "execution_count": 468,
   "metadata": {},
   "outputs": [],
   "source": [
    "prediction = pd.DataFrame([])\n",
    "i = 0\n",
    "for row in predict_test:\n",
    "    i += 1\n",
    "    prediction = prediction.append(pd.DataFrame({'Id': i, 'Predicted': row[0]},\n",
    "                                                index=[0]), ignore_index=True) \n",
    "prediction.to_csv(\"../predictions/prediction_2020-09-15-3.csv\", sep=',', index=False,float_format='%.8f')"
   ]
  },
  {
   "cell_type": "code",
   "execution_count": null,
   "metadata": {},
   "outputs": [],
   "source": []
  }
 ],
 "metadata": {
  "kernelspec": {
   "display_name": "Python 3",
   "language": "python",
   "name": "python3"
  },
  "language_info": {
   "codemirror_mode": {
    "name": "ipython",
    "version": 3
   },
   "file_extension": ".py",
   "mimetype": "text/x-python",
   "name": "python",
   "nbconvert_exporter": "python",
   "pygments_lexer": "ipython3",
   "version": "3.8.5"
  }
 },
 "nbformat": 4,
 "nbformat_minor": 4
}
