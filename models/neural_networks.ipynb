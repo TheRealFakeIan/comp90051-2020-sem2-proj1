{
 "cells": [
  {
   "cell_type": "code",
   "execution_count": 156,
   "metadata": {},
   "outputs": [],
   "source": [
    "# General libraries\n",
    "import pandas as pd\n",
    "import numpy as np\n",
    "from collections import defaultdict\n",
    "import random\n",
    "from random import randrange\n",
    "from sklearn.metrics import classification_report, confusion_matrix, accuracy_score\n",
    "\n",
    "# Libraries for developing a Neural Network\n",
    "import tensorflow as tf \n",
    "from tensorflow import keras\n",
    "from tensorflow.keras import layers\n",
    "from tensorflow.keras import regularizers\n",
    "from tensorflow.keras.models import Model\n",
    "from tensorflow.keras.layers import Input, Dense, Dropout\n",
    "from tensorflow.keras.utils import to_categorical \n",
    "\n",
    "from sklearn.metrics import roc_auc_score\n"
   ]
  },
  {
   "cell_type": "code",
   "execution_count": 157,
   "metadata": {},
   "outputs": [],
   "source": [
    "dataset = pd.read_csv(\"../data_models/dataset2.csv\", sep='\\t')"
   ]
  },
  {
   "cell_type": "code",
   "execution_count": 158,
   "metadata": {},
   "outputs": [],
   "source": [
    "# Shuffle the data set\n",
    "dataset = dataset.sample(frac=1).reset_index(drop=True)\n",
    "# Filling NaN values with zeros. Not sure if it is correct.\n",
    "dataset['Com_Followings_Ratio'] = dataset['Com_Followings_Ratio'].fillna(0)"
   ]
  },
  {
   "cell_type": "code",
   "execution_count": 164,
   "metadata": {},
   "outputs": [],
   "source": [
    "msk = np.random.rand(len(dataset)) < 0.9\n",
    "\n",
    "Y = dataset['Real']\n",
    "X = dataset.drop(columns=['Real','Sink','Source'])\n",
    "\n",
    "# Normalization\n",
    "X = (X-X.min())/(X.max()-X.min())\n",
    "\n",
    "X_train = X[msk]\n",
    "X_test = X[~msk]\n",
    "Y_train = Y[msk]\n",
    "Y_test = Y[~msk]"
   ]
  },
  {
   "cell_type": "code",
   "execution_count": 110,
   "metadata": {},
   "outputs": [],
   "source": [
    "def auroc(y_true, y_pred):\n",
    "    return tf.py_function(roc_auc_score, (y_true, y_pred), tf.double)"
   ]
  },
  {
   "cell_type": "code",
   "execution_count": 167,
   "metadata": {},
   "outputs": [
    {
     "name": "stdout",
     "output_type": "stream",
     "text": [
      "Model: \"functional_95\"\n",
      "_________________________________________________________________\n",
      "Layer (type)                 Output Shape              Param #   \n",
      "=================================================================\n",
      "input_48 (InputLayer)        [(None, 6)]               0         \n",
      "_________________________________________________________________\n",
      "dense_141 (Dense)            (None, 100)               700       \n",
      "_________________________________________________________________\n",
      "dense_142 (Dense)            (None, 50)                5050      \n",
      "_________________________________________________________________\n",
      "dropout (Dropout)            (None, 50)                0         \n",
      "_________________________________________________________________\n",
      "dense_143 (Dense)            (None, 2)                 102       \n",
      "=================================================================\n",
      "Total params: 5,852\n",
      "Trainable params: 5,852\n",
      "Non-trainable params: 0\n",
      "_________________________________________________________________\n"
     ]
    }
   ],
   "source": [
    "# Model arguments\n",
    "args = dict(x = X_train,\n",
    "            y = Y_train,\n",
    "            epochs=100,\n",
    "            validation_split=0.2,\n",
    "            verbose=2,\n",
    "            shuffle=True)\n",
    "\n",
    "# Layer definition\n",
    "input_layer = Input(shape=(6,))\n",
    "hidden_layer_1 = Dense(100, activation='relu',activity_regularizer=regularizers.l1(10e-5))(input_layer)\n",
    "\n",
    "#hidden_layer_1 = Dropout(0.3)(hidden_layer_1)\n",
    "#hidden_layer_2 = Dense(8, activation='sigmoid')(hidden_layer_1)\n",
    "hidden_layer_2 = Dense(50, activation='relu')(hidden_layer_1)\n",
    "hidden_layer_2 = Dropout(0.3)(hidden_layer_2)\n",
    "output_layer = Dense(2, activation='softmax')(hidden_layer_2)\n",
    "model = Model(inputs=input_layer, outputs=output_layer)\n",
    "\n",
    "# Model set up\n",
    "model.compile(loss='categorical_crossentropy', optimizer='adam',metrics=['accuracy', auroc])\n",
    "model.compile(tf.keras.optimizers.RMSprop(learning_rate=0.01),\n",
    "              loss='sparse_categorical_crossentropy',\n",
    "              metrics=['accuracy'])\n",
    "\n",
    "model.summary()\n",
    "#model.compile(loss='categorical_crossentropy', optimizer='adam',metrics=['accuracy', auroc])"
   ]
  },
  {
   "cell_type": "code",
   "execution_count": 168,
   "metadata": {},
   "outputs": [
    {
     "name": "stdout",
     "output_type": "stream",
     "text": [
      "Epoch 1/100\n",
      "179/179 - 1s - loss: 0.6608 - accuracy: 0.5646 - val_loss: 0.6513 - val_accuracy: 0.5775\n",
      "Epoch 2/100\n",
      "179/179 - 0s - loss: 0.6537 - accuracy: 0.5838 - val_loss: 0.6570 - val_accuracy: 0.5768\n",
      "Epoch 3/100\n",
      "179/179 - 0s - loss: 0.6521 - accuracy: 0.5884 - val_loss: 0.6472 - val_accuracy: 0.5810\n",
      "Epoch 4/100\n",
      "179/179 - 0s - loss: 0.6494 - accuracy: 0.5950 - val_loss: 0.6470 - val_accuracy: 0.5761\n",
      "Epoch 5/100\n",
      "179/179 - 0s - loss: 0.6490 - accuracy: 0.5910 - val_loss: 0.6489 - val_accuracy: 0.5789\n",
      "Epoch 6/100\n",
      "179/179 - 0s - loss: 0.6497 - accuracy: 0.5941 - val_loss: 0.6461 - val_accuracy: 0.5761\n",
      "Epoch 7/100\n",
      "179/179 - 0s - loss: 0.6476 - accuracy: 0.5933 - val_loss: 0.6453 - val_accuracy: 0.6027\n",
      "Epoch 8/100\n",
      "179/179 - 0s - loss: 0.6485 - accuracy: 0.5913 - val_loss: 0.6453 - val_accuracy: 0.5789\n",
      "Epoch 9/100\n",
      "179/179 - 0s - loss: 0.6464 - accuracy: 0.5941 - val_loss: 0.6452 - val_accuracy: 0.5803\n",
      "Epoch 10/100\n",
      "179/179 - 0s - loss: 0.6458 - accuracy: 0.5947 - val_loss: 0.6420 - val_accuracy: 0.5810\n",
      "Epoch 11/100\n",
      "179/179 - 0s - loss: 0.6476 - accuracy: 0.5948 - val_loss: 0.6466 - val_accuracy: 0.5845\n",
      "Epoch 12/100\n",
      "179/179 - 0s - loss: 0.6461 - accuracy: 0.5950 - val_loss: 0.6466 - val_accuracy: 0.5852\n",
      "Epoch 13/100\n",
      "179/179 - 0s - loss: 0.6464 - accuracy: 0.5988 - val_loss: 0.6436 - val_accuracy: 0.5817\n",
      "Epoch 14/100\n",
      "179/179 - 0s - loss: 0.6464 - accuracy: 0.5933 - val_loss: 0.6437 - val_accuracy: 0.5824\n",
      "Epoch 15/100\n",
      "179/179 - 0s - loss: 0.6475 - accuracy: 0.5961 - val_loss: 0.6493 - val_accuracy: 0.5838\n",
      "Epoch 16/100\n",
      "179/179 - 0s - loss: 0.6452 - accuracy: 0.5961 - val_loss: 0.6433 - val_accuracy: 0.5831\n",
      "Epoch 17/100\n",
      "179/179 - 0s - loss: 0.6465 - accuracy: 0.5955 - val_loss: 0.6505 - val_accuracy: 0.5845\n",
      "Epoch 18/100\n",
      "179/179 - 0s - loss: 0.6447 - accuracy: 0.5968 - val_loss: 0.6381 - val_accuracy: 0.5810\n",
      "Epoch 19/100\n",
      "179/179 - 0s - loss: 0.6453 - accuracy: 0.5962 - val_loss: 0.6503 - val_accuracy: 0.5873\n",
      "Epoch 20/100\n",
      "179/179 - 0s - loss: 0.6459 - accuracy: 0.5962 - val_loss: 0.6413 - val_accuracy: 0.5817\n",
      "Epoch 21/100\n",
      "179/179 - 0s - loss: 0.6463 - accuracy: 0.5966 - val_loss: 0.6429 - val_accuracy: 0.5852\n",
      "Epoch 22/100\n",
      "179/179 - 0s - loss: 0.6425 - accuracy: 0.5978 - val_loss: 0.6430 - val_accuracy: 0.5838\n",
      "Epoch 23/100\n",
      "179/179 - 0s - loss: 0.6441 - accuracy: 0.6025 - val_loss: 0.6486 - val_accuracy: 0.5838\n",
      "Epoch 24/100\n",
      "179/179 - 0s - loss: 0.6439 - accuracy: 0.5975 - val_loss: 0.6443 - val_accuracy: 0.5873\n",
      "Epoch 25/100\n",
      "179/179 - 0s - loss: 0.6434 - accuracy: 0.5980 - val_loss: 0.6439 - val_accuracy: 0.5838\n",
      "Epoch 26/100\n",
      "179/179 - 0s - loss: 0.6441 - accuracy: 0.5981 - val_loss: 0.6431 - val_accuracy: 0.5845\n",
      "Epoch 27/100\n",
      "179/179 - 0s - loss: 0.6444 - accuracy: 0.5971 - val_loss: 0.6388 - val_accuracy: 0.5866\n",
      "Epoch 28/100\n",
      "179/179 - 0s - loss: 0.6461 - accuracy: 0.5975 - val_loss: 0.6337 - val_accuracy: 0.5845\n",
      "Epoch 29/100\n",
      "179/179 - 0s - loss: 0.6425 - accuracy: 0.5961 - val_loss: 0.6531 - val_accuracy: 0.5845\n",
      "Epoch 30/100\n",
      "179/179 - 0s - loss: 0.6456 - accuracy: 0.5961 - val_loss: 0.6418 - val_accuracy: 0.5838\n",
      "Epoch 31/100\n",
      "179/179 - 0s - loss: 0.6451 - accuracy: 0.5985 - val_loss: 0.6691 - val_accuracy: 0.5845\n",
      "Epoch 32/100\n",
      "179/179 - 0s - loss: 0.6414 - accuracy: 0.5964 - val_loss: 0.6378 - val_accuracy: 0.5880\n",
      "Epoch 33/100\n",
      "179/179 - 0s - loss: 0.6438 - accuracy: 0.5999 - val_loss: 0.6426 - val_accuracy: 0.5852\n",
      "Epoch 34/100\n",
      "179/179 - 0s - loss: 0.6437 - accuracy: 0.5975 - val_loss: 0.6370 - val_accuracy: 0.5852\n",
      "Epoch 35/100\n",
      "179/179 - 0s - loss: 0.6427 - accuracy: 0.5994 - val_loss: 0.6422 - val_accuracy: 0.5894\n",
      "Epoch 36/100\n",
      "179/179 - 0s - loss: 0.6480 - accuracy: 0.5950 - val_loss: 0.6409 - val_accuracy: 0.5852\n",
      "Epoch 37/100\n",
      "179/179 - 0s - loss: 0.6462 - accuracy: 0.5961 - val_loss: 0.6458 - val_accuracy: 0.5824\n",
      "Epoch 38/100\n",
      "179/179 - 0s - loss: 0.6469 - accuracy: 0.5933 - val_loss: 0.6532 - val_accuracy: 0.5866\n",
      "Epoch 39/100\n",
      "179/179 - 0s - loss: 0.6419 - accuracy: 0.5968 - val_loss: 0.6441 - val_accuracy: 0.5831\n",
      "Epoch 40/100\n",
      "179/179 - 0s - loss: 0.6431 - accuracy: 0.5985 - val_loss: 0.6456 - val_accuracy: 0.5817\n",
      "Epoch 41/100\n",
      "179/179 - 0s - loss: 0.6470 - accuracy: 0.5983 - val_loss: 0.6435 - val_accuracy: 0.5852\n",
      "Epoch 42/100\n",
      "179/179 - 0s - loss: 0.6476 - accuracy: 0.5980 - val_loss: 0.6548 - val_accuracy: 0.5845\n",
      "Epoch 43/100\n",
      "179/179 - 0s - loss: 0.6446 - accuracy: 0.5978 - val_loss: 0.6582 - val_accuracy: 0.5831\n",
      "Epoch 44/100\n",
      "179/179 - 0s - loss: 0.6466 - accuracy: 0.6015 - val_loss: 0.6404 - val_accuracy: 0.5852\n",
      "Epoch 45/100\n",
      "179/179 - 0s - loss: 0.6430 - accuracy: 0.5954 - val_loss: 0.6506 - val_accuracy: 0.5852\n",
      "Epoch 46/100\n",
      "179/179 - 0s - loss: 0.6450 - accuracy: 0.5952 - val_loss: 0.6666 - val_accuracy: 0.5859\n",
      "Epoch 47/100\n",
      "179/179 - 0s - loss: 0.6473 - accuracy: 0.5936 - val_loss: 0.6599 - val_accuracy: 0.5880\n",
      "Epoch 48/100\n",
      "179/179 - 0s - loss: 0.6452 - accuracy: 0.5961 - val_loss: 0.6624 - val_accuracy: 0.5957\n",
      "Epoch 49/100\n",
      "179/179 - 0s - loss: 0.6473 - accuracy: 0.5945 - val_loss: 0.6622 - val_accuracy: 0.5859\n",
      "Epoch 50/100\n",
      "179/179 - 0s - loss: 0.6468 - accuracy: 0.5962 - val_loss: 0.6556 - val_accuracy: 0.5831\n",
      "Epoch 51/100\n",
      "179/179 - 0s - loss: 0.6453 - accuracy: 0.5992 - val_loss: 0.6506 - val_accuracy: 0.5838\n",
      "Epoch 52/100\n",
      "179/179 - 0s - loss: 0.6447 - accuracy: 0.5988 - val_loss: 0.6513 - val_accuracy: 0.5845\n",
      "Epoch 53/100\n",
      "179/179 - 0s - loss: 0.6481 - accuracy: 0.6004 - val_loss: 0.6640 - val_accuracy: 0.5845\n",
      "Epoch 54/100\n",
      "179/179 - 0s - loss: 0.6451 - accuracy: 0.5962 - val_loss: 0.6652 - val_accuracy: 0.5852\n",
      "Epoch 55/100\n",
      "179/179 - 0s - loss: 0.6469 - accuracy: 0.5952 - val_loss: 0.6424 - val_accuracy: 0.5838\n",
      "Epoch 56/100\n",
      "179/179 - 0s - loss: 0.6469 - accuracy: 0.5988 - val_loss: 0.6653 - val_accuracy: 0.5845\n",
      "Epoch 57/100\n",
      "179/179 - 0s - loss: 0.6422 - accuracy: 0.5969 - val_loss: 0.6462 - val_accuracy: 0.5978\n",
      "Epoch 58/100\n",
      "179/179 - 0s - loss: 0.6437 - accuracy: 0.5959 - val_loss: 0.6501 - val_accuracy: 0.5873\n",
      "Epoch 59/100\n",
      "179/179 - 0s - loss: 0.6430 - accuracy: 0.5966 - val_loss: 0.6343 - val_accuracy: 0.5845\n",
      "Epoch 60/100\n",
      "179/179 - 0s - loss: 0.6426 - accuracy: 0.5943 - val_loss: 0.6432 - val_accuracy: 0.5810\n",
      "Epoch 61/100\n",
      "179/179 - 0s - loss: 0.6444 - accuracy: 0.5981 - val_loss: 0.6459 - val_accuracy: 0.5880\n",
      "Epoch 62/100\n",
      "179/179 - 0s - loss: 0.6439 - accuracy: 0.5980 - val_loss: 0.6497 - val_accuracy: 0.5852\n",
      "Epoch 63/100\n",
      "179/179 - 0s - loss: 0.6441 - accuracy: 0.5961 - val_loss: 0.6518 - val_accuracy: 0.5852\n",
      "Epoch 64/100\n",
      "179/179 - 0s - loss: 0.6468 - accuracy: 0.5985 - val_loss: 0.6399 - val_accuracy: 0.5831\n",
      "Epoch 65/100\n",
      "179/179 - 0s - loss: 0.6437 - accuracy: 0.5975 - val_loss: 0.6548 - val_accuracy: 0.5845\n",
      "Epoch 66/100\n",
      "179/179 - 0s - loss: 0.6491 - accuracy: 0.5957 - val_loss: 0.6415 - val_accuracy: 0.5866\n",
      "Epoch 67/100\n",
      "179/179 - 0s - loss: 0.6405 - accuracy: 0.5959 - val_loss: 0.6457 - val_accuracy: 0.5838\n",
      "Epoch 68/100\n",
      "179/179 - 0s - loss: 0.6470 - accuracy: 0.5980 - val_loss: 0.6458 - val_accuracy: 0.5852\n",
      "Epoch 69/100\n",
      "179/179 - 0s - loss: 0.6457 - accuracy: 0.5957 - val_loss: 0.6391 - val_accuracy: 0.5866\n",
      "Epoch 70/100\n",
      "179/179 - 0s - loss: 0.6413 - accuracy: 0.5940 - val_loss: 0.6432 - val_accuracy: 0.5824\n",
      "Epoch 71/100\n",
      "179/179 - 0s - loss: 0.6445 - accuracy: 0.5999 - val_loss: 0.6564 - val_accuracy: 0.5831\n",
      "Epoch 72/100\n",
      "179/179 - 0s - loss: 0.6418 - accuracy: 0.5997 - val_loss: 0.6398 - val_accuracy: 0.5866\n",
      "Epoch 73/100\n",
      "179/179 - 0s - loss: 0.6448 - accuracy: 0.5976 - val_loss: 0.6521 - val_accuracy: 0.5845\n",
      "Epoch 74/100\n",
      "179/179 - 0s - loss: 0.6466 - accuracy: 0.5985 - val_loss: 0.6464 - val_accuracy: 0.5852\n",
      "Epoch 75/100\n",
      "179/179 - 0s - loss: 0.6427 - accuracy: 0.5973 - val_loss: 0.6586 - val_accuracy: 0.5866\n",
      "Epoch 76/100\n",
      "179/179 - 0s - loss: 0.6481 - accuracy: 0.5962 - val_loss: 0.6622 - val_accuracy: 0.5852\n",
      "Epoch 77/100\n",
      "179/179 - 0s - loss: 0.6505 - accuracy: 0.5976 - val_loss: 0.7090 - val_accuracy: 0.5824\n",
      "Epoch 78/100\n",
      "179/179 - 0s - loss: 0.6440 - accuracy: 0.5975 - val_loss: 0.6431 - val_accuracy: 0.5831\n",
      "Epoch 79/100\n",
      "179/179 - 0s - loss: 0.6450 - accuracy: 0.5975 - val_loss: 0.6538 - val_accuracy: 0.5852\n",
      "Epoch 80/100\n",
      "179/179 - 0s - loss: 0.6430 - accuracy: 0.5947 - val_loss: 0.6401 - val_accuracy: 0.5838\n",
      "Epoch 81/100\n",
      "179/179 - 0s - loss: 0.6499 - accuracy: 0.5978 - val_loss: 0.6428 - val_accuracy: 0.5831\n"
     ]
    },
    {
     "name": "stdout",
     "output_type": "stream",
     "text": [
      "Epoch 82/100\n",
      "179/179 - 0s - loss: 0.6498 - accuracy: 0.6008 - val_loss: 0.6396 - val_accuracy: 0.5859\n",
      "Epoch 83/100\n",
      "179/179 - 0s - loss: 0.6428 - accuracy: 0.5994 - val_loss: 0.6362 - val_accuracy: 0.6159\n",
      "Epoch 84/100\n",
      "179/179 - 0s - loss: 0.6438 - accuracy: 0.5948 - val_loss: 0.6507 - val_accuracy: 0.5852\n",
      "Epoch 85/100\n",
      "179/179 - 0s - loss: 0.6444 - accuracy: 0.5933 - val_loss: 0.6390 - val_accuracy: 0.5866\n",
      "Epoch 86/100\n",
      "179/179 - 0s - loss: 0.6435 - accuracy: 0.5938 - val_loss: 0.6476 - val_accuracy: 0.5852\n",
      "Epoch 87/100\n",
      "179/179 - 0s - loss: 0.6435 - accuracy: 0.5997 - val_loss: 0.6488 - val_accuracy: 0.5943\n",
      "Epoch 88/100\n",
      "179/179 - 0s - loss: 0.6465 - accuracy: 0.5997 - val_loss: 0.6668 - val_accuracy: 0.5915\n",
      "Epoch 89/100\n",
      "179/179 - 0s - loss: 0.6436 - accuracy: 0.5976 - val_loss: 0.6624 - val_accuracy: 0.5845\n",
      "Epoch 90/100\n",
      "179/179 - 0s - loss: 0.6442 - accuracy: 0.5954 - val_loss: 0.6584 - val_accuracy: 0.5845\n",
      "Epoch 91/100\n",
      "179/179 - 0s - loss: 0.6452 - accuracy: 0.5957 - val_loss: 0.6480 - val_accuracy: 0.5852\n",
      "Epoch 92/100\n",
      "179/179 - 0s - loss: 0.6414 - accuracy: 0.5995 - val_loss: 0.6504 - val_accuracy: 0.5817\n",
      "Epoch 93/100\n",
      "179/179 - 0s - loss: 0.6466 - accuracy: 0.5978 - val_loss: 0.6537 - val_accuracy: 0.5838\n",
      "Epoch 94/100\n",
      "179/179 - 0s - loss: 0.6481 - accuracy: 0.5997 - val_loss: 0.6378 - val_accuracy: 0.5831\n",
      "Epoch 95/100\n",
      "179/179 - 0s - loss: 0.6446 - accuracy: 0.5985 - val_loss: 0.6485 - val_accuracy: 0.5866\n",
      "Epoch 96/100\n",
      "179/179 - 0s - loss: 0.6433 - accuracy: 0.5990 - val_loss: 0.6678 - val_accuracy: 0.5859\n",
      "Epoch 97/100\n",
      "179/179 - 0s - loss: 0.6467 - accuracy: 0.5962 - val_loss: 0.6428 - val_accuracy: 0.5831\n",
      "Epoch 98/100\n",
      "179/179 - 0s - loss: 0.6453 - accuracy: 0.6001 - val_loss: 0.6494 - val_accuracy: 0.5873\n",
      "Epoch 99/100\n",
      "179/179 - 0s - loss: 0.6442 - accuracy: 0.5992 - val_loss: 0.6346 - val_accuracy: 0.5880\n",
      "Epoch 100/100\n",
      "179/179 - 0s - loss: 0.6433 - accuracy: 0.5913 - val_loss: 0.6579 - val_accuracy: 0.5838\n"
     ]
    },
    {
     "data": {
      "text/plain": [
       "<tensorflow.python.keras.callbacks.History at 0x143653d60>"
      ]
     },
     "execution_count": 168,
     "metadata": {},
     "output_type": "execute_result"
    }
   ],
   "source": [
    "# Execute training\n",
    "model.fit(**args)"
   ]
  },
  {
   "cell_type": "code",
   "execution_count": 169,
   "metadata": {},
   "outputs": [
    {
     "data": {
      "text/plain": [
       "(797, 6)"
      ]
     },
     "execution_count": 169,
     "metadata": {},
     "output_type": "execute_result"
    }
   ],
   "source": [
    "X_test.shape"
   ]
  },
  {
   "cell_type": "code",
   "execution_count": 170,
   "metadata": {},
   "outputs": [],
   "source": [
    "# Prediction for test\n",
    "predict = model.predict(X_test)\n",
    "classes = []\n",
    "classes = predict.argmax(axis=-1)"
   ]
  },
  {
   "cell_type": "code",
   "execution_count": 171,
   "metadata": {},
   "outputs": [
    {
     "name": "stdout",
     "output_type": "stream",
     "text": [
      "Accuracy: 0.5935\n",
      "[0 0 0 0 0 0 0 0 0 0 0 1 0 0 0 0 0 0 0 0 0 0 0 1 0 0 0 0 0 0 0 0 0 0 0 1 0\n",
      " 0 0 0 0 0 0 0 0 1 0 0 0 0 1 1 1 0 0 0 0 0 0 0 0 0 0 0 0 0 0 0 0 0 0 0 0 0\n",
      " 0 0 0 0 0 0 0 0 0 0 0 0 0 0 0 0 0 0 0 0 0 1 1 0 0 0 0 0 0 0 0 0 0 0 0 0 0\n",
      " 1 0 0 0 0 0 0 0 0 0 0 0 1 0 0 0 1 0 0 0 0 0 0 0 0 0 0 0 0 1 0 0 0 0 0 0 1\n",
      " 0 0 0 0 0 0 0 0 0 0 0 0 0 0 0 0 0 0 0 0 0 1 0 0 0 0 0 0 0 0 0 0 0 1 0 1 0\n",
      " 0 0 0 0 0 0 0 0 0 1 0 0 0 0 0 0 0 0 0 0 0 0 0 0 0 0 0 0 0 0 0 0 0 0 1 0 0\n",
      " 1 1 0 0 0 0 0 1 0 0 0 0 1 1 1 0 0 1 0 0 0 1 0 0 0 0 0 0 0 0 0 0 0 0 0 0 0\n",
      " 0 0 0 0 0 1 0 1 0 0 0 0 0 0 0 0 1 0 0 0 0 0 0 0 1 0 0 0 1 0 0 0 0 0 0 0 0\n",
      " 0 0 0 0 0 0 0 0 0 0 0 0 0 0 1 0 0 1 0 0 0 0 0 0 1 0 0 1 0 0 0 0 1 0 0 0 0\n",
      " 0 0 0 0 0 0 0 0 0 0 0 0 0 0 0 0 1 0 0 1 0 0 0 0 0 0 0 0 1 0 0 0 0 0 0 0 0\n",
      " 0 0 0 0 0 0 0 0 0 0 0 0 0 0 0 1 0 0 0 0 0 0 0 0 0 0 0 0 0 0 0 0 0 0 0 0 0\n",
      " 0 0 0 0 0 0 0 0 1 0 0 0 1 0 0 0 0 0 0 0 0 0 0 0 1 0 0 0 1 0 0 0 0 0 0 1 0\n",
      " 0 0 0 0 0 0 0 0 1 1 0 0 0 0 0 0 0 0 0 1 0 1 0 0 0 1 0 0 0 0 0 0 0 1 0 0 0\n",
      " 0 0 0 0 0 0 0 0 0 0 0 0 0 1 0 0 0 0 0 0 0 0 0 1 1 0 0 0 0 0 0 0 0 0 0 0 0\n",
      " 1 1 0 0 1 1 0 1 0 0 1 0 1 0 0 0 0 0 0 0 0 0 1 0 0 0 0 0 0 0 0 0 0 0 0 1 0\n",
      " 0 0 1 0 0 0 1 0 0 0 0 0 0 0 0 0 0 0 1 0 0 0 0 0 0 0 0 0 0 0 0 0 0 0 0 1 0\n",
      " 0 0 0 0 0 1 1 0 0 0 0 0 0 0 1 0 1 0 0 1 1 0 0 0 0 0 0 0 0 1 0 0 0 0 0 0 1\n",
      " 0 0 0 0 0 1 0 1 0 0 0 0 1 0 0 0 0 0 1 0 1 0 0 0 0 0 0 1 0 0 0 0 0 1 0 1 0\n",
      " 0 0 0 0 1 0 0 0 0 1 0 0 0 0 0 0 1 1 0 0 0 0 0 0 0 0 0 0 0 0 0 0 0 0 0 0 0\n",
      " 0 0 0 0 0 1 0 0 0 0 0 0 1 0 0 0 0 0 0 0 0 0 0 0 0 0 0 0 0 0 0 0 0 0 0 0 0\n",
      " 0 0 0 0 0 0 0 0 0 0 0 0 0 0 0 1 1 1 0 0 0 0 0 0 1 0 0 0 0 0 1 0 0 0 1 0 0\n",
      " 0 0 0 0 0 0 0 0 0 0 0 0 0 0 0 0 0 0 0 0]\n"
     ]
    }
   ],
   "source": [
    "print('Accuracy: ' + \"{:.4f}\".format(accuracy_score(Y_test, classes)))\n",
    "print(classes)"
   ]
  },
  {
   "cell_type": "code",
   "execution_count": 172,
   "metadata": {},
   "outputs": [
    {
     "name": "stdout",
     "output_type": "stream",
     "text": [
      "[[0.6923984  0.3076015 ]\n",
      " [0.52955765 0.47044238]\n",
      " [0.5561888  0.4438112 ]\n",
      " ...\n",
      " [0.54439664 0.45560336]\n",
      " [0.61030614 0.38969386]\n",
      " [0.56427205 0.4357279 ]]\n"
     ]
    }
   ],
   "source": [
    "print(predict)"
   ]
  },
  {
   "cell_type": "code",
   "execution_count": 173,
   "metadata": {},
   "outputs": [
    {
     "data": {
      "text/plain": [
       "(797,)"
      ]
     },
     "execution_count": 173,
     "metadata": {},
     "output_type": "execute_result"
    }
   ],
   "source": [
    "Y_test.shape"
   ]
  },
  {
   "cell_type": "code",
   "execution_count": 174,
   "metadata": {},
   "outputs": [
    {
     "data": {
      "text/plain": [
       "(797,)"
      ]
     },
     "execution_count": 174,
     "metadata": {},
     "output_type": "execute_result"
    }
   ],
   "source": [
    "classes.shape"
   ]
  },
  {
   "cell_type": "code",
   "execution_count": 175,
   "metadata": {},
   "outputs": [
    {
     "name": "stdout",
     "output_type": "stream",
     "text": [
      "0.5968165501605894\n"
     ]
    }
   ],
   "source": [
    "auc = roc_auc_score(Y_test, classes)\n",
    "print(auc)"
   ]
  },
  {
   "cell_type": "code",
   "execution_count": 151,
   "metadata": {},
   "outputs": [],
   "source": [
    "# accuracy \n",
    "#print (classification_report(Y_test, predict,digits = 6))\n",
    "#print (confusion_matrix(Y_test, predict))\n",
    "#print (accuracy_score(Y_test, predict))"
   ]
  },
  {
   "cell_type": "code",
   "execution_count": 176,
   "metadata": {},
   "outputs": [],
   "source": [
    "# Reading test data\n",
    "test_data = pd.read_csv(\"../data_models/test_data.csv\", sep='\\t')\n",
    "test_data['Com_Followings_Ratio'] = test_data['Com_Followings_Ratio'].fillna(0)\n",
    "# Normalization\n",
    "test_data = (test_data-test_data.min())/(test_data.max()-test_data.min())\n",
    "test_data = test_data.drop(columns=['Sink','Source'])"
   ]
  },
  {
   "cell_type": "code",
   "execution_count": 177,
   "metadata": {},
   "outputs": [
    {
     "data": {
      "text/plain": [
       "array([[0.70154375, 0.29845625],\n",
       "       [0.5504828 , 0.4495172 ],\n",
       "       [0.5242651 , 0.47573483],\n",
       "       ...,\n",
       "       [0.549556  , 0.45044395],\n",
       "       [0.54973847, 0.4502615 ],\n",
       "       [0.53751034, 0.46248963]], dtype=float32)"
      ]
     },
     "execution_count": 177,
     "metadata": {},
     "output_type": "execute_result"
    }
   ],
   "source": [
    "predict_test = model.predict(test_data)\n",
    "predict_test "
   ]
  },
  {
   "cell_type": "code",
   "execution_count": 178,
   "metadata": {},
   "outputs": [],
   "source": [
    "classes = []\n",
    "classes = predict_test.argmax(axis=-1)\n"
   ]
  },
  {
   "cell_type": "code",
   "execution_count": 179,
   "metadata": {},
   "outputs": [],
   "source": [
    "prediction = pd.DataFrame([])\n",
    "i = 0\n",
    "for row in predict_test:\n",
    "    i += 1\n",
    "    prediction = prediction.append(pd.DataFrame({'Id': i, 'Predicted': row[1]},\n",
    "                                                index=[0]), ignore_index=True) \n",
    "prediction.to_csv(\"../predictions/prediction_2020-09-13.csv\", sep=',', index=False)"
   ]
  },
  {
   "cell_type": "code",
   "execution_count": null,
   "metadata": {},
   "outputs": [],
   "source": []
  }
 ],
 "metadata": {
  "kernelspec": {
   "display_name": "Python 3",
   "language": "python",
   "name": "python3"
  },
  "language_info": {
   "codemirror_mode": {
    "name": "ipython",
    "version": 3
   },
   "file_extension": ".py",
   "mimetype": "text/x-python",
   "name": "python",
   "nbconvert_exporter": "python",
   "pygments_lexer": "ipython3",
   "version": "3.8.5"
  }
 },
 "nbformat": 4,
 "nbformat_minor": 4
}
