{
 "cells": [
  {
   "cell_type": "code",
   "execution_count": 80,
   "metadata": {},
   "outputs": [],
   "source": [
    "# General libraries\n",
    "import pandas as pd\n",
    "import numpy as np\n",
    "from collections import defaultdict\n",
    "import random\n",
    "from random import randrange\n",
    "from sklearn.metrics import classification_report, confusion_matrix, accuracy_score\n",
    "from sklearn.naive_bayes import CategoricalNB"
   ]
  },
  {
   "cell_type": "code",
   "execution_count": 81,
   "metadata": {},
   "outputs": [],
   "source": [
    "# dictionaries with the structure source -> array of followings\n",
    "dictionary = defaultdict(list)\n",
    "# simple datafram to store the sources and the count of source followings\n",
    "data = pd.DataFrame([])\n",
    "\n",
    "file = open('data/train.txt', 'r') \n",
    "lines = file.readlines() \n",
    "count = 0\n",
    "for line in lines: \n",
    "    count = count + 1\n",
    "    split_string = list(map(int,line.strip().split(\"\\t\")))\n",
    "    dictionary[split_string[0]] = []\n",
    "    if (len(split_string) > 1):\n",
    "        dictionary[split_string[0]] = sorted(split_string[1:len(split_string)])\n",
    "        \n",
    "    data = data.append(pd.DataFrame({'Source': split_string[0], 'Source_Followings': len(dictionary[split_string[0]]) }, index=[0]), ignore_index=True)"
   ]
  },
  {
   "cell_type": "code",
   "execution_count": 82,
   "metadata": {},
   "outputs": [
    {
     "data": {
      "text/plain": [
       "1137"
      ]
     },
     "execution_count": 82,
     "metadata": {},
     "output_type": "execute_result"
    }
   ],
   "source": [
    "def followingInCommon(node1,node2):  \n",
    "    list1 = dictionary[node1]\n",
    "    list2 = dictionary[node2]  \n",
    "    common_elements = set(list1).intersection(list2) \n",
    "    return len(common_elements)\n",
    "    \n",
    "# Test    \n",
    "followingInCommon(3849054,161276) "
   ]
  },
  {
   "cell_type": "code",
   "execution_count": 118,
   "metadata": {},
   "outputs": [],
   "source": [
    "real_edges = pd.read_csv(\"model_data/real_edges.csv\", sep='\\t')\n",
    "fake_edges = pd.read_csv(\"model_data/fake_edges.csv\", sep='\\t')"
   ]
  },
  {
   "cell_type": "code",
   "execution_count": 119,
   "metadata": {},
   "outputs": [],
   "source": [
    "real_edges['Common_Followings'] = real_edges.apply(lambda x: followingInCommon(x['Source'], x['Sink']), axis=1)"
   ]
  },
  {
   "cell_type": "code",
   "execution_count": 120,
   "metadata": {},
   "outputs": [],
   "source": [
    "fake_edges['Common_Followings'] = fake_edges.apply(lambda x: followingInCommon(x['Source'], x['Sink']), axis=1)"
   ]
  },
  {
   "cell_type": "code",
   "execution_count": 121,
   "metadata": {},
   "outputs": [],
   "source": [
    "real_edges['Com_Followings_Ratio'] = real_edges['Common_Followings']/real_edges['Source_Followings']\n",
    "fake_edges['Com_Followings_Ratio'] = fake_edges['Common_Followings']/fake_edges['Source_Followings']\n",
    "real_edges['Followers_Ratio'] = real_edges['Sink_Followers']/real_edges['Source_Followers']\n",
    "fake_edges['Followers_Ratio'] = fake_edges['Sink_Followers']/fake_edges['Source_Followers']"
   ]
  },
  {
   "cell_type": "code",
   "execution_count": 122,
   "metadata": {},
   "outputs": [
    {
     "data": {
      "text/html": [
       "<div>\n",
       "<style scoped>\n",
       "    .dataframe tbody tr th:only-of-type {\n",
       "        vertical-align: middle;\n",
       "    }\n",
       "\n",
       "    .dataframe tbody tr th {\n",
       "        vertical-align: top;\n",
       "    }\n",
       "\n",
       "    .dataframe thead th {\n",
       "        text-align: right;\n",
       "    }\n",
       "</style>\n",
       "<table border=\"1\" class=\"dataframe\">\n",
       "  <thead>\n",
       "    <tr style=\"text-align: right;\">\n",
       "      <th></th>\n",
       "      <th>Source</th>\n",
       "      <th>Sink</th>\n",
       "      <th>Source_Followings</th>\n",
       "      <th>Source_Followers</th>\n",
       "      <th>Sink_Followers</th>\n",
       "      <th>Common_Followings</th>\n",
       "      <th>Com_Followings_Ratio</th>\n",
       "      <th>Followers_Ratio</th>\n",
       "    </tr>\n",
       "  </thead>\n",
       "  <tbody>\n",
       "    <tr>\n",
       "      <th>0</th>\n",
       "      <td>4156257</td>\n",
       "      <td>4504242</td>\n",
       "      <td>113</td>\n",
       "      <td>63</td>\n",
       "      <td>274</td>\n",
       "      <td>39</td>\n",
       "      <td>0.345133</td>\n",
       "      <td>4.349206</td>\n",
       "    </tr>\n",
       "    <tr>\n",
       "      <th>1</th>\n",
       "      <td>2960143</td>\n",
       "      <td>1466981</td>\n",
       "      <td>192</td>\n",
       "      <td>8</td>\n",
       "      <td>5</td>\n",
       "      <td>0</td>\n",
       "      <td>0.000000</td>\n",
       "      <td>0.625000</td>\n",
       "    </tr>\n",
       "    <tr>\n",
       "      <th>2</th>\n",
       "      <td>1719606</td>\n",
       "      <td>527267</td>\n",
       "      <td>278</td>\n",
       "      <td>101</td>\n",
       "      <td>327</td>\n",
       "      <td>20</td>\n",
       "      <td>0.071942</td>\n",
       "      <td>3.237624</td>\n",
       "    </tr>\n",
       "    <tr>\n",
       "      <th>3</th>\n",
       "      <td>531474</td>\n",
       "      <td>439041</td>\n",
       "      <td>89</td>\n",
       "      <td>57</td>\n",
       "      <td>79</td>\n",
       "      <td>23</td>\n",
       "      <td>0.258427</td>\n",
       "      <td>1.385965</td>\n",
       "    </tr>\n",
       "    <tr>\n",
       "      <th>4</th>\n",
       "      <td>786311</td>\n",
       "      <td>1663869</td>\n",
       "      <td>18</td>\n",
       "      <td>32</td>\n",
       "      <td>117</td>\n",
       "      <td>5</td>\n",
       "      <td>0.277778</td>\n",
       "      <td>3.656250</td>\n",
       "    </tr>\n",
       "  </tbody>\n",
       "</table>\n",
       "</div>"
      ],
      "text/plain": [
       "    Source     Sink  Source_Followings  Source_Followers  Sink_Followers  \\\n",
       "0  4156257  4504242                113                63             274   \n",
       "1  2960143  1466981                192                 8               5   \n",
       "2  1719606   527267                278               101             327   \n",
       "3   531474   439041                 89                57              79   \n",
       "4   786311  1663869                 18                32             117   \n",
       "\n",
       "   Common_Followings  Com_Followings_Ratio  Followers_Ratio  \n",
       "0                 39              0.345133         4.349206  \n",
       "1                  0              0.000000         0.625000  \n",
       "2                 20              0.071942         3.237624  \n",
       "3                 23              0.258427         1.385965  \n",
       "4                  5              0.277778         3.656250  "
      ]
     },
     "execution_count": 122,
     "metadata": {},
     "output_type": "execute_result"
    }
   ],
   "source": [
    "real_edges.head()"
   ]
  },
  {
   "cell_type": "code",
   "execution_count": 123,
   "metadata": {},
   "outputs": [],
   "source": [
    "real_edges['Real'] = 1\n",
    "fake_edges['Real'] = 0"
   ]
  },
  {
   "cell_type": "code",
   "execution_count": 15,
   "metadata": {},
   "outputs": [
    {
     "data": {
      "text/plain": [
       "(2000, 6)"
      ]
     },
     "execution_count": 15,
     "metadata": {},
     "output_type": "execute_result"
    }
   ],
   "source": [
    "real_edges.shape\n",
    "fake_edges.shape"
   ]
  },
  {
   "cell_type": "code",
   "execution_count": 124,
   "metadata": {},
   "outputs": [],
   "source": [
    "frames = [real_edges, fake_edges]\n",
    "dataset = pd.concat(frames, ignore_index=True)"
   ]
  },
  {
   "cell_type": "code",
   "execution_count": 153,
   "metadata": {},
   "outputs": [
    {
     "data": {
      "text/html": [
       "<div>\n",
       "<style scoped>\n",
       "    .dataframe tbody tr th:only-of-type {\n",
       "        vertical-align: middle;\n",
       "    }\n",
       "\n",
       "    .dataframe tbody tr th {\n",
       "        vertical-align: top;\n",
       "    }\n",
       "\n",
       "    .dataframe thead th {\n",
       "        text-align: right;\n",
       "    }\n",
       "</style>\n",
       "<table border=\"1\" class=\"dataframe\">\n",
       "  <thead>\n",
       "    <tr style=\"text-align: right;\">\n",
       "      <th></th>\n",
       "      <th>Source</th>\n",
       "      <th>Sink</th>\n",
       "      <th>Source_Followings</th>\n",
       "      <th>Source_Followers</th>\n",
       "      <th>Sink_Followers</th>\n",
       "      <th>Common_Followings</th>\n",
       "      <th>Com_Followings_Ratio</th>\n",
       "      <th>Followers_Ratio</th>\n",
       "      <th>Real</th>\n",
       "    </tr>\n",
       "  </thead>\n",
       "  <tbody>\n",
       "  </tbody>\n",
       "</table>\n",
       "</div>"
      ],
      "text/plain": [
       "Empty DataFrame\n",
       "Columns: [Source, Sink, Source_Followings, Source_Followers, Sink_Followers, Common_Followings, Com_Followings_Ratio, Followers_Ratio, Real]\n",
       "Index: []"
      ]
     },
     "execution_count": 153,
     "metadata": {},
     "output_type": "execute_result"
    }
   ],
   "source": [
    "# Shuffle the data set\n",
    "dataset = dataset.sample(frac=1).reset_index(drop=True)\n",
    "dataset.tail()\n",
    "dataset['Com_Followings_Ratio'] = dataset['Com_Followings_Ratio'].fillna(0)"
   ]
  },
  {
   "cell_type": "code",
   "execution_count": 152,
   "metadata": {},
   "outputs": [
    {
     "data": {
      "text/html": [
       "<div>\n",
       "<style scoped>\n",
       "    .dataframe tbody tr th:only-of-type {\n",
       "        vertical-align: middle;\n",
       "    }\n",
       "\n",
       "    .dataframe tbody tr th {\n",
       "        vertical-align: top;\n",
       "    }\n",
       "\n",
       "    .dataframe thead th {\n",
       "        text-align: right;\n",
       "    }\n",
       "</style>\n",
       "<table border=\"1\" class=\"dataframe\">\n",
       "  <thead>\n",
       "    <tr style=\"text-align: right;\">\n",
       "      <th></th>\n",
       "      <th>Source</th>\n",
       "      <th>Sink</th>\n",
       "      <th>Source_Followings</th>\n",
       "      <th>Source_Followers</th>\n",
       "      <th>Sink_Followers</th>\n",
       "      <th>Common_Followings</th>\n",
       "      <th>Com_Followings_Ratio</th>\n",
       "      <th>Followers_Ratio</th>\n",
       "      <th>Real</th>\n",
       "    </tr>\n",
       "  </thead>\n",
       "  <tbody>\n",
       "    <tr>\n",
       "      <th>0</th>\n",
       "      <td>3246001</td>\n",
       "      <td>4748530</td>\n",
       "      <td>51</td>\n",
       "      <td>1</td>\n",
       "      <td>203</td>\n",
       "      <td>9</td>\n",
       "      <td>0.176471</td>\n",
       "      <td>203.000000</td>\n",
       "      <td>1</td>\n",
       "    </tr>\n",
       "    <tr>\n",
       "      <th>1</th>\n",
       "      <td>3749479</td>\n",
       "      <td>1023607</td>\n",
       "      <td>552</td>\n",
       "      <td>163</td>\n",
       "      <td>115</td>\n",
       "      <td>0</td>\n",
       "      <td>0.000000</td>\n",
       "      <td>0.705521</td>\n",
       "      <td>1</td>\n",
       "    </tr>\n",
       "    <tr>\n",
       "      <th>2</th>\n",
       "      <td>3142164</td>\n",
       "      <td>3986905</td>\n",
       "      <td>1180</td>\n",
       "      <td>51</td>\n",
       "      <td>64</td>\n",
       "      <td>0</td>\n",
       "      <td>0.000000</td>\n",
       "      <td>1.254902</td>\n",
       "      <td>1</td>\n",
       "    </tr>\n",
       "    <tr>\n",
       "      <th>3</th>\n",
       "      <td>2015545</td>\n",
       "      <td>4002385</td>\n",
       "      <td>59</td>\n",
       "      <td>46</td>\n",
       "      <td>1</td>\n",
       "      <td>0</td>\n",
       "      <td>0.000000</td>\n",
       "      <td>0.021739</td>\n",
       "      <td>0</td>\n",
       "    </tr>\n",
       "    <tr>\n",
       "      <th>4</th>\n",
       "      <td>168607</td>\n",
       "      <td>3367289</td>\n",
       "      <td>71</td>\n",
       "      <td>84</td>\n",
       "      <td>553</td>\n",
       "      <td>19</td>\n",
       "      <td>0.267606</td>\n",
       "      <td>6.583333</td>\n",
       "      <td>1</td>\n",
       "    </tr>\n",
       "  </tbody>\n",
       "</table>\n",
       "</div>"
      ],
      "text/plain": [
       "    Source     Sink  Source_Followings  Source_Followers  Sink_Followers  \\\n",
       "0  3246001  4748530                 51                 1             203   \n",
       "1  3749479  1023607                552               163             115   \n",
       "2  3142164  3986905               1180                51              64   \n",
       "3  2015545  4002385                 59                46               1   \n",
       "4   168607  3367289                 71                84             553   \n",
       "\n",
       "   Common_Followings  Com_Followings_Ratio  Followers_Ratio  Real  \n",
       "0                  9              0.176471       203.000000     1  \n",
       "1                  0              0.000000         0.705521     1  \n",
       "2                  0              0.000000         1.254902     1  \n",
       "3                  0              0.000000         0.021739     0  \n",
       "4                 19              0.267606         6.583333     1  "
      ]
     },
     "execution_count": 152,
     "metadata": {},
     "output_type": "execute_result"
    }
   ],
   "source": [
    "dataset.head()"
   ]
  },
  {
   "cell_type": "code",
   "execution_count": 155,
   "metadata": {},
   "outputs": [],
   "source": [
    "msk = np.random.rand(len(dataset)) < 0.8\n",
    "\n",
    "Y = dataset['Real']\n",
    "X = dataset.drop(columns=['Real'])\n",
    "\n",
    "# Normalization\n",
    "#X = (X-X.min())/(X.max()-X.min())\n",
    "\n",
    "X_train = X[msk]\n",
    "X_test = X[~msk]\n",
    "Y_train = Y[msk]\n",
    "Y_test = Y[~msk]"
   ]
  },
  {
   "cell_type": "code",
   "execution_count": 156,
   "metadata": {},
   "outputs": [],
   "source": [
    "model = CategoricalNB()\n",
    "model.fit(X_train, Y_train)\n",
    "predict = model.predict(X_test)"
   ]
  },
  {
   "cell_type": "code",
   "execution_count": 157,
   "metadata": {},
   "outputs": [
    {
     "name": "stdout",
     "output_type": "stream",
     "text": [
      "              precision    recall  f1-score   support\n",
      "\n",
      "           0   0.701431  0.888601  0.784000       386\n",
      "           1   0.858553  0.641278  0.734177       407\n",
      "\n",
      "    accuracy                       0.761665       793\n",
      "   macro avg   0.779992  0.764939  0.759089       793\n",
      "weighted avg   0.782072  0.761665  0.758429       793\n",
      "\n",
      "[[343  43]\n",
      " [146 261]]\n",
      "0.7616645649432535\n"
     ]
    }
   ],
   "source": [
    "# accuracy \n",
    "print (classification_report(Y_test, predict,digits = 6))\n",
    "print (confusion_matrix(Y_test, predict))\n",
    "print (accuracy_score(Y_test, predict))"
   ]
  },
  {
   "cell_type": "code",
   "execution_count": 158,
   "metadata": {},
   "outputs": [
    {
     "name": "stdout",
     "output_type": "stream",
     "text": [
      "[0 0 0 0 1 0 0 1 0 1 1 1 1 0 1 0 0 1 1 0 0 1 0 0 0 0 1 0 0 0 1 0 1 1 0 0 0\n",
      " 1 1 0 1 0 0 1 0 1 0 0 1 0 0 0 0 0 1 0 1 0 1 1 0 0 1 0 1 0 0 0 1 0 1 0 1 1\n",
      " 0 1 0 1 0 1 1 0 0 1 0 1 0 1 0 0 0 1 0 1 1 0 1 0 1 1 1 1 1 0 0 1 0 1 1 1 0\n",
      " 0 0 1 0 1 1 0 1 0 0 1 0 1 0 1 1 0 0 0 0 0 1 0 0 1 0 1 1 1 0 1 0 0 0 1 0 0\n",
      " 1 0 0 1 1 0 1 0 0 0 1 1 1 0 0 1 0 0 0 0 0 1 1 0 1 1 1 0 0 0 0 0 1 0 0 0 1\n",
      " 1 1 0 0 0 0 1 1 1 1 1 0 0 0 0 0 0 1 1 0 0 1 0 0 0 1 0 0 1 0 0 0 1 0 0 0 0\n",
      " 0 0 0 0 0 1 0 1 0 0 0 0 1 1 0 1 1 0 0 0 1 1 0 0 0 1 1 1 1 1 0 0 0 1 0 0 0\n",
      " 0 0 0 0 1 0 1 0 0 0 0 0 0 0 1 0 1 0 1 0 0 0 1 0 0 0 1 1 0 0 0 0 1 0 0 0 0\n",
      " 0 0 1 0 0 0 0 0 1 0 1 1 0 0 0 0 0 1 1 0 0 0 0 0 0 1 0 1 0 1 0 1 0 0 0 0 1\n",
      " 1 0 1 1 1 1 1 1 0 0 1 1 0 1 0 0 0 0 1 1 0 0 1 0 0 0 0 0 0 0 0 1 0 0 0 0 0\n",
      " 1 0 0 1 0 1 1 0 0 0 1 1 0 0 0 1 0 0 0 1 0 1 0 1 0 0 0 1 1 0 0 0 0 1 0 1 0\n",
      " 0 0 1 0 1 1 0 0 1 0 1 0 1 1 0 1 0 0 0 0 0 0 0 0 0 1 1 0 0 0 1 1 1 0 0 0 0\n",
      " 1 0 0 0 0 1 1 0 0 0 1 0 0 0 0 1 1 1 1 0 0 0 0 1 1 0 0 0 1 1 1 1 0 0 0 0 1\n",
      " 0 1 0 1 0 0 1 0 0 1 1 0 1 1 1 0 0 0 1 0 0 0 1 1 0 0 0 1 0 0 0 1 0 0 1 0 0\n",
      " 1 0 1 0 0 0 0 0 1 0 0 1 0 0 0 0 1 1 0 0 1 1 0 0 0 0 1 0 0 0 0 1 1 0 1 0 1\n",
      " 1 1 0 0 0 1 0 0 0 0 0 1 0 0 0 1 0 1 0 1 1 1 0 0 0 0 1 0 1 0 0 0 0 0 1 0 0\n",
      " 0 0 1 0 1 0 1 1 0 1 0 0 0 1 1 0 0 0 1 0 1 1 0 0 0 1 0 1 0 1 0 0 0 1 1 0 0\n",
      " 0 0 1 1 1 0 0 1 0 0 0 1 1 0 0 0 0 1 0 0 0 0 0 0 0 1 0 0 1 1 0 1 0 1 0 0 0\n",
      " 0 0 1 1 1 0 0 0 1 0 0 1 0 0 1 0 0 0 1 1 0 1 0 1 0 0 1 1 0 1 1 0 0 1 1 1 0\n",
      " 0 1 1 0 0 0 0 0 1 0 1 1 1 0 1 1 0 0 0 0 0 0 0 0 0 0 0 1 0 0 0 0 1 1 1 1 1\n",
      " 0 1 1 0 0 1 1 1 1 1 1 1 1 0 0 0 0 1 1 0 0 1 0 0 0 0 0 0 1 1 1 0 0 1 0 1 0\n",
      " 0 1 0 1 0 1 0 1 0 0 0 0 0 1 1 0]\n"
     ]
    }
   ],
   "source": [
    "predict_proba = model.predict_proba(X_test)\n",
    "print(predict)"
   ]
  },
  {
   "cell_type": "code",
   "execution_count": 105,
   "metadata": {},
   "outputs": [
    {
     "name": "stdout",
     "output_type": "stream",
     "text": [
      "[[0.3144835  0.6855165 ]\n",
      " [0.81189087 0.18810913]\n",
      " [0.80468286 0.19531714]\n",
      " ...\n",
      " [0.02593366 0.97406634]\n",
      " [0.89618076 0.10381924]\n",
      " [0.22969683 0.77030317]]\n"
     ]
    }
   ],
   "source": [
    "print(predict_proba)"
   ]
  },
  {
   "cell_type": "code",
   "execution_count": 163,
   "metadata": {},
   "outputs": [],
   "source": [
    "# Libraries for developing a Neural Network\n",
    "import tensorflow as tf \n",
    "from tensorflow import keras\n",
    "from tensorflow.keras import layers\n",
    "from tensorflow.keras import regularizers\n",
    "from tensorflow.keras.models import Model\n",
    "from tensorflow.keras.layers import Input, Dense, Dropout\n",
    "from tensorflow.keras.utils import to_categorical \n"
   ]
  },
  {
   "cell_type": "code",
   "execution_count": 172,
   "metadata": {},
   "outputs": [],
   "source": [
    "msk = np.random.rand(len(dataset)) < 0.8\n",
    "\n",
    "Y = dataset['Real']\n",
    "X = dataset.drop(columns=['Real'])\n",
    "\n",
    "# Normalization\n",
    "X = (X-X.min())/(X.max()-X.min())\n",
    "\n",
    "X_train = X[msk]\n",
    "X_test = X[~msk]\n",
    "Y_train = Y[msk]\n",
    "Y_test = Y[~msk]"
   ]
  },
  {
   "cell_type": "code",
   "execution_count": 175,
   "metadata": {},
   "outputs": [
    {
     "name": "stdout",
     "output_type": "stream",
     "text": [
      "Model: \"functional_15\"\n",
      "_________________________________________________________________\n",
      "Layer (type)                 Output Shape              Param #   \n",
      "=================================================================\n",
      "input_8 (InputLayer)         [(None, 8)]               0         \n",
      "_________________________________________________________________\n",
      "dense_21 (Dense)             (None, 8)                 72        \n",
      "_________________________________________________________________\n",
      "dense_22 (Dense)             (None, 8)                 72        \n",
      "_________________________________________________________________\n",
      "dense_23 (Dense)             (None, 2)                 18        \n",
      "=================================================================\n",
      "Total params: 162\n",
      "Trainable params: 162\n",
      "Non-trainable params: 0\n",
      "_________________________________________________________________\n"
     ]
    }
   ],
   "source": [
    "# Model arguments\n",
    "args = dict(x = X_train,\n",
    "            y = Y_train,\n",
    "            epochs=40,\n",
    "            validation_split=0.2,\n",
    "            verbose=2,\n",
    "            shuffle=True)\n",
    "\n",
    "# Layer definition\n",
    "input_layer = Input(shape=(8,))\n",
    "hidden_layer_1 = Dense(8, activation='relu',activity_regularizer=regularizers.l1(10e-5))(input_layer)\n",
    "#hidden_layer_1 = Dropout(0.3)(hidden_layer_1)\n",
    "#hidden_layer_2 = Dense(8, activation='sigmoid')(hidden_layer_1)\n",
    "hidden_layer_2 = Dense(8, activation='relu')(hidden_layer_1)\n",
    "#hidden_layer_2 = Dropout(0.3)(hidden_layer_2)\n",
    "output_layer = Dense(2, activation='softmax')(hidden_layer_2)\n",
    "model = Model(inputs=input_layer, outputs=output_layer)\n",
    "\n",
    "# Model set up\n",
    "model.compile(tf.keras.optimizers.RMSprop(learning_rate=0.01),\n",
    "              loss='sparse_categorical_crossentropy',\n",
    "              metrics=['accuracy'])\n",
    "\n",
    "model.summary()"
   ]
  },
  {
   "cell_type": "code",
   "execution_count": 176,
   "metadata": {},
   "outputs": [
    {
     "name": "stdout",
     "output_type": "stream",
     "text": [
      "Epoch 1/100\n",
      "81/81 - 0s - loss: 0.6444 - accuracy: 0.6113 - val_loss: 0.7013 - val_accuracy: 0.5319\n",
      "Epoch 2/100\n",
      "81/81 - 0s - loss: 0.5836 - accuracy: 0.6661 - val_loss: 0.6478 - val_accuracy: 0.5319\n",
      "Epoch 3/100\n",
      "81/81 - 0s - loss: 0.5574 - accuracy: 0.6918 - val_loss: 0.5655 - val_accuracy: 0.5319\n",
      "Epoch 4/100\n",
      "81/81 - 0s - loss: 0.5480 - accuracy: 0.6992 - val_loss: 0.5208 - val_accuracy: 0.7621\n",
      "Epoch 5/100\n",
      "81/81 - 0s - loss: 0.5352 - accuracy: 0.7144 - val_loss: 0.5507 - val_accuracy: 0.7014\n",
      "Epoch 6/100\n",
      "81/81 - 0s - loss: 0.5328 - accuracy: 0.7222 - val_loss: 0.5026 - val_accuracy: 0.7434\n",
      "Epoch 7/100\n",
      "81/81 - 0s - loss: 0.5283 - accuracy: 0.7253 - val_loss: 0.5462 - val_accuracy: 0.6470\n",
      "Epoch 8/100\n",
      "81/81 - 0s - loss: 0.5189 - accuracy: 0.7288 - val_loss: 0.5057 - val_accuracy: 0.7589\n",
      "Epoch 9/100\n",
      "81/81 - 0s - loss: 0.5246 - accuracy: 0.7397 - val_loss: 0.5144 - val_accuracy: 0.7372\n",
      "Epoch 10/100\n",
      "81/81 - 0s - loss: 0.5101 - accuracy: 0.7370 - val_loss: 0.4689 - val_accuracy: 0.7714\n",
      "Epoch 11/100\n",
      "81/81 - 0s - loss: 0.5075 - accuracy: 0.7459 - val_loss: 0.6485 - val_accuracy: 0.5412\n",
      "Epoch 12/100\n",
      "81/81 - 0s - loss: 0.5100 - accuracy: 0.7490 - val_loss: 0.4953 - val_accuracy: 0.7496\n",
      "Epoch 13/100\n",
      "81/81 - 0s - loss: 0.5072 - accuracy: 0.7506 - val_loss: 0.5387 - val_accuracy: 0.6423\n",
      "Epoch 14/100\n",
      "81/81 - 0s - loss: 0.5064 - accuracy: 0.7541 - val_loss: 0.4704 - val_accuracy: 0.7885\n",
      "Epoch 15/100\n",
      "81/81 - 0s - loss: 0.4983 - accuracy: 0.7615 - val_loss: 0.4703 - val_accuracy: 0.7776\n",
      "Epoch 16/100\n",
      "81/81 - 0s - loss: 0.4961 - accuracy: 0.7623 - val_loss: 0.5421 - val_accuracy: 0.7356\n",
      "Epoch 17/100\n",
      "81/81 - 0s - loss: 0.4957 - accuracy: 0.7642 - val_loss: 0.4494 - val_accuracy: 0.7823\n",
      "Epoch 18/100\n",
      "81/81 - 0s - loss: 0.4911 - accuracy: 0.7716 - val_loss: 0.5636 - val_accuracy: 0.5583\n",
      "Epoch 19/100\n",
      "81/81 - 0s - loss: 0.4895 - accuracy: 0.7673 - val_loss: 0.4390 - val_accuracy: 0.8118\n",
      "Epoch 20/100\n",
      "81/81 - 0s - loss: 0.4836 - accuracy: 0.7720 - val_loss: 0.5210 - val_accuracy: 0.6252\n",
      "Epoch 21/100\n",
      "81/81 - 0s - loss: 0.4827 - accuracy: 0.7689 - val_loss: 0.4268 - val_accuracy: 0.8134\n",
      "Epoch 22/100\n",
      "81/81 - 0s - loss: 0.4844 - accuracy: 0.7553 - val_loss: 0.5122 - val_accuracy: 0.6221\n",
      "Epoch 23/100\n",
      "81/81 - 0s - loss: 0.4781 - accuracy: 0.7774 - val_loss: 0.4147 - val_accuracy: 0.8087\n",
      "Epoch 24/100\n",
      "81/81 - 0s - loss: 0.4722 - accuracy: 0.7728 - val_loss: 0.4166 - val_accuracy: 0.8056\n",
      "Epoch 25/100\n",
      "81/81 - 0s - loss: 0.4740 - accuracy: 0.7774 - val_loss: 0.4452 - val_accuracy: 0.8523\n",
      "Epoch 26/100\n",
      "81/81 - 0s - loss: 0.4746 - accuracy: 0.7825 - val_loss: 0.4635 - val_accuracy: 0.7792\n",
      "Epoch 27/100\n",
      "81/81 - 0s - loss: 0.4640 - accuracy: 0.7891 - val_loss: 0.4916 - val_accuracy: 0.7030\n",
      "Epoch 28/100\n",
      "81/81 - 0s - loss: 0.4708 - accuracy: 0.7805 - val_loss: 0.4689 - val_accuracy: 0.7823\n",
      "Epoch 29/100\n",
      "81/81 - 0s - loss: 0.4706 - accuracy: 0.7879 - val_loss: 0.7271 - val_accuracy: 0.5350\n",
      "Epoch 30/100\n",
      "81/81 - 0s - loss: 0.4692 - accuracy: 0.7833 - val_loss: 0.4040 - val_accuracy: 0.8336\n",
      "Epoch 31/100\n",
      "81/81 - 0s - loss: 0.4657 - accuracy: 0.7864 - val_loss: 0.4217 - val_accuracy: 0.8087\n",
      "Epoch 32/100\n",
      "81/81 - 0s - loss: 0.4616 - accuracy: 0.7957 - val_loss: 0.4460 - val_accuracy: 0.8009\n",
      "Epoch 33/100\n",
      "81/81 - 0s - loss: 0.4623 - accuracy: 0.7895 - val_loss: 0.4108 - val_accuracy: 0.8134\n",
      "Epoch 34/100\n",
      "81/81 - 0s - loss: 0.4635 - accuracy: 0.7852 - val_loss: 0.5023 - val_accuracy: 0.7729\n",
      "Epoch 35/100\n",
      "81/81 - 0s - loss: 0.4635 - accuracy: 0.7883 - val_loss: 0.4554 - val_accuracy: 0.7916\n",
      "Epoch 36/100\n",
      "81/81 - 0s - loss: 0.4611 - accuracy: 0.7864 - val_loss: 0.4012 - val_accuracy: 0.8274\n",
      "Epoch 37/100\n",
      "81/81 - 0s - loss: 0.4552 - accuracy: 0.7973 - val_loss: 0.4283 - val_accuracy: 0.8025\n",
      "Epoch 38/100\n",
      "81/81 - 0s - loss: 0.4533 - accuracy: 0.7949 - val_loss: 0.4575 - val_accuracy: 0.7947\n",
      "Epoch 39/100\n",
      "81/81 - 0s - loss: 0.4588 - accuracy: 0.7907 - val_loss: 0.4153 - val_accuracy: 0.8383\n",
      "Epoch 40/100\n",
      "81/81 - 0s - loss: 0.4561 - accuracy: 0.7938 - val_loss: 0.3965 - val_accuracy: 0.8212\n",
      "Epoch 41/100\n",
      "81/81 - 0s - loss: 0.4542 - accuracy: 0.8004 - val_loss: 0.3913 - val_accuracy: 0.8491\n",
      "Epoch 42/100\n",
      "81/81 - 0s - loss: 0.4513 - accuracy: 0.8023 - val_loss: 0.4246 - val_accuracy: 0.8103\n",
      "Epoch 43/100\n",
      "81/81 - 0s - loss: 0.4529 - accuracy: 0.7907 - val_loss: 0.4868 - val_accuracy: 0.6874\n",
      "Epoch 44/100\n",
      "81/81 - 0s - loss: 0.4508 - accuracy: 0.8000 - val_loss: 0.4628 - val_accuracy: 0.7869\n",
      "Epoch 45/100\n",
      "81/81 - 0s - loss: 0.4541 - accuracy: 0.7949 - val_loss: 0.4538 - val_accuracy: 0.7932\n",
      "Epoch 46/100\n",
      "81/81 - 0s - loss: 0.4501 - accuracy: 0.7934 - val_loss: 0.4469 - val_accuracy: 0.7963\n",
      "Epoch 47/100\n",
      "81/81 - 0s - loss: 0.4491 - accuracy: 0.7938 - val_loss: 0.4563 - val_accuracy: 0.7932\n",
      "Epoch 48/100\n",
      "81/81 - 0s - loss: 0.4538 - accuracy: 0.7926 - val_loss: 0.4364 - val_accuracy: 0.8305\n",
      "Epoch 49/100\n",
      "81/81 - 0s - loss: 0.4478 - accuracy: 0.8031 - val_loss: 0.5559 - val_accuracy: 0.5972\n",
      "Epoch 50/100\n",
      "81/81 - 0s - loss: 0.4564 - accuracy: 0.7907 - val_loss: 0.4669 - val_accuracy: 0.7916\n",
      "Epoch 51/100\n",
      "81/81 - 0s - loss: 0.4489 - accuracy: 0.8012 - val_loss: 0.4347 - val_accuracy: 0.8072\n",
      "Epoch 52/100\n",
      "81/81 - 0s - loss: 0.4520 - accuracy: 0.7926 - val_loss: 0.4277 - val_accuracy: 0.8134\n",
      "Epoch 53/100\n",
      "81/81 - 0s - loss: 0.4497 - accuracy: 0.8019 - val_loss: 0.4179 - val_accuracy: 0.8134\n",
      "Epoch 54/100\n",
      "81/81 - 0s - loss: 0.4506 - accuracy: 0.7969 - val_loss: 0.3858 - val_accuracy: 0.8383\n",
      "Epoch 55/100\n",
      "81/81 - 0s - loss: 0.4462 - accuracy: 0.8023 - val_loss: 0.4288 - val_accuracy: 0.8103\n",
      "Epoch 56/100\n",
      "81/81 - 0s - loss: 0.4481 - accuracy: 0.7984 - val_loss: 0.3926 - val_accuracy: 0.8414\n",
      "Epoch 57/100\n",
      "81/81 - 0s - loss: 0.4467 - accuracy: 0.7942 - val_loss: 0.4315 - val_accuracy: 0.8087\n",
      "Epoch 58/100\n",
      "81/81 - 0s - loss: 0.4453 - accuracy: 0.8008 - val_loss: 0.4416 - val_accuracy: 0.8087\n",
      "Epoch 59/100\n",
      "81/81 - 0s - loss: 0.4459 - accuracy: 0.8019 - val_loss: 0.4439 - val_accuracy: 0.8072\n",
      "Epoch 60/100\n",
      "81/81 - 0s - loss: 0.4473 - accuracy: 0.7946 - val_loss: 0.4260 - val_accuracy: 0.8118\n",
      "Epoch 61/100\n",
      "81/81 - 0s - loss: 0.4438 - accuracy: 0.7984 - val_loss: 0.3874 - val_accuracy: 0.8367\n",
      "Epoch 62/100\n",
      "81/81 - 0s - loss: 0.4439 - accuracy: 0.7984 - val_loss: 0.3718 - val_accuracy: 0.8429\n",
      "Epoch 63/100\n",
      "81/81 - 0s - loss: 0.4439 - accuracy: 0.8004 - val_loss: 0.3744 - val_accuracy: 0.8398\n",
      "Epoch 64/100\n",
      "81/81 - 0s - loss: 0.4449 - accuracy: 0.7996 - val_loss: 0.3961 - val_accuracy: 0.8305\n",
      "Epoch 65/100\n",
      "81/81 - 0s - loss: 0.4427 - accuracy: 0.8031 - val_loss: 0.4084 - val_accuracy: 0.8429\n",
      "Epoch 66/100\n",
      "81/81 - 0s - loss: 0.4463 - accuracy: 0.8031 - val_loss: 0.4354 - val_accuracy: 0.8103\n",
      "Epoch 67/100\n",
      "81/81 - 0s - loss: 0.4425 - accuracy: 0.8004 - val_loss: 0.4058 - val_accuracy: 0.8320\n",
      "Epoch 68/100\n",
      "81/81 - 0s - loss: 0.4440 - accuracy: 0.8023 - val_loss: 0.3952 - val_accuracy: 0.8336\n",
      "Epoch 69/100\n",
      "81/81 - 0s - loss: 0.4417 - accuracy: 0.8070 - val_loss: 0.3878 - val_accuracy: 0.8398\n",
      "Epoch 70/100\n",
      "81/81 - 0s - loss: 0.4414 - accuracy: 0.8004 - val_loss: 0.3897 - val_accuracy: 0.8367\n",
      "Epoch 71/100\n",
      "81/81 - 0s - loss: 0.4399 - accuracy: 0.7988 - val_loss: 0.4582 - val_accuracy: 0.8025\n",
      "Epoch 72/100\n",
      "81/81 - 0s - loss: 0.4393 - accuracy: 0.7984 - val_loss: 0.4090 - val_accuracy: 0.8336\n",
      "Epoch 73/100\n",
      "81/81 - 0s - loss: 0.4421 - accuracy: 0.7988 - val_loss: 0.4611 - val_accuracy: 0.8056\n",
      "Epoch 74/100\n",
      "81/81 - 0s - loss: 0.4421 - accuracy: 0.8031 - val_loss: 0.4107 - val_accuracy: 0.8491\n",
      "Epoch 75/100\n",
      "81/81 - 0s - loss: 0.4432 - accuracy: 0.8051 - val_loss: 0.3923 - val_accuracy: 0.8383\n",
      "Epoch 76/100\n",
      "81/81 - 0s - loss: 0.4420 - accuracy: 0.8012 - val_loss: 0.3777 - val_accuracy: 0.8445\n",
      "Epoch 77/100\n",
      "81/81 - 0s - loss: 0.4400 - accuracy: 0.8012 - val_loss: 0.4018 - val_accuracy: 0.8258\n",
      "Epoch 78/100\n",
      "81/81 - 0s - loss: 0.4391 - accuracy: 0.8012 - val_loss: 0.4251 - val_accuracy: 0.8165\n",
      "Epoch 79/100\n",
      "81/81 - 0s - loss: 0.4390 - accuracy: 0.7981 - val_loss: 0.3991 - val_accuracy: 0.8383\n",
      "Epoch 80/100\n",
      "81/81 - 0s - loss: 0.4399 - accuracy: 0.8051 - val_loss: 0.3947 - val_accuracy: 0.8351\n",
      "Epoch 81/100\n",
      "81/81 - 0s - loss: 0.4416 - accuracy: 0.8027 - val_loss: 0.4134 - val_accuracy: 0.8196\n",
      "Epoch 82/100\n",
      "81/81 - 0s - loss: 0.4404 - accuracy: 0.8039 - val_loss: 0.4676 - val_accuracy: 0.7932\n",
      "Epoch 83/100\n"
     ]
    },
    {
     "name": "stdout",
     "output_type": "stream",
     "text": [
      "81/81 - 0s - loss: 0.4438 - accuracy: 0.7965 - val_loss: 0.4007 - val_accuracy: 0.8336\n",
      "Epoch 84/100\n",
      "81/81 - 0s - loss: 0.4388 - accuracy: 0.8016 - val_loss: 0.3891 - val_accuracy: 0.8383\n",
      "Epoch 85/100\n",
      "81/81 - 0s - loss: 0.4351 - accuracy: 0.8039 - val_loss: 0.3938 - val_accuracy: 0.8320\n",
      "Epoch 86/100\n",
      "81/81 - 0s - loss: 0.4394 - accuracy: 0.8027 - val_loss: 0.3908 - val_accuracy: 0.8414\n",
      "Epoch 87/100\n",
      "81/81 - 0s - loss: 0.4401 - accuracy: 0.8062 - val_loss: 0.4328 - val_accuracy: 0.8149\n",
      "Epoch 88/100\n",
      "81/81 - 0s - loss: 0.4392 - accuracy: 0.8023 - val_loss: 0.4261 - val_accuracy: 0.8134\n",
      "Epoch 89/100\n",
      "81/81 - 0s - loss: 0.4390 - accuracy: 0.8051 - val_loss: 0.4201 - val_accuracy: 0.8351\n",
      "Epoch 90/100\n",
      "81/81 - 0s - loss: 0.4375 - accuracy: 0.8051 - val_loss: 0.3980 - val_accuracy: 0.8336\n",
      "Epoch 91/100\n",
      "81/81 - 0s - loss: 0.4393 - accuracy: 0.7965 - val_loss: 0.3980 - val_accuracy: 0.8274\n",
      "Epoch 92/100\n",
      "81/81 - 0s - loss: 0.4390 - accuracy: 0.8019 - val_loss: 0.3953 - val_accuracy: 0.8305\n",
      "Epoch 93/100\n",
      "81/81 - 0s - loss: 0.4347 - accuracy: 0.8054 - val_loss: 0.4206 - val_accuracy: 0.8165\n",
      "Epoch 94/100\n",
      "81/81 - 0s - loss: 0.4347 - accuracy: 0.8019 - val_loss: 0.4548 - val_accuracy: 0.8118\n",
      "Epoch 95/100\n",
      "81/81 - 0s - loss: 0.4388 - accuracy: 0.7961 - val_loss: 0.4261 - val_accuracy: 0.8383\n",
      "Epoch 96/100\n",
      "81/81 - 0s - loss: 0.4341 - accuracy: 0.8097 - val_loss: 0.4527 - val_accuracy: 0.7947\n",
      "Epoch 97/100\n",
      "81/81 - 0s - loss: 0.4384 - accuracy: 0.8000 - val_loss: 0.3853 - val_accuracy: 0.8367\n",
      "Epoch 98/100\n",
      "81/81 - 0s - loss: 0.4382 - accuracy: 0.8070 - val_loss: 0.3792 - val_accuracy: 0.8398\n",
      "Epoch 99/100\n",
      "81/81 - 0s - loss: 0.4344 - accuracy: 0.8062 - val_loss: 0.4228 - val_accuracy: 0.8180\n",
      "Epoch 100/100\n",
      "81/81 - 0s - loss: 0.4360 - accuracy: 0.8086 - val_loss: 0.3922 - val_accuracy: 0.8367\n"
     ]
    },
    {
     "data": {
      "text/plain": [
       "<tensorflow.python.keras.callbacks.History at 0x16cf78b80>"
      ]
     },
     "execution_count": 176,
     "metadata": {},
     "output_type": "execute_result"
    }
   ],
   "source": [
    "# Execute training\n",
    "model.fit(**args)"
   ]
  },
  {
   "cell_type": "code",
   "execution_count": 179,
   "metadata": {},
   "outputs": [],
   "source": [
    "predict = model.predict(X_test)\n",
    "classes = predict.argmax(axis=-1)"
   ]
  },
  {
   "cell_type": "code",
   "execution_count": 180,
   "metadata": {},
   "outputs": [
    {
     "name": "stdout",
     "output_type": "stream",
     "text": [
      "[0 0 1 1 0 0 0 0 0 0 0 1 1 1 1 1 1 0 0 1 0 1 0 1 0 1 0 1 0 0 1 1 0 1 0 0 0\n",
      " 0 0 1 1 0 1 0 0 0 0 0 0 0 1 0 0 1 1 0 0 0 0 0 0 1 1 0 1 0 0 0 0 1 0 0 0 0\n",
      " 1 0 0 1 0 0 1 1 0 1 1 0 0 0 1 0 1 0 0 0 0 0 0 1 0 0 0 0 1 0 0 1 1 0 1 1 1\n",
      " 0 0 1 0 1 0 1 1 0 1 1 1 0 0 0 1 0 0 0 0 1 1 0 0 1 0 0 1 0 0 0 1 0 1 0 1 1\n",
      " 1 1 1 1 0 0 0 0 0 1 1 0 1 0 0 1 0 0 0 1 0 0 1 0 0 1 1 0 1 0 1 0 0 1 1 0 1\n",
      " 0 0 0 0 0 1 0 0 0 1 1 0 1 1 1 0 0 1 1 0 0 1 1 0 0 1 0 0 1 1 0 1 1 0 0 0 1\n",
      " 1 0 1 0 1 1 1 0 0 1 0 0 1 1 1 1 0 0 0 1 0 0 0 0 0 0 0 1 0 1 0 1 0 0 0 1 1\n",
      " 1 1 1 0 1 0 0 0 0 0 1 0 0 0 0 0 0 0 0 1 1 0 1 0 1 0 0 1 1 1 0 0 0 0 0 0 0\n",
      " 0 0 0 1 1 0 0 0 0 0 0 1 0 1 0 0 0 0 1 1 0 1 0 0 0 0 1 0 0 0 0 0 0 0 1 1 0\n",
      " 0 0 1 0 0 1 0 0 0 0 0 0 0 0 0 1 1 1 0 0 0 0 0 0 1 0 1 0 0 1 1 0 0 0 1 1 1\n",
      " 0 0 0 1 1 0 0 1 1 0 0 1 0 0 0 0 1 0 0 1 1 1 1 0 0 0 0 1 0 0 0 0 0 0 0 0 1\n",
      " 0 1 0 1 1 1 0 1 0 0 0 0 0 1 0 1 0 1 0 0 0 0 0 0 0 0 0 0 1 1 1 0 0 1 1 0 1\n",
      " 1 1 0 1 0 1 1 0 0 0 0 0 0 0 0 1 1 1 0 0 0 0 0 0 0 0 0 0 0 0 0 0 0 0 0 0 0\n",
      " 0 1 0 1 0 0 0 0 1 1 0 0 0 1 0 0 0 0 0 0 0 1 1 1 0 1 1 0 0 0 1 0 1 0 0 0 1\n",
      " 0 0 0 1 0 1 1 0 0 0 0 1 1 0 1 1 1 1 1 0 1 1 0 1 0 0 1 0 0 0 1 0 0 0 0 1 1\n",
      " 0 1 1 1 0 0 0 0 1 0 1 1 1 1 0 1 0 1 0 1 1 0 0 1 0 1 1 1 1 1 1 0 1 1 1 0 1\n",
      " 0 0 1 0 0 0 0 0 0 1 0 0 0 0 1 0 0 0 0 0 0 0 0 0 1 0 0 0 1 1 0 1 1 1 1 1 0\n",
      " 0 0 0 1 0 1 0 1 0 0 0 0 0 0 1 0 1 0 0 0 1 0 0 1 0 0 0 0 0 1 1 0 0 1 0 1 0\n",
      " 0 1 0 0 0 1 0 0 0 1 0 1 0 0 0 1 1 0 0 1 0 1 0 1 0 1 0 0 1 0 1 1 0 1 1 0 1\n",
      " 0 0 0 0 0 0 0 0 0 0 0 0 1 0 1 0 0 1 0 0 0 0 0 1 0 1 0 0 0 0 1 0 1 0 1 0 1\n",
      " 1 0]\n"
     ]
    }
   ],
   "source": [
    "print(classes)"
   ]
  },
  {
   "cell_type": "code",
   "execution_count": 181,
   "metadata": {},
   "outputs": [
    {
     "name": "stdout",
     "output_type": "stream",
     "text": [
      "Accuracy: 0.8288\n"
     ]
    }
   ],
   "source": [
    "print('Accuracy: ' + \"{:.4f}\".format(accuracy_score(Y_test, classes)))\n"
   ]
  },
  {
   "cell_type": "code",
   "execution_count": 195,
   "metadata": {},
   "outputs": [],
   "source": [
    "test_data = pd.read_csv(\"model_data/test_data.csv\", sep='\\t')"
   ]
  },
  {
   "cell_type": "code",
   "execution_count": 183,
   "metadata": {},
   "outputs": [
    {
     "data": {
      "text/html": [
       "<div>\n",
       "<style scoped>\n",
       "    .dataframe tbody tr th:only-of-type {\n",
       "        vertical-align: middle;\n",
       "    }\n",
       "\n",
       "    .dataframe tbody tr th {\n",
       "        vertical-align: top;\n",
       "    }\n",
       "\n",
       "    .dataframe thead th {\n",
       "        text-align: right;\n",
       "    }\n",
       "</style>\n",
       "<table border=\"1\" class=\"dataframe\">\n",
       "  <thead>\n",
       "    <tr style=\"text-align: right;\">\n",
       "      <th></th>\n",
       "      <th>Source</th>\n",
       "      <th>Sink</th>\n",
       "      <th>Source_Followings</th>\n",
       "      <th>Source_Followers</th>\n",
       "      <th>Sink_Followers</th>\n",
       "    </tr>\n",
       "  </thead>\n",
       "  <tbody>\n",
       "    <tr>\n",
       "      <th>0</th>\n",
       "      <td>3563811</td>\n",
       "      <td>3600160</td>\n",
       "      <td>21</td>\n",
       "      <td>3</td>\n",
       "      <td>29</td>\n",
       "    </tr>\n",
       "    <tr>\n",
       "      <th>1</th>\n",
       "      <td>2052043</td>\n",
       "      <td>1401960</td>\n",
       "      <td>71</td>\n",
       "      <td>13</td>\n",
       "      <td>9</td>\n",
       "    </tr>\n",
       "    <tr>\n",
       "      <th>2</th>\n",
       "      <td>4517994</td>\n",
       "      <td>1690636</td>\n",
       "      <td>205</td>\n",
       "      <td>80</td>\n",
       "      <td>17</td>\n",
       "    </tr>\n",
       "    <tr>\n",
       "      <th>3</th>\n",
       "      <td>1660006</td>\n",
       "      <td>4349447</td>\n",
       "      <td>506</td>\n",
       "      <td>32</td>\n",
       "      <td>36</td>\n",
       "    </tr>\n",
       "    <tr>\n",
       "      <th>4</th>\n",
       "      <td>581111</td>\n",
       "      <td>1882617</td>\n",
       "      <td>18</td>\n",
       "      <td>5</td>\n",
       "      <td>46</td>\n",
       "    </tr>\n",
       "  </tbody>\n",
       "</table>\n",
       "</div>"
      ],
      "text/plain": [
       "    Source     Sink  Source_Followings  Source_Followers  Sink_Followers\n",
       "0  3563811  3600160                 21                 3              29\n",
       "1  2052043  1401960                 71                13               9\n",
       "2  4517994  1690636                205                80              17\n",
       "3  1660006  4349447                506                32              36\n",
       "4   581111  1882617                 18                 5              46"
      ]
     },
     "execution_count": 183,
     "metadata": {},
     "output_type": "execute_result"
    }
   ],
   "source": [
    "test_data.head()"
   ]
  },
  {
   "cell_type": "code",
   "execution_count": 196,
   "metadata": {},
   "outputs": [],
   "source": [
    "test_data['Common_Followings'] = test_data.apply(lambda x: followingInCommon(x['Source'], x['Sink']), axis=1)"
   ]
  },
  {
   "cell_type": "code",
   "execution_count": 197,
   "metadata": {},
   "outputs": [],
   "source": [
    "test_data['Com_Followings_Ratio'] = test_data['Common_Followings']/test_data['Source_Followings']\n",
    "test_data['Followers_Ratio'] = test_data['Sink_Followers']/test_data['Source_Followers']\n",
    "test_data['Com_Followings_Ratio'] = test_data['Com_Followings_Ratio'].fillna(0)"
   ]
  },
  {
   "cell_type": "code",
   "execution_count": 198,
   "metadata": {},
   "outputs": [
    {
     "data": {
      "text/html": [
       "<div>\n",
       "<style scoped>\n",
       "    .dataframe tbody tr th:only-of-type {\n",
       "        vertical-align: middle;\n",
       "    }\n",
       "\n",
       "    .dataframe tbody tr th {\n",
       "        vertical-align: top;\n",
       "    }\n",
       "\n",
       "    .dataframe thead th {\n",
       "        text-align: right;\n",
       "    }\n",
       "</style>\n",
       "<table border=\"1\" class=\"dataframe\">\n",
       "  <thead>\n",
       "    <tr style=\"text-align: right;\">\n",
       "      <th></th>\n",
       "      <th>Source</th>\n",
       "      <th>Sink</th>\n",
       "      <th>Source_Followings</th>\n",
       "      <th>Source_Followers</th>\n",
       "      <th>Sink_Followers</th>\n",
       "      <th>Common_Followings</th>\n",
       "      <th>Com_Followings_Ratio</th>\n",
       "      <th>Followers_Ratio</th>\n",
       "    </tr>\n",
       "  </thead>\n",
       "  <tbody>\n",
       "    <tr>\n",
       "      <th>1995</th>\n",
       "      <td>1461386</td>\n",
       "      <td>2341683</td>\n",
       "      <td>53</td>\n",
       "      <td>16</td>\n",
       "      <td>2</td>\n",
       "      <td>0</td>\n",
       "      <td>0.0</td>\n",
       "      <td>0.125000</td>\n",
       "    </tr>\n",
       "    <tr>\n",
       "      <th>1996</th>\n",
       "      <td>4057755</td>\n",
       "      <td>1871227</td>\n",
       "      <td>95</td>\n",
       "      <td>53</td>\n",
       "      <td>41</td>\n",
       "      <td>0</td>\n",
       "      <td>0.0</td>\n",
       "      <td>0.773585</td>\n",
       "    </tr>\n",
       "    <tr>\n",
       "      <th>1997</th>\n",
       "      <td>4242514</td>\n",
       "      <td>1413468</td>\n",
       "      <td>27</td>\n",
       "      <td>6</td>\n",
       "      <td>2</td>\n",
       "      <td>0</td>\n",
       "      <td>0.0</td>\n",
       "      <td>0.333333</td>\n",
       "    </tr>\n",
       "    <tr>\n",
       "      <th>1998</th>\n",
       "      <td>555531</td>\n",
       "      <td>1290080</td>\n",
       "      <td>56</td>\n",
       "      <td>7</td>\n",
       "      <td>3</td>\n",
       "      <td>0</td>\n",
       "      <td>0.0</td>\n",
       "      <td>0.428571</td>\n",
       "    </tr>\n",
       "    <tr>\n",
       "      <th>1999</th>\n",
       "      <td>1707829</td>\n",
       "      <td>2373045</td>\n",
       "      <td>244</td>\n",
       "      <td>10</td>\n",
       "      <td>2</td>\n",
       "      <td>0</td>\n",
       "      <td>0.0</td>\n",
       "      <td>0.200000</td>\n",
       "    </tr>\n",
       "  </tbody>\n",
       "</table>\n",
       "</div>"
      ],
      "text/plain": [
       "       Source     Sink  Source_Followings  Source_Followers  Sink_Followers  \\\n",
       "1995  1461386  2341683                 53                16               2   \n",
       "1996  4057755  1871227                 95                53              41   \n",
       "1997  4242514  1413468                 27                 6               2   \n",
       "1998   555531  1290080                 56                 7               3   \n",
       "1999  1707829  2373045                244                10               2   \n",
       "\n",
       "      Common_Followings  Com_Followings_Ratio  Followers_Ratio  \n",
       "1995                  0                   0.0         0.125000  \n",
       "1996                  0                   0.0         0.773585  \n",
       "1997                  0                   0.0         0.333333  \n",
       "1998                  0                   0.0         0.428571  \n",
       "1999                  0                   0.0         0.200000  "
      ]
     },
     "execution_count": 198,
     "metadata": {},
     "output_type": "execute_result"
    }
   ],
   "source": [
    "test_data.tail()"
   ]
  },
  {
   "cell_type": "code",
   "execution_count": 191,
   "metadata": {},
   "outputs": [
    {
     "data": {
      "text/html": [
       "<div>\n",
       "<style scoped>\n",
       "    .dataframe tbody tr th:only-of-type {\n",
       "        vertical-align: middle;\n",
       "    }\n",
       "\n",
       "    .dataframe tbody tr th {\n",
       "        vertical-align: top;\n",
       "    }\n",
       "\n",
       "    .dataframe thead th {\n",
       "        text-align: right;\n",
       "    }\n",
       "</style>\n",
       "<table border=\"1\" class=\"dataframe\">\n",
       "  <thead>\n",
       "    <tr style=\"text-align: right;\">\n",
       "      <th></th>\n",
       "      <th>Source</th>\n",
       "      <th>Sink</th>\n",
       "      <th>Source_Followings</th>\n",
       "      <th>Source_Followers</th>\n",
       "      <th>Sink_Followers</th>\n",
       "      <th>Common_Followings</th>\n",
       "      <th>Com_Followings_Ratio</th>\n",
       "      <th>Followers_Ratio</th>\n",
       "    </tr>\n",
       "  </thead>\n",
       "  <tbody>\n",
       "    <tr>\n",
       "      <th>0</th>\n",
       "      <td>0.732302</td>\n",
       "      <td>0.740418</td>\n",
       "      <td>0.000052</td>\n",
       "      <td>0.000990</td>\n",
       "      <td>0.005785</td>\n",
       "      <td>0.0</td>\n",
       "      <td>0.0</td>\n",
       "      <td>0.003628</td>\n",
       "    </tr>\n",
       "    <tr>\n",
       "      <th>1</th>\n",
       "      <td>0.421583</td>\n",
       "      <td>0.287932</td>\n",
       "      <td>0.000182</td>\n",
       "      <td>0.005938</td>\n",
       "      <td>0.001653</td>\n",
       "      <td>0.0</td>\n",
       "      <td>0.0</td>\n",
       "      <td>0.000260</td>\n",
       "    </tr>\n",
       "    <tr>\n",
       "      <th>2</th>\n",
       "      <td>0.928418</td>\n",
       "      <td>0.347355</td>\n",
       "      <td>0.000532</td>\n",
       "      <td>0.039090</td>\n",
       "      <td>0.003306</td>\n",
       "      <td>0.0</td>\n",
       "      <td>0.0</td>\n",
       "      <td>0.000080</td>\n",
       "    </tr>\n",
       "    <tr>\n",
       "      <th>3</th>\n",
       "      <td>0.341006</td>\n",
       "      <td>0.894654</td>\n",
       "      <td>0.001316</td>\n",
       "      <td>0.015339</td>\n",
       "      <td>0.007231</td>\n",
       "      <td>0.0</td>\n",
       "      <td>0.0</td>\n",
       "      <td>0.000422</td>\n",
       "    </tr>\n",
       "    <tr>\n",
       "      <th>4</th>\n",
       "      <td>0.119257</td>\n",
       "      <td>0.386873</td>\n",
       "      <td>0.000044</td>\n",
       "      <td>0.001979</td>\n",
       "      <td>0.009298</td>\n",
       "      <td>0.0</td>\n",
       "      <td>0.0</td>\n",
       "      <td>0.003453</td>\n",
       "    </tr>\n",
       "  </tbody>\n",
       "</table>\n",
       "</div>"
      ],
      "text/plain": [
       "     Source      Sink  Source_Followings  Source_Followers  Sink_Followers  \\\n",
       "0  0.732302  0.740418           0.000052          0.000990        0.005785   \n",
       "1  0.421583  0.287932           0.000182          0.005938        0.001653   \n",
       "2  0.928418  0.347355           0.000532          0.039090        0.003306   \n",
       "3  0.341006  0.894654           0.001316          0.015339        0.007231   \n",
       "4  0.119257  0.386873           0.000044          0.001979        0.009298   \n",
       "\n",
       "   Common_Followings  Com_Followings_Ratio  Followers_Ratio  \n",
       "0                0.0                   0.0         0.003628  \n",
       "1                0.0                   0.0         0.000260  \n",
       "2                0.0                   0.0         0.000080  \n",
       "3                0.0                   0.0         0.000422  \n",
       "4                0.0                   0.0         0.003453  "
      ]
     },
     "execution_count": 191,
     "metadata": {},
     "output_type": "execute_result"
    }
   ],
   "source": [
    "\n",
    "# Normalization\n",
    "test_data = (test_data-test_data.min())/(test_data.max()-test_data.min())\n",
    "test_data.head()"
   ]
  },
  {
   "cell_type": "code",
   "execution_count": 192,
   "metadata": {},
   "outputs": [],
   "source": [
    "predict_test = model.predict(test_data)\n",
    "classes = predict_test.argmax(axis=-1)"
   ]
  },
  {
   "cell_type": "code",
   "execution_count": 193,
   "metadata": {},
   "outputs": [
    {
     "data": {
      "text/plain": [
       "array([[0.2443884 , 0.7556116 ],\n",
       "       [0.5160492 , 0.48395076],\n",
       "       [0.24332331, 0.7566766 ],\n",
       "       ...,\n",
       "       [0.6824082 , 0.31759185],\n",
       "       [0.74405366, 0.25594643],\n",
       "       [0.7659686 , 0.23403138]], dtype=float32)"
      ]
     },
     "execution_count": 193,
     "metadata": {},
     "output_type": "execute_result"
    }
   ],
   "source": [
    "predict_test"
   ]
  },
  {
   "cell_type": "code",
   "execution_count": 194,
   "metadata": {},
   "outputs": [
    {
     "data": {
      "text/plain": [
       "array([1, 0, 1, ..., 0, 0, 0])"
      ]
     },
     "execution_count": 194,
     "metadata": {},
     "output_type": "execute_result"
    }
   ],
   "source": [
    "classes"
   ]
  },
  {
   "cell_type": "code",
   "execution_count": 201,
   "metadata": {},
   "outputs": [],
   "source": [
    "prediction = pd.DataFrame([])\n",
    "i = 0\n",
    "for row in predict_test:\n",
    "    i += 1\n",
    "    prediction = prediction.append(pd.DataFrame({'Id': i, 'Predicted': row[1]},\n",
    "                                                index=[0]), ignore_index=True) "
   ]
  },
  {
   "cell_type": "code",
   "execution_count": 202,
   "metadata": {},
   "outputs": [
    {
     "data": {
      "text/html": [
       "<div>\n",
       "<style scoped>\n",
       "    .dataframe tbody tr th:only-of-type {\n",
       "        vertical-align: middle;\n",
       "    }\n",
       "\n",
       "    .dataframe tbody tr th {\n",
       "        vertical-align: top;\n",
       "    }\n",
       "\n",
       "    .dataframe thead th {\n",
       "        text-align: right;\n",
       "    }\n",
       "</style>\n",
       "<table border=\"1\" class=\"dataframe\">\n",
       "  <thead>\n",
       "    <tr style=\"text-align: right;\">\n",
       "      <th></th>\n",
       "      <th>Id</th>\n",
       "      <th>Predicted</th>\n",
       "    </tr>\n",
       "  </thead>\n",
       "  <tbody>\n",
       "    <tr>\n",
       "      <th>0</th>\n",
       "      <td>1</td>\n",
       "      <td>0.755612</td>\n",
       "    </tr>\n",
       "    <tr>\n",
       "      <th>1</th>\n",
       "      <td>2</td>\n",
       "      <td>0.483951</td>\n",
       "    </tr>\n",
       "    <tr>\n",
       "      <th>2</th>\n",
       "      <td>3</td>\n",
       "      <td>0.756677</td>\n",
       "    </tr>\n",
       "    <tr>\n",
       "      <th>3</th>\n",
       "      <td>4</td>\n",
       "      <td>0.818148</td>\n",
       "    </tr>\n",
       "    <tr>\n",
       "      <th>4</th>\n",
       "      <td>5</td>\n",
       "      <td>0.796943</td>\n",
       "    </tr>\n",
       "  </tbody>\n",
       "</table>\n",
       "</div>"
      ],
      "text/plain": [
       "   Id  Predicted\n",
       "0   1   0.755612\n",
       "1   2   0.483951\n",
       "2   3   0.756677\n",
       "3   4   0.818148\n",
       "4   5   0.796943"
      ]
     },
     "execution_count": 202,
     "metadata": {},
     "output_type": "execute_result"
    }
   ],
   "source": [
    "prediction.head()"
   ]
  },
  {
   "cell_type": "code",
   "execution_count": 205,
   "metadata": {},
   "outputs": [],
   "source": [
    "prediction.to_csv(\"predictions/prediction_2020-09-10.csv\", sep=',', index=False)"
   ]
  },
  {
   "cell_type": "code",
   "execution_count": null,
   "metadata": {},
   "outputs": [],
   "source": []
  }
 ],
 "metadata": {
  "kernelspec": {
   "display_name": "Python 3",
   "language": "python",
   "name": "python3"
  },
  "language_info": {
   "codemirror_mode": {
    "name": "ipython",
    "version": 3
   },
   "file_extension": ".py",
   "mimetype": "text/x-python",
   "name": "python",
   "nbconvert_exporter": "python",
   "pygments_lexer": "ipython3",
   "version": "3.8.5"
  }
 },
 "nbformat": 4,
 "nbformat_minor": 4
}
