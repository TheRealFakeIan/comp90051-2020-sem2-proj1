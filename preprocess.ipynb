{
 "cells": [
  {
   "cell_type": "code",
   "execution_count": 10,
   "metadata": {},
   "outputs": [],
   "source": [
    "import numpy as np\n",
    "import matplotlib.pyplot as plt\n",
    "import seaborn as sns\n",
    "import pandas as pd\n",
    "import math\n",
    "from collections import defaultdict\n",
    "from queue import PriorityQueue\n"
   ]
  },
  {
   "cell_type": "code",
   "execution_count": 11,
   "metadata": {},
   "outputs": [],
   "source": [
    "train_data ={}\n",
    "search_table = []\n",
    "for line in open(\"data/train.txt\"):\n",
    "    r = line.split( )\n",
    "    search_table.append(r)\n",
    "    sink_ls = r[1:]\n",
    "    train_data[r[0]] = sink_ls\n"
   ]
  },
  {
   "cell_type": "code",
   "execution_count": 12,
   "metadata": {},
   "outputs": [],
   "source": [
    "\n",
    "def dijkstra(data,source,sink):\n",
    "    visit ={}\n",
    "    dis_dict = defaultdict(lambda: math.inf)\n",
    "    dis_dict[source] =0\n",
    "    expand_queue = PriorityQueue()\n",
    "    expand_queue.put((0,source))\n",
    "    while not expand_queue.empty():\n",
    "        i,source = expand_queue.get()\n",
    "        visit[source] = i\n",
    "        if source == sink:\n",
    "                return i\n",
    "        if source in data:\n",
    "            for s in data.get(source):\n",
    "                if s not in visit or visit[s] > i+1:\n",
    "                    expand_queue.put((i+1,s))\n",
    "\n",
    "    return math.inf\n"
   ]
  },
  {
   "cell_type": "code",
   "execution_count": 13,
   "metadata": {},
   "outputs": [
    {
     "name": "stdout",
     "output_type": "stream",
     "text": [
      "1\n"
     ]
    }
   ],
   "source": [
    "test_0 ={\"1\":[\"2\",\"3\"],\"2\":[\"5\",\"4\"],\"4\":[\"5\",\"6\"]}\n",
    "print(dijkstra(test_0,\"1\",\"2\"))\n"
   ]
  },
  {
   "cell_type": "code",
   "execution_count": 14,
   "metadata": {},
   "outputs": [
    {
     "data": {
      "text/plain": "1"
     },
     "execution_count": 14,
     "metadata": {},
     "output_type": "execute_result"
    }
   ],
   "source": [
    "dijkstra(train_data,'4156257','4504242')"
   ]
  },
  {
   "cell_type": "code",
   "execution_count": 15,
   "outputs": [],
   "source": [
    "real_edges = pd.read_csv(\"model_data/real_edges.csv\", sep='\\t')\n",
    "fake_edges = pd.read_csv(\"model_data/fake_edges.csv\", sep='\\t')\n",
    "test_data = pd.read_csv(\"model_data/test_data.csv\", sep='\\t')\n",
    "    "
   ],
   "metadata": {
    "collapsed": false,
    "pycharm": {
     "name": "#%%\n"
    }
   }
  },
  {
   "cell_type": "code",
   "execution_count": null,
   "outputs": [],
   "source": [
    "def worker(results,x):\n",
    "    i, row= x\n",
    "    distance = dijkstra(train_data,str(row['Source']),str(row['Sink']))\n",
    "    print(i,str(row['Source']),str(row['Sink']),distance)\n",
    "    results[i] =distance\n"
   ],
   "metadata": {
    "collapsed": false,
    "pycharm": {
     "name": "#%%\n"
    }
   }
  },
  {
   "cell_type": "code",
   "execution_count": null,
   "outputs": [],
   "source": [
    "def calculate_dis(x):\n",
    "    d = dijkstra(train_data,str(x.Source),str(x.Sink))\n",
    "    print(d)\n",
    "    return d\n"
   ],
   "metadata": {
    "collapsed": false,
    "pycharm": {
     "name": "#%%\n"
    }
   }
  },
  {
   "cell_type": "code",
   "execution_count": null,
   "outputs": [],
   "source": [
    "real_edges['Distance'] = 1\n"
   ],
   "metadata": {
    "collapsed": false,
    "pycharm": {
     "name": "#%%\n"
    }
   }
  },
  {
   "cell_type": "code",
   "execution_count": null,
   "outputs": [],
   "source": [
    "from multiprocessing import Pool, Manager\n",
    "manager = Manager()\n",
    "results_f = manager.dict()\n",
    "results_t = manager.dict()\n",
    "pool = Pool(2)\n",
    "pool.starmap(worker, map(lambda row: (results_f, row),fake_edges.iterrows()) )\n",
    "pool.starmap(worker, map(lambda row: (results_t, row),test_data.iterrows()) )\n"
   ],
   "metadata": {
    "collapsed": false,
    "pycharm": {
     "name": "#%%\n"
    }
   }
  },
  {
   "cell_type": "code",
   "execution_count": null,
   "outputs": [],
   "source": [
    "dis_f =[]\n",
    "dis_t =[]\n",
    "for i in range(2000):\n",
    "    dis_f.append(results_f.get(i))\n",
    "    dis_t.append(results_t.get(i))\n",
    "\n",
    "fake_edges['Distance'] = dis_f\n",
    "test_data['Distance'] = dis_t"
   ],
   "metadata": {
    "collapsed": false,
    "pycharm": {
     "name": "#%%\n"
    }
   }
  },
  {
   "cell_type": "code",
   "execution_count": null,
   "outputs": [],
   "source": [
    "real_edges.to_csv(\"model_data/real_edges.csv\", sep='\\t', index=False)\n",
    "fake_edges.to_csv(\"model_data/fake_edges.csv\", sep='\\t', index=False)\n",
    "test_data.to_csv(\"model_data/test_data.csv\", sep='\\t', index=False)\n"
   ],
   "metadata": {
    "collapsed": false,
    "pycharm": {
     "name": "#%%\n"
    }
   }
  },
  {
   "cell_type": "code",
   "execution_count": 16,
   "outputs": [],
   "source": [],
   "metadata": {
    "collapsed": false,
    "pycharm": {
     "name": "#%%\n"
    }
   }
  },
  {
   "cell_type": "code",
   "execution_count": 17,
   "outputs": [],
   "source": [
    "def calculate_dis(x):\n",
    "    d = dijkstra(train_data,str(x.Source),str(x.Sink))\n",
    "    print(d)\n",
    "    return d\n"
   ],
   "metadata": {
    "collapsed": false,
    "pycharm": {
     "name": "#%%\n"
    }
   }
  },
  {
   "cell_type": "code",
   "execution_count": 18,
   "outputs": [],
   "source": [
    "real_edges['Distance'] = 1\n"
   ],
   "metadata": {
    "collapsed": false,
    "pycharm": {
     "name": "#%%\n"
    }
   }
  },
  {
   "cell_type": "code",
   "execution_count": null,
   "metadata": {
    "pycharm": {
     "is_executing": true
    }
   },
   "outputs": [],
   "source": [
    "from multiprocessing import Pool, Manager\n",
    "manager = Manager()\n",
    "results_f = manager.dict()\n",
    "results_t = manager.dict()\n",
    "pool = Pool(2)\n",
    "pool.starmap(worker, map(lambda row: (results_f, row),fake_edges.iterrows()) )\n",
    "pool.starmap(worker, map(lambda row: (results_t, row),test_data.iterrows()) )\n"
   ]
  },
  {
   "cell_type": "code",
   "execution_count": null,
   "metadata": {
    "pycharm": {
     "is_executing": true
    }
   },
   "outputs": [],
   "source": [
    "dis_f =[]\n",
    "dis_t =[]\n",
    "for i in range(2000):\n",
    "    dis_f.append(results_f.get(i))\n",
    "    dis_t.append(results_t.get(i))\n",
    "\n",
    "fake_edges['Distance'] = dis_f\n",
    "test_data['Distance'] = dis_t"
   ]
  },
  {
   "cell_type": "code",
   "execution_count": null,
   "metadata": {
    "pycharm": {
     "is_executing": true
    }
   },
   "outputs": [],
   "source": [
    "real_edges.to_csv(\"model_data/real_edges.csv\", sep='\\t', index=False)\n",
    "fake_edges.to_csv(\"model_data/fake_edges.csv\", sep='\\t', index=False)\n",
    "test_data.to_csv(\"model_data/test_data.csv\", sep='\\t', index=False)\n"
   ]
  },
  {
   "cell_type": "code",
   "execution_count": null,
   "metadata": {
    "pycharm": {
     "is_executing": true
    }
   },
   "outputs": [],
   "source": []
  }
 ],
 "metadata": {
  "kernelspec": {
   "display_name": "Python 3",
   "language": "python",
   "name": "python3"
  },
  "language_info": {
   "codemirror_mode": {
    "name": "ipython",
    "version": 3
   },
   "file_extension": ".py",
   "mimetype": "text/x-python",
   "name": "python",
   "nbconvert_exporter": "python",
   "pygments_lexer": "ipython3",
   "version": "3.8.3"
  }
 },
 "nbformat": 4,
 "nbformat_minor": 1
}