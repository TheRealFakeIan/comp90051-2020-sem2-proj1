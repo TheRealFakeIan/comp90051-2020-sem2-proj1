{
 "cells": [
  {
   "cell_type": "code",
   "execution_count": 57,
   "metadata": {},
   "outputs": [],
   "source": [
    "# Libraries for developing a Neural Network\n",
    "import tensorflow as tf \n",
    "from tensorflow import keras\n",
    "from tensorflow.keras import layers\n",
    "from tensorflow.keras import regularizers\n",
    "from tensorflow.keras.models import Model\n",
    "from tensorflow.keras.layers import Input, Dense, Dropout\n",
    "from tensorflow.keras.utils import to_categorical \n",
    "import numpy as np\n",
    "import pandas as pd\n",
    "import matplotlib.pyplot as plt\n",
    "import seaborn as sns\n",
    "import math\n",
    "from sklearn.preprocessing import StandardScaler\n",
    "from keras.losses import mean_squared_error\n",
    "from sklearn.linear_model import LinearRegression\n",
    "from sklearn.preprocessing import PolynomialFeatures\n",
    "sns.set_style('darkgrid')\n",
    "plt.rcParams['figure.dpi'] = 108\n",
    "\n",
    "from collections import defaultdict\n",
    "import random\n",
    "from random import randrange\n",
    "from sklearn.metrics import classification_report, confusion_matrix, accuracy_score\n",
    "\n",
    "\n",
    "from sklearn.metrics import roc_auc_score"
   ]
  },
  {
   "cell_type": "code",
   "execution_count": 58,
   "metadata": {},
   "outputs": [],
   "source": [
    "dt = pd.read_csv(\"model_data/data.csv\",sep =\"\\t\")\n",
    "\n",
    "dt['Real']=dt.apply(lambda x: x.Real if x.Real ==1 else 0,axis =1)\n",
    "y = dt.Real\n",
    "test_dt =pd.read_csv(\"model_data/test_data.csv\",sep =\"\\t\")\n",
    "ds = dt.drop('Real',axis =1)"
   ]
  },
  {
   "cell_type": "code",
   "execution_count": 59,
   "metadata": {},
   "outputs": [
    {
     "name": "stdout",
     "output_type": "stream",
     "text": [
      "Training set has 6364 instances. Test set has 1591 instances.\n"
     ]
    }
   ],
   "source": [
    "from sklearn.model_selection import train_test_split\n",
    "X_train, X_test, y_train, y_test = train_test_split(ds, y, test_size=0.2, random_state=1)\n",
    "print(\"Training set has {} instances. Test set has {} instances.\".format(X_train.shape[0], X_test.shape[0]))"
   ]
  },
  {
   "cell_type": "code",
   "execution_count": 60,
   "metadata": {},
   "outputs": [],
   "source": [
    "poly =PolynomialFeatures(2,include_bias = False)\n",
    "poly.fit(X_train)\n",
    "X_train= poly.transform(X_train)\n",
    "X_test= poly.transform(X_test)\n",
    "test_dt = poly.transform(test_dt)"
   ]
  },
  {
   "cell_type": "code",
   "execution_count": 61,
   "metadata": {},
   "outputs": [],
   "source": [
    "# standard\n",
    "scaler = StandardScaler()\n",
    "scaler.fit(X_train)\n",
    "X_train= scaler.transform(X_train)\n",
    "X_test= scaler.transform(X_test)\n",
    "#dt = scaler.transform(dt)\n",
    "test_dt = scaler.transform(test_dt)\n",
    "#dt['Real'] =dt.apply(lambda x: 0 if x.Real ==-1 else 1, axis =1)\n"
   ]
  },
  {
   "cell_type": "code",
   "execution_count": 62,
   "metadata": {},
   "outputs": [],
   "source": [
    "def auroc(y_true, y_pred):\n",
    "    return tf.py_function(roc_auc_score, (y_true, y_pred), tf.double)\n"
   ]
  },
  {
   "cell_type": "code",
   "execution_count": 68,
   "metadata": {},
   "outputs": [
    {
     "name": "stdout",
     "output_type": "stream",
     "text": [
      "Model: \"model_12\"\n",
      "_________________________________________________________________\n",
      "Layer (type)                 Output Shape              Param #   \n",
      "=================================================================\n",
      "input_13 (InputLayer)        [(None, 20)]              0         \n",
      "_________________________________________________________________\n",
      "dense_36 (Dense)             (None, 100)               2100      \n",
      "_________________________________________________________________\n",
      "dense_37 (Dense)             (None, 50)                5050      \n",
      "_________________________________________________________________\n",
      "dropout_9 (Dropout)          (None, 50)                0         \n",
      "_________________________________________________________________\n",
      "dense_38 (Dense)             (None, 2)                 102       \n",
      "=================================================================\n",
      "Total params: 7,252\n",
      "Trainable params: 7,252\n",
      "Non-trainable params: 0\n",
      "_________________________________________________________________\n",
      "Epoch 1/50\n",
      "160/160 - 0s - loss: 0.4932 - accuracy: 0.7535 - val_loss: 0.3952 - val_accuracy: 0.8610\n",
      "Epoch 2/50\n",
      "160/160 - 0s - loss: 0.4267 - accuracy: 0.8071 - val_loss: 0.6105 - val_accuracy: 0.7596\n",
      "Epoch 3/50\n",
      "160/160 - 0s - loss: 0.3950 - accuracy: 0.8256 - val_loss: 0.5111 - val_accuracy: 0.7753\n",
      "Epoch 4/50\n",
      "160/160 - 0s - loss: 0.3578 - accuracy: 0.8425 - val_loss: 0.8188 - val_accuracy: 0.6057\n",
      "Epoch 5/50\n",
      "160/160 - 0s - loss: 0.3403 - accuracy: 0.8513 - val_loss: 1.3818 - val_accuracy: 0.6214\n",
      "Epoch 6/50\n",
      "160/160 - 0s - loss: 0.3351 - accuracy: 0.8499 - val_loss: 0.6037 - val_accuracy: 0.6528\n",
      "Epoch 7/50\n",
      "160/160 - 0s - loss: 0.3273 - accuracy: 0.8517 - val_loss: 0.6240 - val_accuracy: 0.7753\n",
      "Epoch 8/50\n",
      "160/160 - 0s - loss: 0.3087 - accuracy: 0.8700 - val_loss: 0.2934 - val_accuracy: 0.8665\n",
      "Epoch 9/50\n",
      "160/160 - 0s - loss: 0.3083 - accuracy: 0.8658 - val_loss: 0.2763 - val_accuracy: 0.8547\n",
      "Epoch 10/50\n",
      "160/160 - 0s - loss: 0.2835 - accuracy: 0.8837 - val_loss: 0.1901 - val_accuracy: 0.9081\n",
      "Epoch 11/50\n",
      "160/160 - 0s - loss: 0.2922 - accuracy: 0.8719 - val_loss: 0.2480 - val_accuracy: 0.8633\n",
      "Epoch 12/50\n",
      "160/160 - 0s - loss: 0.2674 - accuracy: 0.8892 - val_loss: 0.2872 - val_accuracy: 0.8460\n",
      "Epoch 13/50\n",
      "160/160 - 0s - loss: 0.2655 - accuracy: 0.8900 - val_loss: 0.2631 - val_accuracy: 0.8759\n",
      "Epoch 14/50\n",
      "160/160 - 0s - loss: 0.2661 - accuracy: 0.9032 - val_loss: 0.1504 - val_accuracy: 0.9262\n",
      "Epoch 15/50\n",
      "160/160 - 0s - loss: 0.2569 - accuracy: 0.8910 - val_loss: 0.4047 - val_accuracy: 0.8327\n",
      "Epoch 16/50\n",
      "160/160 - 0s - loss: 0.2446 - accuracy: 0.9073 - val_loss: 1.0945 - val_accuracy: 0.7573\n",
      "Epoch 17/50\n",
      "160/160 - 0s - loss: 0.2532 - accuracy: 0.9030 - val_loss: 0.1867 - val_accuracy: 0.9057\n",
      "Epoch 18/50\n",
      "160/160 - 0s - loss: 0.2487 - accuracy: 0.9006 - val_loss: 0.1737 - val_accuracy: 0.9183\n",
      "Epoch 19/50\n",
      "160/160 - 0s - loss: 0.2276 - accuracy: 0.9134 - val_loss: 0.6301 - val_accuracy: 0.8295\n",
      "Epoch 20/50\n",
      "160/160 - 0s - loss: 0.2313 - accuracy: 0.9104 - val_loss: 1.0257 - val_accuracy: 0.7313\n",
      "Epoch 21/50\n",
      "160/160 - 0s - loss: 0.2284 - accuracy: 0.9104 - val_loss: 0.4551 - val_accuracy: 0.8500\n",
      "Epoch 22/50\n",
      "160/160 - 0s - loss: 0.2425 - accuracy: 0.9142 - val_loss: 0.2334 - val_accuracy: 0.8845\n",
      "Epoch 23/50\n",
      "160/160 - 0s - loss: 0.1951 - accuracy: 0.9216 - val_loss: 0.0818 - val_accuracy: 0.9796\n",
      "Epoch 24/50\n",
      "160/160 - 0s - loss: 0.2030 - accuracy: 0.9177 - val_loss: 0.1438 - val_accuracy: 0.9568\n",
      "Epoch 25/50\n",
      "160/160 - 0s - loss: 0.2157 - accuracy: 0.9228 - val_loss: 0.0966 - val_accuracy: 0.9489\n",
      "Epoch 26/50\n",
      "160/160 - 0s - loss: 0.2123 - accuracy: 0.9234 - val_loss: 0.2862 - val_accuracy: 0.8280\n",
      "Epoch 27/50\n",
      "160/160 - 0s - loss: 0.2121 - accuracy: 0.9265 - val_loss: 0.7310 - val_accuracy: 0.6913\n",
      "Epoch 28/50\n",
      "160/160 - 0s - loss: 0.2132 - accuracy: 0.9273 - val_loss: 0.1504 - val_accuracy: 0.9167\n",
      "Epoch 29/50\n",
      "160/160 - 0s - loss: 0.1986 - accuracy: 0.9295 - val_loss: 2.0887 - val_accuracy: 0.6693\n",
      "Epoch 30/50\n",
      "160/160 - 0s - loss: 0.2067 - accuracy: 0.9299 - val_loss: 0.0728 - val_accuracy: 0.9859\n",
      "Epoch 31/50\n",
      "160/160 - 0s - loss: 0.1954 - accuracy: 0.9371 - val_loss: 0.0794 - val_accuracy: 0.9827\n",
      "Epoch 32/50\n",
      "160/160 - 0s - loss: 0.1829 - accuracy: 0.9330 - val_loss: 0.1680 - val_accuracy: 0.9089\n",
      "Epoch 33/50\n",
      "160/160 - 0s - loss: 0.1889 - accuracy: 0.9375 - val_loss: 0.5674 - val_accuracy: 0.8028\n",
      "Epoch 34/50\n",
      "160/160 - 0s - loss: 0.1907 - accuracy: 0.9348 - val_loss: 1.3105 - val_accuracy: 0.6913\n",
      "Epoch 35/50\n",
      "160/160 - 0s - loss: 0.1734 - accuracy: 0.9389 - val_loss: 0.1588 - val_accuracy: 0.9183\n",
      "Epoch 36/50\n",
      "160/160 - 0s - loss: 0.1753 - accuracy: 0.9407 - val_loss: 0.1866 - val_accuracy: 0.9081\n",
      "Epoch 37/50\n",
      "160/160 - 0s - loss: 0.1743 - accuracy: 0.9442 - val_loss: 0.0594 - val_accuracy: 0.9851\n",
      "Epoch 38/50\n",
      "160/160 - 0s - loss: 0.1803 - accuracy: 0.9403 - val_loss: 1.5197 - val_accuracy: 0.7745\n",
      "Epoch 39/50\n",
      "160/160 - 0s - loss: 0.1836 - accuracy: 0.9446 - val_loss: 0.0621 - val_accuracy: 0.9984\n",
      "Epoch 40/50\n",
      "160/160 - 0s - loss: 0.1736 - accuracy: 0.9434 - val_loss: 0.0404 - val_accuracy: 0.9945\n",
      "Epoch 41/50\n",
      "160/160 - 0s - loss: 0.1681 - accuracy: 0.9478 - val_loss: 0.0656 - val_accuracy: 0.9811\n",
      "Epoch 42/50\n",
      "160/160 - 0s - loss: 0.1733 - accuracy: 0.9446 - val_loss: 0.0565 - val_accuracy: 0.9804\n",
      "Epoch 43/50\n",
      "160/160 - 0s - loss: 0.1584 - accuracy: 0.9476 - val_loss: 0.1211 - val_accuracy: 0.9317\n",
      "Epoch 44/50\n",
      "160/160 - 0s - loss: 0.1708 - accuracy: 0.9489 - val_loss: 1.4514 - val_accuracy: 0.7306\n",
      "Epoch 45/50\n",
      "160/160 - 0s - loss: 0.1779 - accuracy: 0.9501 - val_loss: 0.2189 - val_accuracy: 0.8445\n",
      "Epoch 46/50\n",
      "160/160 - 0s - loss: 0.1751 - accuracy: 0.9448 - val_loss: 0.2169 - val_accuracy: 0.8995\n",
      "Epoch 47/50\n",
      "160/160 - 0s - loss: 0.1769 - accuracy: 0.9485 - val_loss: 0.2460 - val_accuracy: 0.8288\n",
      "Epoch 48/50\n",
      "160/160 - 0s - loss: 0.1421 - accuracy: 0.9542 - val_loss: 0.0312 - val_accuracy: 0.9969\n",
      "Epoch 49/50\n",
      "160/160 - 0s - loss: 0.1660 - accuracy: 0.9466 - val_loss: 0.2992 - val_accuracy: 0.8500\n",
      "Epoch 50/50\n",
      "160/160 - 0s - loss: 0.1396 - accuracy: 0.9505 - val_loss: 0.1865 - val_accuracy: 0.9089\n"
     ]
    },
    {
     "data": {
      "text/plain": [
       "<tensorflow.python.keras.callbacks.History at 0x7fdfe419b410>"
      ]
     },
     "execution_count": 68,
     "metadata": {},
     "output_type": "execute_result"
    }
   ],
   "source": [
    "# Model arguments\n",
    "args = dict(x = X_train,\n",
    "            y = y_train,\n",
    "            epochs=50,\n",
    "            validation_split=0.2,\n",
    "            verbose=2,\n",
    "            shuffle=True)\n",
    "\n",
    "input_layer = Input(shape=(20,))\n",
    "hidden_layer_1 = Dense(100, activation='relu', units=64,\n",
    "    kernel_regularizer=regularizers.l1_l2(l1=1e-5, l2=1e-4),\n",
    "    bias_regularizer=regularizers.l2(1e-4),activity_regularizer=regularizers.l2(12e-5))(input_layer)\n",
    "\n",
    "#hidden_layer_1 = Dropout(0.3)(hidden_layer_1)\n",
    "#hidden_layer_2 = Dense(8, activation='sigmoid')(hidden_layer_1)\n",
    "hidden_layer_2 = Dense(50, activation='relu')(hidden_layer_1)\n",
    "hidden_layer_2 = Dropout(0.3)(hidden_layer_2)\n",
    "output_layer = Dense(2, activation='softmax')(hidden_layer_2)\n",
    "model = Model(inputs=input_layer, outputs=output_layer)\n",
    "\n",
    "# Model set up\n",
    "model.compile(loss='categorical_crossentropy', optimizer='adam',metrics=['accuracy', auroc])\n",
    "model.compile(tf.keras.optimizers.RMSprop(learning_rate=0.01),\n",
    "              loss='sparse_categorical_crossentropy',\n",
    "              metrics=['accuracy'])\n",
    "\n",
    "model.summary()\n",
    "#model.compile(loss='categorical_crossentropy', optimizer='adam',metrics=['accuracy', auroc])\n",
    "\n",
    "#%%\n",
    "\n",
    "# Execute training\n",
    "model.fit(**args)\n",
    "\n"
   ]
  },
  {
   "cell_type": "code",
   "execution_count": 69,
   "metadata": {},
   "outputs": [
    {
     "name": "stdout",
     "output_type": "stream",
     "text": [
      "Accuracy: 0.9158\n",
      "[1 1 1 ... 1 1 1]\n",
      "[[0.0000000e+00 1.0000000e+00]\n",
      " [2.0766181e-01 7.9233819e-01]\n",
      " [3.2057233e-08 1.0000000e+00]\n",
      " ...\n",
      " [2.0106381e-05 9.9997985e-01]\n",
      " [2.3658115e-01 7.6341885e-01]\n",
      " [1.6746019e-06 9.9999833e-01]]\n",
      "0.9160401002506265\n"
     ]
    }
   ],
   "source": [
    "\n",
    "\n",
    "# Prediction for test\n",
    "predict = model.predict(X_test)\n",
    "classes = []\n",
    "classes = predict.argmax(axis=-1)\n",
    "\n",
    "#%%\n",
    "\n",
    "print('Accuracy: ' + \"{:.4f}\".format(accuracy_score(y_test, classes)))\n",
    "print(classes)\n",
    "\n",
    "#%%\n",
    "\n",
    "print(predict)\n",
    "\n",
    "#%%\n",
    "\n",
    "auc = roc_auc_score(y_test, classes)\n",
    "print(auc)\n"
   ]
  },
  {
   "cell_type": "code",
   "execution_count": 70,
   "metadata": {},
   "outputs": [
    {
     "name": "stdout",
     "output_type": "stream",
     "text": [
      "[[0.34621134 0.6537887 ]\n",
      " [0.1775368  0.8224632 ]\n",
      " [0.10879969 0.8912003 ]\n",
      " ...\n",
      " [0.14160302 0.85839695]\n",
      " [0.2523072  0.7476928 ]\n",
      " [0.99181926 0.00818073]]\n"
     ]
    }
   ],
   "source": [
    "predict_test = model.predict(test_dt)\n",
    "print(predict_test)"
   ]
  },
  {
   "cell_type": "code",
   "execution_count": 71,
   "metadata": {},
   "outputs": [],
   "source": [
    "classes = []\n",
    "classes = predict_test.argmax(axis=-1)\n",
    "\n",
    "\n",
    "#%%\n",
    "\n",
    "prediction = pd.DataFrame([])\n",
    "i = 0\n",
    "for row in predict_test:\n",
    "    i += 1\n",
    "    prediction = prediction.append(pd.DataFrame({'Id': i, 'Predicted': row[1]},\n",
    "                                                index=[0]), ignore_index=True) \n",
    "prediction.to_csv(\"predictions/result5.csv\", sep=',', index=False)\n"
   ]
  },
  {
   "cell_type": "code",
   "execution_count": null,
   "metadata": {},
   "outputs": [],
   "source": []
  }
 ],
 "metadata": {
  "kernelspec": {
   "display_name": "Python 3",
   "language": "python",
   "name": "python3"
  },
  "language_info": {
   "codemirror_mode": {
    "name": "ipython",
    "version": 3
   },
   "file_extension": ".py",
   "mimetype": "text/x-python",
   "name": "python",
   "nbconvert_exporter": "python",
   "pygments_lexer": "ipython3",
   "version": "3.7.6"
  }
 },
 "nbformat": 4,
 "nbformat_minor": 4
}