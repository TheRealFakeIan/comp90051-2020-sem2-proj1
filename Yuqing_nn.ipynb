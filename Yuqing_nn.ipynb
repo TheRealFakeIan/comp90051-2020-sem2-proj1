{
 "cells": [
  {
   "cell_type": "code",
   "execution_count": 43,
   "metadata": {},
   "outputs": [],
   "source": [
    "# Libraries for developing a Neural Network\n",
    "import tensorflow as tf \n",
    "from tensorflow import keras\n",
    "from tensorflow.keras import layers\n",
    "from tensorflow.keras import regularizers\n",
    "from tensorflow.keras.models import Model\n",
    "from tensorflow.keras.layers import Input, Dense, Dropout\n",
    "from tensorflow.keras.utils import to_categorical \n",
    "import numpy as np\n",
    "import pandas as pd\n",
    "import matplotlib.pyplot as plt\n",
    "import seaborn as sns\n",
    "import math\n",
    "from sklearn.preprocessing import StandardScaler\n",
    "from keras.losses import mean_squared_error\n",
    "from sklearn.linear_model import LinearRegression\n",
    "from sklearn.preprocessing import PolynomialFeatures\n",
    "sns.set_style('darkgrid')\n",
    "plt.rcParams['figure.dpi'] = 108\n",
    "\n",
    "from collections import defaultdict\n",
    "import random\n",
    "from random import randrange\n",
    "from sklearn.metrics import classification_report, confusion_matrix, accuracy_score\n",
    "\n",
    "\n",
    "from sklearn.metrics import roc_auc_score"
   ]
  },
  {
   "cell_type": "code",
   "execution_count": 44,
   "metadata": {},
   "outputs": [],
   "source": [
    "dt = pd.read_csv(\"model_data/data.csv\",sep =\"\\t\")\n",
    "\n",
    "dt['Real']=dt.apply(lambda x: x.Real if x.Real ==1 else 0,axis =1)\n",
    "y = dt.Real\n",
    "test_dt =pd.read_csv(\"model_data/test_data.csv\",sep =\"\\t\")\n",
    "ds = dt.drop('Real',axis =1)"
   ]
  },
  {
   "cell_type": "code",
   "execution_count": 45,
   "metadata": {},
   "outputs": [
    {
     "name": "stdout",
     "output_type": "stream",
     "text": [
      "Training set has 6364 instances. Test set has 1591 instances.\n"
     ]
    }
   ],
   "source": [
    "from sklearn.model_selection import train_test_split\n",
    "X_train, X_test, y_train, y_test = train_test_split(ds, y, test_size=0.2, random_state=1)\n",
    "print(\"Training set has {} instances. Test set has {} instances.\".format(X_train.shape[0], X_test.shape[0]))"
   ]
  },
  {
   "cell_type": "code",
   "execution_count": 46,
   "metadata": {},
   "outputs": [],
   "source": [
    "# poly =PolynomialFeatures(2,include_bias = False)\n",
    "# poly.fit(X_train)\n",
    "# X_train= poly.transform(X_train)\n",
    "# X_test= poly.transform(X_test)\n",
    "# test_dt = poly.transform(test_dt)"
   ]
  },
  {
   "cell_type": "code",
   "execution_count": 47,
   "metadata": {},
   "outputs": [],
   "source": [
    "# standard\n",
    "scaler = StandardScaler()\n",
    "scaler.fit(X_train)\n",
    "X_train= scaler.transform(X_train)\n",
    "X_test= scaler.transform(X_test)\n",
    "#dt = scaler.transform(dt)\n",
    "test_dt = scaler.transform(test_dt)\n",
    "#dt['Real'] =dt.apply(lambda x: 0 if x.Real ==-1 else 1, axis =1)\n"
   ]
  },
  {
   "cell_type": "code",
   "execution_count": 18,
   "metadata": {},
   "outputs": [
    {
     "ename": "SyntaxError",
     "evalue": "invalid syntax (<ipython-input-18-787f317c7bd5>, line 3)",
     "output_type": "error",
     "traceback": [
      "\u001B[0;36m  File \u001B[0;32m\"<ipython-input-18-787f317c7bd5>\"\u001B[0;36m, line \u001B[0;32m3\u001B[0m\n\u001B[0;31m    w = tf.Variable(tf.random_normal([,5],stddev=1,seed=1))\u001B[0m\n\u001B[0m                                      ^\u001B[0m\n\u001B[0;31mSyntaxError\u001B[0m\u001B[0;31m:\u001B[0m invalid syntax\n"
     ]
    }
   ],
   "source": [
    "if __name__ == \"__main__\":\n",
    "    #定义神经网络的参数\n",
    "    w = tf.Variable(tf.random_normal([,5],stddev=1,seed=1))\n",
    "    b = tf.Variable(tf.random_normal([1],stddev=1,seed=1))\n",
    "    #定义输入和输出\n",
    "    x = tf.placeholder(tf.float32,shape=(None,2),name=\"x-input\")\n",
    "    y_ = tf.placeholder(tf.float32,shape=(None,1),name=\"y-input\")\n",
    "    #定义神经网络的前向传播过程\n",
    "    y = tf.nn.sigmoid(tf.matmul(x,w) + b)\n",
    "    #基于min和max对张量t进行截断操作，为了应对梯度爆发或者梯度消失的情况\n",
    "    cross_entropy = -tf.reduce_mean(y_ * tf.log(tf.clip_by_value(y,1e-10,1.0))+(1-y_) * tf.log(tf.clip_by_value(1-y,1e-10,1.0)))\n",
    "    # 使用Adadelta算法作为优化函数，来保证预测值与实际值之间交叉熵最小\n",
    "    train_step = tf.train.AdamOptimizer(0.01).minimize(cross_entropy)\n",
    "    #通过随机函数生成一个模拟数据集\n",
    "    rdm = RandomState(1)\n",
    "    # 定义数据集的大小\n",
    "    dataset_size = 100\n",
    "    # 模拟输入是一个二维数组\n",
    "    X = rdm.rand(dataset_size,2)\n",
    "    #定义输出值，将x1+x2 < 1的输入数据定义为正样本\n",
    "    Y = [[int(x1+x2 < 1)] for (x1,x2) in X]\n",
    "    #创建会话运行TensorFlow程序\n",
    "    with tf.Session() as sess:\n",
    "        #初始化变量  tf.initialize_all_variables()\n",
    "        init = tf.initialize_all_variables()\n",
    "        sess.run(init)\n",
    "        #设置神经网络的迭代次数\n",
    "        steps = 500\n",
    "        for i in range(steps):\n",
    "            #通过选取样本训练神经网络并更新参数\n",
    "            for (input_x,input_y) in zip(X,Y):\n",
    "                input_x = np.reshape(input_x,(1,2))\n",
    "                input_y= np.reshape(input_y,(1,1))\n",
    "                sess.run(train_step,feed_dict={x:input_x,y_:input_y})\n",
    "            #每迭代1000次输出一次日志信息\n",
    "            if i % 100 == 0:\n",
    "                # 计算所有数据的交叉熵\n",
    "                total_cross_entropy = sess.run(cross_entropy,feed_dict={x:X,y_:Y})\n",
    "                # 输出交叉熵之和\n",
    "                print(\"After %d training step(s),cross entropy on all data is %g\"%(i,total_cross_entropy))\n",
    "        #预测输入X的类别\n",
    "        pred_Y = sess.run(y,feed_dict={x:X})\n",
    "        index = 1\n",
    "        for pred,real in zip(pred_Y,Y):\n",
    "            print(pred,real)"
   ]
  },
  {
   "cell_type": "code",
   "execution_count": 48,
   "metadata": {},
   "outputs": [],
   "source": [
    "def auroc(y_true, y_pred):\n",
    "    return tf.py_function(roc_auc_score, (y_true, y_pred), tf.double)\n"
   ]
  },
  {
   "cell_type": "code",
   "execution_count": 50,
   "metadata": {},
   "outputs": [
    {
     "name": "stdout",
     "output_type": "stream",
     "text": [
      "Model: \"model_9\"\n",
      "_________________________________________________________________\n",
      "Layer (type)                 Output Shape              Param #   \n",
      "=================================================================\n",
      "input_10 (InputLayer)        [(None, 5)]               0         \n",
      "_________________________________________________________________\n",
      "dense_27 (Dense)             (None, 100)               600       \n",
      "_________________________________________________________________\n",
      "dense_28 (Dense)             (None, 50)                5050      \n",
      "_________________________________________________________________\n",
      "dropout_6 (Dropout)          (None, 50)                0         \n",
      "_________________________________________________________________\n",
      "dense_29 (Dense)             (None, 2)                 102       \n",
      "=================================================================\n",
      "Total params: 5,752\n",
      "Trainable params: 5,752\n",
      "Non-trainable params: 0\n",
      "_________________________________________________________________\n",
      "Epoch 1/100\n",
      "160/160 - 0s - loss: 0.5417 - accuracy: 0.7325 - val_loss: 0.5785 - val_accuracy: 0.6441\n",
      "Epoch 2/100\n",
      "160/160 - 0s - loss: 0.4987 - accuracy: 0.7710 - val_loss: 0.5921 - val_accuracy: 0.6002\n",
      "Epoch 3/100\n",
      "160/160 - 0s - loss: 0.4668 - accuracy: 0.7759 - val_loss: 0.6145 - val_accuracy: 0.6104\n",
      "Epoch 4/100\n",
      "160/160 - 0s - loss: 0.4795 - accuracy: 0.7898 - val_loss: 0.4332 - val_accuracy: 0.7918\n",
      "Epoch 5/100\n",
      "160/160 - 0s - loss: 0.4473 - accuracy: 0.8071 - val_loss: 0.6160 - val_accuracy: 0.7541\n",
      "Epoch 6/100\n",
      "160/160 - 0s - loss: 0.4477 - accuracy: 0.8081 - val_loss: 0.6459 - val_accuracy: 0.7518\n",
      "Epoch 7/100\n",
      "160/160 - 0s - loss: 0.4299 - accuracy: 0.8057 - val_loss: 0.4787 - val_accuracy: 0.7950\n",
      "Epoch 8/100\n",
      "160/160 - 0s - loss: 0.4293 - accuracy: 0.8181 - val_loss: 0.7580 - val_accuracy: 0.5381\n",
      "Epoch 9/100\n",
      "160/160 - 0s - loss: 0.4424 - accuracy: 0.8116 - val_loss: 0.9125 - val_accuracy: 0.5640\n",
      "Epoch 10/100\n",
      "160/160 - 0s - loss: 0.4242 - accuracy: 0.8118 - val_loss: 0.3891 - val_accuracy: 0.8272\n",
      "Epoch 11/100\n",
      "160/160 - 0s - loss: 0.4176 - accuracy: 0.8197 - val_loss: 0.4772 - val_accuracy: 0.8091\n",
      "Epoch 12/100\n",
      "160/160 - 0s - loss: 0.4225 - accuracy: 0.8230 - val_loss: 0.5867 - val_accuracy: 0.6316\n",
      "Epoch 13/100\n",
      "160/160 - 0s - loss: 0.4222 - accuracy: 0.8242 - val_loss: 0.3668 - val_accuracy: 0.8303\n",
      "Epoch 14/100\n",
      "160/160 - 0s - loss: 0.3889 - accuracy: 0.8317 - val_loss: 0.8419 - val_accuracy: 0.5750\n",
      "Epoch 15/100\n",
      "160/160 - 0s - loss: 0.4081 - accuracy: 0.8317 - val_loss: 0.6032 - val_accuracy: 0.5664\n",
      "Epoch 16/100\n",
      "160/160 - 0s - loss: 0.3907 - accuracy: 0.8309 - val_loss: 0.8826 - val_accuracy: 0.5915\n",
      "Epoch 17/100\n",
      "160/160 - 0s - loss: 0.3758 - accuracy: 0.8360 - val_loss: 0.4857 - val_accuracy: 0.7023\n",
      "Epoch 18/100\n",
      "160/160 - 0s - loss: 0.3908 - accuracy: 0.8433 - val_loss: 0.7725 - val_accuracy: 0.5420\n",
      "Epoch 19/100\n",
      "160/160 - 0s - loss: 0.3832 - accuracy: 0.8317 - val_loss: 0.4329 - val_accuracy: 0.8272\n",
      "Epoch 20/100\n",
      "160/160 - 0s - loss: 0.3789 - accuracy: 0.8440 - val_loss: 0.3754 - val_accuracy: 0.8295\n",
      "Epoch 21/100\n",
      "160/160 - 0s - loss: 0.3720 - accuracy: 0.8460 - val_loss: 0.3943 - val_accuracy: 0.8335\n",
      "Epoch 22/100\n",
      "160/160 - 0s - loss: 0.3581 - accuracy: 0.8495 - val_loss: 0.3689 - val_accuracy: 0.8358\n",
      "Epoch 23/100\n",
      "160/160 - 0s - loss: 0.3687 - accuracy: 0.8438 - val_loss: 0.4084 - val_accuracy: 0.8390\n",
      "Epoch 24/100\n",
      "160/160 - 0s - loss: 0.3661 - accuracy: 0.8513 - val_loss: 0.3602 - val_accuracy: 0.8460\n",
      "Epoch 25/100\n",
      "160/160 - 0s - loss: 0.3901 - accuracy: 0.8488 - val_loss: 0.4316 - val_accuracy: 0.8123\n",
      "Epoch 26/100\n",
      "160/160 - 0s - loss: 0.3781 - accuracy: 0.8456 - val_loss: 0.3352 - val_accuracy: 0.8460\n",
      "Epoch 27/100\n",
      "160/160 - 0s - loss: 0.3496 - accuracy: 0.8598 - val_loss: 0.3700 - val_accuracy: 0.8397\n",
      "Epoch 28/100\n",
      "160/160 - 0s - loss: 0.3407 - accuracy: 0.8582 - val_loss: 0.7383 - val_accuracy: 0.5774\n",
      "Epoch 29/100\n",
      "160/160 - 0s - loss: 0.3527 - accuracy: 0.8517 - val_loss: 0.9392 - val_accuracy: 0.5876\n",
      "Epoch 30/100\n",
      "160/160 - 0s - loss: 0.3562 - accuracy: 0.8572 - val_loss: 0.6967 - val_accuracy: 0.8170\n",
      "Epoch 31/100\n",
      "160/160 - 0s - loss: 0.3563 - accuracy: 0.8541 - val_loss: 0.6394 - val_accuracy: 0.6253\n",
      "Epoch 32/100\n",
      "160/160 - 0s - loss: 0.3372 - accuracy: 0.8578 - val_loss: 0.2851 - val_accuracy: 0.8610\n",
      "Epoch 33/100\n",
      "160/160 - 0s - loss: 0.3304 - accuracy: 0.8674 - val_loss: 0.9290 - val_accuracy: 0.5719\n",
      "Epoch 34/100\n",
      "160/160 - 0s - loss: 0.3354 - accuracy: 0.8605 - val_loss: 0.3621 - val_accuracy: 0.8445\n",
      "Epoch 35/100\n",
      "160/160 - 0s - loss: 0.3295 - accuracy: 0.8737 - val_loss: 0.5588 - val_accuracy: 0.6881\n",
      "Epoch 36/100\n",
      "160/160 - 0s - loss: 0.3480 - accuracy: 0.8615 - val_loss: 0.2682 - val_accuracy: 0.8641\n",
      "Epoch 37/100\n",
      "160/160 - 0s - loss: 0.3122 - accuracy: 0.8651 - val_loss: 0.5728 - val_accuracy: 0.6174\n",
      "Epoch 38/100\n",
      "160/160 - 0s - loss: 0.3300 - accuracy: 0.8637 - val_loss: 0.7213 - val_accuracy: 0.5640\n",
      "Epoch 39/100\n",
      "160/160 - 0s - loss: 0.3106 - accuracy: 0.8631 - val_loss: 0.4205 - val_accuracy: 0.7887\n",
      "Epoch 40/100\n",
      "160/160 - 0s - loss: 0.3245 - accuracy: 0.8755 - val_loss: 0.2918 - val_accuracy: 0.9073\n",
      "Epoch 41/100\n",
      "160/160 - 0s - loss: 0.3499 - accuracy: 0.8588 - val_loss: 0.5838 - val_accuracy: 0.8319\n",
      "Epoch 42/100\n",
      "160/160 - 0s - loss: 0.3244 - accuracy: 0.8684 - val_loss: 0.3533 - val_accuracy: 0.8531\n",
      "Epoch 43/100\n",
      "160/160 - 0s - loss: 0.3049 - accuracy: 0.8816 - val_loss: 0.2382 - val_accuracy: 0.8971\n",
      "Epoch 44/100\n",
      "160/160 - 0s - loss: 0.3327 - accuracy: 0.8582 - val_loss: 0.3670 - val_accuracy: 0.9222\n",
      "Epoch 45/100\n",
      "160/160 - 0s - loss: 0.3006 - accuracy: 0.8800 - val_loss: 1.3247 - val_accuracy: 0.7863\n",
      "Epoch 46/100\n",
      "160/160 - 0s - loss: 0.3014 - accuracy: 0.8794 - val_loss: 0.3475 - val_accuracy: 0.8460\n",
      "Epoch 47/100\n",
      "160/160 - 0s - loss: 0.3402 - accuracy: 0.8751 - val_loss: 0.2992 - val_accuracy: 0.8908\n",
      "Epoch 48/100\n",
      "160/160 - 0s - loss: 0.2865 - accuracy: 0.8892 - val_loss: 0.6872 - val_accuracy: 0.8303\n",
      "Epoch 49/100\n",
      "160/160 - 0s - loss: 0.3205 - accuracy: 0.8841 - val_loss: 0.3167 - val_accuracy: 0.8940\n",
      "Epoch 50/100\n",
      "160/160 - 0s - loss: 0.3195 - accuracy: 0.8784 - val_loss: 0.2053 - val_accuracy: 0.9450\n",
      "Epoch 51/100\n",
      "160/160 - 0s - loss: 0.3084 - accuracy: 0.8757 - val_loss: 0.3825 - val_accuracy: 0.8523\n",
      "Epoch 52/100\n",
      "160/160 - 0s - loss: 0.2946 - accuracy: 0.8763 - val_loss: 0.3406 - val_accuracy: 0.8594\n",
      "Epoch 53/100\n",
      "160/160 - 0s - loss: 0.3053 - accuracy: 0.8896 - val_loss: 0.3832 - val_accuracy: 0.8248\n",
      "Epoch 54/100\n",
      "160/160 - 0s - loss: 0.2837 - accuracy: 0.8924 - val_loss: 1.0734 - val_accuracy: 0.5703\n",
      "Epoch 55/100\n",
      "160/160 - 0s - loss: 0.2965 - accuracy: 0.8886 - val_loss: 0.3353 - val_accuracy: 0.8452\n",
      "Epoch 56/100\n",
      "160/160 - 0s - loss: 0.2905 - accuracy: 0.8747 - val_loss: 0.2722 - val_accuracy: 0.8940\n",
      "Epoch 57/100\n",
      "160/160 - 0s - loss: 0.3256 - accuracy: 0.8821 - val_loss: 0.3541 - val_accuracy: 0.8123\n",
      "Epoch 58/100\n",
      "160/160 - 0s - loss: 0.2707 - accuracy: 0.8955 - val_loss: 0.7309 - val_accuracy: 0.5750\n",
      "Epoch 59/100\n",
      "160/160 - 0s - loss: 0.2882 - accuracy: 0.8922 - val_loss: 1.3567 - val_accuracy: 0.7934\n",
      "Epoch 60/100\n",
      "160/160 - 0s - loss: 0.2777 - accuracy: 0.8975 - val_loss: 0.2642 - val_accuracy: 0.9018\n",
      "Epoch 61/100\n",
      "160/160 - 0s - loss: 0.2735 - accuracy: 0.8957 - val_loss: 0.1607 - val_accuracy: 0.9576\n",
      "Epoch 62/100\n",
      "160/160 - 0s - loss: 0.2680 - accuracy: 0.8920 - val_loss: 0.3156 - val_accuracy: 0.8696\n",
      "Epoch 63/100\n",
      "160/160 - 0s - loss: 0.2837 - accuracy: 0.9045 - val_loss: 0.2085 - val_accuracy: 0.9348\n",
      "Epoch 64/100\n",
      "160/160 - 0s - loss: 0.2831 - accuracy: 0.8941 - val_loss: 0.1892 - val_accuracy: 0.9552\n",
      "Epoch 65/100\n",
      "160/160 - 0s - loss: 0.2741 - accuracy: 0.9045 - val_loss: 0.8422 - val_accuracy: 0.8170\n",
      "Epoch 66/100\n",
      "160/160 - 0s - loss: 0.2618 - accuracy: 0.9057 - val_loss: 0.1968 - val_accuracy: 0.9403\n",
      "Epoch 67/100\n",
      "160/160 - 0s - loss: 0.2730 - accuracy: 0.9089 - val_loss: 0.7489 - val_accuracy: 0.6277\n",
      "Epoch 68/100\n",
      "160/160 - 0s - loss: 0.2747 - accuracy: 0.8929 - val_loss: 0.2571 - val_accuracy: 0.8947\n",
      "Epoch 69/100\n",
      "160/160 - 0s - loss: 0.3033 - accuracy: 0.9010 - val_loss: 0.1598 - val_accuracy: 0.9513\n",
      "Epoch 70/100\n",
      "160/160 - 0s - loss: 0.2463 - accuracy: 0.9085 - val_loss: 0.4983 - val_accuracy: 0.8295\n",
      "Epoch 71/100\n",
      "160/160 - 0s - loss: 0.2412 - accuracy: 0.9144 - val_loss: 0.1587 - val_accuracy: 0.9560\n"
     ]
    },
    {
     "name": "stdout",
     "output_type": "stream",
     "text": [
      "Epoch 72/100\n",
      "160/160 - 0s - loss: 0.2568 - accuracy: 0.9083 - val_loss: 0.1713 - val_accuracy: 0.9505\n",
      "Epoch 73/100\n",
      "160/160 - 0s - loss: 0.2482 - accuracy: 0.9083 - val_loss: 0.3332 - val_accuracy: 0.8657\n",
      "Epoch 74/100\n",
      "160/160 - 0s - loss: 0.2437 - accuracy: 0.9149 - val_loss: 1.3184 - val_accuracy: 0.7761\n",
      "Epoch 75/100\n",
      "160/160 - 0s - loss: 0.2454 - accuracy: 0.9203 - val_loss: 1.6462 - val_accuracy: 0.7400\n",
      "Epoch 76/100\n",
      "160/160 - 0s - loss: 0.2337 - accuracy: 0.9173 - val_loss: 0.1314 - val_accuracy: 0.9678\n",
      "Epoch 77/100\n",
      "160/160 - 0s - loss: 0.2294 - accuracy: 0.9191 - val_loss: 1.4693 - val_accuracy: 0.5734\n",
      "Epoch 78/100\n",
      "160/160 - 0s - loss: 0.2349 - accuracy: 0.9142 - val_loss: 0.1952 - val_accuracy: 0.9191\n",
      "Epoch 79/100\n",
      "160/160 - 0s - loss: 0.2416 - accuracy: 0.9220 - val_loss: 0.1464 - val_accuracy: 0.9647\n",
      "Epoch 80/100\n",
      "160/160 - 0s - loss: 0.2266 - accuracy: 0.9206 - val_loss: 0.1723 - val_accuracy: 0.9466\n",
      "Epoch 81/100\n",
      "160/160 - 0s - loss: 0.2222 - accuracy: 0.9193 - val_loss: 0.1193 - val_accuracy: 0.9639\n",
      "Epoch 82/100\n",
      "160/160 - 0s - loss: 0.2303 - accuracy: 0.9228 - val_loss: 0.2845 - val_accuracy: 0.8947\n",
      "Epoch 83/100\n",
      "160/160 - 0s - loss: 0.2169 - accuracy: 0.9291 - val_loss: 1.0748 - val_accuracy: 0.7769\n",
      "Epoch 84/100\n",
      "160/160 - 0s - loss: 0.2168 - accuracy: 0.9263 - val_loss: 1.6676 - val_accuracy: 0.6999\n",
      "Epoch 85/100\n",
      "160/160 - 0s - loss: 0.2117 - accuracy: 0.9293 - val_loss: 1.8084 - val_accuracy: 0.7031\n",
      "Epoch 86/100\n",
      "160/160 - 0s - loss: 0.2069 - accuracy: 0.9289 - val_loss: 0.1350 - val_accuracy: 0.9725\n",
      "Epoch 87/100\n",
      "160/160 - 0s - loss: 0.2051 - accuracy: 0.9297 - val_loss: 0.3187 - val_accuracy: 0.8759\n",
      "Epoch 88/100\n",
      "160/160 - 0s - loss: 0.2106 - accuracy: 0.9226 - val_loss: 0.1613 - val_accuracy: 0.9505\n",
      "Epoch 89/100\n",
      "160/160 - 0s - loss: 0.2345 - accuracy: 0.9348 - val_loss: 0.2237 - val_accuracy: 0.9002\n",
      "Epoch 90/100\n",
      "160/160 - 0s - loss: 0.2195 - accuracy: 0.9332 - val_loss: 0.1084 - val_accuracy: 0.9796\n",
      "Epoch 91/100\n",
      "160/160 - 0s - loss: 0.2057 - accuracy: 0.9358 - val_loss: 0.1975 - val_accuracy: 0.9356\n",
      "Epoch 92/100\n",
      "160/160 - 0s - loss: 0.1876 - accuracy: 0.9373 - val_loss: 0.1661 - val_accuracy: 0.9529\n",
      "Epoch 93/100\n",
      "160/160 - 0s - loss: 0.2046 - accuracy: 0.9316 - val_loss: 0.1341 - val_accuracy: 0.9686\n",
      "Epoch 94/100\n",
      "160/160 - 0s - loss: 0.2056 - accuracy: 0.9303 - val_loss: 0.3888 - val_accuracy: 0.9458\n",
      "Epoch 95/100\n",
      "160/160 - 0s - loss: 0.2079 - accuracy: 0.9438 - val_loss: 0.2104 - val_accuracy: 0.9537\n",
      "Epoch 96/100\n",
      "160/160 - 0s - loss: 0.2091 - accuracy: 0.9338 - val_loss: 0.0930 - val_accuracy: 0.9756\n",
      "Epoch 97/100\n",
      "160/160 - 0s - loss: 0.1925 - accuracy: 0.9385 - val_loss: 1.0464 - val_accuracy: 0.6661\n",
      "Epoch 98/100\n",
      "160/160 - 0s - loss: 0.2209 - accuracy: 0.9324 - val_loss: 0.1124 - val_accuracy: 0.9694\n",
      "Epoch 99/100\n",
      "160/160 - 0s - loss: 0.1960 - accuracy: 0.9432 - val_loss: 0.1153 - val_accuracy: 0.9694\n",
      "Epoch 100/100\n",
      "160/160 - 0s - loss: 0.1944 - accuracy: 0.9424 - val_loss: 0.1199 - val_accuracy: 0.9686\n"
     ]
    },
    {
     "data": {
      "text/plain": [
       "<tensorflow.python.keras.callbacks.History at 0x7fdfe2be7c90>"
      ]
     },
     "execution_count": 50,
     "metadata": {},
     "output_type": "execute_result"
    }
   ],
   "source": [
    "# Model arguments\n",
    "args = dict(x = X_train,\n",
    "            y = y_train,\n",
    "            epochs=100,\n",
    "            validation_split=0.2,\n",
    "            verbose=2,\n",
    "            shuffle=True)\n",
    "\n",
    "# Layer definition\n",
    "input_layer = Input(shape=(5,))\n",
    "hidden_layer_1 = Dense(100, activation='relu',activity_regularizer=regularizers.l1(10e-5))(input_layer)\n",
    "\n",
    "#hidden_layer_1 = Dropout(0.3)(hidden_layer_1)\n",
    "#hidden_layer_2 = Dense(8, activation='sigmoid')(hidden_layer_1)\n",
    "hidden_layer_2 = Dense(50, activation='relu')(hidden_layer_1)\n",
    "hidden_layer_2 = Dropout(0.3)(hidden_layer_2)\n",
    "output_layer = Dense(2, activation='softmax')(hidden_layer_2)\n",
    "model = Model(inputs=input_layer, outputs=output_layer)\n",
    "\n",
    "# Model set up\n",
    "model.compile(loss='binary_crossentropy', optimizer='adam',metrics=['accuracy', auroc])\n",
    "model.compile(tf.keras.optimizers.RMSprop(learning_rate=0.01),\n",
    "              loss='sparse_categorical_crossentropy',\n",
    "              metrics=['accuracy'])\n",
    "\n",
    "model.summary()\n",
    "#model.compile(loss='categorical_crossentropy', optimizer='adam',metrics=['accuracy', auroc])"
   ]
  },
  {
   "cell_type": "code",
   "execution_count": null,
   "outputs": [],
   "source": [
    "# Execute training\n",
    "model.fit(**args)\n",
    "\n"
   ],
   "metadata": {
    "collapsed": false,
    "pycharm": {
     "name": "#%%\n"
    }
   }
  },
  {
   "cell_type": "code",
   "execution_count": null,
   "outputs": [],
   "source": [
    "\n",
    "\n",
    "# Prediction for test\n",
    "predict = model.predict(X_test)\n",
    "classes = []\n",
    "classes = predict.argmax(axis=-1)"
   ],
   "metadata": {
    "collapsed": false,
    "pycharm": {
     "name": "#%%\n"
    }
   }
  },
  {
   "cell_type": "code",
   "execution_count": null,
   "outputs": [],
   "source": [
    "print('Accuracy: ' + \"{:.4f}\".format(accuracy_score(y_test, classes)))\n",
    "print(classes)"
   ],
   "metadata": {
    "collapsed": false,
    "pycharm": {
     "name": "#%%\n"
    }
   }
  },
  {
   "cell_type": "code",
   "execution_count": null,
   "outputs": [],
   "source": [
    "print(predict)"
   ],
   "metadata": {
    "collapsed": false,
    "pycharm": {
     "name": "#%%\n"
    }
   }
  },
  {
   "cell_type": "code",
   "execution_count": null,
   "outputs": [],
   "source": [
    "auc = roc_auc_score(y_test, classes)\n",
    "print(auc)\n"
   ],
   "metadata": {
    "collapsed": false,
    "pycharm": {
     "name": "#%%\n"
    }
   }
  },
  {
   "cell_type": "code",
   "execution_count": null,
   "outputs": [],
   "source": [
    "predict_test = model.predict(test_dt)\n",
    "print(predict_test)"
   ],
   "metadata": {
    "collapsed": false,
    "pycharm": {
     "name": "#%%\n"
    }
   }
  },
  {
   "cell_type": "code",
   "execution_count": null,
   "outputs": [],
   "source": [
    "print(np.argmax(predict_test, axis=1))"
   ],
   "metadata": {
    "collapsed": false,
    "pycharm": {
     "name": "#%%\n"
    }
   }
  },
  {
   "cell_type": "code",
   "execution_count": null,
   "outputs": [],
   "source": [
    "table1 = numpy.array(predict_test)\n",
    "test_result = list(table1(:,1)) "
   ],
   "metadata": {
    "collapsed": false,
    "pycharm": {
     "name": "#%%\n"
    }
   }
  },
  {
   "cell_type": "code",
   "execution_count": 51,
   "metadata": {},
   "outputs": [
    {
     "name": "stdout",
     "output_type": "stream",
     "text": [
      "Accuracy: 0.9679\n",
      "[1 0 1 ... 1 0 1]\n",
      "[[1.5004945e-25 1.0000000e+00]\n",
      " [9.9997842e-01 2.1595813e-05]\n",
      " [2.1287208e-02 9.7871280e-01]\n",
      " ...\n",
      " [5.6260444e-02 9.4373953e-01]\n",
      " [9.6354610e-01 3.6453933e-02]\n",
      " [2.1140231e-02 9.7885978e-01]]\n",
      "0.9680016560948399\n"
     ]
    }
   ],
   "source": []
  },
  {
   "cell_type": "code",
   "execution_count": 52,
   "metadata": {},
   "outputs": [
    {
     "name": "stdout",
     "output_type": "stream",
     "text": [
      "[[0.97394794 0.02605201]\n",
      " [0.98152    0.01847997]\n",
      " [0.20683786 0.7931621 ]\n",
      " ...\n",
      " [0.997317   0.002683  ]\n",
      " [0.9963805  0.00361954]\n",
      " [0.9972898  0.00271026]]\n"
     ]
    }
   ],
   "source": [
    "predict_test = model.predict(test_dt)\n",
    "print(predict_test)"
   ]
  },
  {
   "cell_type": "code",
   "execution_count": 53,
   "metadata": {},
   "outputs": [
    {
     "name": "stdout",
     "output_type": "stream",
     "text": [
      "[0 0 1 ... 0 0 0]\n"
     ]
    }
   ],
   "source": [
    "print(np.argmax(predict_test, axis=1))"
   ]
  },
  {
   "cell_type": "code",
   "execution_count": 55,
   "metadata": {},
   "outputs": [
    {
     "ename": "SyntaxError",
     "evalue": "invalid syntax (<ipython-input-55-bf83eb8bb038>, line 2)",
     "output_type": "error",
     "traceback": [
      "\u001B[0;36m  File \u001B[0;32m\"<ipython-input-55-bf83eb8bb038>\"\u001B[0;36m, line \u001B[0;32m2\u001B[0m\n\u001B[0;31m    test_result = list(table1(:,1))\u001B[0m\n\u001B[0m                              ^\u001B[0m\n\u001B[0;31mSyntaxError\u001B[0m\u001B[0;31m:\u001B[0m invalid syntax\n"
     ]
    }
   ],
   "source": [
    "table1 = numpy.array(predict_test)\n",
    "test_result = list(table1(:,1)) "
   ]
  },
  {
   "cell_type": "code",
   "execution_count": null,
   "metadata": {},
   "outputs": [],
   "source": []
  }
 ],
 "metadata": {
  "kernelspec": {
   "display_name": "Python 3",
   "language": "python",
   "name": "python3"
  },
  "language_info": {
   "codemirror_mode": {
    "name": "ipython",
    "version": 3
   },
   "file_extension": ".py",
   "mimetype": "text/x-python",
   "name": "python",
   "nbconvert_exporter": "python",
   "pygments_lexer": "ipython3",
   "version": "3.7.6"
  }
 },
 "nbformat": 4,
 "nbformat_minor": 4
}